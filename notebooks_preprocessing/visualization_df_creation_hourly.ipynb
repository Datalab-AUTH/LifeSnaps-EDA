{
 "cells": [
  {
   "cell_type": "markdown",
   "metadata": {
    "collapsed": true,
    "pycharm": {
     "name": "#%% md\n"
    }
   },
   "source": [
    "# Visualization DataFrame Creation\n",
    "This notebook is dedicated to the creation of a pandas DataFrame to be used for the visualization of the RAIS dataset. The data will be presented on a per-user and per-day basis (daily granularity). The dataframe includes all collected data types, such as Fitbit data, SEMA data, and surveys data."
   ]
  },
  {
   "cell_type": "code",
   "execution_count": 390,
   "metadata": {
    "pycharm": {
     "name": "#%%\n"
    }
   },
   "outputs": [],
   "source": [
    "import os\n",
    "import warnings\n",
    "\n",
    "import matplotlib.pyplot as plt\n",
    "import pickle\n",
    "import gc\n",
    "import numpy as np\n",
    "import swifter\n",
    "import pickle\n",
    "import seaborn as sns\n",
    "import pandas as pd\n",
    "from datetime import datetime\n",
    "import matplotlib.ticker as mticker\n",
    "import matplotlib.dates as md\n",
    "from tqdm import tqdm\n",
    "from pymongo import MongoClient\n",
    "from datetime import datetime\n",
    "import json\n",
    "from datetime import date\n",
    "from bson import ObjectId\n",
    "\n",
    "from definitions import ROOT_DIR"
   ]
  },
  {
   "cell_type": "markdown",
   "metadata": {
    "pycharm": {
     "name": "#%% md\n"
    }
   },
   "source": [
    "## Setting Current Working Directory\n",
    "Changing CWD to root"
   ]
  },
  {
   "cell_type": "code",
   "execution_count": 391,
   "metadata": {
    "pycharm": {
     "name": "#%%\n"
    }
   },
   "outputs": [],
   "source": [
    "os.chdir(ROOT_DIR)"
   ]
  },
  {
   "cell_type": "code",
   "execution_count": 392,
   "metadata": {
    "pycharm": {
     "name": "#%%\n"
    }
   },
   "outputs": [
    {
     "data": {
      "text/plain": "'C:\\\\Users\\\\Sofia\\\\PycharmProjects\\\\RAIS-EDA'"
     },
     "execution_count": 392,
     "metadata": {},
     "output_type": "execute_result"
    }
   ],
   "source": [
    "ROOT_DIR"
   ]
  },
  {
   "cell_type": "markdown",
   "metadata": {
    "pycharm": {
     "name": "#%% md\n"
    }
   },
   "source": [
    "## Connecting to MongoDB"
   ]
  },
  {
   "cell_type": "code",
   "execution_count": 393,
   "metadata": {
    "pycharm": {
     "name": "#%%\n"
    }
   },
   "outputs": [],
   "source": [
    "with open('credentials.json') as f:\n",
    "    data = json.load(f)\n",
    "    username = data['username']\n",
    "    password = data['password']\n",
    "\n",
    "# Connection to raisv2 database\n",
    "client = MongoClient('mongodb://%s:%s@127.0.0.1' % (username, password))\n",
    "db = client.raisV3_anonymized"
   ]
  },
  {
   "cell_type": "code",
   "execution_count": 394,
   "metadata": {
    "pycharm": {
     "name": "#%%\n"
    }
   },
   "outputs": [],
   "source": [
    "users = db.fitbit.distinct('id')"
   ]
  },
  {
   "cell_type": "markdown",
   "metadata": {
    "pycharm": {
     "name": "#%% md\n"
    }
   },
   "source": [
    "## Integrating Fitbit Data\n",
    "Fitbit includes a variety of information, such as physical activity, sleep, and stress patterns, as well data about SpO2, EDA, VO2 max, etc., at different granularities. Here we read each data type and integrate it into our visualization DataFrame with daily granularity."
   ]
  },
  {
   "cell_type": "markdown",
   "metadata": {
    "pycharm": {
     "name": "#%% md\n"
    }
   },
   "source": [
    "### Computed Temperature\n",
    "The night skin temperature of the user during sleep (N=4332). Not applicable at hourly granularity."
   ]
  },
  {
   "cell_type": "markdown",
   "metadata": {
    "pycharm": {
     "name": "#%% md\n"
    }
   },
   "source": [
    "### Daily Heart Rate Variability Summary\n",
    "The heart rate variability of the user (N=2891).  Not applicable at hourly granularity."
   ]
  },
  {
   "cell_type": "markdown",
   "metadata": {
    "pycharm": {
     "name": "#%% md\n"
    }
   },
   "source": [
    "### Daily SpO2\n",
    "Daily oxygen saturation levels of the user (N=1606).  Not applicable at hourly granularity."
   ]
  },
  {
   "cell_type": "markdown",
   "metadata": {
    "pycharm": {
     "name": "#%% md\n"
    }
   },
   "source": [
    "### Respiratory Rate Summary\n",
    "Data about sleep breathing (N=3517).  Not applicable at hourly granularity."
   ]
  },
  {
   "cell_type": "markdown",
   "metadata": {
    "pycharm": {
     "name": "#%% md\n"
    }
   },
   "source": [
    "### Stress Score\n",
    "Fitbit Sense users see a daily Stress Management Score (N=2578) in the Fitbit app ranging from 1 to 100 - where a higher number means you’re showing fewer physical signs of stress. It’s calculated based on three metrics: your Responsiveness (score out of 30), Exertion Balance (score out of 40) and Sleep Patterns (score out of 30).  Not applicable at hourly granularity."
   ]
  },
  {
   "cell_type": "markdown",
   "metadata": {
    "pycharm": {
     "name": "#%% md\n"
    }
   },
   "source": [
    "### Wrist Temperature\n",
    "Data about the skin temperature of the user during the day (N=5,217,923). The value refers to the difference between the measured value and the user’s 30-day baseline (unknown where the baseline is stored or how it is calculated). The data are stored at a 3-minute granularity."
   ]
  },
  {
   "cell_type": "code",
   "execution_count": 395,
   "metadata": {
    "pycharm": {
     "name": "#%%\n"
    }
   },
   "outputs": [
    {
     "name": "stderr",
     "output_type": "stream",
     "text": [
      "C:\\ProgramData\\Anaconda3\\envs\\RAIS-Data-Analysis\\lib\\site-packages\\swifter\\swifter.py:35: UserWarning: This pandas object has duplicate indices, and swifter may not be able to improve performance. Consider resetting the indices with `df.reset_index(drop=True)`.\n",
      "  warnings.warn(\n"
     ]
    },
    {
     "data": {
      "text/plain": "Pandas Apply:   0%|          | 0/4372238 [00:00<?, ?it/s]",
      "application/vnd.jupyter.widget-view+json": {
       "version_major": 2,
       "version_minor": 0,
       "model_id": "97a833a27f2d4b329366710e3c1f20b0"
      }
     },
     "metadata": {},
     "output_type": "display_data"
    },
    {
     "data": {
      "text/plain": "Pandas Apply:   0%|          | 0/4372238 [00:00<?, ?it/s]",
      "application/vnd.jupyter.widget-view+json": {
       "version_major": 2,
       "version_minor": 0,
       "model_id": "a176ea3707444a8d90c9094d07a0654b"
      }
     },
     "metadata": {},
     "output_type": "display_data"
    }
   ],
   "source": [
    "users_wrist_temperature = pd.DataFrame(columns=[\"id\", \"data\"])\n",
    "for user in users:\n",
    "    user_data = pd.DataFrame(list(\n",
    "        db.fitbit.find({\"$and\": [\n",
    "            {\"type\": \"Wrist Temperature\"},\n",
    "            {\"id\": user}\n",
    "        ]},\n",
    "            {\"id\": 1, \"data.recorded_time\": 1, \"data.temperature\": 1, \"_id\": 0}\n",
    "        )\n",
    "    ))\n",
    "\n",
    "    users_wrist_temperature = pd.concat([users_wrist_temperature, user_data], axis=0)\n",
    "\n",
    "# split data column (json format) into two columns\n",
    "users_wrist_temperature[\"date\"] = users_wrist_temperature[\"data\"].swifter.apply(lambda d: d[\"recorded_time\"])\n",
    "users_wrist_temperature[\"temperature\"] = users_wrist_temperature[\"data\"].swifter.apply(lambda d: d[\"temperature\"])\n",
    "users_wrist_temperature.drop([\"data\"], inplace=True, axis=1)\n",
    "\n",
    "# convert timestamp date object and then to datetime64[ns]\n",
    "users_wrist_temperature[\"date\"] = pd.to_datetime(users_wrist_temperature[\"date\"], infer_datetime_format=True)\n",
    "users_wrist_temperature[\"hour\"] = users_wrist_temperature[\"date\"].dt.hour\n",
    "users_wrist_temperature[\"date\"] = pd.to_datetime(users_wrist_temperature[\"date\"].dt.date, infer_datetime_format=True)"
   ]
  },
  {
   "cell_type": "code",
   "execution_count": 396,
   "metadata": {
    "pycharm": {
     "name": "#%%\n"
    }
   },
   "outputs": [
    {
     "data": {
      "text/plain": "<AxesSubplot:>"
     },
     "execution_count": 396,
     "metadata": {},
     "output_type": "execute_result"
    },
    {
     "data": {
      "text/plain": "<Figure size 432x288 with 1 Axes>",
      "image/png": "[encoded data removed]"
     },
     "metadata": {},
     "output_type": "display_data"
    }
   ],
   "source": [
    "users_wrist_temperature.hour.hist()"
   ]
  },
  {
   "cell_type": "code",
   "execution_count": 397,
   "metadata": {
    "pycharm": {
     "name": "#%%\n"
    }
   },
   "outputs": [],
   "source": [
    "# group by date and then take the average\n",
    "users_wrist_temperature = users_wrist_temperature.groupby(['id', 'date', 'hour']).mean()\n",
    "users_wrist_temperature.reset_index(drop=False, inplace=True)"
   ]
  },
  {
   "cell_type": "code",
   "execution_count": 398,
   "metadata": {
    "pycharm": {
     "name": "#%%\n"
    }
   },
   "outputs": [
    {
     "data": {
      "text/plain": "                         id       date  hour  temperature\n0  621e2e8e67b776a24055b564 2021-05-24     0    -1.466659\n1  621e2e8e67b776a24055b564 2021-05-24     1     0.210289\n2  621e2e8e67b776a24055b564 2021-05-24     2    -1.359378\n3  621e2e8e67b776a24055b564 2021-05-24     3    -0.316295\n4  621e2e8e67b776a24055b564 2021-05-24     4     0.416455",
      "text/html": "<div>\n<style scoped>\n    .dataframe tbody tr th:only-of-type {\n        vertical-align: middle;\n    }\n\n    .dataframe tbody tr th {\n        vertical-align: top;\n    }\n\n    .dataframe thead th {\n        text-align: right;\n    }\n</style>\n<table border=\"1\" class=\"dataframe\">\n  <thead>\n    <tr style=\"text-align: right;\">\n      <th></th>\n      <th>id</th>\n      <th>date</th>\n      <th>hour</th>\n      <th>temperature</th>\n    </tr>\n  </thead>\n  <tbody>\n    <tr>\n      <th>0</th>\n      <td>621e2e8e67b776a24055b564</td>\n      <td>2021-05-24</td>\n      <td>0</td>\n      <td>-1.466659</td>\n    </tr>\n    <tr>\n      <th>1</th>\n      <td>621e2e8e67b776a24055b564</td>\n      <td>2021-05-24</td>\n      <td>1</td>\n      <td>0.210289</td>\n    </tr>\n    <tr>\n      <th>2</th>\n      <td>621e2e8e67b776a24055b564</td>\n      <td>2021-05-24</td>\n      <td>2</td>\n      <td>-1.359378</td>\n    </tr>\n    <tr>\n      <th>3</th>\n      <td>621e2e8e67b776a24055b564</td>\n      <td>2021-05-24</td>\n      <td>3</td>\n      <td>-0.316295</td>\n    </tr>\n    <tr>\n      <th>4</th>\n      <td>621e2e8e67b776a24055b564</td>\n      <td>2021-05-24</td>\n      <td>4</td>\n      <td>0.416455</td>\n    </tr>\n  </tbody>\n</table>\n</div>"
     },
     "execution_count": 398,
     "metadata": {},
     "output_type": "execute_result"
    }
   ],
   "source": [
    "users_wrist_temperature.head()"
   ]
  },
  {
   "cell_type": "code",
   "execution_count": 399,
   "metadata": {
    "pycharm": {
     "name": "#%%\n"
    }
   },
   "outputs": [],
   "source": [
    "# merge\n",
    "df = users_wrist_temperature"
   ]
  },
  {
   "cell_type": "code",
   "execution_count": 400,
   "metadata": {
    "pycharm": {
     "name": "#%%\n"
    }
   },
   "outputs": [
    {
     "data": {
      "text/plain": "                         id       date  hour  temperature\n0  621e2e8e67b776a24055b564 2021-05-24     0    -1.466659\n1  621e2e8e67b776a24055b564 2021-05-24     1     0.210289\n2  621e2e8e67b776a24055b564 2021-05-24     2    -1.359378\n3  621e2e8e67b776a24055b564 2021-05-24     3    -0.316295\n4  621e2e8e67b776a24055b564 2021-05-24     4     0.416455",
      "text/html": "<div>\n<style scoped>\n    .dataframe tbody tr th:only-of-type {\n        vertical-align: middle;\n    }\n\n    .dataframe tbody tr th {\n        vertical-align: top;\n    }\n\n    .dataframe thead th {\n        text-align: right;\n    }\n</style>\n<table border=\"1\" class=\"dataframe\">\n  <thead>\n    <tr style=\"text-align: right;\">\n      <th></th>\n      <th>id</th>\n      <th>date</th>\n      <th>hour</th>\n      <th>temperature</th>\n    </tr>\n  </thead>\n  <tbody>\n    <tr>\n      <th>0</th>\n      <td>621e2e8e67b776a24055b564</td>\n      <td>2021-05-24</td>\n      <td>0</td>\n      <td>-1.466659</td>\n    </tr>\n    <tr>\n      <th>1</th>\n      <td>621e2e8e67b776a24055b564</td>\n      <td>2021-05-24</td>\n      <td>1</td>\n      <td>0.210289</td>\n    </tr>\n    <tr>\n      <th>2</th>\n      <td>621e2e8e67b776a24055b564</td>\n      <td>2021-05-24</td>\n      <td>2</td>\n      <td>-1.359378</td>\n    </tr>\n    <tr>\n      <th>3</th>\n      <td>621e2e8e67b776a24055b564</td>\n      <td>2021-05-24</td>\n      <td>3</td>\n      <td>-0.316295</td>\n    </tr>\n    <tr>\n      <th>4</th>\n      <td>621e2e8e67b776a24055b564</td>\n      <td>2021-05-24</td>\n      <td>4</td>\n      <td>0.416455</td>\n    </tr>\n  </tbody>\n</table>\n</div>"
     },
     "execution_count": 400,
     "metadata": {},
     "output_type": "execute_result"
    }
   ],
   "source": [
    "df.head()"
   ]
  },
  {
   "cell_type": "code",
   "execution_count": 401,
   "metadata": {
    "pycharm": {
     "name": "#%%\n"
    }
   },
   "outputs": [
    {
     "name": "stdout",
     "output_type": "stream",
     "text": [
      "Duplicates based on ID and Date: 0\n",
      "Duplicates based on ID and Date and Value: 0\n"
     ]
    }
   ],
   "source": [
    "# checking for duplicates; if the two values are identical it means that all duplicates (in terms of date and ID) have also equal values.\n",
    "print(\"Duplicates based on ID and Date: {}\".format(df[df.duplicated(subset=['id','date', 'hour'], keep=False)].shape[0]))\n",
    "print(\"Duplicates based on ID and Date and Value: {}\".format(df[df.duplicated(subset=['id','date', 'hour', 'temperature'], keep=False)].shape[0]))"
   ]
  },
  {
   "cell_type": "markdown",
   "metadata": {
    "pycharm": {
     "name": "#%% md\n"
    }
   },
   "source": [
    "### Badge\n",
    "Users get badges some days depending on their activity (N=1067). There is a variety of badges and users get them at random times, so we expect a lot of null values. To minimize the feature space we can use only the badge type, i.e., \"DAILY_FLOORS\", \"DAILY_STEPS\", \"GOAL_BASED_WEIGHT_LOSS\", \"GOAL_BASED_WEIGHT_LOSS_ACHIEVEMENT\", \"LIFETIME_DISTANCE\", \"LIFETIME_FLOORS\", \"LIFETIME_WEIGHT_GOAL_SETUP\"."
   ]
  },
  {
   "cell_type": "code",
   "execution_count": 402,
   "metadata": {
    "pycharm": {
     "name": "#%%\n"
    }
   },
   "outputs": [],
   "source": [
    "users_badges = pd.DataFrame(columns=[\"id\", \"data\"])\n",
    "for user in users:\n",
    "    user_data = pd.DataFrame(list(\n",
    "        db.fitbit.find({\"$and\": [\n",
    "            {\"type\": \"badge\"},\n",
    "            {\"id\": user}\n",
    "        ]},\n",
    "            {\"id\": 1, \"data.dateTime\": 1, \"data.badgeType\": 1, \"_id\": 0}\n",
    "        )\n",
    "    ))\n",
    "\n",
    "    users_badges = pd.concat([users_badges, user_data], axis=0)\n",
    "\n",
    "# split data column (json format) into two columns\n",
    "users_badges[\"date\"] = users_badges[\"data\"].apply(lambda d: d[\"dateTime\"])\n",
    "users_badges[\"badgeType\"] = users_badges[\"data\"].apply(lambda d: d[\"badgeType\"])\n",
    "users_badges.drop([\"data\"], inplace=True, axis=1)\n",
    "\n",
    "# convert timestamp date object and then to datetime64[ns]\n",
    "users_badges[\"date\"] = pd.to_datetime(users_badges[\"date\"])\n",
    "users_badges[\"hour\"] = users_badges[\"date\"].dt.hour\n",
    "users_badges[\"date\"] = pd.to_datetime(users_badges[\"date\"].dt.date)"
   ]
  },
  {
   "cell_type": "code",
   "execution_count": 403,
   "metadata": {
    "pycharm": {
     "name": "#%%\n"
    }
   },
   "outputs": [
    {
     "data": {
      "text/plain": "                         id       date     badgeType  hour\n0  621e2e8e67b776a24055b564 2021-07-29   DAILY_STEPS     0\n1  621e2e8e67b776a24055b564 2021-07-31   DAILY_STEPS     0\n2  621e2e8e67b776a24055b564 2021-05-29  DAILY_FLOORS     0\n3  621e2e8e67b776a24055b564 2021-05-29  DAILY_FLOORS     0\n4  621e2e8e67b776a24055b564 2021-07-31  DAILY_FLOORS     0",
      "text/html": "<div>\n<style scoped>\n    .dataframe tbody tr th:only-of-type {\n        vertical-align: middle;\n    }\n\n    .dataframe tbody tr th {\n        vertical-align: top;\n    }\n\n    .dataframe thead th {\n        text-align: right;\n    }\n</style>\n<table border=\"1\" class=\"dataframe\">\n  <thead>\n    <tr style=\"text-align: right;\">\n      <th></th>\n      <th>id</th>\n      <th>date</th>\n      <th>badgeType</th>\n      <th>hour</th>\n    </tr>\n  </thead>\n  <tbody>\n    <tr>\n      <th>0</th>\n      <td>621e2e8e67b776a24055b564</td>\n      <td>2021-07-29</td>\n      <td>DAILY_STEPS</td>\n      <td>0</td>\n    </tr>\n    <tr>\n      <th>1</th>\n      <td>621e2e8e67b776a24055b564</td>\n      <td>2021-07-31</td>\n      <td>DAILY_STEPS</td>\n      <td>0</td>\n    </tr>\n    <tr>\n      <th>2</th>\n      <td>621e2e8e67b776a24055b564</td>\n      <td>2021-05-29</td>\n      <td>DAILY_FLOORS</td>\n      <td>0</td>\n    </tr>\n    <tr>\n      <th>3</th>\n      <td>621e2e8e67b776a24055b564</td>\n      <td>2021-05-29</td>\n      <td>DAILY_FLOORS</td>\n      <td>0</td>\n    </tr>\n    <tr>\n      <th>4</th>\n      <td>621e2e8e67b776a24055b564</td>\n      <td>2021-07-31</td>\n      <td>DAILY_FLOORS</td>\n      <td>0</td>\n    </tr>\n  </tbody>\n</table>\n</div>"
     },
     "execution_count": 403,
     "metadata": {},
     "output_type": "execute_result"
    }
   ],
   "source": [
    "users_badges.head()"
   ]
  },
  {
   "cell_type": "code",
   "execution_count": 404,
   "outputs": [
    {
     "data": {
      "text/plain": "id                   object\ndate         datetime64[ns]\nbadgeType            object\nhour                  int64\ndtype: object"
     },
     "execution_count": 404,
     "metadata": {},
     "output_type": "execute_result"
    }
   ],
   "source": [
    "users_badges.dtypes"
   ],
   "metadata": {
    "collapsed": false,
    "pycharm": {
     "name": "#%%\n"
    }
   }
  },
  {
   "cell_type": "code",
   "execution_count": 405,
   "metadata": {
    "pycharm": {
     "name": "#%%\n"
    }
   },
   "outputs": [
    {
     "data": {
      "text/plain": "Pandas Apply:   0%|          | 0/515 [00:00<?, ?it/s]",
      "application/vnd.jupyter.widget-view+json": {
       "version_major": 2,
       "version_minor": 0,
       "model_id": "e2b781b44b5d4bf6ad4e64e1da5adcfe"
      }
     },
     "metadata": {},
     "output_type": "display_data"
    },
    {
     "data": {
      "text/plain": "Pandas Apply:   0%|          | 0/515 [00:00<?, ?it/s]",
      "application/vnd.jupyter.widget-view+json": {
       "version_major": 2,
       "version_minor": 0,
       "model_id": "8a29b5d8b1394e37964ceb9a5d38b3e9"
      }
     },
     "metadata": {},
     "output_type": "display_data"
    },
    {
     "data": {
      "text/plain": "[LIFETIME_DISTANCE]                                                128\n[DAILY_STEPS]                                                      111\n[DAILY_FLOORS, DAILY_STEPS]                                         83\n[LIFETIME_FLOORS]                                                   77\n[DAILY_FLOORS]                                                      75\n[LIFETIME_DISTANCE, LIFETIME_FLOORS]                                14\n[LIFETIME_FLOORS, DAILY_STEPS]                                       7\n[DAILY_FLOORS, LIFETIME_DISTANCE, DAILY_STEPS]                       4\n[LIFETIME_WEIGHT_GOAL_SETUP]                                         4\n[DAILY_FLOORS, LIFETIME_FLOORS, DAILY_STEPS]                         3\n[DAILY_FLOORS, LIFETIME_FLOORS]                                      3\n[LIFETIME_DISTANCE, DAILY_STEPS]                                     2\n[DAILY_FLOORS, LIFETIME_DISTANCE, DAILY_STEPS, LIFETIME_FLOORS]      1\n[DAILY_FLOORS, LIFETIME_DISTANCE]                                    1\n[DAILY_FLOORS, LIFETIME_DISTANCE, LIFETIME_FLOORS]                   1\n[GOAL_BASED_WEIGHT_LOSS, DAILY_STEPS]                                1\nName: badgeType, dtype: int64"
     },
     "execution_count": 405,
     "metadata": {},
     "output_type": "execute_result"
    }
   ],
   "source": [
    "# group by ID and date to have only unique dates per participant\n",
    "users_badges = users_badges.groupby(['id', 'date', 'hour']).badgeType.apply(list).reset_index(drop=False)\n",
    "users_badges.badgeType = users_badges.badgeType.swifter.apply(lambda l: list(set(l)) if isinstance(l, list) else l)\n",
    "users_badges.badgeType = users_badges.badgeType.swifter.apply(lambda l: np.NaN if l == [np.nan] else l)\n",
    "users_badges.badgeType.value_counts()"
   ]
  },
  {
   "cell_type": "code",
   "execution_count": 406,
   "metadata": {
    "pycharm": {
     "name": "#%%\n"
    }
   },
   "outputs": [],
   "source": [
    "# merge\n",
    "df = df.merge(users_badges, how='outer', on=['id', 'date', 'hour'])"
   ]
  },
  {
   "cell_type": "code",
   "execution_count": 407,
   "metadata": {
    "pycharm": {
     "name": "#%%\n"
    }
   },
   "outputs": [
    {
     "data": {
      "text/plain": "                          id       date  hour  temperature badgeType\n0   621e2e8e67b776a24055b564 2021-05-24     0    -1.466659       NaN\n1   621e2e8e67b776a24055b564 2021-05-24     1     0.210289       NaN\n2   621e2e8e67b776a24055b564 2021-05-24     2    -1.359378       NaN\n3   621e2e8e67b776a24055b564 2021-05-24     3    -0.316295       NaN\n4   621e2e8e67b776a24055b564 2021-05-24     4     0.416455       NaN\n..                       ...        ...   ...          ...       ...\n95  621e2e8e67b776a24055b564 2021-05-27    23    -1.128095       NaN\n96  621e2e8e67b776a24055b564 2021-05-28     0    -0.492911       NaN\n97  621e2e8e67b776a24055b564 2021-05-28     1     0.916755       NaN\n98  621e2e8e67b776a24055b564 2021-05-28     2    -0.157328       NaN\n99  621e2e8e67b776a24055b564 2021-05-28     3     0.190339       NaN\n\n[100 rows x 5 columns]",
      "text/html": "<div>\n<style scoped>\n    .dataframe tbody tr th:only-of-type {\n        vertical-align: middle;\n    }\n\n    .dataframe tbody tr th {\n        vertical-align: top;\n    }\n\n    .dataframe thead th {\n        text-align: right;\n    }\n</style>\n<table border=\"1\" class=\"dataframe\">\n  <thead>\n    <tr style=\"text-align: right;\">\n      <th></th>\n      <th>id</th>\n      <th>date</th>\n      <th>hour</th>\n      <th>temperature</th>\n      <th>badgeType</th>\n    </tr>\n  </thead>\n  <tbody>\n    <tr>\n      <th>0</th>\n      <td>621e2e8e67b776a24055b564</td>\n      <td>2021-05-24</td>\n      <td>0</td>\n      <td>-1.466659</td>\n      <td>NaN</td>\n    </tr>\n    <tr>\n      <th>1</th>\n      <td>621e2e8e67b776a24055b564</td>\n      <td>2021-05-24</td>\n      <td>1</td>\n      <td>0.210289</td>\n      <td>NaN</td>\n    </tr>\n    <tr>\n      <th>2</th>\n      <td>621e2e8e67b776a24055b564</td>\n      <td>2021-05-24</td>\n      <td>2</td>\n      <td>-1.359378</td>\n      <td>NaN</td>\n    </tr>\n    <tr>\n      <th>3</th>\n      <td>621e2e8e67b776a24055b564</td>\n      <td>2021-05-24</td>\n      <td>3</td>\n      <td>-0.316295</td>\n      <td>NaN</td>\n    </tr>\n    <tr>\n      <th>4</th>\n      <td>621e2e8e67b776a24055b564</td>\n      <td>2021-05-24</td>\n      <td>4</td>\n      <td>0.416455</td>\n      <td>NaN</td>\n    </tr>\n    <tr>\n      <th>...</th>\n      <td>...</td>\n      <td>...</td>\n      <td>...</td>\n      <td>...</td>\n      <td>...</td>\n    </tr>\n    <tr>\n      <th>95</th>\n      <td>621e2e8e67b776a24055b564</td>\n      <td>2021-05-27</td>\n      <td>23</td>\n      <td>-1.128095</td>\n      <td>NaN</td>\n    </tr>\n    <tr>\n      <th>96</th>\n      <td>621e2e8e67b776a24055b564</td>\n      <td>2021-05-28</td>\n      <td>0</td>\n      <td>-0.492911</td>\n      <td>NaN</td>\n    </tr>\n    <tr>\n      <th>97</th>\n      <td>621e2e8e67b776a24055b564</td>\n      <td>2021-05-28</td>\n      <td>1</td>\n      <td>0.916755</td>\n      <td>NaN</td>\n    </tr>\n    <tr>\n      <th>98</th>\n      <td>621e2e8e67b776a24055b564</td>\n      <td>2021-05-28</td>\n      <td>2</td>\n      <td>-0.157328</td>\n      <td>NaN</td>\n    </tr>\n    <tr>\n      <th>99</th>\n      <td>621e2e8e67b776a24055b564</td>\n      <td>2021-05-28</td>\n      <td>3</td>\n      <td>0.190339</td>\n      <td>NaN</td>\n    </tr>\n  </tbody>\n</table>\n<p>100 rows × 5 columns</p>\n</div>"
     },
     "execution_count": 407,
     "metadata": {},
     "output_type": "execute_result"
    }
   ],
   "source": [
    "df.head(100)"
   ]
  },
  {
   "cell_type": "code",
   "execution_count": 408,
   "metadata": {
    "pycharm": {
     "name": "#%%\n"
    }
   },
   "outputs": [
    {
     "name": "stdout",
     "output_type": "stream",
     "text": [
      "Duplicates based on ID and Date: 0\n",
      "Duplicates based on ID and Date and Value: 0\n"
     ]
    }
   ],
   "source": [
    "# checking for duplicates; if the two values are identical it means that all duplicates (in terms of date and ID) have also equal values.\n",
    "print(\"Duplicates based on ID and Date: {}\".format(df[df.duplicated(subset=['id','date', 'hour'], keep=False)].shape[0]))\n",
    "print(\"Duplicates based on ID and Date and Value: {}\".format(df[df.astype(str).duplicated(subset=['id','date', 'hour', 'badgeType'], keep=False)].shape[0]))"
   ]
  },
  {
   "cell_type": "markdown",
   "metadata": {
    "pycharm": {
     "name": "#%% md\n"
    }
   },
   "source": [
    "### Calories\n",
    "Burnt calories for the user at 3-min granularity (N=16,091,073)."
   ]
  },
  {
   "cell_type": "code",
   "execution_count": 409,
   "metadata": {
    "pycharm": {
     "name": "#%%\n"
    }
   },
   "outputs": [
    {
     "name": "stdout",
     "output_type": "stream",
     "text": [
      "Reading from pickle...\n"
     ]
    }
   ],
   "source": [
    "if os.path.exists('data/users_calories_hourly.pkl'):\n",
    "    print(\"Reading from pickle...\")\n",
    "    f = open(\"data/users_calories_hourly.pkl\", \"rb\")\n",
    "    # disable garbage collector\n",
    "    gc.disable()\n",
    "    # read pickle\n",
    "    users_calories = pickle.load(f)\n",
    "    # enable garbage collector again\n",
    "    gc.enable()\n",
    "    f.close()\n",
    "else:\n",
    "    users_calories = pd.DataFrame(columns=[\"id\", \"data\"])\n",
    "    for user in tqdm(users):\n",
    "        user_data = pd.DataFrame(list(\n",
    "            db.fitbit.find({\"$and\": [\n",
    "                {\"type\": \"calories\"},\n",
    "                {\"id\": user}\n",
    "            ]},\n",
    "                {\"id\": 1, \"data.dateTime\": 1, \"data.value\": 1, \"_id\": 0}\n",
    "            )\n",
    "        ))\n",
    "\n",
    "        users_calories = pd.concat([users_calories, user_data], axis=0)\n",
    "\n",
    "    print(\"Column Split...\")\n",
    "    # split data column (json format) into two columns\n",
    "    users_calories.reset_index(drop=True, inplace=True)\n",
    "    users_calories[\"date\"] = users_calories[\"data\"].swifter.apply(lambda d: d[\"dateTime\"])\n",
    "    users_calories[\"calories\"] = users_calories[\"data\"].swifter.apply(lambda d: d[\"value\"])\n",
    "    users_calories.drop([\"data\"], inplace=True, axis=1)\n",
    "    print(\"Column Split Completed\")\n",
    "    print(\"Date Conversion...\")\n",
    "    # convert timestamp date object and then to datetime64[ns]\n",
    "    # users_calories[\"date\"] = pd.to_datetime(users_calories[\"date\"], format=\"%m/%d/%y %H:%M:%S\")\n",
    "    users_calories[\"date\"] = pd.to_datetime(users_calories[\"date\"], infer_datetime_format=True)\n",
    "    users_calories[\"hour\"] = users_calories[\"date\"].dt.hour\n",
    "    users_calories[\"date\"] = pd.to_datetime(users_calories[\"date\"].dt.date, format=\"%Y/%m/%d\")\n",
    "    print(\"Date Conversion Completed\")\n",
    "    users_calories.to_pickle('data/users_calories_hourly.pkl')"
   ]
  },
  {
   "cell_type": "code",
   "execution_count": 410,
   "outputs": [
    {
     "data": {
      "text/plain": "id                  object\ndate        datetime64[ns]\ncalories            object\nhour                 int64\ndtype: object"
     },
     "execution_count": 410,
     "metadata": {},
     "output_type": "execute_result"
    }
   ],
   "source": [
    "users_calories.dtypes"
   ],
   "metadata": {
    "collapsed": false,
    "pycharm": {
     "name": "#%%\n"
    }
   }
  },
  {
   "cell_type": "code",
   "execution_count": 411,
   "metadata": {
    "pycharm": {
     "name": "#%%\n"
    }
   },
   "outputs": [
    {
     "data": {
      "text/plain": "                         id       date calories  hour\n0  621e2e8e67b776a24055b564 2021-05-24     2.62     0\n1  621e2e8e67b776a24055b564 2021-05-24     1.09     0\n2  621e2e8e67b776a24055b564 2021-05-24     1.09     0\n3  621e2e8e67b776a24055b564 2021-05-24     1.09     0\n4  621e2e8e67b776a24055b564 2021-05-24     1.09     0",
      "text/html": "<div>\n<style scoped>\n    .dataframe tbody tr th:only-of-type {\n        vertical-align: middle;\n    }\n\n    .dataframe tbody tr th {\n        vertical-align: top;\n    }\n\n    .dataframe thead th {\n        text-align: right;\n    }\n</style>\n<table border=\"1\" class=\"dataframe\">\n  <thead>\n    <tr style=\"text-align: right;\">\n      <th></th>\n      <th>id</th>\n      <th>date</th>\n      <th>calories</th>\n      <th>hour</th>\n    </tr>\n  </thead>\n  <tbody>\n    <tr>\n      <th>0</th>\n      <td>621e2e8e67b776a24055b564</td>\n      <td>2021-05-24</td>\n      <td>2.62</td>\n      <td>0</td>\n    </tr>\n    <tr>\n      <th>1</th>\n      <td>621e2e8e67b776a24055b564</td>\n      <td>2021-05-24</td>\n      <td>1.09</td>\n      <td>0</td>\n    </tr>\n    <tr>\n      <th>2</th>\n      <td>621e2e8e67b776a24055b564</td>\n      <td>2021-05-24</td>\n      <td>1.09</td>\n      <td>0</td>\n    </tr>\n    <tr>\n      <th>3</th>\n      <td>621e2e8e67b776a24055b564</td>\n      <td>2021-05-24</td>\n      <td>1.09</td>\n      <td>0</td>\n    </tr>\n    <tr>\n      <th>4</th>\n      <td>621e2e8e67b776a24055b564</td>\n      <td>2021-05-24</td>\n      <td>1.09</td>\n      <td>0</td>\n    </tr>\n  </tbody>\n</table>\n</div>"
     },
     "execution_count": 411,
     "metadata": {},
     "output_type": "execute_result"
    }
   ],
   "source": [
    "users_calories.head()"
   ]
  },
  {
   "cell_type": "code",
   "execution_count": 412,
   "metadata": {
    "pycharm": {
     "name": "#%%\n"
    }
   },
   "outputs": [
    {
     "data": {
      "text/plain": "id                  object\ndate        datetime64[ns]\ncalories            object\nhour                 int64\ndtype: object"
     },
     "execution_count": 412,
     "metadata": {},
     "output_type": "execute_result"
    }
   ],
   "source": [
    "users_calories.dtypes"
   ]
  },
  {
   "cell_type": "code",
   "execution_count": 413,
   "metadata": {
    "pycharm": {
     "name": "#%%\n"
    }
   },
   "outputs": [],
   "source": [
    "# group by date and then take the average\n",
    "users_calories.calories = users_calories.calories.astype(float)\n",
    "users_calories = users_calories.groupby(['id', 'date', 'hour']).sum()\n",
    "users_calories.reset_index(drop=False, inplace=True)"
   ]
  },
  {
   "cell_type": "code",
   "execution_count": 414,
   "metadata": {
    "pycharm": {
     "name": "#%%\n"
    }
   },
   "outputs": [
    {
     "data": {
      "text/plain": "                         id       date  hour  calories\n0  621e2e8e67b776a24055b564 2021-05-24     0     89.04\n1  621e2e8e67b776a24055b564 2021-05-24     1     65.62\n2  621e2e8e67b776a24055b564 2021-05-24     2     65.40\n3  621e2e8e67b776a24055b564 2021-05-24     3     69.01\n4  621e2e8e67b776a24055b564 2021-05-24     4     65.73",
      "text/html": "<div>\n<style scoped>\n    .dataframe tbody tr th:only-of-type {\n        vertical-align: middle;\n    }\n\n    .dataframe tbody tr th {\n        vertical-align: top;\n    }\n\n    .dataframe thead th {\n        text-align: right;\n    }\n</style>\n<table border=\"1\" class=\"dataframe\">\n  <thead>\n    <tr style=\"text-align: right;\">\n      <th></th>\n      <th>id</th>\n      <th>date</th>\n      <th>hour</th>\n      <th>calories</th>\n    </tr>\n  </thead>\n  <tbody>\n    <tr>\n      <th>0</th>\n      <td>621e2e8e67b776a24055b564</td>\n      <td>2021-05-24</td>\n      <td>0</td>\n      <td>89.04</td>\n    </tr>\n    <tr>\n      <th>1</th>\n      <td>621e2e8e67b776a24055b564</td>\n      <td>2021-05-24</td>\n      <td>1</td>\n      <td>65.62</td>\n    </tr>\n    <tr>\n      <th>2</th>\n      <td>621e2e8e67b776a24055b564</td>\n      <td>2021-05-24</td>\n      <td>2</td>\n      <td>65.40</td>\n    </tr>\n    <tr>\n      <th>3</th>\n      <td>621e2e8e67b776a24055b564</td>\n      <td>2021-05-24</td>\n      <td>3</td>\n      <td>69.01</td>\n    </tr>\n    <tr>\n      <th>4</th>\n      <td>621e2e8e67b776a24055b564</td>\n      <td>2021-05-24</td>\n      <td>4</td>\n      <td>65.73</td>\n    </tr>\n  </tbody>\n</table>\n</div>"
     },
     "execution_count": 414,
     "metadata": {},
     "output_type": "execute_result"
    }
   ],
   "source": [
    "users_calories.head()"
   ]
  },
  {
   "cell_type": "code",
   "execution_count": 415,
   "metadata": {
    "pycharm": {
     "name": "#%%\n"
    }
   },
   "outputs": [],
   "source": [
    "# merge\n",
    "df = df.merge(users_calories, how='outer', on=['id', 'date', 'hour'])"
   ]
  },
  {
   "cell_type": "code",
   "execution_count": 416,
   "metadata": {
    "pycharm": {
     "name": "#%%\n"
    }
   },
   "outputs": [
    {
     "data": {
      "text/plain": "                         id       date  hour  temperature badgeType  calories\n0  621e2e8e67b776a24055b564 2021-05-24     0    -1.466659       NaN     89.04\n1  621e2e8e67b776a24055b564 2021-05-24     1     0.210289       NaN     65.62\n2  621e2e8e67b776a24055b564 2021-05-24     2    -1.359378       NaN     65.40\n3  621e2e8e67b776a24055b564 2021-05-24     3    -0.316295       NaN     69.01\n4  621e2e8e67b776a24055b564 2021-05-24     4     0.416455       NaN     65.73",
      "text/html": "<div>\n<style scoped>\n    .dataframe tbody tr th:only-of-type {\n        vertical-align: middle;\n    }\n\n    .dataframe tbody tr th {\n        vertical-align: top;\n    }\n\n    .dataframe thead th {\n        text-align: right;\n    }\n</style>\n<table border=\"1\" class=\"dataframe\">\n  <thead>\n    <tr style=\"text-align: right;\">\n      <th></th>\n      <th>id</th>\n      <th>date</th>\n      <th>hour</th>\n      <th>temperature</th>\n      <th>badgeType</th>\n      <th>calories</th>\n    </tr>\n  </thead>\n  <tbody>\n    <tr>\n      <th>0</th>\n      <td>621e2e8e67b776a24055b564</td>\n      <td>2021-05-24</td>\n      <td>0</td>\n      <td>-1.466659</td>\n      <td>NaN</td>\n      <td>89.04</td>\n    </tr>\n    <tr>\n      <th>1</th>\n      <td>621e2e8e67b776a24055b564</td>\n      <td>2021-05-24</td>\n      <td>1</td>\n      <td>0.210289</td>\n      <td>NaN</td>\n      <td>65.62</td>\n    </tr>\n    <tr>\n      <th>2</th>\n      <td>621e2e8e67b776a24055b564</td>\n      <td>2021-05-24</td>\n      <td>2</td>\n      <td>-1.359378</td>\n      <td>NaN</td>\n      <td>65.40</td>\n    </tr>\n    <tr>\n      <th>3</th>\n      <td>621e2e8e67b776a24055b564</td>\n      <td>2021-05-24</td>\n      <td>3</td>\n      <td>-0.316295</td>\n      <td>NaN</td>\n      <td>69.01</td>\n    </tr>\n    <tr>\n      <th>4</th>\n      <td>621e2e8e67b776a24055b564</td>\n      <td>2021-05-24</td>\n      <td>4</td>\n      <td>0.416455</td>\n      <td>NaN</td>\n      <td>65.73</td>\n    </tr>\n  </tbody>\n</table>\n</div>"
     },
     "execution_count": 416,
     "metadata": {},
     "output_type": "execute_result"
    }
   ],
   "source": [
    "df.head()"
   ]
  },
  {
   "cell_type": "code",
   "execution_count": 417,
   "metadata": {
    "pycharm": {
     "name": "#%%\n"
    }
   },
   "outputs": [
    {
     "name": "stdout",
     "output_type": "stream",
     "text": [
      "Duplicates based on ID and Date: 0\n",
      "Duplicates based on ID and Date and Value: 0\n"
     ]
    }
   ],
   "source": [
    "# checking for duplicates; if the two values are identical it means that all duplicates (in terms of date and ID) have also equal values.\n",
    "print(\"Duplicates based on ID and Date: {}\".format(df[df.duplicated(subset=['id','date', 'hour'], keep=False)].shape[0]))\n",
    "print(\"Duplicates based on ID and Date and Value: {}\".format(df[df.duplicated(subset=['id','date', 'hour', 'calories'], keep=False)].shape[0]))"
   ]
  },
  {
   "cell_type": "markdown",
   "metadata": {
    "pycharm": {
     "name": "#%% md\n"
    }
   },
   "source": [
    "### VO2 Max\n",
    "VO2 Max is a measurement of how well your body uses oxygen when you’re working out at your hardest. It is widely accepted as the gold standard for grading cardiovascular fitness: the higher your VO2 Max, the more fit you are (source). This metric can also indicate performance potential for endurance-based activities including running, biking, and swimming (source).\n",
    "\n",
    "VO2 Max is traditionally measured in a lab where you run on a treadmill or ride a stationary bike until exhaustion with a mask strapped to your nose and mouth to gauge the amount of air you inhale and exhale. While this method provides the most accurate measure of VO2 Max, your Fitbit device can estimate this value for you with less effort and discomfort.\n",
    "\n",
    "Fitbit estimates your VO2 Max and refers to it as your cardio fitness score at a 2-day granularity (N=6364). Not applicable at hourly granularity."
   ]
  },
  {
   "cell_type": "markdown",
   "metadata": {
    "pycharm": {
     "name": "#%% md\n"
    }
   },
   "source": [
    "### Distance\n",
    "Distance walked by the user at 2-min granularity."
   ]
  },
  {
   "cell_type": "code",
   "execution_count": 418,
   "metadata": {
    "pycharm": {
     "name": "#%%\n"
    }
   },
   "outputs": [
    {
     "name": "stdout",
     "output_type": "stream",
     "text": [
      "Reading from pickle...\n"
     ]
    }
   ],
   "source": [
    "if os.path.exists('data/users_distance_hourly.pkl'):\n",
    "    print(\"Reading from pickle...\")\n",
    "    f = open(\"data/users_distance_hourly.pkl\", \"rb\")\n",
    "    # disable garbage collector\n",
    "    gc.disable()\n",
    "    # read pickle\n",
    "    users_distance = pickle.load(f)\n",
    "    # enable garbage collector again\n",
    "    gc.enable()\n",
    "    f.close()\n",
    "else:\n",
    "    users_distance = pd.DataFrame(columns=[\"id\", \"data\"])\n",
    "    for user in tqdm(users):\n",
    "        user_data = pd.DataFrame(list(\n",
    "            db.fitbit.find({\"$and\": [\n",
    "                {\"type\": \"distance\"},\n",
    "                {\"id\": user}\n",
    "            ]},\n",
    "                {\"id\": 1, \"data.dateTime\": 1, \"data.value\": 1, \"_id\": 0}\n",
    "            )\n",
    "        ))\n",
    "\n",
    "        users_distance = pd.concat([users_distance, user_data], axis=0)\n",
    "\n",
    "    print(\"Column Split...\")\n",
    "    # split data column (json format) into two columns\n",
    "    users_distance.reset_index(drop=True, inplace=True)\n",
    "    users_distance[\"date\"] = users_distance[\"data\"].swifter.apply(lambda d: d[\"dateTime\"])\n",
    "    users_distance[\"distance\"] = users_distance[\"data\"].swifter.apply(lambda d: d[\"value\"])\n",
    "    users_distance.drop([\"data\"], inplace=True, axis=1)\n",
    "    print(\"Column Split Completed\")\n",
    "    print(\"Date Conversion...\")\n",
    "    # convert timestamp date object and then to datetime64[ns]\n",
    "    users_distance[\"date\"] = pd.to_datetime(users_distance[\"date\"], infer_datetime_format=True)\n",
    "    users_distance[\"hour\"] = users_distance[\"date\"].dt.hour\n",
    "    users_distance[\"date\"] = pd.to_datetime(users_distance[\"date\"].dt.date, infer_datetime_format=True)\n",
    "    print(\"Date Conversion Completed\")\n",
    "    users_distance.to_pickle('data/users_distance_hourly.pkl')"
   ]
  },
  {
   "cell_type": "code",
   "execution_count": 419,
   "outputs": [
    {
     "data": {
      "text/plain": "id                  object\ndate        datetime64[ns]\ndistance            object\nhour                 int64\ndtype: object"
     },
     "execution_count": 419,
     "metadata": {},
     "output_type": "execute_result"
    }
   ],
   "source": [
    "users_distance.dtypes"
   ],
   "metadata": {
    "collapsed": false,
    "pycharm": {
     "name": "#%%\n"
    }
   }
  },
  {
   "cell_type": "code",
   "execution_count": 420,
   "metadata": {
    "pycharm": {
     "name": "#%%\n"
    }
   },
   "outputs": [
    {
     "data": {
      "text/plain": "                         id       date distance  hour\n0  621e2e8e67b776a24055b564 2021-05-24      880     0\n1  621e2e8e67b776a24055b564 2021-05-24        0     0\n2  621e2e8e67b776a24055b564 2021-05-24      660     0\n3  621e2e8e67b776a24055b564 2021-05-24        0     0\n4  621e2e8e67b776a24055b564 2021-05-24        0     0",
      "text/html": "<div>\n<style scoped>\n    .dataframe tbody tr th:only-of-type {\n        vertical-align: middle;\n    }\n\n    .dataframe tbody tr th {\n        vertical-align: top;\n    }\n\n    .dataframe thead th {\n        text-align: right;\n    }\n</style>\n<table border=\"1\" class=\"dataframe\">\n  <thead>\n    <tr style=\"text-align: right;\">\n      <th></th>\n      <th>id</th>\n      <th>date</th>\n      <th>distance</th>\n      <th>hour</th>\n    </tr>\n  </thead>\n  <tbody>\n    <tr>\n      <th>0</th>\n      <td>621e2e8e67b776a24055b564</td>\n      <td>2021-05-24</td>\n      <td>880</td>\n      <td>0</td>\n    </tr>\n    <tr>\n      <th>1</th>\n      <td>621e2e8e67b776a24055b564</td>\n      <td>2021-05-24</td>\n      <td>0</td>\n      <td>0</td>\n    </tr>\n    <tr>\n      <th>2</th>\n      <td>621e2e8e67b776a24055b564</td>\n      <td>2021-05-24</td>\n      <td>660</td>\n      <td>0</td>\n    </tr>\n    <tr>\n      <th>3</th>\n      <td>621e2e8e67b776a24055b564</td>\n      <td>2021-05-24</td>\n      <td>0</td>\n      <td>0</td>\n    </tr>\n    <tr>\n      <th>4</th>\n      <td>621e2e8e67b776a24055b564</td>\n      <td>2021-05-24</td>\n      <td>0</td>\n      <td>0</td>\n    </tr>\n  </tbody>\n</table>\n</div>"
     },
     "execution_count": 420,
     "metadata": {},
     "output_type": "execute_result"
    }
   ],
   "source": [
    "users_distance.head()"
   ]
  },
  {
   "cell_type": "code",
   "execution_count": 421,
   "outputs": [
    {
     "data": {
      "text/plain": "id                  object\ndate        datetime64[ns]\ndistance            object\nhour                 int64\ndtype: object"
     },
     "execution_count": 421,
     "metadata": {},
     "output_type": "execute_result"
    }
   ],
   "source": [
    "users_distance.dtypes"
   ],
   "metadata": {
    "collapsed": false,
    "pycharm": {
     "name": "#%%\n"
    }
   }
  },
  {
   "cell_type": "code",
   "execution_count": 422,
   "metadata": {
    "pycharm": {
     "name": "#%%\n"
    }
   },
   "outputs": [],
   "source": [
    "# group by date and then take the average\n",
    "users_distance.distance = users_distance.distance.astype(float)\n",
    "users_distance = users_distance.groupby(['id', 'date', 'hour']).sum()\n",
    "users_distance.reset_index(drop=False, inplace=True)\n",
    "users_distance.distance = users_distance.distance / 100  # converts cm to m"
   ]
  },
  {
   "cell_type": "code",
   "execution_count": 423,
   "metadata": {
    "pycharm": {
     "name": "#%%\n"
    }
   },
   "outputs": [
    {
     "data": {
      "text/plain": "<AxesSubplot:>"
     },
     "execution_count": 423,
     "metadata": {},
     "output_type": "execute_result"
    },
    {
     "data": {
      "text/plain": "<Figure size 432x288 with 1 Axes>",
      "image/png": "[encoded data removed]"
     },
     "metadata": {},
     "output_type": "display_data"
    }
   ],
   "source": [
    "users_distance.distance.hist()"
   ]
  },
  {
   "cell_type": "code",
   "execution_count": 424,
   "metadata": {
    "pycharm": {
     "name": "#%%\n"
    }
   },
   "outputs": [],
   "source": [
    "# merge\n",
    "df = df.merge(users_distance, how='outer', on=['id', 'date', 'hour'])"
   ]
  },
  {
   "cell_type": "code",
   "execution_count": 425,
   "metadata": {
    "pycharm": {
     "name": "#%%\n"
    }
   },
   "outputs": [
    {
     "data": {
      "text/plain": "                         id       date  hour  temperature badgeType  calories  \\\n0  621e2e8e67b776a24055b564 2021-05-24     0    -1.466659       NaN     89.04   \n1  621e2e8e67b776a24055b564 2021-05-24     1     0.210289       NaN     65.62   \n2  621e2e8e67b776a24055b564 2021-05-24     2    -1.359378       NaN     65.40   \n3  621e2e8e67b776a24055b564 2021-05-24     3    -0.316295       NaN     69.01   \n4  621e2e8e67b776a24055b564 2021-05-24     4     0.416455       NaN     65.73   \n\n   distance  \n0      98.3  \n1       0.0  \n2       NaN  \n3      11.0  \n4       0.0  ",
      "text/html": "<div>\n<style scoped>\n    .dataframe tbody tr th:only-of-type {\n        vertical-align: middle;\n    }\n\n    .dataframe tbody tr th {\n        vertical-align: top;\n    }\n\n    .dataframe thead th {\n        text-align: right;\n    }\n</style>\n<table border=\"1\" class=\"dataframe\">\n  <thead>\n    <tr style=\"text-align: right;\">\n      <th></th>\n      <th>id</th>\n      <th>date</th>\n      <th>hour</th>\n      <th>temperature</th>\n      <th>badgeType</th>\n      <th>calories</th>\n      <th>distance</th>\n    </tr>\n  </thead>\n  <tbody>\n    <tr>\n      <th>0</th>\n      <td>621e2e8e67b776a24055b564</td>\n      <td>2021-05-24</td>\n      <td>0</td>\n      <td>-1.466659</td>\n      <td>NaN</td>\n      <td>89.04</td>\n      <td>98.3</td>\n    </tr>\n    <tr>\n      <th>1</th>\n      <td>621e2e8e67b776a24055b564</td>\n      <td>2021-05-24</td>\n      <td>1</td>\n      <td>0.210289</td>\n      <td>NaN</td>\n      <td>65.62</td>\n      <td>0.0</td>\n    </tr>\n    <tr>\n      <th>2</th>\n      <td>621e2e8e67b776a24055b564</td>\n      <td>2021-05-24</td>\n      <td>2</td>\n      <td>-1.359378</td>\n      <td>NaN</td>\n      <td>65.40</td>\n      <td>NaN</td>\n    </tr>\n    <tr>\n      <th>3</th>\n      <td>621e2e8e67b776a24055b564</td>\n      <td>2021-05-24</td>\n      <td>3</td>\n      <td>-0.316295</td>\n      <td>NaN</td>\n      <td>69.01</td>\n      <td>11.0</td>\n    </tr>\n    <tr>\n      <th>4</th>\n      <td>621e2e8e67b776a24055b564</td>\n      <td>2021-05-24</td>\n      <td>4</td>\n      <td>0.416455</td>\n      <td>NaN</td>\n      <td>65.73</td>\n      <td>0.0</td>\n    </tr>\n  </tbody>\n</table>\n</div>"
     },
     "execution_count": 425,
     "metadata": {},
     "output_type": "execute_result"
    }
   ],
   "source": [
    "df.head()"
   ]
  },
  {
   "cell_type": "code",
   "execution_count": 426,
   "metadata": {
    "pycharm": {
     "name": "#%%\n"
    }
   },
   "outputs": [
    {
     "name": "stdout",
     "output_type": "stream",
     "text": [
      "Duplicates based on ID and Date: 0\n",
      "Duplicates based on ID and Date and Value: 0\n"
     ]
    }
   ],
   "source": [
    "# checking for duplicates; if the two values are identical it means that all duplicates (in terms of date and ID) have also equal values.\n",
    "print(\"Duplicates based on ID and Date: {}\".format(df[df.duplicated(subset=['id','date', 'hour'], keep=False)].shape[0]))\n",
    "print(\"Duplicates based on ID and Date and Value: {}\".format(df[df.duplicated(subset=['id','date', 'hour', 'distance'], keep=False)].shape[0]))"
   ]
  },
  {
   "cell_type": "code",
   "execution_count": 427,
   "outputs": [
    {
     "data": {
      "text/plain": "id                     object\ndate           datetime64[ns]\nhour                    int64\ntemperature           float64\nbadgeType              object\ncalories              float64\ndistance              float64\ndtype: object"
     },
     "execution_count": 427,
     "metadata": {},
     "output_type": "execute_result"
    }
   ],
   "source": [
    "df.dtypes"
   ],
   "metadata": {
    "collapsed": false,
    "pycharm": {
     "name": "#%%\n"
    }
   }
  },
  {
   "cell_type": "markdown",
   "metadata": {
    "pycharm": {
     "name": "#%% md\n"
    }
   },
   "source": [
    "### Exercise\n",
    "The types of exercise the user has performed (N=5416). The names can be in multiple languages, hence we will use the exercise type code."
   ]
  },
  {
   "cell_type": "code",
   "execution_count": 428,
   "metadata": {
    "pycharm": {
     "name": "#%%\n"
    }
   },
   "outputs": [],
   "source": [
    "users_exercise = pd.DataFrame(columns=[\"id\", \"data\"])\n",
    "for user in users:\n",
    "    user_data = pd.DataFrame(list(\n",
    "        db.fitbit.find({\"$and\": [\n",
    "            {\"type\": \"exercise\"},\n",
    "            {\"id\": user}\n",
    "        ]},\n",
    "            {\"id\": 1, \"data.originalStartTime\": 1, \"data.activityTypeId\": 1, \"_id\": 0}\n",
    "        )\n",
    "    ))\n",
    "\n",
    "    users_exercise = pd.concat([users_exercise, user_data], axis=0)\n",
    "\n",
    "# split data column (json format) into two columns\n",
    "users_exercise[\"date\"] = users_exercise[\"data\"].apply(lambda d: d[\"originalStartTime\"])\n",
    "users_exercise[\"activityType\"] = users_exercise[\"data\"].apply(lambda d: d[\"activityTypeId\"])\n",
    "users_exercise.drop([\"data\"], inplace=True, axis=1)\n",
    "\n",
    "# convert timestamp date object and then to datetime64[ns]\n",
    "users_exercise[\"date\"] = pd.to_datetime(users_exercise[\"date\"], infer_datetime_format=True)\n",
    "users_exercise[\"hour\"] = users_exercise[\"date\"].dt.hour\n",
    "users_exercise[\"date\"] = pd.to_datetime(users_exercise[\"date\"].dt.date, infer_datetime_format=True)"
   ]
  },
  {
   "cell_type": "code",
   "execution_count": 429,
   "metadata": {
    "pycharm": {
     "name": "#%%\n"
    }
   },
   "outputs": [
    {
     "data": {
      "text/plain": "                         id       date  activityType  hour\n0  621e2e8e67b776a24055b564 2021-05-24         90013    10\n1  621e2e8e67b776a24055b564 2021-05-26         90013     9\n2  621e2e8e67b776a24055b564 2021-05-28         90013    10\n3  621e2e8e67b776a24055b564 2021-05-29         90013    11\n4  621e2e8e67b776a24055b564 2021-06-01         90013    10",
      "text/html": "<div>\n<style scoped>\n    .dataframe tbody tr th:only-of-type {\n        vertical-align: middle;\n    }\n\n    .dataframe tbody tr th {\n        vertical-align: top;\n    }\n\n    .dataframe thead th {\n        text-align: right;\n    }\n</style>\n<table border=\"1\" class=\"dataframe\">\n  <thead>\n    <tr style=\"text-align: right;\">\n      <th></th>\n      <th>id</th>\n      <th>date</th>\n      <th>activityType</th>\n      <th>hour</th>\n    </tr>\n  </thead>\n  <tbody>\n    <tr>\n      <th>0</th>\n      <td>621e2e8e67b776a24055b564</td>\n      <td>2021-05-24</td>\n      <td>90013</td>\n      <td>10</td>\n    </tr>\n    <tr>\n      <th>1</th>\n      <td>621e2e8e67b776a24055b564</td>\n      <td>2021-05-26</td>\n      <td>90013</td>\n      <td>9</td>\n    </tr>\n    <tr>\n      <th>2</th>\n      <td>621e2e8e67b776a24055b564</td>\n      <td>2021-05-28</td>\n      <td>90013</td>\n      <td>10</td>\n    </tr>\n    <tr>\n      <th>3</th>\n      <td>621e2e8e67b776a24055b564</td>\n      <td>2021-05-29</td>\n      <td>90013</td>\n      <td>11</td>\n    </tr>\n    <tr>\n      <th>4</th>\n      <td>621e2e8e67b776a24055b564</td>\n      <td>2021-06-01</td>\n      <td>90013</td>\n      <td>10</td>\n    </tr>\n  </tbody>\n</table>\n</div>"
     },
     "execution_count": 429,
     "metadata": {},
     "output_type": "execute_result"
    }
   ],
   "source": [
    "users_exercise.head()"
   ]
  },
  {
   "cell_type": "code",
   "execution_count": 430,
   "metadata": {
    "pycharm": {
     "name": "#%%\n"
    }
   },
   "outputs": [
    {
     "data": {
      "text/plain": "id                      object\ndate            datetime64[ns]\nactivityType             int64\nhour                     int64\ndtype: object"
     },
     "execution_count": 430,
     "metadata": {},
     "output_type": "execute_result"
    }
   ],
   "source": [
    "users_exercise.dtypes"
   ]
  },
  {
   "cell_type": "code",
   "execution_count": 431,
   "metadata": {
    "pycharm": {
     "name": "#%%\n"
    }
   },
   "outputs": [
    {
     "name": "stdout",
     "output_type": "stream",
     "text": [
      "    activityTypeId      activityName\n",
      "0            90013              Walk\n",
      "1            15000             Sport\n",
      "2             3001   Aerobic Workout\n",
      "3            52000      Yoga/Pilates\n",
      "4            90024              Swim\n",
      "5            90001              Bike\n",
      "6            55001          Spinning\n",
      "7             2131           Weights\n",
      "8            20047        Elliptical\n",
      "9            90009               Run\n",
      "10            1071              Bike\n",
      "11           20049         Treadmill\n",
      "12           53000      Yoga/Pilates\n",
      "13           55002      Martial Arts\n",
      "14            2040  Circuit Training\n",
      "15            3000           Workout\n",
      "16           90012              Hike\n",
      "17           55003          Bootcamp\n",
      "18           15430      Martial Arts\n",
      "19           15675            Tennis\n",
      "20           20057  Interval Workout\n"
     ]
    }
   ],
   "source": [
    "# Get distinct activity types\n",
    "activity_types = pd.DataFrame(list(\n",
    "        db.fitbit.find(\n",
    "            {\"type\": \"exercise\"},\n",
    "            {\"id\": 1, \"data.activityTypeId\": 1, \"data.activityName\": 1, \"_id\": 0}\n",
    "        )\n",
    "    ))\n",
    "activity_types[\"activityTypeId\"] = activity_types.data.apply(lambda d: d[\"activityTypeId\"])\n",
    "activity_types[\"activityName\"] = activity_types.data.apply(lambda d: d[\"activityName\"])\n",
    "activity_types.drop([\"data\", \"id\"], inplace=True, axis=1)\n",
    "activity_types = activity_types.drop_duplicates().reset_index(drop=True)\n",
    "print(activity_types.head(50))\n",
    "ACTIVITIES = {\n",
    "    90013: \"Walk\",\n",
    "    15000: \"Sport\",\n",
    "    3001: \"Aerobic Workout\",\n",
    "    52000: \"Yoga/Pilates\",\n",
    "    90024: \"Swim\",\n",
    "    90001: \"Bike\",\n",
    "    20047: \"Elliptical\",\n",
    "    2131: \"Weights\",\n",
    "    55001: \"Spinning\",\n",
    "    1071: \"Bike\",\n",
    "    90009: \"Run\",\n",
    "    20049: \"Treadmill\",\n",
    "    53000: \"Yoga/Pilates\",\n",
    "    55002: \"Martial Arts\",\n",
    "    2040: \"Circuit Training\",\n",
    "    2065: \"Stairclimber\",\n",
    "    3000: \"Workout\",\n",
    "    90012: \"Hike\",\n",
    "    12339646: \"Run\",\n",
    "    12350445: \"Walk\",\n",
    "    23418750: \"Swim\",\n",
    "    55003: \"Bootcamp\",\n",
    "    15430: \"Martial Arts\",\n",
    "    20057: \"Interval Workout\",\n",
    "    15675: \"Tennis\",\n",
    "    61980497: \"Workout\"\n",
    "}"
   ]
  },
  {
   "cell_type": "code",
   "execution_count": 432,
   "metadata": {
    "pycharm": {
     "name": "#%%\n"
    }
   },
   "outputs": [
    {
     "data": {
      "text/plain": "                         id       date activityType  hour\n0  621e2e8e67b776a24055b564 2021-05-24         Walk    10\n1  621e2e8e67b776a24055b564 2021-05-26         Walk     9\n2  621e2e8e67b776a24055b564 2021-05-28         Walk    10\n3  621e2e8e67b776a24055b564 2021-05-29         Walk    11\n4  621e2e8e67b776a24055b564 2021-06-01         Walk    10",
      "text/html": "<div>\n<style scoped>\n    .dataframe tbody tr th:only-of-type {\n        vertical-align: middle;\n    }\n\n    .dataframe tbody tr th {\n        vertical-align: top;\n    }\n\n    .dataframe thead th {\n        text-align: right;\n    }\n</style>\n<table border=\"1\" class=\"dataframe\">\n  <thead>\n    <tr style=\"text-align: right;\">\n      <th></th>\n      <th>id</th>\n      <th>date</th>\n      <th>activityType</th>\n      <th>hour</th>\n    </tr>\n  </thead>\n  <tbody>\n    <tr>\n      <th>0</th>\n      <td>621e2e8e67b776a24055b564</td>\n      <td>2021-05-24</td>\n      <td>Walk</td>\n      <td>10</td>\n    </tr>\n    <tr>\n      <th>1</th>\n      <td>621e2e8e67b776a24055b564</td>\n      <td>2021-05-26</td>\n      <td>Walk</td>\n      <td>9</td>\n    </tr>\n    <tr>\n      <th>2</th>\n      <td>621e2e8e67b776a24055b564</td>\n      <td>2021-05-28</td>\n      <td>Walk</td>\n      <td>10</td>\n    </tr>\n    <tr>\n      <th>3</th>\n      <td>621e2e8e67b776a24055b564</td>\n      <td>2021-05-29</td>\n      <td>Walk</td>\n      <td>11</td>\n    </tr>\n    <tr>\n      <th>4</th>\n      <td>621e2e8e67b776a24055b564</td>\n      <td>2021-06-01</td>\n      <td>Walk</td>\n      <td>10</td>\n    </tr>\n  </tbody>\n</table>\n</div>"
     },
     "execution_count": 432,
     "metadata": {},
     "output_type": "execute_result"
    }
   ],
   "source": [
    "users_exercise[\"activityType\"] = users_exercise[\"activityType\"].apply(lambda a: ACTIVITIES.get(a))\n",
    "users_exercise.head()"
   ]
  },
  {
   "cell_type": "code",
   "execution_count": 433,
   "metadata": {
    "pycharm": {
     "name": "#%%\n"
    }
   },
   "outputs": [],
   "source": [
    "users_exercise = users_exercise.groupby(['id', 'date', 'hour']).activityType.apply(list).reset_index(drop=False)"
   ]
  },
  {
   "cell_type": "code",
   "execution_count": 434,
   "metadata": {
    "pycharm": {
     "name": "#%%\n"
    }
   },
   "outputs": [
    {
     "data": {
      "text/plain": "[Walk]                              2793\n[Bike]                               230\n[Workout]                            157\n[Sport]                              149\n[Aerobic Workout]                    123\n                                    ... \n[Aerobic Workout, Workout]             1\n[Sport, Yoga/Pilates]                  1\n[Treadmill, Workout, Elliptical]       1\n[Workout, Treadmill, Elliptical]       1\n[Interval Workout, Workout]            1\nName: activityType, Length: 69, dtype: int64"
     },
     "execution_count": 434,
     "metadata": {},
     "output_type": "execute_result"
    }
   ],
   "source": [
    "users_exercise.activityType.value_counts()"
   ]
  },
  {
   "cell_type": "code",
   "execution_count": 435,
   "metadata": {
    "pycharm": {
     "name": "#%%\n"
    }
   },
   "outputs": [],
   "source": [
    "users_exercise.activityType = users_exercise.activityType.swifter.apply(lambda l: list(set(l)) if isinstance(l, list) else l)"
   ]
  },
  {
   "cell_type": "code",
   "execution_count": 436,
   "metadata": {
    "pycharm": {
     "name": "#%%\n"
    }
   },
   "outputs": [
    {
     "data": {
      "text/plain": "[Walk]                              2793\n[Bike]                               230\n[Workout]                            157\n[Sport]                              149\n[Aerobic Workout]                    123\n                                    ... \n[Aerobic Workout, Workout]             1\n[Sport, Yoga/Pilates]                  1\n[Treadmill, Workout, Elliptical]       1\n[Workout, Treadmill, Elliptical]       1\n[Interval Workout, Workout]            1\nName: activityType, Length: 69, dtype: int64"
     },
     "execution_count": 436,
     "metadata": {},
     "output_type": "execute_result"
    }
   ],
   "source": [
    "users_exercise.activityType.value_counts()"
   ]
  },
  {
   "cell_type": "code",
   "execution_count": 437,
   "outputs": [
    {
     "data": {
      "text/plain": "id                     object\ndate           datetime64[ns]\nhour                    int64\ntemperature           float64\nbadgeType              object\ncalories              float64\ndistance              float64\ndtype: object"
     },
     "execution_count": 437,
     "metadata": {},
     "output_type": "execute_result"
    }
   ],
   "source": [
    "df.dtypes"
   ],
   "metadata": {
    "collapsed": false,
    "pycharm": {
     "name": "#%%\n"
    }
   }
  },
  {
   "cell_type": "code",
   "execution_count": 438,
   "outputs": [
    {
     "data": {
      "text/plain": "id                      object\ndate            datetime64[ns]\nhour                     int64\nactivityType            object\ndtype: object"
     },
     "execution_count": 438,
     "metadata": {},
     "output_type": "execute_result"
    }
   ],
   "source": [
    "users_exercise.dtypes"
   ],
   "metadata": {
    "collapsed": false,
    "pycharm": {
     "name": "#%%\n"
    }
   }
  },
  {
   "cell_type": "code",
   "execution_count": 439,
   "metadata": {
    "pycharm": {
     "name": "#%%\n"
    }
   },
   "outputs": [],
   "source": [
    "# merge\n",
    "df = df.merge(users_exercise, how='outer', on=['id', 'date', 'hour'])"
   ]
  },
  {
   "cell_type": "code",
   "execution_count": 440,
   "metadata": {
    "pycharm": {
     "name": "#%%\n"
    }
   },
   "outputs": [
    {
     "data": {
      "text/plain": "[Walk]                             2793\n[Bike]                              230\n[Workout]                           157\n[Sport]                             149\n[Aerobic Workout]                   123\n                                   ... \n[Treadmill, Workout]                  1\n[Bike, Elliptical]                    1\n[Swim, Walk]                          1\n[Walk, Weights]                       1\n[Treadmill, Treadmill, Weights]       1\nName: activityType, Length: 69, dtype: int64"
     },
     "execution_count": 440,
     "metadata": {},
     "output_type": "execute_result"
    }
   ],
   "source": [
    "df.activityType.value_counts()"
   ]
  },
  {
   "cell_type": "code",
   "execution_count": 441,
   "metadata": {
    "pycharm": {
     "name": "#%%\n"
    }
   },
   "outputs": [
    {
     "name": "stdout",
     "output_type": "stream",
     "text": [
      "Duplicates based on ID and Date: 0\n",
      "Duplicates based on ID and Date and Value: 0\n"
     ]
    }
   ],
   "source": [
    "# checking for duplicates; if the two values are identical it means that all duplicates (in terms of date and ID) have also equal values.\n",
    "print(\"Duplicates based on ID and Date: {}\".format(df[df.duplicated(subset=['id','date', 'hour'], keep=False)].shape[0]))\n",
    "print(\"Duplicates based on ID and Date and Value: {}\".format(df[df.astype(str).duplicated(subset=['id','date', 'hour', 'activityType'], keep=False)].shape[0]))"
   ]
  },
  {
   "cell_type": "code",
   "execution_count": 442,
   "metadata": {
    "pycharm": {
     "name": "#%%\n"
    }
   },
   "outputs": [],
   "source": [
    "df.to_pickle(\"data/temp_df_1_hourly.pkl\")"
   ]
  },
  {
   "cell_type": "markdown",
   "metadata": {
    "pycharm": {
     "name": "#%% md\n"
    }
   },
   "source": [
    "### Heart Rate\n",
    "User’s BPM at 10-sec granularity."
   ]
  },
  {
   "cell_type": "code",
   "execution_count": 443,
   "metadata": {
    "pycharm": {
     "name": "#%%\n"
    }
   },
   "outputs": [
    {
     "name": "stdout",
     "output_type": "stream",
     "text": [
      "Reading DataFrame from pickle...\n",
      "Reading completed.\n"
     ]
    }
   ],
   "source": [
    "if os.path.exists('data/temp_df_1_hourly.pkl'):\n",
    "    print(\"Reading DataFrame from pickle...\")\n",
    "    f = open(\"data/temp_df_1_hourly.pkl\", \"rb\")\n",
    "    # disable garbage collector\n",
    "    gc.disable()\n",
    "    # read pickle\n",
    "    df = pickle.load(f)\n",
    "    # enable garbage collector again\n",
    "    gc.enable()\n",
    "    f.close()\n",
    "    print(\"Reading completed.\")"
   ]
  },
  {
   "cell_type": "code",
   "execution_count": 444,
   "metadata": {
    "pycharm": {
     "name": "#%%\n"
    }
   },
   "outputs": [
    {
     "name": "stdout",
     "output_type": "stream",
     "text": [
      "Reading hourly heart rate data from pickle...\n",
      "Reading completed.\n"
     ]
    }
   ],
   "source": [
    "if os.path.exists('data/users_hr_hourly.pkl'):\n",
    "    print(\"Reading hourly heart rate data from pickle...\")\n",
    "    f = open(\"data/users_hr_hourly.pkl\", \"rb\")\n",
    "    # disable garbage collector\n",
    "    gc.disable()\n",
    "    # read pickle\n",
    "    users_hr = pickle.load(f)\n",
    "    # enable garbage collector again\n",
    "    gc.enable()\n",
    "    f.close()\n",
    "    print(\"Reading completed.\")\n",
    "else:\n",
    "    warnings.warn(\"\\nTo read and aggregate heart rate data from MongoDB you need to ensure index existence for both query (type, id) and projection (data.dateTime, data.value.bpm) fields (compound index of four fields)...\\n\")\n",
    "    rows = 0\n",
    "    users_hr = pd.DataFrame(columns=[\"id\", \"date\", \"bpm\"])\n",
    "    for user in tqdm(users):\n",
    "        user_data = pd.DataFrame(list(\n",
    "            db.fitbit.find({\"$and\": [\n",
    "                {\"id\": user},\n",
    "                {\"type\": \"heart_rate\"}\n",
    "            ]},\n",
    "                {\"id\": 1, \"data.dateTime\": 1, \"data.value.bpm\": 1, \"_id\": 0}\n",
    "            )\n",
    "        ))\n",
    "\n",
    "        # split data column (json format) into two columns\n",
    "        # user_data.reset_index(drop=True, inplace=True)\n",
    "        user_data[\"date\"] = user_data[\"data\"].swifter.apply(lambda d: d[\"dateTime\"])\n",
    "        user_data[\"bpm\"] = user_data[\"data\"].swifter.apply(lambda d: d[\"value\"].get(\"bpm\"))\n",
    "        user_data.drop([\"data\"], inplace=True, axis=1)\n",
    "        # convert timestamp date object and then to datetime64[ns]\n",
    "        # user_data[\"date\"] = pd.to_datetime(user_data[\"date\"], format=\"%Y-%m-%dT%H:%M:%S\")\n",
    "        user_data[\"date\"] = pd.to_datetime(user_data[\"date\"], infer_datetime_format=True)\n",
    "        user_data['hour'] = user_data['date'].dt.hour\n",
    "        user_data['date'] = pd.to_datetime(user_data['date'].dt.date, infer_datetime_format=True)\n",
    "\n",
    "        # group by date and hour and then take the average\n",
    "        user_data.bpm = user_data.bpm.astype(float)\n",
    "        user_data = user_data.groupby(['id', 'date', 'hour']).mean()\n",
    "        user_data.reset_index(drop=False, inplace=True)\n",
    "\n",
    "        users_hr = pd.concat([users_hr, user_data], axis=0)\n",
    "\n",
    "    users_hr.to_pickle('data/users_hr_hourly.pkl')\n",
    "    # print(\"Final rows: {}\".format(rows))"
   ]
  },
  {
   "cell_type": "code",
   "execution_count": 445,
   "metadata": {
    "pycharm": {
     "name": "#%%\n"
    }
   },
   "outputs": [
    {
     "data": {
      "text/plain": "                          id                 date        bpm  hour\n0   621e2e8e67b776a24055b564  2021-05-24 00:00:00  66.874763   0.0\n1   621e2e8e67b776a24055b564  2021-05-24 00:00:00  58.711364   1.0\n2   621e2e8e67b776a24055b564  2021-05-24 00:00:00  55.133495   2.0\n3   621e2e8e67b776a24055b564  2021-05-24 00:00:00  60.488613   3.0\n4   621e2e8e67b776a24055b564  2021-05-24 00:00:00  59.110638   4.0\n5   621e2e8e67b776a24055b564  2021-05-24 00:00:00  57.481481   5.0\n6   621e2e8e67b776a24055b564  2021-05-24 00:00:00   59.40202   6.0\n7   621e2e8e67b776a24055b564  2021-05-24 00:00:00  61.217131   7.0\n8   621e2e8e67b776a24055b564  2021-05-24 00:00:00  60.842478   8.0\n9   621e2e8e67b776a24055b564  2021-05-24 00:00:00  73.804527   9.0\n10  621e2e8e67b776a24055b564  2021-05-24 00:00:00  95.295455  10.0\n11  621e2e8e67b776a24055b564  2021-05-24 00:00:00  89.730916  11.0\n12  621e2e8e67b776a24055b564  2021-05-24 00:00:00  83.123457  12.0\n13  621e2e8e67b776a24055b564  2021-05-24 00:00:00  76.593043  13.0\n14  621e2e8e67b776a24055b564  2021-05-24 00:00:00  77.917241  14.0\n15  621e2e8e67b776a24055b564  2021-05-24 00:00:00  70.281915  15.0\n16  621e2e8e67b776a24055b564  2021-05-24 00:00:00   70.42446  16.0\n17  621e2e8e67b776a24055b564  2021-05-24 00:00:00  77.679417  17.0\n18  621e2e8e67b776a24055b564  2021-05-24 00:00:00  84.613936  18.0\n19  621e2e8e67b776a24055b564  2021-05-24 00:00:00  71.443281  19.0",
      "text/html": "<div>\n<style scoped>\n    .dataframe tbody tr th:only-of-type {\n        vertical-align: middle;\n    }\n\n    .dataframe tbody tr th {\n        vertical-align: top;\n    }\n\n    .dataframe thead th {\n        text-align: right;\n    }\n</style>\n<table border=\"1\" class=\"dataframe\">\n  <thead>\n    <tr style=\"text-align: right;\">\n      <th></th>\n      <th>id</th>\n      <th>date</th>\n      <th>bpm</th>\n      <th>hour</th>\n    </tr>\n  </thead>\n  <tbody>\n    <tr>\n      <th>0</th>\n      <td>621e2e8e67b776a24055b564</td>\n      <td>2021-05-24 00:00:00</td>\n      <td>66.874763</td>\n      <td>0.0</td>\n    </tr>\n    <tr>\n      <th>1</th>\n      <td>621e2e8e67b776a24055b564</td>\n      <td>2021-05-24 00:00:00</td>\n      <td>58.711364</td>\n      <td>1.0</td>\n    </tr>\n    <tr>\n      <th>2</th>\n      <td>621e2e8e67b776a24055b564</td>\n      <td>2021-05-24 00:00:00</td>\n      <td>55.133495</td>\n      <td>2.0</td>\n    </tr>\n    <tr>\n      <th>3</th>\n      <td>621e2e8e67b776a24055b564</td>\n      <td>2021-05-24 00:00:00</td>\n      <td>60.488613</td>\n      <td>3.0</td>\n    </tr>\n    <tr>\n      <th>4</th>\n      <td>621e2e8e67b776a24055b564</td>\n      <td>2021-05-24 00:00:00</td>\n      <td>59.110638</td>\n      <td>4.0</td>\n    </tr>\n    <tr>\n      <th>5</th>\n      <td>621e2e8e67b776a24055b564</td>\n      <td>2021-05-24 00:00:00</td>\n      <td>57.481481</td>\n      <td>5.0</td>\n    </tr>\n    <tr>\n      <th>6</th>\n      <td>621e2e8e67b776a24055b564</td>\n      <td>2021-05-24 00:00:00</td>\n      <td>59.40202</td>\n      <td>6.0</td>\n    </tr>\n    <tr>\n      <th>7</th>\n      <td>621e2e8e67b776a24055b564</td>\n      <td>2021-05-24 00:00:00</td>\n      <td>61.217131</td>\n      <td>7.0</td>\n    </tr>\n    <tr>\n      <th>8</th>\n      <td>621e2e8e67b776a24055b564</td>\n      <td>2021-05-24 00:00:00</td>\n      <td>60.842478</td>\n      <td>8.0</td>\n    </tr>\n    <tr>\n      <th>9</th>\n      <td>621e2e8e67b776a24055b564</td>\n      <td>2021-05-24 00:00:00</td>\n      <td>73.804527</td>\n      <td>9.0</td>\n    </tr>\n    <tr>\n      <th>10</th>\n      <td>621e2e8e67b776a24055b564</td>\n      <td>2021-05-24 00:00:00</td>\n      <td>95.295455</td>\n      <td>10.0</td>\n    </tr>\n    <tr>\n      <th>11</th>\n      <td>621e2e8e67b776a24055b564</td>\n      <td>2021-05-24 00:00:00</td>\n      <td>89.730916</td>\n      <td>11.0</td>\n    </tr>\n    <tr>\n      <th>12</th>\n      <td>621e2e8e67b776a24055b564</td>\n      <td>2021-05-24 00:00:00</td>\n      <td>83.123457</td>\n      <td>12.0</td>\n    </tr>\n    <tr>\n      <th>13</th>\n      <td>621e2e8e67b776a24055b564</td>\n      <td>2021-05-24 00:00:00</td>\n      <td>76.593043</td>\n      <td>13.0</td>\n    </tr>\n    <tr>\n      <th>14</th>\n      <td>621e2e8e67b776a24055b564</td>\n      <td>2021-05-24 00:00:00</td>\n      <td>77.917241</td>\n      <td>14.0</td>\n    </tr>\n    <tr>\n      <th>15</th>\n      <td>621e2e8e67b776a24055b564</td>\n      <td>2021-05-24 00:00:00</td>\n      <td>70.281915</td>\n      <td>15.0</td>\n    </tr>\n    <tr>\n      <th>16</th>\n      <td>621e2e8e67b776a24055b564</td>\n      <td>2021-05-24 00:00:00</td>\n      <td>70.42446</td>\n      <td>16.0</td>\n    </tr>\n    <tr>\n      <th>17</th>\n      <td>621e2e8e67b776a24055b564</td>\n      <td>2021-05-24 00:00:00</td>\n      <td>77.679417</td>\n      <td>17.0</td>\n    </tr>\n    <tr>\n      <th>18</th>\n      <td>621e2e8e67b776a24055b564</td>\n      <td>2021-05-24 00:00:00</td>\n      <td>84.613936</td>\n      <td>18.0</td>\n    </tr>\n    <tr>\n      <th>19</th>\n      <td>621e2e8e67b776a24055b564</td>\n      <td>2021-05-24 00:00:00</td>\n      <td>71.443281</td>\n      <td>19.0</td>\n    </tr>\n  </tbody>\n</table>\n</div>"
     },
     "execution_count": 445,
     "metadata": {},
     "output_type": "execute_result"
    }
   ],
   "source": [
    "users_hr.head(20)"
   ]
  },
  {
   "cell_type": "code",
   "execution_count": 446,
   "metadata": {
    "pycharm": {
     "name": "#%%\n"
    }
   },
   "outputs": [],
   "source": [
    "# convert timestamp date object and then to datetime64[ns]\n",
    "users_hr[\"date\"] = pd.to_datetime(pd.to_datetime(users_hr[\"date\"], format=\"%Y/%m/%d  %H:%M:%S\").dt.date, format=\"%Y/%m/%d\")"
   ]
  },
  {
   "cell_type": "code",
   "execution_count": 447,
   "metadata": {
    "pycharm": {
     "name": "#%%\n"
    }
   },
   "outputs": [
    {
     "data": {
      "text/plain": "                         id       date        bpm  hour\n0  621e2e8e67b776a24055b564 2021-05-24  66.874763   0.0\n1  621e2e8e67b776a24055b564 2021-05-24  58.711364   1.0\n2  621e2e8e67b776a24055b564 2021-05-24  55.133495   2.0\n3  621e2e8e67b776a24055b564 2021-05-24  60.488613   3.0\n4  621e2e8e67b776a24055b564 2021-05-24  59.110638   4.0",
      "text/html": "<div>\n<style scoped>\n    .dataframe tbody tr th:only-of-type {\n        vertical-align: middle;\n    }\n\n    .dataframe tbody tr th {\n        vertical-align: top;\n    }\n\n    .dataframe thead th {\n        text-align: right;\n    }\n</style>\n<table border=\"1\" class=\"dataframe\">\n  <thead>\n    <tr style=\"text-align: right;\">\n      <th></th>\n      <th>id</th>\n      <th>date</th>\n      <th>bpm</th>\n      <th>hour</th>\n    </tr>\n  </thead>\n  <tbody>\n    <tr>\n      <th>0</th>\n      <td>621e2e8e67b776a24055b564</td>\n      <td>2021-05-24</td>\n      <td>66.874763</td>\n      <td>0.0</td>\n    </tr>\n    <tr>\n      <th>1</th>\n      <td>621e2e8e67b776a24055b564</td>\n      <td>2021-05-24</td>\n      <td>58.711364</td>\n      <td>1.0</td>\n    </tr>\n    <tr>\n      <th>2</th>\n      <td>621e2e8e67b776a24055b564</td>\n      <td>2021-05-24</td>\n      <td>55.133495</td>\n      <td>2.0</td>\n    </tr>\n    <tr>\n      <th>3</th>\n      <td>621e2e8e67b776a24055b564</td>\n      <td>2021-05-24</td>\n      <td>60.488613</td>\n      <td>3.0</td>\n    </tr>\n    <tr>\n      <th>4</th>\n      <td>621e2e8e67b776a24055b564</td>\n      <td>2021-05-24</td>\n      <td>59.110638</td>\n      <td>4.0</td>\n    </tr>\n  </tbody>\n</table>\n</div>"
     },
     "execution_count": 447,
     "metadata": {},
     "output_type": "execute_result"
    }
   ],
   "source": [
    "users_hr.head()"
   ]
  },
  {
   "cell_type": "code",
   "execution_count": 448,
   "metadata": {
    "pycharm": {
     "name": "#%%\n"
    }
   },
   "outputs": [],
   "source": [
    "# merge\n",
    "df = df.merge(users_hr, how='outer', on=['id', 'date', 'hour'])"
   ]
  },
  {
   "cell_type": "code",
   "execution_count": 449,
   "metadata": {
    "pycharm": {
     "name": "#%%\n"
    }
   },
   "outputs": [
    {
     "data": {
      "text/plain": "                         id       date  hour  temperature badgeType  calories  \\\n0  621e2e8e67b776a24055b564 2021-05-24     0    -1.466659       NaN     89.04   \n1  621e2e8e67b776a24055b564 2021-05-24     1     0.210289       NaN     65.62   \n2  621e2e8e67b776a24055b564 2021-05-24     2    -1.359378       NaN     65.40   \n3  621e2e8e67b776a24055b564 2021-05-24     3    -0.316295       NaN     69.01   \n4  621e2e8e67b776a24055b564 2021-05-24     4     0.416455       NaN     65.73   \n\n   distance activityType        bpm  \n0      98.3          NaN  66.874763  \n1       0.0          NaN  58.711364  \n2       NaN          NaN  55.133495  \n3      11.0          NaN  60.488613  \n4       0.0          NaN  59.110638  ",
      "text/html": "<div>\n<style scoped>\n    .dataframe tbody tr th:only-of-type {\n        vertical-align: middle;\n    }\n\n    .dataframe tbody tr th {\n        vertical-align: top;\n    }\n\n    .dataframe thead th {\n        text-align: right;\n    }\n</style>\n<table border=\"1\" class=\"dataframe\">\n  <thead>\n    <tr style=\"text-align: right;\">\n      <th></th>\n      <th>id</th>\n      <th>date</th>\n      <th>hour</th>\n      <th>temperature</th>\n      <th>badgeType</th>\n      <th>calories</th>\n      <th>distance</th>\n      <th>activityType</th>\n      <th>bpm</th>\n    </tr>\n  </thead>\n  <tbody>\n    <tr>\n      <th>0</th>\n      <td>621e2e8e67b776a24055b564</td>\n      <td>2021-05-24</td>\n      <td>0</td>\n      <td>-1.466659</td>\n      <td>NaN</td>\n      <td>89.04</td>\n      <td>98.3</td>\n      <td>NaN</td>\n      <td>66.874763</td>\n    </tr>\n    <tr>\n      <th>1</th>\n      <td>621e2e8e67b776a24055b564</td>\n      <td>2021-05-24</td>\n      <td>1</td>\n      <td>0.210289</td>\n      <td>NaN</td>\n      <td>65.62</td>\n      <td>0.0</td>\n      <td>NaN</td>\n      <td>58.711364</td>\n    </tr>\n    <tr>\n      <th>2</th>\n      <td>621e2e8e67b776a24055b564</td>\n      <td>2021-05-24</td>\n      <td>2</td>\n      <td>-1.359378</td>\n      <td>NaN</td>\n      <td>65.40</td>\n      <td>NaN</td>\n      <td>NaN</td>\n      <td>55.133495</td>\n    </tr>\n    <tr>\n      <th>3</th>\n      <td>621e2e8e67b776a24055b564</td>\n      <td>2021-05-24</td>\n      <td>3</td>\n      <td>-0.316295</td>\n      <td>NaN</td>\n      <td>69.01</td>\n      <td>11.0</td>\n      <td>NaN</td>\n      <td>60.488613</td>\n    </tr>\n    <tr>\n      <th>4</th>\n      <td>621e2e8e67b776a24055b564</td>\n      <td>2021-05-24</td>\n      <td>4</td>\n      <td>0.416455</td>\n      <td>NaN</td>\n      <td>65.73</td>\n      <td>0.0</td>\n      <td>NaN</td>\n      <td>59.110638</td>\n    </tr>\n  </tbody>\n</table>\n</div>"
     },
     "execution_count": 449,
     "metadata": {},
     "output_type": "execute_result"
    }
   ],
   "source": [
    "df.head()"
   ]
  },
  {
   "cell_type": "code",
   "execution_count": 450,
   "metadata": {
    "pycharm": {
     "name": "#%%\n"
    }
   },
   "outputs": [
    {
     "name": "stdout",
     "output_type": "stream",
     "text": [
      "Duplicates based on ID and Date: 0\n",
      "Duplicates based on ID and Date and Value: 0\n"
     ]
    }
   ],
   "source": [
    "# checking for duplicates; if the two values are identical it means that all duplicates (in terms of date and ID) have also equal values.\n",
    "print(\"Duplicates based on ID and Date: {}\".format(df[df.duplicated(subset=['id','date', 'hour'], keep=False)].shape[0]))\n",
    "print(\"Duplicates based on ID and Date and Value: {}\".format(df[df.duplicated(subset=['id','date', 'hour', 'bpm'], keep=False)].shape[0]))"
   ]
  },
  {
   "cell_type": "markdown",
   "metadata": {
    "pycharm": {
     "name": "#%% md\n"
    }
   },
   "source": [
    "### Lightly Active Minutes\n",
    "Light activity minutes (N=12086). Not applicable at hourly granularity."
   ]
  },
  {
   "cell_type": "markdown",
   "metadata": {
    "pycharm": {
     "name": "#%% md\n"
    }
   },
   "source": [
    "### Moderately Active Minutes\n",
    "Moderate activity minutes (N=12086). Not applicable at hourly granularity."
   ]
  },
  {
   "cell_type": "markdown",
   "metadata": {
    "pycharm": {
     "name": "#%% md\n"
    }
   },
   "source": [
    "### Very Active Minutes\n",
    "Very activity minutes (N=12086). Not applicable at hourly granularity."
   ]
  },
  {
   "cell_type": "markdown",
   "metadata": {
    "pycharm": {
     "name": "#%% md\n"
    }
   },
   "source": [
    "### Sedentary Minutes\n",
    "Sedentary minutes (N=12086). Not applicable at hourly granularity."
   ]
  },
  {
   "cell_type": "code",
   "execution_count": 451,
   "metadata": {
    "pycharm": {
     "name": "#%%\n"
    }
   },
   "outputs": [],
   "source": [
    "df.to_pickle('data/temp_df_2_hourly.pkl')"
   ]
  },
  {
   "cell_type": "code",
   "execution_count": 452,
   "metadata": {
    "pycharm": {
     "name": "#%%\n"
    }
   },
   "outputs": [],
   "source": [
    "df = pd.read_pickle('data/temp_df_2_hourly.pkl')"
   ]
  },
  {
   "cell_type": "code",
   "execution_count": 453,
   "metadata": {
    "pycharm": {
     "name": "#%%\n"
    }
   },
   "outputs": [
    {
     "data": {
      "text/plain": "                          id       date  hour  temperature badgeType  \\\n0   621e2e8e67b776a24055b564 2021-05-24     0    -1.466659       NaN   \n1   621e2e8e67b776a24055b564 2021-05-24     1     0.210289       NaN   \n2   621e2e8e67b776a24055b564 2021-05-24     2    -1.359378       NaN   \n3   621e2e8e67b776a24055b564 2021-05-24     3    -0.316295       NaN   \n4   621e2e8e67b776a24055b564 2021-05-24     4     0.416455       NaN   \n5   621e2e8e67b776a24055b564 2021-05-24     5    -0.836378       NaN   \n6   621e2e8e67b776a24055b564 2021-05-24     6    -0.677295       NaN   \n7   621e2e8e67b776a24055b564 2021-05-24     7     0.149622       NaN   \n8   621e2e8e67b776a24055b564 2021-05-24     8     0.469372       NaN   \n9   621e2e8e67b776a24055b564 2021-05-24     9    -2.527628       NaN   \n10  621e2e8e67b776a24055b564 2021-05-24    10    -3.444170       NaN   \n11  621e2e8e67b776a24055b564 2021-05-24    11    -3.251776       NaN   \n12  621e2e8e67b776a24055b564 2021-05-24    12    -2.786295       NaN   \n13  621e2e8e67b776a24055b564 2021-05-24    13    -2.374545       NaN   \n14  621e2e8e67b776a24055b564 2021-05-24    14    -3.705128       NaN   \n15  621e2e8e67b776a24055b564 2021-05-24    15    -2.848211       NaN   \n16  621e2e8e67b776a24055b564 2021-05-24    16    -2.245295       NaN   \n17  621e2e8e67b776a24055b564 2021-05-24    17    -2.453961       NaN   \n18  621e2e8e67b776a24055b564 2021-05-24    18    -5.027795       NaN   \n19  621e2e8e67b776a24055b564 2021-05-24    19    -3.633045       NaN   \n\n    calories  distance activityType        bpm  \n0      89.04      98.3          NaN  66.874763  \n1      65.62       0.0          NaN  58.711364  \n2      65.40       NaN          NaN  55.133495  \n3      69.01      11.0          NaN  60.488613  \n4      65.73       0.0          NaN  59.110638  \n5      65.40       NaN          NaN  57.481481  \n6      70.87      28.8          NaN   59.40202  \n7      65.73       0.0          NaN  61.217131  \n8      67.48       5.1          NaN  60.842478  \n9      75.61       7.3          NaN  73.804527  \n10    241.41    1938.9       [Walk]  95.295455  \n11    144.45     732.3          NaN  89.730916  \n12    108.01     316.6          NaN  83.123457  \n13     84.94      21.2          NaN  76.593043  \n14     98.31     140.6          NaN  77.917241  \n15     76.81      24.2          NaN  70.281915  \n16     95.84     252.1          NaN   70.42446  \n17    166.05    1264.2       [Walk]  77.679417  \n18    173.49    1356.8          NaN  84.613936  \n19    106.87     117.5          NaN  71.443281  ",
      "text/html": "<div>\n<style scoped>\n    .dataframe tbody tr th:only-of-type {\n        vertical-align: middle;\n    }\n\n    .dataframe tbody tr th {\n        vertical-align: top;\n    }\n\n    .dataframe thead th {\n        text-align: right;\n    }\n</style>\n<table border=\"1\" class=\"dataframe\">\n  <thead>\n    <tr style=\"text-align: right;\">\n      <th></th>\n      <th>id</th>\n      <th>date</th>\n      <th>hour</th>\n      <th>temperature</th>\n      <th>badgeType</th>\n      <th>calories</th>\n      <th>distance</th>\n      <th>activityType</th>\n      <th>bpm</th>\n    </tr>\n  </thead>\n  <tbody>\n    <tr>\n      <th>0</th>\n      <td>621e2e8e67b776a24055b564</td>\n      <td>2021-05-24</td>\n      <td>0</td>\n      <td>-1.466659</td>\n      <td>NaN</td>\n      <td>89.04</td>\n      <td>98.3</td>\n      <td>NaN</td>\n      <td>66.874763</td>\n    </tr>\n    <tr>\n      <th>1</th>\n      <td>621e2e8e67b776a24055b564</td>\n      <td>2021-05-24</td>\n      <td>1</td>\n      <td>0.210289</td>\n      <td>NaN</td>\n      <td>65.62</td>\n      <td>0.0</td>\n      <td>NaN</td>\n      <td>58.711364</td>\n    </tr>\n    <tr>\n      <th>2</th>\n      <td>621e2e8e67b776a24055b564</td>\n      <td>2021-05-24</td>\n      <td>2</td>\n      <td>-1.359378</td>\n      <td>NaN</td>\n      <td>65.40</td>\n      <td>NaN</td>\n      <td>NaN</td>\n      <td>55.133495</td>\n    </tr>\n    <tr>\n      <th>3</th>\n      <td>621e2e8e67b776a24055b564</td>\n      <td>2021-05-24</td>\n      <td>3</td>\n      <td>-0.316295</td>\n      <td>NaN</td>\n      <td>69.01</td>\n      <td>11.0</td>\n      <td>NaN</td>\n      <td>60.488613</td>\n    </tr>\n    <tr>\n      <th>4</th>\n      <td>621e2e8e67b776a24055b564</td>\n      <td>2021-05-24</td>\n      <td>4</td>\n      <td>0.416455</td>\n      <td>NaN</td>\n      <td>65.73</td>\n      <td>0.0</td>\n      <td>NaN</td>\n      <td>59.110638</td>\n    </tr>\n    <tr>\n      <th>5</th>\n      <td>621e2e8e67b776a24055b564</td>\n      <td>2021-05-24</td>\n      <td>5</td>\n      <td>-0.836378</td>\n      <td>NaN</td>\n      <td>65.40</td>\n      <td>NaN</td>\n      <td>NaN</td>\n      <td>57.481481</td>\n    </tr>\n    <tr>\n      <th>6</th>\n      <td>621e2e8e67b776a24055b564</td>\n      <td>2021-05-24</td>\n      <td>6</td>\n      <td>-0.677295</td>\n      <td>NaN</td>\n      <td>70.87</td>\n      <td>28.8</td>\n      <td>NaN</td>\n      <td>59.40202</td>\n    </tr>\n    <tr>\n      <th>7</th>\n      <td>621e2e8e67b776a24055b564</td>\n      <td>2021-05-24</td>\n      <td>7</td>\n      <td>0.149622</td>\n      <td>NaN</td>\n      <td>65.73</td>\n      <td>0.0</td>\n      <td>NaN</td>\n      <td>61.217131</td>\n    </tr>\n    <tr>\n      <th>8</th>\n      <td>621e2e8e67b776a24055b564</td>\n      <td>2021-05-24</td>\n      <td>8</td>\n      <td>0.469372</td>\n      <td>NaN</td>\n      <td>67.48</td>\n      <td>5.1</td>\n      <td>NaN</td>\n      <td>60.842478</td>\n    </tr>\n    <tr>\n      <th>9</th>\n      <td>621e2e8e67b776a24055b564</td>\n      <td>2021-05-24</td>\n      <td>9</td>\n      <td>-2.527628</td>\n      <td>NaN</td>\n      <td>75.61</td>\n      <td>7.3</td>\n      <td>NaN</td>\n      <td>73.804527</td>\n    </tr>\n    <tr>\n      <th>10</th>\n      <td>621e2e8e67b776a24055b564</td>\n      <td>2021-05-24</td>\n      <td>10</td>\n      <td>-3.444170</td>\n      <td>NaN</td>\n      <td>241.41</td>\n      <td>1938.9</td>\n      <td>[Walk]</td>\n      <td>95.295455</td>\n    </tr>\n    <tr>\n      <th>11</th>\n      <td>621e2e8e67b776a24055b564</td>\n      <td>2021-05-24</td>\n      <td>11</td>\n      <td>-3.251776</td>\n      <td>NaN</td>\n      <td>144.45</td>\n      <td>732.3</td>\n      <td>NaN</td>\n      <td>89.730916</td>\n    </tr>\n    <tr>\n      <th>12</th>\n      <td>621e2e8e67b776a24055b564</td>\n      <td>2021-05-24</td>\n      <td>12</td>\n      <td>-2.786295</td>\n      <td>NaN</td>\n      <td>108.01</td>\n      <td>316.6</td>\n      <td>NaN</td>\n      <td>83.123457</td>\n    </tr>\n    <tr>\n      <th>13</th>\n      <td>621e2e8e67b776a24055b564</td>\n      <td>2021-05-24</td>\n      <td>13</td>\n      <td>-2.374545</td>\n      <td>NaN</td>\n      <td>84.94</td>\n      <td>21.2</td>\n      <td>NaN</td>\n      <td>76.593043</td>\n    </tr>\n    <tr>\n      <th>14</th>\n      <td>621e2e8e67b776a24055b564</td>\n      <td>2021-05-24</td>\n      <td>14</td>\n      <td>-3.705128</td>\n      <td>NaN</td>\n      <td>98.31</td>\n      <td>140.6</td>\n      <td>NaN</td>\n      <td>77.917241</td>\n    </tr>\n    <tr>\n      <th>15</th>\n      <td>621e2e8e67b776a24055b564</td>\n      <td>2021-05-24</td>\n      <td>15</td>\n      <td>-2.848211</td>\n      <td>NaN</td>\n      <td>76.81</td>\n      <td>24.2</td>\n      <td>NaN</td>\n      <td>70.281915</td>\n    </tr>\n    <tr>\n      <th>16</th>\n      <td>621e2e8e67b776a24055b564</td>\n      <td>2021-05-24</td>\n      <td>16</td>\n      <td>-2.245295</td>\n      <td>NaN</td>\n      <td>95.84</td>\n      <td>252.1</td>\n      <td>NaN</td>\n      <td>70.42446</td>\n    </tr>\n    <tr>\n      <th>17</th>\n      <td>621e2e8e67b776a24055b564</td>\n      <td>2021-05-24</td>\n      <td>17</td>\n      <td>-2.453961</td>\n      <td>NaN</td>\n      <td>166.05</td>\n      <td>1264.2</td>\n      <td>[Walk]</td>\n      <td>77.679417</td>\n    </tr>\n    <tr>\n      <th>18</th>\n      <td>621e2e8e67b776a24055b564</td>\n      <td>2021-05-24</td>\n      <td>18</td>\n      <td>-5.027795</td>\n      <td>NaN</td>\n      <td>173.49</td>\n      <td>1356.8</td>\n      <td>NaN</td>\n      <td>84.613936</td>\n    </tr>\n    <tr>\n      <th>19</th>\n      <td>621e2e8e67b776a24055b564</td>\n      <td>2021-05-24</td>\n      <td>19</td>\n      <td>-3.633045</td>\n      <td>NaN</td>\n      <td>106.87</td>\n      <td>117.5</td>\n      <td>NaN</td>\n      <td>71.443281</td>\n    </tr>\n  </tbody>\n</table>\n</div>"
     },
     "execution_count": 453,
     "metadata": {},
     "output_type": "execute_result"
    }
   ],
   "source": [
    "df.head(20)"
   ]
  },
  {
   "cell_type": "markdown",
   "metadata": {
    "pycharm": {
     "name": "#%% md\n"
    }
   },
   "source": [
    "### Mindfulness Sessions\n",
    "These data can help us understand if the user conducted an EDA session voluntarily (N=27785)."
   ]
  },
  {
   "cell_type": "code",
   "execution_count": 454,
   "metadata": {
    "pycharm": {
     "name": "#%%\n"
    }
   },
   "outputs": [],
   "source": [
    "def try_parsing_date(text):\n",
    "    for fmt in ('%Y-%m-%dT%H:%M:%S%z', '%Y-%m-%dT%H:%M%z'):\n",
    "        try:\n",
    "            return datetime.strptime(text, fmt)\n",
    "        except ValueError:\n",
    "            pass\n",
    "    raise ValueError('no valid date format found for {}'.format(text))"
   ]
  },
  {
   "cell_type": "code",
   "execution_count": 455,
   "metadata": {
    "pycharm": {
     "name": "#%%\n"
    }
   },
   "outputs": [],
   "source": [
    "users_mindfulness = pd.DataFrame(columns=[\"id\", \"data\"])\n",
    "for user in users:\n",
    "    user_data = pd.DataFrame(list(\n",
    "        db.fitbit.find({\"$and\": [\n",
    "            {\"type\": \"mindfulness_sessions\"},\n",
    "            {\"id\": user}\n",
    "        ]},\n",
    "            {\"id\": 1, \"data.start_date_time\": 1, \"data.session_type\": 1, \"_id\": 0}\n",
    "        )\n",
    "    ))\n",
    "\n",
    "    users_mindfulness = pd.concat([users_mindfulness, user_data], axis=0)\n",
    "\n",
    "# split data column (json format) into two columns\n",
    "users_mindfulness[\"date\"] = users_mindfulness[\"data\"].apply(lambda d: d[\"start_date_time\"])\n",
    "users_mindfulness[\"activityType\"] = users_mindfulness[\"data\"].apply(lambda d: d[\"session_type\"])\n",
    "users_mindfulness.drop([\"data\"], inplace=True, axis=1)\n",
    "\n",
    "# convert timestamp date object and then to datetime64[ns]\n",
    "# users_mindfulness[\"date\"] = pd.to_datetime(users_mindfulness[\"date\"], format='%Y-%m-%dT%H:%M:%S%z')\n",
    "users_mindfulness[\"date\"] = pd.to_datetime(users_mindfulness[\"date\"], infer_datetime_format=True)\n",
    "users_mindfulness[\"hour\"] = users_mindfulness[\"date\"].dt.hour\n",
    "users_mindfulness[\"date\"] = pd.to_datetime(users_mindfulness[\"date\"].dt.date, infer_datetime_format=True)\n",
    "\n",
    "users_mindfulness[\"mindfulness_session\"] = True  # instead of storing the session type, only store if user engaged in session\n",
    "users_mindfulness.drop(['activityType'], axis=1, inplace=True)\n",
    "users_mindfulness = users_mindfulness.drop_duplicates()"
   ]
  },
  {
   "cell_type": "code",
   "execution_count": 456,
   "metadata": {
    "pycharm": {
     "name": "#%%\n"
    }
   },
   "outputs": [
    {
     "data": {
      "text/plain": "                         id       date  hour  mindfulness_session\n0  621e2f1b67b776a240b3d87c 2022-01-01     8                 True\n1  621e2f1b67b776a240b3d87c 2021-12-16    15                 True\n2  621e2f1b67b776a240b3d87c 2021-12-15    17                 True\n3  621e2f1b67b776a240b3d87c 2021-12-02    20                 True\n4  621e2f1b67b776a240b3d87c 2021-11-07     9                 True",
      "text/html": "<div>\n<style scoped>\n    .dataframe tbody tr th:only-of-type {\n        vertical-align: middle;\n    }\n\n    .dataframe tbody tr th {\n        vertical-align: top;\n    }\n\n    .dataframe thead th {\n        text-align: right;\n    }\n</style>\n<table border=\"1\" class=\"dataframe\">\n  <thead>\n    <tr style=\"text-align: right;\">\n      <th></th>\n      <th>id</th>\n      <th>date</th>\n      <th>hour</th>\n      <th>mindfulness_session</th>\n    </tr>\n  </thead>\n  <tbody>\n    <tr>\n      <th>0</th>\n      <td>621e2f1b67b776a240b3d87c</td>\n      <td>2022-01-01</td>\n      <td>8</td>\n      <td>True</td>\n    </tr>\n    <tr>\n      <th>1</th>\n      <td>621e2f1b67b776a240b3d87c</td>\n      <td>2021-12-16</td>\n      <td>15</td>\n      <td>True</td>\n    </tr>\n    <tr>\n      <th>2</th>\n      <td>621e2f1b67b776a240b3d87c</td>\n      <td>2021-12-15</td>\n      <td>17</td>\n      <td>True</td>\n    </tr>\n    <tr>\n      <th>3</th>\n      <td>621e2f1b67b776a240b3d87c</td>\n      <td>2021-12-02</td>\n      <td>20</td>\n      <td>True</td>\n    </tr>\n    <tr>\n      <th>4</th>\n      <td>621e2f1b67b776a240b3d87c</td>\n      <td>2021-11-07</td>\n      <td>9</td>\n      <td>True</td>\n    </tr>\n  </tbody>\n</table>\n</div>"
     },
     "execution_count": 456,
     "metadata": {},
     "output_type": "execute_result"
    }
   ],
   "source": [
    "users_mindfulness.head()"
   ]
  },
  {
   "cell_type": "code",
   "execution_count": 457,
   "metadata": {
    "pycharm": {
     "name": "#%%\n"
    }
   },
   "outputs": [],
   "source": [
    "# merge\n",
    "df = df.merge(users_mindfulness, how='outer', on=['id', 'date', 'hour'])\n",
    "df.mindfulness_session.fillna('False', inplace=True)"
   ]
  },
  {
   "cell_type": "code",
   "execution_count": 458,
   "metadata": {
    "pycharm": {
     "name": "#%%\n"
    }
   },
   "outputs": [
    {
     "data": {
      "text/plain": "                          id       date  hour  temperature badgeType  \\\n0   621e2e8e67b776a24055b564 2021-05-24     0    -1.466659       NaN   \n1   621e2e8e67b776a24055b564 2021-05-24     1     0.210289       NaN   \n2   621e2e8e67b776a24055b564 2021-05-24     2    -1.359378       NaN   \n3   621e2e8e67b776a24055b564 2021-05-24     3    -0.316295       NaN   \n4   621e2e8e67b776a24055b564 2021-05-24     4     0.416455       NaN   \n5   621e2e8e67b776a24055b564 2021-05-24     5    -0.836378       NaN   \n6   621e2e8e67b776a24055b564 2021-05-24     6    -0.677295       NaN   \n7   621e2e8e67b776a24055b564 2021-05-24     7     0.149622       NaN   \n8   621e2e8e67b776a24055b564 2021-05-24     8     0.469372       NaN   \n9   621e2e8e67b776a24055b564 2021-05-24     9    -2.527628       NaN   \n10  621e2e8e67b776a24055b564 2021-05-24    10    -3.444170       NaN   \n11  621e2e8e67b776a24055b564 2021-05-24    11    -3.251776       NaN   \n12  621e2e8e67b776a24055b564 2021-05-24    12    -2.786295       NaN   \n13  621e2e8e67b776a24055b564 2021-05-24    13    -2.374545       NaN   \n14  621e2e8e67b776a24055b564 2021-05-24    14    -3.705128       NaN   \n15  621e2e8e67b776a24055b564 2021-05-24    15    -2.848211       NaN   \n16  621e2e8e67b776a24055b564 2021-05-24    16    -2.245295       NaN   \n17  621e2e8e67b776a24055b564 2021-05-24    17    -2.453961       NaN   \n18  621e2e8e67b776a24055b564 2021-05-24    18    -5.027795       NaN   \n19  621e2e8e67b776a24055b564 2021-05-24    19    -3.633045       NaN   \n\n    calories  distance activityType        bpm mindfulness_session  \n0      89.04      98.3          NaN  66.874763               False  \n1      65.62       0.0          NaN  58.711364               False  \n2      65.40       NaN          NaN  55.133495               False  \n3      69.01      11.0          NaN  60.488613               False  \n4      65.73       0.0          NaN  59.110638               False  \n5      65.40       NaN          NaN  57.481481               False  \n6      70.87      28.8          NaN   59.40202               False  \n7      65.73       0.0          NaN  61.217131               False  \n8      67.48       5.1          NaN  60.842478               False  \n9      75.61       7.3          NaN  73.804527               False  \n10    241.41    1938.9       [Walk]  95.295455               False  \n11    144.45     732.3          NaN  89.730916               False  \n12    108.01     316.6          NaN  83.123457               False  \n13     84.94      21.2          NaN  76.593043               False  \n14     98.31     140.6          NaN  77.917241               False  \n15     76.81      24.2          NaN  70.281915               False  \n16     95.84     252.1          NaN   70.42446               False  \n17    166.05    1264.2       [Walk]  77.679417               False  \n18    173.49    1356.8          NaN  84.613936               False  \n19    106.87     117.5          NaN  71.443281               False  ",
      "text/html": "<div>\n<style scoped>\n    .dataframe tbody tr th:only-of-type {\n        vertical-align: middle;\n    }\n\n    .dataframe tbody tr th {\n        vertical-align: top;\n    }\n\n    .dataframe thead th {\n        text-align: right;\n    }\n</style>\n<table border=\"1\" class=\"dataframe\">\n  <thead>\n    <tr style=\"text-align: right;\">\n      <th></th>\n      <th>id</th>\n      <th>date</th>\n      <th>hour</th>\n      <th>temperature</th>\n      <th>badgeType</th>\n      <th>calories</th>\n      <th>distance</th>\n      <th>activityType</th>\n      <th>bpm</th>\n      <th>mindfulness_session</th>\n    </tr>\n  </thead>\n  <tbody>\n    <tr>\n      <th>0</th>\n      <td>621e2e8e67b776a24055b564</td>\n      <td>2021-05-24</td>\n      <td>0</td>\n      <td>-1.466659</td>\n      <td>NaN</td>\n      <td>89.04</td>\n      <td>98.3</td>\n      <td>NaN</td>\n      <td>66.874763</td>\n      <td>False</td>\n    </tr>\n    <tr>\n      <th>1</th>\n      <td>621e2e8e67b776a24055b564</td>\n      <td>2021-05-24</td>\n      <td>1</td>\n      <td>0.210289</td>\n      <td>NaN</td>\n      <td>65.62</td>\n      <td>0.0</td>\n      <td>NaN</td>\n      <td>58.711364</td>\n      <td>False</td>\n    </tr>\n    <tr>\n      <th>2</th>\n      <td>621e2e8e67b776a24055b564</td>\n      <td>2021-05-24</td>\n      <td>2</td>\n      <td>-1.359378</td>\n      <td>NaN</td>\n      <td>65.40</td>\n      <td>NaN</td>\n      <td>NaN</td>\n      <td>55.133495</td>\n      <td>False</td>\n    </tr>\n    <tr>\n      <th>3</th>\n      <td>621e2e8e67b776a24055b564</td>\n      <td>2021-05-24</td>\n      <td>3</td>\n      <td>-0.316295</td>\n      <td>NaN</td>\n      <td>69.01</td>\n      <td>11.0</td>\n      <td>NaN</td>\n      <td>60.488613</td>\n      <td>False</td>\n    </tr>\n    <tr>\n      <th>4</th>\n      <td>621e2e8e67b776a24055b564</td>\n      <td>2021-05-24</td>\n      <td>4</td>\n      <td>0.416455</td>\n      <td>NaN</td>\n      <td>65.73</td>\n      <td>0.0</td>\n      <td>NaN</td>\n      <td>59.110638</td>\n      <td>False</td>\n    </tr>\n    <tr>\n      <th>5</th>\n      <td>621e2e8e67b776a24055b564</td>\n      <td>2021-05-24</td>\n      <td>5</td>\n      <td>-0.836378</td>\n      <td>NaN</td>\n      <td>65.40</td>\n      <td>NaN</td>\n      <td>NaN</td>\n      <td>57.481481</td>\n      <td>False</td>\n    </tr>\n    <tr>\n      <th>6</th>\n      <td>621e2e8e67b776a24055b564</td>\n      <td>2021-05-24</td>\n      <td>6</td>\n      <td>-0.677295</td>\n      <td>NaN</td>\n      <td>70.87</td>\n      <td>28.8</td>\n      <td>NaN</td>\n      <td>59.40202</td>\n      <td>False</td>\n    </tr>\n    <tr>\n      <th>7</th>\n      <td>621e2e8e67b776a24055b564</td>\n      <td>2021-05-24</td>\n      <td>7</td>\n      <td>0.149622</td>\n      <td>NaN</td>\n      <td>65.73</td>\n      <td>0.0</td>\n      <td>NaN</td>\n      <td>61.217131</td>\n      <td>False</td>\n    </tr>\n    <tr>\n      <th>8</th>\n      <td>621e2e8e67b776a24055b564</td>\n      <td>2021-05-24</td>\n      <td>8</td>\n      <td>0.469372</td>\n      <td>NaN</td>\n      <td>67.48</td>\n      <td>5.1</td>\n      <td>NaN</td>\n      <td>60.842478</td>\n      <td>False</td>\n    </tr>\n    <tr>\n      <th>9</th>\n      <td>621e2e8e67b776a24055b564</td>\n      <td>2021-05-24</td>\n      <td>9</td>\n      <td>-2.527628</td>\n      <td>NaN</td>\n      <td>75.61</td>\n      <td>7.3</td>\n      <td>NaN</td>\n      <td>73.804527</td>\n      <td>False</td>\n    </tr>\n    <tr>\n      <th>10</th>\n      <td>621e2e8e67b776a24055b564</td>\n      <td>2021-05-24</td>\n      <td>10</td>\n      <td>-3.444170</td>\n      <td>NaN</td>\n      <td>241.41</td>\n      <td>1938.9</td>\n      <td>[Walk]</td>\n      <td>95.295455</td>\n      <td>False</td>\n    </tr>\n    <tr>\n      <th>11</th>\n      <td>621e2e8e67b776a24055b564</td>\n      <td>2021-05-24</td>\n      <td>11</td>\n      <td>-3.251776</td>\n      <td>NaN</td>\n      <td>144.45</td>\n      <td>732.3</td>\n      <td>NaN</td>\n      <td>89.730916</td>\n      <td>False</td>\n    </tr>\n    <tr>\n      <th>12</th>\n      <td>621e2e8e67b776a24055b564</td>\n      <td>2021-05-24</td>\n      <td>12</td>\n      <td>-2.786295</td>\n      <td>NaN</td>\n      <td>108.01</td>\n      <td>316.6</td>\n      <td>NaN</td>\n      <td>83.123457</td>\n      <td>False</td>\n    </tr>\n    <tr>\n      <th>13</th>\n      <td>621e2e8e67b776a24055b564</td>\n      <td>2021-05-24</td>\n      <td>13</td>\n      <td>-2.374545</td>\n      <td>NaN</td>\n      <td>84.94</td>\n      <td>21.2</td>\n      <td>NaN</td>\n      <td>76.593043</td>\n      <td>False</td>\n    </tr>\n    <tr>\n      <th>14</th>\n      <td>621e2e8e67b776a24055b564</td>\n      <td>2021-05-24</td>\n      <td>14</td>\n      <td>-3.705128</td>\n      <td>NaN</td>\n      <td>98.31</td>\n      <td>140.6</td>\n      <td>NaN</td>\n      <td>77.917241</td>\n      <td>False</td>\n    </tr>\n    <tr>\n      <th>15</th>\n      <td>621e2e8e67b776a24055b564</td>\n      <td>2021-05-24</td>\n      <td>15</td>\n      <td>-2.848211</td>\n      <td>NaN</td>\n      <td>76.81</td>\n      <td>24.2</td>\n      <td>NaN</td>\n      <td>70.281915</td>\n      <td>False</td>\n    </tr>\n    <tr>\n      <th>16</th>\n      <td>621e2e8e67b776a24055b564</td>\n      <td>2021-05-24</td>\n      <td>16</td>\n      <td>-2.245295</td>\n      <td>NaN</td>\n      <td>95.84</td>\n      <td>252.1</td>\n      <td>NaN</td>\n      <td>70.42446</td>\n      <td>False</td>\n    </tr>\n    <tr>\n      <th>17</th>\n      <td>621e2e8e67b776a24055b564</td>\n      <td>2021-05-24</td>\n      <td>17</td>\n      <td>-2.453961</td>\n      <td>NaN</td>\n      <td>166.05</td>\n      <td>1264.2</td>\n      <td>[Walk]</td>\n      <td>77.679417</td>\n      <td>False</td>\n    </tr>\n    <tr>\n      <th>18</th>\n      <td>621e2e8e67b776a24055b564</td>\n      <td>2021-05-24</td>\n      <td>18</td>\n      <td>-5.027795</td>\n      <td>NaN</td>\n      <td>173.49</td>\n      <td>1356.8</td>\n      <td>NaN</td>\n      <td>84.613936</td>\n      <td>False</td>\n    </tr>\n    <tr>\n      <th>19</th>\n      <td>621e2e8e67b776a24055b564</td>\n      <td>2021-05-24</td>\n      <td>19</td>\n      <td>-3.633045</td>\n      <td>NaN</td>\n      <td>106.87</td>\n      <td>117.5</td>\n      <td>NaN</td>\n      <td>71.443281</td>\n      <td>False</td>\n    </tr>\n  </tbody>\n</table>\n</div>"
     },
     "execution_count": 458,
     "metadata": {},
     "output_type": "execute_result"
    }
   ],
   "source": [
    "df.head(20)"
   ]
  },
  {
   "cell_type": "code",
   "execution_count": 459,
   "metadata": {
    "pycharm": {
     "name": "#%%\n"
    }
   },
   "outputs": [
    {
     "name": "stdout",
     "output_type": "stream",
     "text": [
      "Duplicates based on ID and Date: 0\n",
      "Duplicates based on ID and Date and Value: 0\n"
     ]
    }
   ],
   "source": [
    "# checking for duplicates; if the two values are identical it means that all duplicates (in terms of date and ID) have also equal values.\n",
    "print(\"Duplicates based on ID and Date: {}\".format(df[df.duplicated(subset=['id','date', 'hour'], keep=False)].shape[0]))\n",
    "print(\"Duplicates based on ID and Date and Value: {}\".format(df[df.duplicated(subset=['id','date', 'hour', 'mindfulness_session'], keep=False)].shape[0]))"
   ]
  },
  {
   "cell_type": "markdown",
   "metadata": {
    "pycharm": {
     "name": "#%% md\n"
    }
   },
   "source": [
    "### Mindfulness EDA Data Sessions\n",
    "These entries contain the skin conductance level, which we can get on average for a day (i.e., as an indication of stress)."
   ]
  },
  {
   "cell_type": "code",
   "execution_count": 460,
   "metadata": {
    "pycharm": {
     "name": "#%%\n"
    }
   },
   "outputs": [],
   "source": [
    "users_eda = pd.DataFrame(columns=[\"id\", \"data\"])\n",
    "for user in users:\n",
    "    user_data = pd.DataFrame(list(\n",
    "        db.fitbit.find({\"$and\": [\n",
    "            {\"type\": \"mindfulness_eda_data_sessions\"},\n",
    "            {\"id\": user}\n",
    "        ]},\n",
    "            {\"id\": 1, \"data.timestamp\": 1, \"data.scl_avg\": 1, \"_id\": 0}\n",
    "        )\n",
    "    ))\n",
    "\n",
    "    users_eda = pd.concat([users_eda, user_data], axis=0)\n",
    "\n",
    "# split data column (json format) into two columns\n",
    "users_eda[\"date\"] = users_eda[\"data\"].apply(lambda d: d[\"timestamp\"])\n",
    "users_eda[\"scl_avg\"] = users_eda[\"data\"].apply(lambda d: d[\"scl_avg\"])\n",
    "users_eda.drop([\"data\"], inplace=True, axis=1)\n",
    "\n",
    "users_eda.reset_index(drop=True, inplace=True)\n",
    "# convert timestamp date object and then to datetime64[ns]\n",
    "users_eda[\"date\"] = pd.to_datetime(users_exercise[\"date\"], infer_datetime_format=True)\n",
    "users_eda[\"hour\"] = users_eda[\"date\"].dt.hour\n",
    "users_eda[\"date\"] = pd.to_datetime(users_eda[\"date\"].dt.date, infer_datetime_format=True)\n",
    "# users_eda[\"date\"] = pd.to_datetime(users_eda[\"date\"].swifter.apply(lambda ts: datetime.utcfromtimestamp(ts).strftime('%Y-%m-%d')), format='%Y-%m-%d')"
   ]
  },
  {
   "cell_type": "code",
   "execution_count": 461,
   "metadata": {
    "pycharm": {
     "name": "#%%\n"
    }
   },
   "outputs": [
    {
     "data": {
      "text/plain": "                         id       date    scl_avg  hour\n0  621e2f1b67b776a240b3d87c 2021-05-24   0.000000   0.0\n1  621e2f1b67b776a240b3d87c 2021-05-24   0.000000   0.0\n2  621e2f1b67b776a240b3d87c 2021-05-25   0.000000   0.0\n3  621e2f1b67b776a240b3d87c 2021-05-25  35.823334   0.0\n4  621e2f1b67b776a240b3d87c 2021-05-26  32.682442   0.0",
      "text/html": "<div>\n<style scoped>\n    .dataframe tbody tr th:only-of-type {\n        vertical-align: middle;\n    }\n\n    .dataframe tbody tr th {\n        vertical-align: top;\n    }\n\n    .dataframe thead th {\n        text-align: right;\n    }\n</style>\n<table border=\"1\" class=\"dataframe\">\n  <thead>\n    <tr style=\"text-align: right;\">\n      <th></th>\n      <th>id</th>\n      <th>date</th>\n      <th>scl_avg</th>\n      <th>hour</th>\n    </tr>\n  </thead>\n  <tbody>\n    <tr>\n      <th>0</th>\n      <td>621e2f1b67b776a240b3d87c</td>\n      <td>2021-05-24</td>\n      <td>0.000000</td>\n      <td>0.0</td>\n    </tr>\n    <tr>\n      <th>1</th>\n      <td>621e2f1b67b776a240b3d87c</td>\n      <td>2021-05-24</td>\n      <td>0.000000</td>\n      <td>0.0</td>\n    </tr>\n    <tr>\n      <th>2</th>\n      <td>621e2f1b67b776a240b3d87c</td>\n      <td>2021-05-25</td>\n      <td>0.000000</td>\n      <td>0.0</td>\n    </tr>\n    <tr>\n      <th>3</th>\n      <td>621e2f1b67b776a240b3d87c</td>\n      <td>2021-05-25</td>\n      <td>35.823334</td>\n      <td>0.0</td>\n    </tr>\n    <tr>\n      <th>4</th>\n      <td>621e2f1b67b776a240b3d87c</td>\n      <td>2021-05-26</td>\n      <td>32.682442</td>\n      <td>0.0</td>\n    </tr>\n  </tbody>\n</table>\n</div>"
     },
     "execution_count": 461,
     "metadata": {},
     "output_type": "execute_result"
    }
   ],
   "source": [
    "users_eda.head()"
   ]
  },
  {
   "cell_type": "code",
   "execution_count": 462,
   "metadata": {
    "pycharm": {
     "name": "#%%\n"
    }
   },
   "outputs": [
    {
     "data": {
      "text/plain": "id                 object\ndate       datetime64[ns]\nscl_avg           float64\nhour              float64\ndtype: object"
     },
     "execution_count": 462,
     "metadata": {},
     "output_type": "execute_result"
    }
   ],
   "source": [
    "users_eda.dtypes"
   ]
  },
  {
   "cell_type": "code",
   "execution_count": 463,
   "metadata": {
    "pycharm": {
     "name": "#%%\n"
    }
   },
   "outputs": [],
   "source": [
    "# group by date and then take the average\n",
    "users_eda = users_eda.groupby(['id', 'date', 'hour']).mean()\n",
    "users_eda.reset_index(drop=False, inplace=True)"
   ]
  },
  {
   "cell_type": "code",
   "execution_count": 464,
   "metadata": {
    "pycharm": {
     "name": "#%%\n"
    }
   },
   "outputs": [
    {
     "data": {
      "text/plain": "                         id       date  hour   scl_avg\n0  621e2f1b67b776a240b3d87c 2021-05-24   0.0  3.247339\n1  621e2f1b67b776a240b3d87c 2021-05-25   0.0  5.545613\n2  621e2f1b67b776a240b3d87c 2021-05-26   0.0  7.463163\n3  621e2f1b67b776a240b3d87c 2021-05-27   0.0  6.544056\n4  621e2f1b67b776a240b3d87c 2021-05-28   0.0  5.734121",
      "text/html": "<div>\n<style scoped>\n    .dataframe tbody tr th:only-of-type {\n        vertical-align: middle;\n    }\n\n    .dataframe tbody tr th {\n        vertical-align: top;\n    }\n\n    .dataframe thead th {\n        text-align: right;\n    }\n</style>\n<table border=\"1\" class=\"dataframe\">\n  <thead>\n    <tr style=\"text-align: right;\">\n      <th></th>\n      <th>id</th>\n      <th>date</th>\n      <th>hour</th>\n      <th>scl_avg</th>\n    </tr>\n  </thead>\n  <tbody>\n    <tr>\n      <th>0</th>\n      <td>621e2f1b67b776a240b3d87c</td>\n      <td>2021-05-24</td>\n      <td>0.0</td>\n      <td>3.247339</td>\n    </tr>\n    <tr>\n      <th>1</th>\n      <td>621e2f1b67b776a240b3d87c</td>\n      <td>2021-05-25</td>\n      <td>0.0</td>\n      <td>5.545613</td>\n    </tr>\n    <tr>\n      <th>2</th>\n      <td>621e2f1b67b776a240b3d87c</td>\n      <td>2021-05-26</td>\n      <td>0.0</td>\n      <td>7.463163</td>\n    </tr>\n    <tr>\n      <th>3</th>\n      <td>621e2f1b67b776a240b3d87c</td>\n      <td>2021-05-27</td>\n      <td>0.0</td>\n      <td>6.544056</td>\n    </tr>\n    <tr>\n      <th>4</th>\n      <td>621e2f1b67b776a240b3d87c</td>\n      <td>2021-05-28</td>\n      <td>0.0</td>\n      <td>5.734121</td>\n    </tr>\n  </tbody>\n</table>\n</div>"
     },
     "execution_count": 464,
     "metadata": {},
     "output_type": "execute_result"
    }
   ],
   "source": [
    "users_eda.head()"
   ]
  },
  {
   "cell_type": "code",
   "execution_count": 465,
   "metadata": {
    "pycharm": {
     "name": "#%%\n"
    }
   },
   "outputs": [],
   "source": [
    "# merge\n",
    "df = df.merge(users_eda, how='outer', on=['id', 'date', 'hour'])"
   ]
  },
  {
   "cell_type": "code",
   "execution_count": 466,
   "metadata": {
    "pycharm": {
     "name": "#%%\n"
    }
   },
   "outputs": [
    {
     "data": {
      "text/plain": "                          id       date  hour  temperature badgeType  \\\n0   621e2e8e67b776a24055b564 2021-05-24   0.0    -1.466659       NaN   \n1   621e2e8e67b776a24055b564 2021-05-24   1.0     0.210289       NaN   \n2   621e2e8e67b776a24055b564 2021-05-24   2.0    -1.359378       NaN   \n3   621e2e8e67b776a24055b564 2021-05-24   3.0    -0.316295       NaN   \n4   621e2e8e67b776a24055b564 2021-05-24   4.0     0.416455       NaN   \n5   621e2e8e67b776a24055b564 2021-05-24   5.0    -0.836378       NaN   \n6   621e2e8e67b776a24055b564 2021-05-24   6.0    -0.677295       NaN   \n7   621e2e8e67b776a24055b564 2021-05-24   7.0     0.149622       NaN   \n8   621e2e8e67b776a24055b564 2021-05-24   8.0     0.469372       NaN   \n9   621e2e8e67b776a24055b564 2021-05-24   9.0    -2.527628       NaN   \n10  621e2e8e67b776a24055b564 2021-05-24  10.0    -3.444170       NaN   \n11  621e2e8e67b776a24055b564 2021-05-24  11.0    -3.251776       NaN   \n12  621e2e8e67b776a24055b564 2021-05-24  12.0    -2.786295       NaN   \n13  621e2e8e67b776a24055b564 2021-05-24  13.0    -2.374545       NaN   \n14  621e2e8e67b776a24055b564 2021-05-24  14.0    -3.705128       NaN   \n15  621e2e8e67b776a24055b564 2021-05-24  15.0    -2.848211       NaN   \n16  621e2e8e67b776a24055b564 2021-05-24  16.0    -2.245295       NaN   \n17  621e2e8e67b776a24055b564 2021-05-24  17.0    -2.453961       NaN   \n18  621e2e8e67b776a24055b564 2021-05-24  18.0    -5.027795       NaN   \n19  621e2e8e67b776a24055b564 2021-05-24  19.0    -3.633045       NaN   \n\n    calories  distance activityType        bpm mindfulness_session  scl_avg  \n0      89.04      98.3          NaN  66.874763               False      NaN  \n1      65.62       0.0          NaN  58.711364               False      NaN  \n2      65.40       NaN          NaN  55.133495               False      NaN  \n3      69.01      11.0          NaN  60.488613               False      NaN  \n4      65.73       0.0          NaN  59.110638               False      NaN  \n5      65.40       NaN          NaN  57.481481               False      NaN  \n6      70.87      28.8          NaN   59.40202               False      NaN  \n7      65.73       0.0          NaN  61.217131               False      NaN  \n8      67.48       5.1          NaN  60.842478               False      NaN  \n9      75.61       7.3          NaN  73.804527               False      NaN  \n10    241.41    1938.9       [Walk]  95.295455               False      NaN  \n11    144.45     732.3          NaN  89.730916               False      NaN  \n12    108.01     316.6          NaN  83.123457               False      NaN  \n13     84.94      21.2          NaN  76.593043               False      NaN  \n14     98.31     140.6          NaN  77.917241               False      NaN  \n15     76.81      24.2          NaN  70.281915               False      NaN  \n16     95.84     252.1          NaN   70.42446               False      NaN  \n17    166.05    1264.2       [Walk]  77.679417               False      NaN  \n18    173.49    1356.8          NaN  84.613936               False      NaN  \n19    106.87     117.5          NaN  71.443281               False      NaN  ",
      "text/html": "<div>\n<style scoped>\n    .dataframe tbody tr th:only-of-type {\n        vertical-align: middle;\n    }\n\n    .dataframe tbody tr th {\n        vertical-align: top;\n    }\n\n    .dataframe thead th {\n        text-align: right;\n    }\n</style>\n<table border=\"1\" class=\"dataframe\">\n  <thead>\n    <tr style=\"text-align: right;\">\n      <th></th>\n      <th>id</th>\n      <th>date</th>\n      <th>hour</th>\n      <th>temperature</th>\n      <th>badgeType</th>\n      <th>calories</th>\n      <th>distance</th>\n      <th>activityType</th>\n      <th>bpm</th>\n      <th>mindfulness_session</th>\n      <th>scl_avg</th>\n    </tr>\n  </thead>\n  <tbody>\n    <tr>\n      <th>0</th>\n      <td>621e2e8e67b776a24055b564</td>\n      <td>2021-05-24</td>\n      <td>0.0</td>\n      <td>-1.466659</td>\n      <td>NaN</td>\n      <td>89.04</td>\n      <td>98.3</td>\n      <td>NaN</td>\n      <td>66.874763</td>\n      <td>False</td>\n      <td>NaN</td>\n    </tr>\n    <tr>\n      <th>1</th>\n      <td>621e2e8e67b776a24055b564</td>\n      <td>2021-05-24</td>\n      <td>1.0</td>\n      <td>0.210289</td>\n      <td>NaN</td>\n      <td>65.62</td>\n      <td>0.0</td>\n      <td>NaN</td>\n      <td>58.711364</td>\n      <td>False</td>\n      <td>NaN</td>\n    </tr>\n    <tr>\n      <th>2</th>\n      <td>621e2e8e67b776a24055b564</td>\n      <td>2021-05-24</td>\n      <td>2.0</td>\n      <td>-1.359378</td>\n      <td>NaN</td>\n      <td>65.40</td>\n      <td>NaN</td>\n      <td>NaN</td>\n      <td>55.133495</td>\n      <td>False</td>\n      <td>NaN</td>\n    </tr>\n    <tr>\n      <th>3</th>\n      <td>621e2e8e67b776a24055b564</td>\n      <td>2021-05-24</td>\n      <td>3.0</td>\n      <td>-0.316295</td>\n      <td>NaN</td>\n      <td>69.01</td>\n      <td>11.0</td>\n      <td>NaN</td>\n      <td>60.488613</td>\n      <td>False</td>\n      <td>NaN</td>\n    </tr>\n    <tr>\n      <th>4</th>\n      <td>621e2e8e67b776a24055b564</td>\n      <td>2021-05-24</td>\n      <td>4.0</td>\n      <td>0.416455</td>\n      <td>NaN</td>\n      <td>65.73</td>\n      <td>0.0</td>\n      <td>NaN</td>\n      <td>59.110638</td>\n      <td>False</td>\n      <td>NaN</td>\n    </tr>\n    <tr>\n      <th>5</th>\n      <td>621e2e8e67b776a24055b564</td>\n      <td>2021-05-24</td>\n      <td>5.0</td>\n      <td>-0.836378</td>\n      <td>NaN</td>\n      <td>65.40</td>\n      <td>NaN</td>\n      <td>NaN</td>\n      <td>57.481481</td>\n      <td>False</td>\n      <td>NaN</td>\n    </tr>\n    <tr>\n      <th>6</th>\n      <td>621e2e8e67b776a24055b564</td>\n      <td>2021-05-24</td>\n      <td>6.0</td>\n      <td>-0.677295</td>\n      <td>NaN</td>\n      <td>70.87</td>\n      <td>28.8</td>\n      <td>NaN</td>\n      <td>59.40202</td>\n      <td>False</td>\n      <td>NaN</td>\n    </tr>\n    <tr>\n      <th>7</th>\n      <td>621e2e8e67b776a24055b564</td>\n      <td>2021-05-24</td>\n      <td>7.0</td>\n      <td>0.149622</td>\n      <td>NaN</td>\n      <td>65.73</td>\n      <td>0.0</td>\n      <td>NaN</td>\n      <td>61.217131</td>\n      <td>False</td>\n      <td>NaN</td>\n    </tr>\n    <tr>\n      <th>8</th>\n      <td>621e2e8e67b776a24055b564</td>\n      <td>2021-05-24</td>\n      <td>8.0</td>\n      <td>0.469372</td>\n      <td>NaN</td>\n      <td>67.48</td>\n      <td>5.1</td>\n      <td>NaN</td>\n      <td>60.842478</td>\n      <td>False</td>\n      <td>NaN</td>\n    </tr>\n    <tr>\n      <th>9</th>\n      <td>621e2e8e67b776a24055b564</td>\n      <td>2021-05-24</td>\n      <td>9.0</td>\n      <td>-2.527628</td>\n      <td>NaN</td>\n      <td>75.61</td>\n      <td>7.3</td>\n      <td>NaN</td>\n      <td>73.804527</td>\n      <td>False</td>\n      <td>NaN</td>\n    </tr>\n    <tr>\n      <th>10</th>\n      <td>621e2e8e67b776a24055b564</td>\n      <td>2021-05-24</td>\n      <td>10.0</td>\n      <td>-3.444170</td>\n      <td>NaN</td>\n      <td>241.41</td>\n      <td>1938.9</td>\n      <td>[Walk]</td>\n      <td>95.295455</td>\n      <td>False</td>\n      <td>NaN</td>\n    </tr>\n    <tr>\n      <th>11</th>\n      <td>621e2e8e67b776a24055b564</td>\n      <td>2021-05-24</td>\n      <td>11.0</td>\n      <td>-3.251776</td>\n      <td>NaN</td>\n      <td>144.45</td>\n      <td>732.3</td>\n      <td>NaN</td>\n      <td>89.730916</td>\n      <td>False</td>\n      <td>NaN</td>\n    </tr>\n    <tr>\n      <th>12</th>\n      <td>621e2e8e67b776a24055b564</td>\n      <td>2021-05-24</td>\n      <td>12.0</td>\n      <td>-2.786295</td>\n      <td>NaN</td>\n      <td>108.01</td>\n      <td>316.6</td>\n      <td>NaN</td>\n      <td>83.123457</td>\n      <td>False</td>\n      <td>NaN</td>\n    </tr>\n    <tr>\n      <th>13</th>\n      <td>621e2e8e67b776a24055b564</td>\n      <td>2021-05-24</td>\n      <td>13.0</td>\n      <td>-2.374545</td>\n      <td>NaN</td>\n      <td>84.94</td>\n      <td>21.2</td>\n      <td>NaN</td>\n      <td>76.593043</td>\n      <td>False</td>\n      <td>NaN</td>\n    </tr>\n    <tr>\n      <th>14</th>\n      <td>621e2e8e67b776a24055b564</td>\n      <td>2021-05-24</td>\n      <td>14.0</td>\n      <td>-3.705128</td>\n      <td>NaN</td>\n      <td>98.31</td>\n      <td>140.6</td>\n      <td>NaN</td>\n      <td>77.917241</td>\n      <td>False</td>\n      <td>NaN</td>\n    </tr>\n    <tr>\n      <th>15</th>\n      <td>621e2e8e67b776a24055b564</td>\n      <td>2021-05-24</td>\n      <td>15.0</td>\n      <td>-2.848211</td>\n      <td>NaN</td>\n      <td>76.81</td>\n      <td>24.2</td>\n      <td>NaN</td>\n      <td>70.281915</td>\n      <td>False</td>\n      <td>NaN</td>\n    </tr>\n    <tr>\n      <th>16</th>\n      <td>621e2e8e67b776a24055b564</td>\n      <td>2021-05-24</td>\n      <td>16.0</td>\n      <td>-2.245295</td>\n      <td>NaN</td>\n      <td>95.84</td>\n      <td>252.1</td>\n      <td>NaN</td>\n      <td>70.42446</td>\n      <td>False</td>\n      <td>NaN</td>\n    </tr>\n    <tr>\n      <th>17</th>\n      <td>621e2e8e67b776a24055b564</td>\n      <td>2021-05-24</td>\n      <td>17.0</td>\n      <td>-2.453961</td>\n      <td>NaN</td>\n      <td>166.05</td>\n      <td>1264.2</td>\n      <td>[Walk]</td>\n      <td>77.679417</td>\n      <td>False</td>\n      <td>NaN</td>\n    </tr>\n    <tr>\n      <th>18</th>\n      <td>621e2e8e67b776a24055b564</td>\n      <td>2021-05-24</td>\n      <td>18.0</td>\n      <td>-5.027795</td>\n      <td>NaN</td>\n      <td>173.49</td>\n      <td>1356.8</td>\n      <td>NaN</td>\n      <td>84.613936</td>\n      <td>False</td>\n      <td>NaN</td>\n    </tr>\n    <tr>\n      <th>19</th>\n      <td>621e2e8e67b776a24055b564</td>\n      <td>2021-05-24</td>\n      <td>19.0</td>\n      <td>-3.633045</td>\n      <td>NaN</td>\n      <td>106.87</td>\n      <td>117.5</td>\n      <td>NaN</td>\n      <td>71.443281</td>\n      <td>False</td>\n      <td>NaN</td>\n    </tr>\n  </tbody>\n</table>\n</div>"
     },
     "execution_count": 466,
     "metadata": {},
     "output_type": "execute_result"
    }
   ],
   "source": [
    "df.head(20)"
   ]
  },
  {
   "cell_type": "code",
   "execution_count": 467,
   "metadata": {
    "pycharm": {
     "name": "#%%\n"
    }
   },
   "outputs": [
    {
     "name": "stdout",
     "output_type": "stream",
     "text": [
      "Duplicates based on ID and Date: 0\n",
      "Duplicates based on ID and Date and Value: 0\n"
     ]
    }
   ],
   "source": [
    "# checking for duplicates; if the two values are identical it means that all duplicates (in terms of date and ID) have also equal values.\n",
    "print(\"Duplicates based on ID and Date: {}\".format(df[df.duplicated(subset=['id','date', 'hour'], keep=False)].shape[0]))\n",
    "print(\"Duplicates based on ID and Date and Value: {}\".format(df[df.duplicated(subset=['id','date', 'hour', 'scl_avg'], keep=False)].shape[0]))"
   ]
  },
  {
   "cell_type": "markdown",
   "metadata": {
    "pycharm": {
     "name": "#%% md\n"
    }
   },
   "source": [
    "### Resting Heart Rate\n",
    "A normal resting heart rate for adults ranges from 60 to 100 beats per minute. Generally, a lower heart rate at rest implies more efficient heart function and better cardiovascular fitness. Not applicable at hourly graularity."
   ]
  },
  {
   "cell_type": "markdown",
   "metadata": {
    "pycharm": {
     "name": "#%% md\n"
    }
   },
   "source": [
    "### Sleep\n",
    "Details about a user’s sleep IF they wore their Fitbit to bed. Not directly applicable at hourly granularity at document level (applicably to sub-document level)."
   ]
  },
  {
   "cell_type": "markdown",
   "metadata": {
    "pycharm": {
     "name": "#%% md\n"
    }
   },
   "source": [
    "### Steps\n",
    "Getting steps from pre-computed file."
   ]
  },
  {
   "cell_type": "code",
   "execution_count": 468,
   "metadata": {
    "pycharm": {
     "name": "#%%\n"
    }
   },
   "outputs": [
    {
     "data": {
      "text/plain": "                             id       date  hour  steps\n0      621e2e8e67b776a24055b564 2021-05-24     0    134\n1      621e2e8e67b776a24055b564 2021-05-24     1      0\n2      621e2e8e67b776a24055b564 2021-05-24     3     15\n3      621e2e8e67b776a24055b564 2021-05-24     4      0\n4      621e2e8e67b776a24055b564 2021-05-24     6     39\n...                         ...        ...   ...    ...\n93089  621e375b67b776a240290cdc 2021-08-01    20    243\n93090  621e375b67b776a240290cdc 2021-08-01    21    704\n93091  621e375b67b776a240290cdc 2021-08-01    22    436\n93092  621e375b67b776a240290cdc 2021-08-01    23    205\n93093  621e375b67b776a240290cdc 2021-08-02     0    537\n\n[93094 rows x 4 columns]",
      "text/html": "<div>\n<style scoped>\n    .dataframe tbody tr th:only-of-type {\n        vertical-align: middle;\n    }\n\n    .dataframe tbody tr th {\n        vertical-align: top;\n    }\n\n    .dataframe thead th {\n        text-align: right;\n    }\n</style>\n<table border=\"1\" class=\"dataframe\">\n  <thead>\n    <tr style=\"text-align: right;\">\n      <th></th>\n      <th>id</th>\n      <th>date</th>\n      <th>hour</th>\n      <th>steps</th>\n    </tr>\n  </thead>\n  <tbody>\n    <tr>\n      <th>0</th>\n      <td>621e2e8e67b776a24055b564</td>\n      <td>2021-05-24</td>\n      <td>0</td>\n      <td>134</td>\n    </tr>\n    <tr>\n      <th>1</th>\n      <td>621e2e8e67b776a24055b564</td>\n      <td>2021-05-24</td>\n      <td>1</td>\n      <td>0</td>\n    </tr>\n    <tr>\n      <th>2</th>\n      <td>621e2e8e67b776a24055b564</td>\n      <td>2021-05-24</td>\n      <td>3</td>\n      <td>15</td>\n    </tr>\n    <tr>\n      <th>3</th>\n      <td>621e2e8e67b776a24055b564</td>\n      <td>2021-05-24</td>\n      <td>4</td>\n      <td>0</td>\n    </tr>\n    <tr>\n      <th>4</th>\n      <td>621e2e8e67b776a24055b564</td>\n      <td>2021-05-24</td>\n      <td>6</td>\n      <td>39</td>\n    </tr>\n    <tr>\n      <th>...</th>\n      <td>...</td>\n      <td>...</td>\n      <td>...</td>\n      <td>...</td>\n    </tr>\n    <tr>\n      <th>93089</th>\n      <td>621e375b67b776a240290cdc</td>\n      <td>2021-08-01</td>\n      <td>20</td>\n      <td>243</td>\n    </tr>\n    <tr>\n      <th>93090</th>\n      <td>621e375b67b776a240290cdc</td>\n      <td>2021-08-01</td>\n      <td>21</td>\n      <td>704</td>\n    </tr>\n    <tr>\n      <th>93091</th>\n      <td>621e375b67b776a240290cdc</td>\n      <td>2021-08-01</td>\n      <td>22</td>\n      <td>436</td>\n    </tr>\n    <tr>\n      <th>93092</th>\n      <td>621e375b67b776a240290cdc</td>\n      <td>2021-08-01</td>\n      <td>23</td>\n      <td>205</td>\n    </tr>\n    <tr>\n      <th>93093</th>\n      <td>621e375b67b776a240290cdc</td>\n      <td>2021-08-02</td>\n      <td>0</td>\n      <td>537</td>\n    </tr>\n  </tbody>\n</table>\n<p>93094 rows × 4 columns</p>\n</div>"
     },
     "execution_count": 468,
     "metadata": {},
     "output_type": "execute_result"
    }
   ],
   "source": [
    "# Loading the data of daily user steps\n",
    "if not os.path.exists(\"data/users_steps_hourly.pkl\"):\n",
    "    steps_dataframe = pd.DataFrame(columns=[\"date\", \"hour\", \"steps\", \"id\"])\n",
    "    for user in tqdm(users):\n",
    "        user_dataframe = pd.DataFrame(list(\n",
    "            db.fitbit.find(\n",
    "                {\"type\": \"steps\",\n",
    "                 \"id\": user},\n",
    "                {\"data.dateTime\": 1, \"data.value\": 1, \"id\": 1, \"_id\": 0}\n",
    "            )\n",
    "        ))\n",
    "        user_dataframe['date'] = user_dataframe['data'].swifter.progress_bar(False).apply(lambda d: d['dateTime'])\n",
    "        user_dataframe['steps'] = user_dataframe['data'].swifter.progress_bar(False).apply(lambda d: d['value'])\n",
    "        user_dataframe.drop([\"data\"], inplace=True, axis=1)\n",
    "\n",
    "        # basic preprocessing for steps - transformations\n",
    "        user_dataframe['steps'] = pd.to_numeric(user_dataframe['steps'])  # was string\n",
    "        user_dataframe[\"date\"] = pd.to_datetime(user_dataframe[\"date\"], infer_datetime_format=True)\n",
    "        user_dataframe[\"hour\"] = user_dataframe[\"date\"].dt.hour\n",
    "        user_dataframe[\"date\"] = pd.to_datetime(user_dataframe[\"date\"].dt.date, infer_datetime_format=True)\n",
    "\n",
    "        steps_dataframe = pd.concat([steps_dataframe, user_dataframe], axis=0, ignore_index=True)\n",
    "\n",
    "    # group by date and then take the sum\n",
    "    steps_dataframe = steps_dataframe.groupby(['id', 'date', 'hour']).sum()\n",
    "    steps_dataframe.reset_index(drop=False, inplace=True)\n",
    "    steps_dataframe.to_pickle(\"data/users_steps_hourly.pkl\")\n",
    "\n",
    "infile = open('data/users_steps_hourly.pkl','rb')\n",
    "steps_daily = pickle.load(infile)\n",
    "infile.close()\n",
    "# steps_daily = steps_daily[[\"date\", \"steps\", \"id\"]]\n",
    "steps_daily # year-month-day e.g. 2021-05-24"
   ]
  },
  {
   "cell_type": "code",
   "execution_count": 469,
   "metadata": {
    "pycharm": {
     "name": "#%%\n"
    }
   },
   "outputs": [],
   "source": [
    "# merge\n",
    "df = df.merge(steps_daily, how='outer', on=['id', 'date', 'hour'])"
   ]
  },
  {
   "cell_type": "code",
   "execution_count": 470,
   "metadata": {
    "pycharm": {
     "name": "#%%\n"
    }
   },
   "outputs": [
    {
     "data": {
      "text/plain": "                          id       date  hour  temperature badgeType  \\\n0   621e2e8e67b776a24055b564 2021-05-24   0.0    -1.466659       NaN   \n1   621e2e8e67b776a24055b564 2021-05-24   1.0     0.210289       NaN   \n2   621e2e8e67b776a24055b564 2021-05-24   2.0    -1.359378       NaN   \n3   621e2e8e67b776a24055b564 2021-05-24   3.0    -0.316295       NaN   \n4   621e2e8e67b776a24055b564 2021-05-24   4.0     0.416455       NaN   \n5   621e2e8e67b776a24055b564 2021-05-24   5.0    -0.836378       NaN   \n6   621e2e8e67b776a24055b564 2021-05-24   6.0    -0.677295       NaN   \n7   621e2e8e67b776a24055b564 2021-05-24   7.0     0.149622       NaN   \n8   621e2e8e67b776a24055b564 2021-05-24   8.0     0.469372       NaN   \n9   621e2e8e67b776a24055b564 2021-05-24   9.0    -2.527628       NaN   \n10  621e2e8e67b776a24055b564 2021-05-24  10.0    -3.444170       NaN   \n11  621e2e8e67b776a24055b564 2021-05-24  11.0    -3.251776       NaN   \n12  621e2e8e67b776a24055b564 2021-05-24  12.0    -2.786295       NaN   \n13  621e2e8e67b776a24055b564 2021-05-24  13.0    -2.374545       NaN   \n14  621e2e8e67b776a24055b564 2021-05-24  14.0    -3.705128       NaN   \n15  621e2e8e67b776a24055b564 2021-05-24  15.0    -2.848211       NaN   \n16  621e2e8e67b776a24055b564 2021-05-24  16.0    -2.245295       NaN   \n17  621e2e8e67b776a24055b564 2021-05-24  17.0    -2.453961       NaN   \n18  621e2e8e67b776a24055b564 2021-05-24  18.0    -5.027795       NaN   \n19  621e2e8e67b776a24055b564 2021-05-24  19.0    -3.633045       NaN   \n\n    calories  distance activityType        bpm mindfulness_session  scl_avg  \\\n0      89.04      98.3          NaN  66.874763               False      NaN   \n1      65.62       0.0          NaN  58.711364               False      NaN   \n2      65.40       NaN          NaN  55.133495               False      NaN   \n3      69.01      11.0          NaN  60.488613               False      NaN   \n4      65.73       0.0          NaN  59.110638               False      NaN   \n5      65.40       NaN          NaN  57.481481               False      NaN   \n6      70.87      28.8          NaN   59.40202               False      NaN   \n7      65.73       0.0          NaN  61.217131               False      NaN   \n8      67.48       5.1          NaN  60.842478               False      NaN   \n9      75.61       7.3          NaN  73.804527               False      NaN   \n10    241.41    1938.9       [Walk]  95.295455               False      NaN   \n11    144.45     732.3          NaN  89.730916               False      NaN   \n12    108.01     316.6          NaN  83.123457               False      NaN   \n13     84.94      21.2          NaN  76.593043               False      NaN   \n14     98.31     140.6          NaN  77.917241               False      NaN   \n15     76.81      24.2          NaN  70.281915               False      NaN   \n16     95.84     252.1          NaN   70.42446               False      NaN   \n17    166.05    1264.2       [Walk]  77.679417               False      NaN   \n18    173.49    1356.8          NaN  84.613936               False      NaN   \n19    106.87     117.5          NaN  71.443281               False      NaN   \n\n     steps  \n0    134.0  \n1      0.0  \n2      NaN  \n3     15.0  \n4      0.0  \n5      NaN  \n6     39.0  \n7      0.0  \n8      7.0  \n9     10.0  \n10  2626.0  \n11   992.0  \n12   429.0  \n13    29.0  \n14   191.0  \n15    33.0  \n16   342.0  \n17  1712.0  \n18  1838.0  \n19   160.0  ",
      "text/html": "<div>\n<style scoped>\n    .dataframe tbody tr th:only-of-type {\n        vertical-align: middle;\n    }\n\n    .dataframe tbody tr th {\n        vertical-align: top;\n    }\n\n    .dataframe thead th {\n        text-align: right;\n    }\n</style>\n<table border=\"1\" class=\"dataframe\">\n  <thead>\n    <tr style=\"text-align: right;\">\n      <th></th>\n      <th>id</th>\n      <th>date</th>\n      <th>hour</th>\n      <th>temperature</th>\n      <th>badgeType</th>\n      <th>calories</th>\n      <th>distance</th>\n      <th>activityType</th>\n      <th>bpm</th>\n      <th>mindfulness_session</th>\n      <th>scl_avg</th>\n      <th>steps</th>\n    </tr>\n  </thead>\n  <tbody>\n    <tr>\n      <th>0</th>\n      <td>621e2e8e67b776a24055b564</td>\n      <td>2021-05-24</td>\n      <td>0.0</td>\n      <td>-1.466659</td>\n      <td>NaN</td>\n      <td>89.04</td>\n      <td>98.3</td>\n      <td>NaN</td>\n      <td>66.874763</td>\n      <td>False</td>\n      <td>NaN</td>\n      <td>134.0</td>\n    </tr>\n    <tr>\n      <th>1</th>\n      <td>621e2e8e67b776a24055b564</td>\n      <td>2021-05-24</td>\n      <td>1.0</td>\n      <td>0.210289</td>\n      <td>NaN</td>\n      <td>65.62</td>\n      <td>0.0</td>\n      <td>NaN</td>\n      <td>58.711364</td>\n      <td>False</td>\n      <td>NaN</td>\n      <td>0.0</td>\n    </tr>\n    <tr>\n      <th>2</th>\n      <td>621e2e8e67b776a24055b564</td>\n      <td>2021-05-24</td>\n      <td>2.0</td>\n      <td>-1.359378</td>\n      <td>NaN</td>\n      <td>65.40</td>\n      <td>NaN</td>\n      <td>NaN</td>\n      <td>55.133495</td>\n      <td>False</td>\n      <td>NaN</td>\n      <td>NaN</td>\n    </tr>\n    <tr>\n      <th>3</th>\n      <td>621e2e8e67b776a24055b564</td>\n      <td>2021-05-24</td>\n      <td>3.0</td>\n      <td>-0.316295</td>\n      <td>NaN</td>\n      <td>69.01</td>\n      <td>11.0</td>\n      <td>NaN</td>\n      <td>60.488613</td>\n      <td>False</td>\n      <td>NaN</td>\n      <td>15.0</td>\n    </tr>\n    <tr>\n      <th>4</th>\n      <td>621e2e8e67b776a24055b564</td>\n      <td>2021-05-24</td>\n      <td>4.0</td>\n      <td>0.416455</td>\n      <td>NaN</td>\n      <td>65.73</td>\n      <td>0.0</td>\n      <td>NaN</td>\n      <td>59.110638</td>\n      <td>False</td>\n      <td>NaN</td>\n      <td>0.0</td>\n    </tr>\n    <tr>\n      <th>5</th>\n      <td>621e2e8e67b776a24055b564</td>\n      <td>2021-05-24</td>\n      <td>5.0</td>\n      <td>-0.836378</td>\n      <td>NaN</td>\n      <td>65.40</td>\n      <td>NaN</td>\n      <td>NaN</td>\n      <td>57.481481</td>\n      <td>False</td>\n      <td>NaN</td>\n      <td>NaN</td>\n    </tr>\n    <tr>\n      <th>6</th>\n      <td>621e2e8e67b776a24055b564</td>\n      <td>2021-05-24</td>\n      <td>6.0</td>\n      <td>-0.677295</td>\n      <td>NaN</td>\n      <td>70.87</td>\n      <td>28.8</td>\n      <td>NaN</td>\n      <td>59.40202</td>\n      <td>False</td>\n      <td>NaN</td>\n      <td>39.0</td>\n    </tr>\n    <tr>\n      <th>7</th>\n      <td>621e2e8e67b776a24055b564</td>\n      <td>2021-05-24</td>\n      <td>7.0</td>\n      <td>0.149622</td>\n      <td>NaN</td>\n      <td>65.73</td>\n      <td>0.0</td>\n      <td>NaN</td>\n      <td>61.217131</td>\n      <td>False</td>\n      <td>NaN</td>\n      <td>0.0</td>\n    </tr>\n    <tr>\n      <th>8</th>\n      <td>621e2e8e67b776a24055b564</td>\n      <td>2021-05-24</td>\n      <td>8.0</td>\n      <td>0.469372</td>\n      <td>NaN</td>\n      <td>67.48</td>\n      <td>5.1</td>\n      <td>NaN</td>\n      <td>60.842478</td>\n      <td>False</td>\n      <td>NaN</td>\n      <td>7.0</td>\n    </tr>\n    <tr>\n      <th>9</th>\n      <td>621e2e8e67b776a24055b564</td>\n      <td>2021-05-24</td>\n      <td>9.0</td>\n      <td>-2.527628</td>\n      <td>NaN</td>\n      <td>75.61</td>\n      <td>7.3</td>\n      <td>NaN</td>\n      <td>73.804527</td>\n      <td>False</td>\n      <td>NaN</td>\n      <td>10.0</td>\n    </tr>\n    <tr>\n      <th>10</th>\n      <td>621e2e8e67b776a24055b564</td>\n      <td>2021-05-24</td>\n      <td>10.0</td>\n      <td>-3.444170</td>\n      <td>NaN</td>\n      <td>241.41</td>\n      <td>1938.9</td>\n      <td>[Walk]</td>\n      <td>95.295455</td>\n      <td>False</td>\n      <td>NaN</td>\n      <td>2626.0</td>\n    </tr>\n    <tr>\n      <th>11</th>\n      <td>621e2e8e67b776a24055b564</td>\n      <td>2021-05-24</td>\n      <td>11.0</td>\n      <td>-3.251776</td>\n      <td>NaN</td>\n      <td>144.45</td>\n      <td>732.3</td>\n      <td>NaN</td>\n      <td>89.730916</td>\n      <td>False</td>\n      <td>NaN</td>\n      <td>992.0</td>\n    </tr>\n    <tr>\n      <th>12</th>\n      <td>621e2e8e67b776a24055b564</td>\n      <td>2021-05-24</td>\n      <td>12.0</td>\n      <td>-2.786295</td>\n      <td>NaN</td>\n      <td>108.01</td>\n      <td>316.6</td>\n      <td>NaN</td>\n      <td>83.123457</td>\n      <td>False</td>\n      <td>NaN</td>\n      <td>429.0</td>\n    </tr>\n    <tr>\n      <th>13</th>\n      <td>621e2e8e67b776a24055b564</td>\n      <td>2021-05-24</td>\n      <td>13.0</td>\n      <td>-2.374545</td>\n      <td>NaN</td>\n      <td>84.94</td>\n      <td>21.2</td>\n      <td>NaN</td>\n      <td>76.593043</td>\n      <td>False</td>\n      <td>NaN</td>\n      <td>29.0</td>\n    </tr>\n    <tr>\n      <th>14</th>\n      <td>621e2e8e67b776a24055b564</td>\n      <td>2021-05-24</td>\n      <td>14.0</td>\n      <td>-3.705128</td>\n      <td>NaN</td>\n      <td>98.31</td>\n      <td>140.6</td>\n      <td>NaN</td>\n      <td>77.917241</td>\n      <td>False</td>\n      <td>NaN</td>\n      <td>191.0</td>\n    </tr>\n    <tr>\n      <th>15</th>\n      <td>621e2e8e67b776a24055b564</td>\n      <td>2021-05-24</td>\n      <td>15.0</td>\n      <td>-2.848211</td>\n      <td>NaN</td>\n      <td>76.81</td>\n      <td>24.2</td>\n      <td>NaN</td>\n      <td>70.281915</td>\n      <td>False</td>\n      <td>NaN</td>\n      <td>33.0</td>\n    </tr>\n    <tr>\n      <th>16</th>\n      <td>621e2e8e67b776a24055b564</td>\n      <td>2021-05-24</td>\n      <td>16.0</td>\n      <td>-2.245295</td>\n      <td>NaN</td>\n      <td>95.84</td>\n      <td>252.1</td>\n      <td>NaN</td>\n      <td>70.42446</td>\n      <td>False</td>\n      <td>NaN</td>\n      <td>342.0</td>\n    </tr>\n    <tr>\n      <th>17</th>\n      <td>621e2e8e67b776a24055b564</td>\n      <td>2021-05-24</td>\n      <td>17.0</td>\n      <td>-2.453961</td>\n      <td>NaN</td>\n      <td>166.05</td>\n      <td>1264.2</td>\n      <td>[Walk]</td>\n      <td>77.679417</td>\n      <td>False</td>\n      <td>NaN</td>\n      <td>1712.0</td>\n    </tr>\n    <tr>\n      <th>18</th>\n      <td>621e2e8e67b776a24055b564</td>\n      <td>2021-05-24</td>\n      <td>18.0</td>\n      <td>-5.027795</td>\n      <td>NaN</td>\n      <td>173.49</td>\n      <td>1356.8</td>\n      <td>NaN</td>\n      <td>84.613936</td>\n      <td>False</td>\n      <td>NaN</td>\n      <td>1838.0</td>\n    </tr>\n    <tr>\n      <th>19</th>\n      <td>621e2e8e67b776a24055b564</td>\n      <td>2021-05-24</td>\n      <td>19.0</td>\n      <td>-3.633045</td>\n      <td>NaN</td>\n      <td>106.87</td>\n      <td>117.5</td>\n      <td>NaN</td>\n      <td>71.443281</td>\n      <td>False</td>\n      <td>NaN</td>\n      <td>160.0</td>\n    </tr>\n  </tbody>\n</table>\n</div>"
     },
     "execution_count": 470,
     "metadata": {},
     "output_type": "execute_result"
    }
   ],
   "source": [
    "df.head(20)"
   ]
  },
  {
   "cell_type": "code",
   "execution_count": 471,
   "metadata": {
    "pycharm": {
     "name": "#%%\n"
    }
   },
   "outputs": [
    {
     "name": "stdout",
     "output_type": "stream",
     "text": [
      "Duplicates based on ID and Date: 0\n",
      "Duplicates based on ID and Date and Value: 0\n"
     ]
    }
   ],
   "source": [
    "# checking for duplicates; if the two values are identical it means that all duplicates (in terms of date and ID) have also equal values.\n",
    "print(\"Duplicates based on ID and Date: {}\".format(df[df.duplicated(subset=['id','date', 'hour'], keep=False)].shape[0]))\n",
    "print(\"Duplicates based on ID and Date and Value: {}\".format(df[df.duplicated(subset=['id','date', 'hour', 'steps'], keep=False)].shape[0]))"
   ]
  },
  {
   "cell_type": "code",
   "execution_count": 472,
   "metadata": {
    "pycharm": {
     "name": "#%%\n"
    }
   },
   "outputs": [],
   "source": [
    "# print(\"Size before duplicate elimination: {}\".format(df.shape[0]))\n",
    "# df = df.groupby([\"id\", \"date\", 'hour']).first()\n",
    "# df.reset_index(drop=False, inplace=True)\n",
    "# print(\"Size after duplicate elimination: {}\".format(df.shape[0]))"
   ]
  },
  {
   "cell_type": "code",
   "execution_count": 473,
   "metadata": {
    "pycharm": {
     "name": "#%%\n"
    }
   },
   "outputs": [
    {
     "data": {
      "text/plain": "<AxesSubplot:>"
     },
     "execution_count": 473,
     "metadata": {},
     "output_type": "execute_result"
    },
    {
     "data": {
      "text/plain": "<Figure size 432x288 with 1 Axes>",
      "image/png": "[encoded data removed]"
     },
     "metadata": {},
     "output_type": "display_data"
    }
   ],
   "source": [
    "df.steps.hist()"
   ]
  },
  {
   "cell_type": "markdown",
   "metadata": {
    "pycharm": {
     "name": "#%% md\n"
    }
   },
   "source": [
    "### Time in Heart Rate Zones\n",
    "Minutes below zone, and in zones 1, 2, and 3."
   ]
  },
  {
   "cell_type": "code",
   "execution_count": 474,
   "metadata": {
    "pycharm": {
     "name": "#%%\n"
    }
   },
   "outputs": [],
   "source": [
    "users_time_in_heart_rate_zones = pd.DataFrame(columns=[\"id\", \"data\"])\n",
    "for user in users:\n",
    "    user_data = pd.DataFrame(list(\n",
    "        db.fitbit.find({\"$and\": [\n",
    "            {\"type\": \"time_in_heart_rate_zones\"},\n",
    "            {\"id\": user}\n",
    "        ]},\n",
    "            {\"id\": 1, \"data.dateTime\": 1, \"data.value\": 1, \"_id\": 0}\n",
    "        )\n",
    "    ))\n",
    "\n",
    "    users_time_in_heart_rate_zones = pd.concat([users_time_in_heart_rate_zones, user_data], axis=0)\n",
    "\n",
    "# split data column (json format) into two columns\n",
    "users_time_in_heart_rate_zones[\"date\"] = users_time_in_heart_rate_zones[\"data\"].apply(lambda d: d[\"dateTime\"])\n",
    "users_time_in_heart_rate_zones[\"minutes_in_default_zone_1\"] = users_time_in_heart_rate_zones[\"data\"].apply(lambda d: d[\"value\"].get(\"valuesInZones\").get(\"IN_DEFAULT_ZONE_1\"))\n",
    "users_time_in_heart_rate_zones[\"minutes_below_default_zone_1\"] = users_time_in_heart_rate_zones[\"data\"].apply(lambda d: d[\"value\"].get(\"valuesInZones\").get(\"BELOW_DEFAULT_ZONE_1\"))\n",
    "users_time_in_heart_rate_zones[\"minutes_in_default_zone_2\"] = users_time_in_heart_rate_zones[\"data\"].apply(lambda d: d[\"value\"].get(\"valuesInZones\").get(\"IN_DEFAULT_ZONE_2\"))\n",
    "users_time_in_heart_rate_zones[\"minutes_in_default_zone_3\"] = users_time_in_heart_rate_zones[\"data\"].apply(lambda d: d[\"value\"].get(\"valuesInZones\").get(\"IN_DEFAULT_ZONE_3\"))\n",
    "users_time_in_heart_rate_zones.drop([\"data\"], inplace=True, axis=1)\n",
    "\n",
    "# convert timestamp date object and then to datetime64[ns]\n",
    "users_time_in_heart_rate_zones[\"date\"] = pd.to_datetime(users_time_in_heart_rate_zones[\"date\"], format=\"%m/%d/%y %H:%M:%S\")\n",
    "users_time_in_heart_rate_zones[\"hour\"] = users_time_in_heart_rate_zones[\"date\"].dt.hour\n",
    "users_time_in_heart_rate_zones[\"date\"] = pd.to_datetime(users_time_in_heart_rate_zones[\"date\"].dt.date, infer_datetime_format=True)"
   ]
  },
  {
   "cell_type": "code",
   "execution_count": 475,
   "metadata": {
    "pycharm": {
     "name": "#%%\n"
    }
   },
   "outputs": [
    {
     "data": {
      "text/plain": "                          id       date  minutes_in_default_zone_1  \\\n0   621e2e8e67b776a24055b564 2021-05-26                       85.0   \n1   621e2e8e67b776a24055b564 2021-05-30                       20.0   \n2   621e2e8e67b776a24055b564 2021-06-03                       68.0   \n3   621e2e8e67b776a24055b564 2021-06-07                       61.0   \n4   621e2e8e67b776a24055b564 2021-06-11                       95.0   \n5   621e2e8e67b776a24055b564 2021-06-15                       53.0   \n6   621e2e8e67b776a24055b564 2021-06-19                      116.0   \n7   621e2e8e67b776a24055b564 2021-06-23                       67.0   \n8   621e2e8e67b776a24055b564 2021-06-27                       47.0   \n9   621e2e8e67b776a24055b564 2021-07-01                       42.0   \n10  621e2e8e67b776a24055b564 2021-07-05                       56.0   \n11  621e2e8e67b776a24055b564 2021-07-09                       73.0   \n12  621e2e8e67b776a24055b564 2021-07-13                       66.0   \n13  621e2e8e67b776a24055b564 2021-07-17                       66.0   \n14  621e2e8e67b776a24055b564 2021-07-21                       68.0   \n15  621e2e8e67b776a24055b564 2021-07-25                       47.0   \n16  621e2e8e67b776a24055b564 2021-07-29                      168.0   \n17  621e2e8e67b776a24055b564 2021-05-25                       56.0   \n18  621e2e8e67b776a24055b564 2021-05-29                      428.0   \n19  621e2e8e67b776a24055b564 2021-06-02                       71.0   \n\n    minutes_below_default_zone_1  minutes_in_default_zone_2  \\\n0                         1350.0                        0.0   \n1                         1160.0                        0.0   \n2                         1368.0                        0.0   \n3                         1366.0                        0.0   \n4                         1289.0                        0.0   \n5                         1377.0                        5.0   \n6                         1301.0                        0.0   \n7                         1361.0                        0.0   \n8                         1386.0                        0.0   \n9                         1390.0                        2.0   \n10                        1238.0                        0.0   \n11                        1361.0                        1.0   \n12                        1370.0                        0.0   \n13                        1366.0                        0.0   \n14                        1259.0                        2.0   \n15                        1387.0                        0.0   \n16                        1263.0                        2.0   \n17                        1374.0                        4.0   \n18                         986.0                        2.0   \n19                        1326.0                        0.0   \n\n    minutes_in_default_zone_3  hour  \n0                         0.0     0  \n1                         0.0     0  \n2                         0.0     0  \n3                         0.0     0  \n4                         0.0     0  \n5                         0.0     0  \n6                         0.0     0  \n7                         0.0     0  \n8                         0.0     0  \n9                         0.0     0  \n10                        0.0     0  \n11                        0.0     0  \n12                        0.0     0  \n13                        0.0     0  \n14                        0.0     0  \n15                        0.0     0  \n16                        0.0     0  \n17                        0.0     0  \n18                        0.0     0  \n19                        0.0     0  ",
      "text/html": "<div>\n<style scoped>\n    .dataframe tbody tr th:only-of-type {\n        vertical-align: middle;\n    }\n\n    .dataframe tbody tr th {\n        vertical-align: top;\n    }\n\n    .dataframe thead th {\n        text-align: right;\n    }\n</style>\n<table border=\"1\" class=\"dataframe\">\n  <thead>\n    <tr style=\"text-align: right;\">\n      <th></th>\n      <th>id</th>\n      <th>date</th>\n      <th>minutes_in_default_zone_1</th>\n      <th>minutes_below_default_zone_1</th>\n      <th>minutes_in_default_zone_2</th>\n      <th>minutes_in_default_zone_3</th>\n      <th>hour</th>\n    </tr>\n  </thead>\n  <tbody>\n    <tr>\n      <th>0</th>\n      <td>621e2e8e67b776a24055b564</td>\n      <td>2021-05-26</td>\n      <td>85.0</td>\n      <td>1350.0</td>\n      <td>0.0</td>\n      <td>0.0</td>\n      <td>0</td>\n    </tr>\n    <tr>\n      <th>1</th>\n      <td>621e2e8e67b776a24055b564</td>\n      <td>2021-05-30</td>\n      <td>20.0</td>\n      <td>1160.0</td>\n      <td>0.0</td>\n      <td>0.0</td>\n      <td>0</td>\n    </tr>\n    <tr>\n      <th>2</th>\n      <td>621e2e8e67b776a24055b564</td>\n      <td>2021-06-03</td>\n      <td>68.0</td>\n      <td>1368.0</td>\n      <td>0.0</td>\n      <td>0.0</td>\n      <td>0</td>\n    </tr>\n    <tr>\n      <th>3</th>\n      <td>621e2e8e67b776a24055b564</td>\n      <td>2021-06-07</td>\n      <td>61.0</td>\n      <td>1366.0</td>\n      <td>0.0</td>\n      <td>0.0</td>\n      <td>0</td>\n    </tr>\n    <tr>\n      <th>4</th>\n      <td>621e2e8e67b776a24055b564</td>\n      <td>2021-06-11</td>\n      <td>95.0</td>\n      <td>1289.0</td>\n      <td>0.0</td>\n      <td>0.0</td>\n      <td>0</td>\n    </tr>\n    <tr>\n      <th>5</th>\n      <td>621e2e8e67b776a24055b564</td>\n      <td>2021-06-15</td>\n      <td>53.0</td>\n      <td>1377.0</td>\n      <td>5.0</td>\n      <td>0.0</td>\n      <td>0</td>\n    </tr>\n    <tr>\n      <th>6</th>\n      <td>621e2e8e67b776a24055b564</td>\n      <td>2021-06-19</td>\n      <td>116.0</td>\n      <td>1301.0</td>\n      <td>0.0</td>\n      <td>0.0</td>\n      <td>0</td>\n    </tr>\n    <tr>\n      <th>7</th>\n      <td>621e2e8e67b776a24055b564</td>\n      <td>2021-06-23</td>\n      <td>67.0</td>\n      <td>1361.0</td>\n      <td>0.0</td>\n      <td>0.0</td>\n      <td>0</td>\n    </tr>\n    <tr>\n      <th>8</th>\n      <td>621e2e8e67b776a24055b564</td>\n      <td>2021-06-27</td>\n      <td>47.0</td>\n      <td>1386.0</td>\n      <td>0.0</td>\n      <td>0.0</td>\n      <td>0</td>\n    </tr>\n    <tr>\n      <th>9</th>\n      <td>621e2e8e67b776a24055b564</td>\n      <td>2021-07-01</td>\n      <td>42.0</td>\n      <td>1390.0</td>\n      <td>2.0</td>\n      <td>0.0</td>\n      <td>0</td>\n    </tr>\n    <tr>\n      <th>10</th>\n      <td>621e2e8e67b776a24055b564</td>\n      <td>2021-07-05</td>\n      <td>56.0</td>\n      <td>1238.0</td>\n      <td>0.0</td>\n      <td>0.0</td>\n      <td>0</td>\n    </tr>\n    <tr>\n      <th>11</th>\n      <td>621e2e8e67b776a24055b564</td>\n      <td>2021-07-09</td>\n      <td>73.0</td>\n      <td>1361.0</td>\n      <td>1.0</td>\n      <td>0.0</td>\n      <td>0</td>\n    </tr>\n    <tr>\n      <th>12</th>\n      <td>621e2e8e67b776a24055b564</td>\n      <td>2021-07-13</td>\n      <td>66.0</td>\n      <td>1370.0</td>\n      <td>0.0</td>\n      <td>0.0</td>\n      <td>0</td>\n    </tr>\n    <tr>\n      <th>13</th>\n      <td>621e2e8e67b776a24055b564</td>\n      <td>2021-07-17</td>\n      <td>66.0</td>\n      <td>1366.0</td>\n      <td>0.0</td>\n      <td>0.0</td>\n      <td>0</td>\n    </tr>\n    <tr>\n      <th>14</th>\n      <td>621e2e8e67b776a24055b564</td>\n      <td>2021-07-21</td>\n      <td>68.0</td>\n      <td>1259.0</td>\n      <td>2.0</td>\n      <td>0.0</td>\n      <td>0</td>\n    </tr>\n    <tr>\n      <th>15</th>\n      <td>621e2e8e67b776a24055b564</td>\n      <td>2021-07-25</td>\n      <td>47.0</td>\n      <td>1387.0</td>\n      <td>0.0</td>\n      <td>0.0</td>\n      <td>0</td>\n    </tr>\n    <tr>\n      <th>16</th>\n      <td>621e2e8e67b776a24055b564</td>\n      <td>2021-07-29</td>\n      <td>168.0</td>\n      <td>1263.0</td>\n      <td>2.0</td>\n      <td>0.0</td>\n      <td>0</td>\n    </tr>\n    <tr>\n      <th>17</th>\n      <td>621e2e8e67b776a24055b564</td>\n      <td>2021-05-25</td>\n      <td>56.0</td>\n      <td>1374.0</td>\n      <td>4.0</td>\n      <td>0.0</td>\n      <td>0</td>\n    </tr>\n    <tr>\n      <th>18</th>\n      <td>621e2e8e67b776a24055b564</td>\n      <td>2021-05-29</td>\n      <td>428.0</td>\n      <td>986.0</td>\n      <td>2.0</td>\n      <td>0.0</td>\n      <td>0</td>\n    </tr>\n    <tr>\n      <th>19</th>\n      <td>621e2e8e67b776a24055b564</td>\n      <td>2021-06-02</td>\n      <td>71.0</td>\n      <td>1326.0</td>\n      <td>0.0</td>\n      <td>0.0</td>\n      <td>0</td>\n    </tr>\n  </tbody>\n</table>\n</div>"
     },
     "execution_count": 475,
     "metadata": {},
     "output_type": "execute_result"
    }
   ],
   "source": [
    "users_time_in_heart_rate_zones.head(20)"
   ]
  },
  {
   "cell_type": "code",
   "execution_count": 476,
   "metadata": {
    "pycharm": {
     "name": "#%%\n"
    }
   },
   "outputs": [],
   "source": [
    "# merge\n",
    "df = df.merge(users_time_in_heart_rate_zones, how='outer', on=['id', 'date', 'hour'])"
   ]
  },
  {
   "cell_type": "code",
   "execution_count": 477,
   "metadata": {
    "pycharm": {
     "name": "#%%\n"
    }
   },
   "outputs": [
    {
     "data": {
      "text/plain": "                          id       date  hour  temperature badgeType  \\\n0   621e2e8e67b776a24055b564 2021-05-24   0.0    -1.466659       NaN   \n1   621e2e8e67b776a24055b564 2021-05-24   1.0     0.210289       NaN   \n2   621e2e8e67b776a24055b564 2021-05-24   2.0    -1.359378       NaN   \n3   621e2e8e67b776a24055b564 2021-05-24   3.0    -0.316295       NaN   \n4   621e2e8e67b776a24055b564 2021-05-24   4.0     0.416455       NaN   \n5   621e2e8e67b776a24055b564 2021-05-24   5.0    -0.836378       NaN   \n6   621e2e8e67b776a24055b564 2021-05-24   6.0    -0.677295       NaN   \n7   621e2e8e67b776a24055b564 2021-05-24   7.0     0.149622       NaN   \n8   621e2e8e67b776a24055b564 2021-05-24   8.0     0.469372       NaN   \n9   621e2e8e67b776a24055b564 2021-05-24   9.0    -2.527628       NaN   \n10  621e2e8e67b776a24055b564 2021-05-24  10.0    -3.444170       NaN   \n11  621e2e8e67b776a24055b564 2021-05-24  11.0    -3.251776       NaN   \n12  621e2e8e67b776a24055b564 2021-05-24  12.0    -2.786295       NaN   \n13  621e2e8e67b776a24055b564 2021-05-24  13.0    -2.374545       NaN   \n14  621e2e8e67b776a24055b564 2021-05-24  14.0    -3.705128       NaN   \n15  621e2e8e67b776a24055b564 2021-05-24  15.0    -2.848211       NaN   \n16  621e2e8e67b776a24055b564 2021-05-24  16.0    -2.245295       NaN   \n17  621e2e8e67b776a24055b564 2021-05-24  17.0    -2.453961       NaN   \n18  621e2e8e67b776a24055b564 2021-05-24  18.0    -5.027795       NaN   \n19  621e2e8e67b776a24055b564 2021-05-24  19.0    -3.633045       NaN   \n\n    calories  distance activityType        bpm mindfulness_session  scl_avg  \\\n0      89.04      98.3          NaN  66.874763               False      NaN   \n1      65.62       0.0          NaN  58.711364               False      NaN   \n2      65.40       NaN          NaN  55.133495               False      NaN   \n3      69.01      11.0          NaN  60.488613               False      NaN   \n4      65.73       0.0          NaN  59.110638               False      NaN   \n5      65.40       NaN          NaN  57.481481               False      NaN   \n6      70.87      28.8          NaN   59.40202               False      NaN   \n7      65.73       0.0          NaN  61.217131               False      NaN   \n8      67.48       5.1          NaN  60.842478               False      NaN   \n9      75.61       7.3          NaN  73.804527               False      NaN   \n10    241.41    1938.9       [Walk]  95.295455               False      NaN   \n11    144.45     732.3          NaN  89.730916               False      NaN   \n12    108.01     316.6          NaN  83.123457               False      NaN   \n13     84.94      21.2          NaN  76.593043               False      NaN   \n14     98.31     140.6          NaN  77.917241               False      NaN   \n15     76.81      24.2          NaN  70.281915               False      NaN   \n16     95.84     252.1          NaN   70.42446               False      NaN   \n17    166.05    1264.2       [Walk]  77.679417               False      NaN   \n18    173.49    1356.8          NaN  84.613936               False      NaN   \n19    106.87     117.5          NaN  71.443281               False      NaN   \n\n     steps  minutes_in_default_zone_1  minutes_below_default_zone_1  \\\n0    134.0                       83.0                        1349.0   \n1      0.0                        NaN                           NaN   \n2      NaN                        NaN                           NaN   \n3     15.0                        NaN                           NaN   \n4      0.0                        NaN                           NaN   \n5      NaN                        NaN                           NaN   \n6     39.0                        NaN                           NaN   \n7      0.0                        NaN                           NaN   \n8      7.0                        NaN                           NaN   \n9     10.0                        NaN                           NaN   \n10  2626.0                        NaN                           NaN   \n11   992.0                        NaN                           NaN   \n12   429.0                        NaN                           NaN   \n13    29.0                        NaN                           NaN   \n14   191.0                        NaN                           NaN   \n15    33.0                        NaN                           NaN   \n16   342.0                        NaN                           NaN   \n17  1712.0                        NaN                           NaN   \n18  1838.0                        NaN                           NaN   \n19   160.0                        NaN                           NaN   \n\n    minutes_in_default_zone_2  minutes_in_default_zone_3  \n0                         0.0                        0.0  \n1                         NaN                        NaN  \n2                         NaN                        NaN  \n3                         NaN                        NaN  \n4                         NaN                        NaN  \n5                         NaN                        NaN  \n6                         NaN                        NaN  \n7                         NaN                        NaN  \n8                         NaN                        NaN  \n9                         NaN                        NaN  \n10                        NaN                        NaN  \n11                        NaN                        NaN  \n12                        NaN                        NaN  \n13                        NaN                        NaN  \n14                        NaN                        NaN  \n15                        NaN                        NaN  \n16                        NaN                        NaN  \n17                        NaN                        NaN  \n18                        NaN                        NaN  \n19                        NaN                        NaN  ",
      "text/html": "<div>\n<style scoped>\n    .dataframe tbody tr th:only-of-type {\n        vertical-align: middle;\n    }\n\n    .dataframe tbody tr th {\n        vertical-align: top;\n    }\n\n    .dataframe thead th {\n        text-align: right;\n    }\n</style>\n<table border=\"1\" class=\"dataframe\">\n  <thead>\n    <tr style=\"text-align: right;\">\n      <th></th>\n      <th>id</th>\n      <th>date</th>\n      <th>hour</th>\n      <th>temperature</th>\n      <th>badgeType</th>\n      <th>calories</th>\n      <th>distance</th>\n      <th>activityType</th>\n      <th>bpm</th>\n      <th>mindfulness_session</th>\n      <th>scl_avg</th>\n      <th>steps</th>\n      <th>minutes_in_default_zone_1</th>\n      <th>minutes_below_default_zone_1</th>\n      <th>minutes_in_default_zone_2</th>\n      <th>minutes_in_default_zone_3</th>\n    </tr>\n  </thead>\n  <tbody>\n    <tr>\n      <th>0</th>\n      <td>621e2e8e67b776a24055b564</td>\n      <td>2021-05-24</td>\n      <td>0.0</td>\n      <td>-1.466659</td>\n      <td>NaN</td>\n      <td>89.04</td>\n      <td>98.3</td>\n      <td>NaN</td>\n      <td>66.874763</td>\n      <td>False</td>\n      <td>NaN</td>\n      <td>134.0</td>\n      <td>83.0</td>\n      <td>1349.0</td>\n      <td>0.0</td>\n      <td>0.0</td>\n    </tr>\n    <tr>\n      <th>1</th>\n      <td>621e2e8e67b776a24055b564</td>\n      <td>2021-05-24</td>\n      <td>1.0</td>\n      <td>0.210289</td>\n      <td>NaN</td>\n      <td>65.62</td>\n      <td>0.0</td>\n      <td>NaN</td>\n      <td>58.711364</td>\n      <td>False</td>\n      <td>NaN</td>\n      <td>0.0</td>\n      <td>NaN</td>\n      <td>NaN</td>\n      <td>NaN</td>\n      <td>NaN</td>\n    </tr>\n    <tr>\n      <th>2</th>\n      <td>621e2e8e67b776a24055b564</td>\n      <td>2021-05-24</td>\n      <td>2.0</td>\n      <td>-1.359378</td>\n      <td>NaN</td>\n      <td>65.40</td>\n      <td>NaN</td>\n      <td>NaN</td>\n      <td>55.133495</td>\n      <td>False</td>\n      <td>NaN</td>\n      <td>NaN</td>\n      <td>NaN</td>\n      <td>NaN</td>\n      <td>NaN</td>\n      <td>NaN</td>\n    </tr>\n    <tr>\n      <th>3</th>\n      <td>621e2e8e67b776a24055b564</td>\n      <td>2021-05-24</td>\n      <td>3.0</td>\n      <td>-0.316295</td>\n      <td>NaN</td>\n      <td>69.01</td>\n      <td>11.0</td>\n      <td>NaN</td>\n      <td>60.488613</td>\n      <td>False</td>\n      <td>NaN</td>\n      <td>15.0</td>\n      <td>NaN</td>\n      <td>NaN</td>\n      <td>NaN</td>\n      <td>NaN</td>\n    </tr>\n    <tr>\n      <th>4</th>\n      <td>621e2e8e67b776a24055b564</td>\n      <td>2021-05-24</td>\n      <td>4.0</td>\n      <td>0.416455</td>\n      <td>NaN</td>\n      <td>65.73</td>\n      <td>0.0</td>\n      <td>NaN</td>\n      <td>59.110638</td>\n      <td>False</td>\n      <td>NaN</td>\n      <td>0.0</td>\n      <td>NaN</td>\n      <td>NaN</td>\n      <td>NaN</td>\n      <td>NaN</td>\n    </tr>\n    <tr>\n      <th>5</th>\n      <td>621e2e8e67b776a24055b564</td>\n      <td>2021-05-24</td>\n      <td>5.0</td>\n      <td>-0.836378</td>\n      <td>NaN</td>\n      <td>65.40</td>\n      <td>NaN</td>\n      <td>NaN</td>\n      <td>57.481481</td>\n      <td>False</td>\n      <td>NaN</td>\n      <td>NaN</td>\n      <td>NaN</td>\n      <td>NaN</td>\n      <td>NaN</td>\n      <td>NaN</td>\n    </tr>\n    <tr>\n      <th>6</th>\n      <td>621e2e8e67b776a24055b564</td>\n      <td>2021-05-24</td>\n      <td>6.0</td>\n      <td>-0.677295</td>\n      <td>NaN</td>\n      <td>70.87</td>\n      <td>28.8</td>\n      <td>NaN</td>\n      <td>59.40202</td>\n      <td>False</td>\n      <td>NaN</td>\n      <td>39.0</td>\n      <td>NaN</td>\n      <td>NaN</td>\n      <td>NaN</td>\n      <td>NaN</td>\n    </tr>\n    <tr>\n      <th>7</th>\n      <td>621e2e8e67b776a24055b564</td>\n      <td>2021-05-24</td>\n      <td>7.0</td>\n      <td>0.149622</td>\n      <td>NaN</td>\n      <td>65.73</td>\n      <td>0.0</td>\n      <td>NaN</td>\n      <td>61.217131</td>\n      <td>False</td>\n      <td>NaN</td>\n      <td>0.0</td>\n      <td>NaN</td>\n      <td>NaN</td>\n      <td>NaN</td>\n      <td>NaN</td>\n    </tr>\n    <tr>\n      <th>8</th>\n      <td>621e2e8e67b776a24055b564</td>\n      <td>2021-05-24</td>\n      <td>8.0</td>\n      <td>0.469372</td>\n      <td>NaN</td>\n      <td>67.48</td>\n      <td>5.1</td>\n      <td>NaN</td>\n      <td>60.842478</td>\n      <td>False</td>\n      <td>NaN</td>\n      <td>7.0</td>\n      <td>NaN</td>\n      <td>NaN</td>\n      <td>NaN</td>\n      <td>NaN</td>\n    </tr>\n    <tr>\n      <th>9</th>\n      <td>621e2e8e67b776a24055b564</td>\n      <td>2021-05-24</td>\n      <td>9.0</td>\n      <td>-2.527628</td>\n      <td>NaN</td>\n      <td>75.61</td>\n      <td>7.3</td>\n      <td>NaN</td>\n      <td>73.804527</td>\n      <td>False</td>\n      <td>NaN</td>\n      <td>10.0</td>\n      <td>NaN</td>\n      <td>NaN</td>\n      <td>NaN</td>\n      <td>NaN</td>\n    </tr>\n    <tr>\n      <th>10</th>\n      <td>621e2e8e67b776a24055b564</td>\n      <td>2021-05-24</td>\n      <td>10.0</td>\n      <td>-3.444170</td>\n      <td>NaN</td>\n      <td>241.41</td>\n      <td>1938.9</td>\n      <td>[Walk]</td>\n      <td>95.295455</td>\n      <td>False</td>\n      <td>NaN</td>\n      <td>2626.0</td>\n      <td>NaN</td>\n      <td>NaN</td>\n      <td>NaN</td>\n      <td>NaN</td>\n    </tr>\n    <tr>\n      <th>11</th>\n      <td>621e2e8e67b776a24055b564</td>\n      <td>2021-05-24</td>\n      <td>11.0</td>\n      <td>-3.251776</td>\n      <td>NaN</td>\n      <td>144.45</td>\n      <td>732.3</td>\n      <td>NaN</td>\n      <td>89.730916</td>\n      <td>False</td>\n      <td>NaN</td>\n      <td>992.0</td>\n      <td>NaN</td>\n      <td>NaN</td>\n      <td>NaN</td>\n      <td>NaN</td>\n    </tr>\n    <tr>\n      <th>12</th>\n      <td>621e2e8e67b776a24055b564</td>\n      <td>2021-05-24</td>\n      <td>12.0</td>\n      <td>-2.786295</td>\n      <td>NaN</td>\n      <td>108.01</td>\n      <td>316.6</td>\n      <td>NaN</td>\n      <td>83.123457</td>\n      <td>False</td>\n      <td>NaN</td>\n      <td>429.0</td>\n      <td>NaN</td>\n      <td>NaN</td>\n      <td>NaN</td>\n      <td>NaN</td>\n    </tr>\n    <tr>\n      <th>13</th>\n      <td>621e2e8e67b776a24055b564</td>\n      <td>2021-05-24</td>\n      <td>13.0</td>\n      <td>-2.374545</td>\n      <td>NaN</td>\n      <td>84.94</td>\n      <td>21.2</td>\n      <td>NaN</td>\n      <td>76.593043</td>\n      <td>False</td>\n      <td>NaN</td>\n      <td>29.0</td>\n      <td>NaN</td>\n      <td>NaN</td>\n      <td>NaN</td>\n      <td>NaN</td>\n    </tr>\n    <tr>\n      <th>14</th>\n      <td>621e2e8e67b776a24055b564</td>\n      <td>2021-05-24</td>\n      <td>14.0</td>\n      <td>-3.705128</td>\n      <td>NaN</td>\n      <td>98.31</td>\n      <td>140.6</td>\n      <td>NaN</td>\n      <td>77.917241</td>\n      <td>False</td>\n      <td>NaN</td>\n      <td>191.0</td>\n      <td>NaN</td>\n      <td>NaN</td>\n      <td>NaN</td>\n      <td>NaN</td>\n    </tr>\n    <tr>\n      <th>15</th>\n      <td>621e2e8e67b776a24055b564</td>\n      <td>2021-05-24</td>\n      <td>15.0</td>\n      <td>-2.848211</td>\n      <td>NaN</td>\n      <td>76.81</td>\n      <td>24.2</td>\n      <td>NaN</td>\n      <td>70.281915</td>\n      <td>False</td>\n      <td>NaN</td>\n      <td>33.0</td>\n      <td>NaN</td>\n      <td>NaN</td>\n      <td>NaN</td>\n      <td>NaN</td>\n    </tr>\n    <tr>\n      <th>16</th>\n      <td>621e2e8e67b776a24055b564</td>\n      <td>2021-05-24</td>\n      <td>16.0</td>\n      <td>-2.245295</td>\n      <td>NaN</td>\n      <td>95.84</td>\n      <td>252.1</td>\n      <td>NaN</td>\n      <td>70.42446</td>\n      <td>False</td>\n      <td>NaN</td>\n      <td>342.0</td>\n      <td>NaN</td>\n      <td>NaN</td>\n      <td>NaN</td>\n      <td>NaN</td>\n    </tr>\n    <tr>\n      <th>17</th>\n      <td>621e2e8e67b776a24055b564</td>\n      <td>2021-05-24</td>\n      <td>17.0</td>\n      <td>-2.453961</td>\n      <td>NaN</td>\n      <td>166.05</td>\n      <td>1264.2</td>\n      <td>[Walk]</td>\n      <td>77.679417</td>\n      <td>False</td>\n      <td>NaN</td>\n      <td>1712.0</td>\n      <td>NaN</td>\n      <td>NaN</td>\n      <td>NaN</td>\n      <td>NaN</td>\n    </tr>\n    <tr>\n      <th>18</th>\n      <td>621e2e8e67b776a24055b564</td>\n      <td>2021-05-24</td>\n      <td>18.0</td>\n      <td>-5.027795</td>\n      <td>NaN</td>\n      <td>173.49</td>\n      <td>1356.8</td>\n      <td>NaN</td>\n      <td>84.613936</td>\n      <td>False</td>\n      <td>NaN</td>\n      <td>1838.0</td>\n      <td>NaN</td>\n      <td>NaN</td>\n      <td>NaN</td>\n      <td>NaN</td>\n    </tr>\n    <tr>\n      <th>19</th>\n      <td>621e2e8e67b776a24055b564</td>\n      <td>2021-05-24</td>\n      <td>19.0</td>\n      <td>-3.633045</td>\n      <td>NaN</td>\n      <td>106.87</td>\n      <td>117.5</td>\n      <td>NaN</td>\n      <td>71.443281</td>\n      <td>False</td>\n      <td>NaN</td>\n      <td>160.0</td>\n      <td>NaN</td>\n      <td>NaN</td>\n      <td>NaN</td>\n      <td>NaN</td>\n    </tr>\n  </tbody>\n</table>\n</div>"
     },
     "execution_count": 477,
     "metadata": {},
     "output_type": "execute_result"
    }
   ],
   "source": [
    "df.head(20)"
   ]
  },
  {
   "cell_type": "code",
   "execution_count": 478,
   "metadata": {
    "pycharm": {
     "name": "#%%\n"
    }
   },
   "outputs": [
    {
     "name": "stdout",
     "output_type": "stream",
     "text": [
      "Duplicates based on ID and Date: 136\n",
      "Duplicates based on ID and Date and Value: 134\n"
     ]
    }
   ],
   "source": [
    "# checking for duplicates; if the two values are identical it means that all duplicates (in terms of date and ID) have also equal values.\n",
    "print(\"Duplicates based on ID and Date: {}\".format(df[df.duplicated(subset=['id','date', 'hour'], keep=False)].shape[0]))\n",
    "print(\"Duplicates based on ID and Date and Value: {}\".format(df[df.duplicated(subset=['id','date', 'hour', 'minutes_below_default_zone_1'], keep=False)].shape[0]))"
   ]
  },
  {
   "cell_type": "code",
   "execution_count": 479,
   "metadata": {
    "pycharm": {
     "name": "#%%\n"
    }
   },
   "outputs": [
    {
     "data": {
      "text/plain": "<AxesSubplot:>"
     },
     "execution_count": 479,
     "metadata": {},
     "output_type": "execute_result"
    },
    {
     "data": {
      "text/plain": "<Figure size 432x288 with 1 Axes>",
      "image/png": "[encoded data removed]"
     },
     "metadata": {},
     "output_type": "display_data"
    }
   ],
   "source": [
    "df['minutes_below_default_zone_1'].hist()"
   ]
  },
  {
   "cell_type": "code",
   "execution_count": 480,
   "metadata": {
    "pycharm": {
     "name": "#%%\n"
    }
   },
   "outputs": [
    {
     "data": {
      "text/plain": "<AxesSubplot:>"
     },
     "execution_count": 480,
     "metadata": {},
     "output_type": "execute_result"
    },
    {
     "data": {
      "text/plain": "<Figure size 432x288 with 1 Axes>",
      "image/png": "[encoded data removed]"
     },
     "metadata": {},
     "output_type": "display_data"
    }
   ],
   "source": [
    "df['minutes_in_default_zone_1'].hist()"
   ]
  },
  {
   "cell_type": "code",
   "execution_count": 481,
   "metadata": {
    "pycharm": {
     "name": "#%%\n"
    }
   },
   "outputs": [
    {
     "data": {
      "text/plain": "<AxesSubplot:>"
     },
     "execution_count": 481,
     "metadata": {},
     "output_type": "execute_result"
    },
    {
     "data": {
      "text/plain": "<Figure size 432x288 with 1 Axes>",
      "image/png": "[encoded data removed]"
     },
     "metadata": {},
     "output_type": "display_data"
    }
   ],
   "source": [
    "df['minutes_in_default_zone_2'].hist()"
   ]
  },
  {
   "cell_type": "code",
   "execution_count": 482,
   "metadata": {
    "pycharm": {
     "name": "#%%\n"
    }
   },
   "outputs": [
    {
     "data": {
      "text/plain": "<AxesSubplot:>"
     },
     "execution_count": 482,
     "metadata": {},
     "output_type": "execute_result"
    },
    {
     "data": {
      "text/plain": "<Figure size 432x288 with 1 Axes>",
      "image/png": "[encoded data removed]"
     },
     "metadata": {},
     "output_type": "display_data"
    }
   ],
   "source": [
    "df['minutes_in_default_zone_3'].hist()"
   ]
  },
  {
   "cell_type": "markdown",
   "metadata": {
    "pycharm": {
     "name": "#%% md\n"
    }
   },
   "source": [
    "### Profile\n",
    "Demographic Information about the user (N=70)."
   ]
  },
  {
   "cell_type": "code",
   "execution_count": 483,
   "metadata": {
    "pycharm": {
     "name": "#%%\n"
    }
   },
   "outputs": [],
   "source": [
    "def get_age(date_of_birth):\n",
    "    today = date.today()\n",
    "    return today.year - date_of_birth.year - ((today.month, today.day) < (date_of_birth.month, date_of_birth.day))"
   ]
  },
  {
   "cell_type": "code",
   "execution_count": 484,
   "metadata": {
    "pycharm": {
     "name": "#%%\n"
    }
   },
   "outputs": [
    {
     "data": {
      "text/plain": "                          id   age  gender   bmi\n0   621e2e8e67b776a24055b564   <30    MALE   <19\n0   621e2eaf67b776a2406b14ac  >=30  FEMALE   <19\n0   621e2ed667b776a24085d8d1   <30  FEMALE  23.0\n0   621e2ef567b776a24099f889   <30    MALE  28.0\n0   621e2efa67b776a2409dd1c3   <30  FEMALE  21.0\n..                       ...   ...     ...   ...\n0   621e36c267b776a240ba2756   <30    MALE  20.0\n0   621e36dd67b776a240ce9a45  >=30    MALE  24.0\n0   621e36f967b776a240e5e7c9   <30  FEMALE  >=25\n0   621e375367b776a24021e950   <30    MALE  28.0\n0   621e375b67b776a240290cdc   <30  FEMALE  23.0\n\n[69 rows x 4 columns]",
      "text/html": "<div>\n<style scoped>\n    .dataframe tbody tr th:only-of-type {\n        vertical-align: middle;\n    }\n\n    .dataframe tbody tr th {\n        vertical-align: top;\n    }\n\n    .dataframe thead th {\n        text-align: right;\n    }\n</style>\n<table border=\"1\" class=\"dataframe\">\n  <thead>\n    <tr style=\"text-align: right;\">\n      <th></th>\n      <th>id</th>\n      <th>age</th>\n      <th>gender</th>\n      <th>bmi</th>\n    </tr>\n  </thead>\n  <tbody>\n    <tr>\n      <th>0</th>\n      <td>621e2e8e67b776a24055b564</td>\n      <td>&lt;30</td>\n      <td>MALE</td>\n      <td>&lt;19</td>\n    </tr>\n    <tr>\n      <th>0</th>\n      <td>621e2eaf67b776a2406b14ac</td>\n      <td>&gt;=30</td>\n      <td>FEMALE</td>\n      <td>&lt;19</td>\n    </tr>\n    <tr>\n      <th>0</th>\n      <td>621e2ed667b776a24085d8d1</td>\n      <td>&lt;30</td>\n      <td>FEMALE</td>\n      <td>23.0</td>\n    </tr>\n    <tr>\n      <th>0</th>\n      <td>621e2ef567b776a24099f889</td>\n      <td>&lt;30</td>\n      <td>MALE</td>\n      <td>28.0</td>\n    </tr>\n    <tr>\n      <th>0</th>\n      <td>621e2efa67b776a2409dd1c3</td>\n      <td>&lt;30</td>\n      <td>FEMALE</td>\n      <td>21.0</td>\n    </tr>\n    <tr>\n      <th>...</th>\n      <td>...</td>\n      <td>...</td>\n      <td>...</td>\n      <td>...</td>\n    </tr>\n    <tr>\n      <th>0</th>\n      <td>621e36c267b776a240ba2756</td>\n      <td>&lt;30</td>\n      <td>MALE</td>\n      <td>20.0</td>\n    </tr>\n    <tr>\n      <th>0</th>\n      <td>621e36dd67b776a240ce9a45</td>\n      <td>&gt;=30</td>\n      <td>MALE</td>\n      <td>24.0</td>\n    </tr>\n    <tr>\n      <th>0</th>\n      <td>621e36f967b776a240e5e7c9</td>\n      <td>&lt;30</td>\n      <td>FEMALE</td>\n      <td>&gt;=25</td>\n    </tr>\n    <tr>\n      <th>0</th>\n      <td>621e375367b776a24021e950</td>\n      <td>&lt;30</td>\n      <td>MALE</td>\n      <td>28.0</td>\n    </tr>\n    <tr>\n      <th>0</th>\n      <td>621e375b67b776a240290cdc</td>\n      <td>&lt;30</td>\n      <td>FEMALE</td>\n      <td>23.0</td>\n    </tr>\n  </tbody>\n</table>\n<p>69 rows × 4 columns</p>\n</div>"
     },
     "execution_count": 484,
     "metadata": {},
     "output_type": "execute_result"
    }
   ],
   "source": [
    "users_profiles = pd.DataFrame(columns=[\"id\", \"data\"])\n",
    "for user in users:\n",
    "    user_data = pd.DataFrame(list(\n",
    "        db.fitbit.find({\"$and\": [\n",
    "            {\"type\": \"Profile\"},\n",
    "            {\"id\": user}\n",
    "        ]},\n",
    "            # {\"id\": 1, \"data.date_of_birth\": 1, \"data.gender\": 1, \"data.height\": 1, \"data.weight\": 1,  \"_id\": 0}\n",
    "            {\"id\": 1, \"data.age\": 1, \"data.gender\": 1, \"data.bmi\": 1,  \"_id\": 0}\n",
    "        )\n",
    "    ))\n",
    "\n",
    "    users_profiles = pd.concat([users_profiles, user_data], axis=0)\n",
    "\n",
    "# users_profiles[\"age\"] = users_profiles[\"data\"].apply(lambda d: d[\"date_of_birth\"])\n",
    "# users_profiles[\"age\"] = pd.to_datetime(users_profiles[\"age\"], format=\"%Y/%m/%d\")\n",
    "# users_profiles[\"age\"] = users_profiles[\"age\"].apply(lambda d: get_age(d))\n",
    "# users_profiles[\"height\"] = users_profiles[\"data\"].apply(lambda d: d[\"height\"])\n",
    "# users_profiles[\"weight\"] = users_profiles[\"data\"].apply(lambda d: d[\"weight\"])\n",
    "# users_profiles[\"gender\"] = users_profiles[\"data\"].apply(lambda d: d[\"gender\"])\n",
    "\n",
    "\n",
    "users_profiles[\"age\"] = users_profiles[\"data\"].apply(lambda d: d[\"age\"] if \"age\" in d else np.NaN)\n",
    "users_profiles[\"gender\"] = users_profiles[\"data\"].apply(lambda d: d[\"gender\"] if \"gender\" in d else np.NaN)\n",
    "users_profiles[\"bmi\"] = users_profiles[\"data\"].apply(lambda d: d[\"bmi\"] if \"bmi\" in d else np.NaN)\n",
    "\n",
    "users_profiles.drop(['data'], axis=1, inplace=True)\n",
    "users_profiles.head(70)"
   ]
  },
  {
   "cell_type": "code",
   "execution_count": 485,
   "metadata": {
    "pycharm": {
     "name": "#%%\n"
    }
   },
   "outputs": [],
   "source": [
    "# merge\n",
    "df = df.merge(users_profiles, how='left', on=['id'])"
   ]
  },
  {
   "cell_type": "code",
   "execution_count": 486,
   "metadata": {
    "pycharm": {
     "name": "#%%\n"
    }
   },
   "outputs": [
    {
     "data": {
      "text/plain": "                          id       date  hour  temperature badgeType  \\\n0   621e2e8e67b776a24055b564 2021-05-24   0.0    -1.466659       NaN   \n1   621e2e8e67b776a24055b564 2021-05-24   1.0     0.210289       NaN   \n2   621e2e8e67b776a24055b564 2021-05-24   2.0    -1.359378       NaN   \n3   621e2e8e67b776a24055b564 2021-05-24   3.0    -0.316295       NaN   \n4   621e2e8e67b776a24055b564 2021-05-24   4.0     0.416455       NaN   \n..                       ...        ...   ...          ...       ...   \n95  621e2e8e67b776a24055b564 2021-05-27  23.0    -1.128095       NaN   \n96  621e2e8e67b776a24055b564 2021-05-28   0.0    -0.492911       NaN   \n97  621e2e8e67b776a24055b564 2021-05-28   1.0     0.916755       NaN   \n98  621e2e8e67b776a24055b564 2021-05-28   2.0    -0.157328       NaN   \n99  621e2e8e67b776a24055b564 2021-05-28   3.0     0.190339       NaN   \n\n    calories  distance activityType        bpm mindfulness_session  scl_avg  \\\n0      89.04      98.3          NaN  66.874763               False      NaN   \n1      65.62       0.0          NaN  58.711364               False      NaN   \n2      65.40       NaN          NaN  55.133495               False      NaN   \n3      69.01      11.0          NaN  60.488613               False      NaN   \n4      65.73       0.0          NaN  59.110638               False      NaN   \n..       ...       ...          ...        ...                 ...      ...   \n95     67.26       5.9          NaN  65.607143               False      NaN   \n96     65.73       0.0          NaN  59.741525               False      NaN   \n97     65.62       0.0          NaN  65.536364               False      NaN   \n98     65.84       0.0          NaN  55.979499               False      NaN   \n99     67.92       9.6          NaN  56.059603               False      NaN   \n\n    steps  minutes_in_default_zone_1  minutes_below_default_zone_1  \\\n0   134.0                       83.0                        1349.0   \n1     0.0                        NaN                           NaN   \n2     NaN                        NaN                           NaN   \n3    15.0                        NaN                           NaN   \n4     0.0                        NaN                           NaN   \n..    ...                        ...                           ...   \n95    8.0                        NaN                           NaN   \n96    0.0                      146.0                        1274.0   \n97    0.0                        NaN                           NaN   \n98    0.0                        NaN                           NaN   \n99   13.0                        NaN                           NaN   \n\n    minutes_in_default_zone_2  minutes_in_default_zone_3  age gender  bmi  \n0                         0.0                        0.0  <30   MALE  <19  \n1                         NaN                        NaN  <30   MALE  <19  \n2                         NaN                        NaN  <30   MALE  <19  \n3                         NaN                        NaN  <30   MALE  <19  \n4                         NaN                        NaN  <30   MALE  <19  \n..                        ...                        ...  ...    ...  ...  \n95                        NaN                        NaN  <30   MALE  <19  \n96                        4.0                        0.0  <30   MALE  <19  \n97                        NaN                        NaN  <30   MALE  <19  \n98                        NaN                        NaN  <30   MALE  <19  \n99                        NaN                        NaN  <30   MALE  <19  \n\n[100 rows x 19 columns]",
      "text/html": "<div>\n<style scoped>\n    .dataframe tbody tr th:only-of-type {\n        vertical-align: middle;\n    }\n\n    .dataframe tbody tr th {\n        vertical-align: top;\n    }\n\n    .dataframe thead th {\n        text-align: right;\n    }\n</style>\n<table border=\"1\" class=\"dataframe\">\n  <thead>\n    <tr style=\"text-align: right;\">\n      <th></th>\n      <th>id</th>\n      <th>date</th>\n      <th>hour</th>\n      <th>temperature</th>\n      <th>badgeType</th>\n      <th>calories</th>\n      <th>distance</th>\n      <th>activityType</th>\n      <th>bpm</th>\n      <th>mindfulness_session</th>\n      <th>scl_avg</th>\n      <th>steps</th>\n      <th>minutes_in_default_zone_1</th>\n      <th>minutes_below_default_zone_1</th>\n      <th>minutes_in_default_zone_2</th>\n      <th>minutes_in_default_zone_3</th>\n      <th>age</th>\n      <th>gender</th>\n      <th>bmi</th>\n    </tr>\n  </thead>\n  <tbody>\n    <tr>\n      <th>0</th>\n      <td>621e2e8e67b776a24055b564</td>\n      <td>2021-05-24</td>\n      <td>0.0</td>\n      <td>-1.466659</td>\n      <td>NaN</td>\n      <td>89.04</td>\n      <td>98.3</td>\n      <td>NaN</td>\n      <td>66.874763</td>\n      <td>False</td>\n      <td>NaN</td>\n      <td>134.0</td>\n      <td>83.0</td>\n      <td>1349.0</td>\n      <td>0.0</td>\n      <td>0.0</td>\n      <td>&lt;30</td>\n      <td>MALE</td>\n      <td>&lt;19</td>\n    </tr>\n    <tr>\n      <th>1</th>\n      <td>621e2e8e67b776a24055b564</td>\n      <td>2021-05-24</td>\n      <td>1.0</td>\n      <td>0.210289</td>\n      <td>NaN</td>\n      <td>65.62</td>\n      <td>0.0</td>\n      <td>NaN</td>\n      <td>58.711364</td>\n      <td>False</td>\n      <td>NaN</td>\n      <td>0.0</td>\n      <td>NaN</td>\n      <td>NaN</td>\n      <td>NaN</td>\n      <td>NaN</td>\n      <td>&lt;30</td>\n      <td>MALE</td>\n      <td>&lt;19</td>\n    </tr>\n    <tr>\n      <th>2</th>\n      <td>621e2e8e67b776a24055b564</td>\n      <td>2021-05-24</td>\n      <td>2.0</td>\n      <td>-1.359378</td>\n      <td>NaN</td>\n      <td>65.40</td>\n      <td>NaN</td>\n      <td>NaN</td>\n      <td>55.133495</td>\n      <td>False</td>\n      <td>NaN</td>\n      <td>NaN</td>\n      <td>NaN</td>\n      <td>NaN</td>\n      <td>NaN</td>\n      <td>NaN</td>\n      <td>&lt;30</td>\n      <td>MALE</td>\n      <td>&lt;19</td>\n    </tr>\n    <tr>\n      <th>3</th>\n      <td>621e2e8e67b776a24055b564</td>\n      <td>2021-05-24</td>\n      <td>3.0</td>\n      <td>-0.316295</td>\n      <td>NaN</td>\n      <td>69.01</td>\n      <td>11.0</td>\n      <td>NaN</td>\n      <td>60.488613</td>\n      <td>False</td>\n      <td>NaN</td>\n      <td>15.0</td>\n      <td>NaN</td>\n      <td>NaN</td>\n      <td>NaN</td>\n      <td>NaN</td>\n      <td>&lt;30</td>\n      <td>MALE</td>\n      <td>&lt;19</td>\n    </tr>\n    <tr>\n      <th>4</th>\n      <td>621e2e8e67b776a24055b564</td>\n      <td>2021-05-24</td>\n      <td>4.0</td>\n      <td>0.416455</td>\n      <td>NaN</td>\n      <td>65.73</td>\n      <td>0.0</td>\n      <td>NaN</td>\n      <td>59.110638</td>\n      <td>False</td>\n      <td>NaN</td>\n      <td>0.0</td>\n      <td>NaN</td>\n      <td>NaN</td>\n      <td>NaN</td>\n      <td>NaN</td>\n      <td>&lt;30</td>\n      <td>MALE</td>\n      <td>&lt;19</td>\n    </tr>\n    <tr>\n      <th>...</th>\n      <td>...</td>\n      <td>...</td>\n      <td>...</td>\n      <td>...</td>\n      <td>...</td>\n      <td>...</td>\n      <td>...</td>\n      <td>...</td>\n      <td>...</td>\n      <td>...</td>\n      <td>...</td>\n      <td>...</td>\n      <td>...</td>\n      <td>...</td>\n      <td>...</td>\n      <td>...</td>\n      <td>...</td>\n      <td>...</td>\n      <td>...</td>\n    </tr>\n    <tr>\n      <th>95</th>\n      <td>621e2e8e67b776a24055b564</td>\n      <td>2021-05-27</td>\n      <td>23.0</td>\n      <td>-1.128095</td>\n      <td>NaN</td>\n      <td>67.26</td>\n      <td>5.9</td>\n      <td>NaN</td>\n      <td>65.607143</td>\n      <td>False</td>\n      <td>NaN</td>\n      <td>8.0</td>\n      <td>NaN</td>\n      <td>NaN</td>\n      <td>NaN</td>\n      <td>NaN</td>\n      <td>&lt;30</td>\n      <td>MALE</td>\n      <td>&lt;19</td>\n    </tr>\n    <tr>\n      <th>96</th>\n      <td>621e2e8e67b776a24055b564</td>\n      <td>2021-05-28</td>\n      <td>0.0</td>\n      <td>-0.492911</td>\n      <td>NaN</td>\n      <td>65.73</td>\n      <td>0.0</td>\n      <td>NaN</td>\n      <td>59.741525</td>\n      <td>False</td>\n      <td>NaN</td>\n      <td>0.0</td>\n      <td>146.0</td>\n      <td>1274.0</td>\n      <td>4.0</td>\n      <td>0.0</td>\n      <td>&lt;30</td>\n      <td>MALE</td>\n      <td>&lt;19</td>\n    </tr>\n    <tr>\n      <th>97</th>\n      <td>621e2e8e67b776a24055b564</td>\n      <td>2021-05-28</td>\n      <td>1.0</td>\n      <td>0.916755</td>\n      <td>NaN</td>\n      <td>65.62</td>\n      <td>0.0</td>\n      <td>NaN</td>\n      <td>65.536364</td>\n      <td>False</td>\n      <td>NaN</td>\n      <td>0.0</td>\n      <td>NaN</td>\n      <td>NaN</td>\n      <td>NaN</td>\n      <td>NaN</td>\n      <td>&lt;30</td>\n      <td>MALE</td>\n      <td>&lt;19</td>\n    </tr>\n    <tr>\n      <th>98</th>\n      <td>621e2e8e67b776a24055b564</td>\n      <td>2021-05-28</td>\n      <td>2.0</td>\n      <td>-0.157328</td>\n      <td>NaN</td>\n      <td>65.84</td>\n      <td>0.0</td>\n      <td>NaN</td>\n      <td>55.979499</td>\n      <td>False</td>\n      <td>NaN</td>\n      <td>0.0</td>\n      <td>NaN</td>\n      <td>NaN</td>\n      <td>NaN</td>\n      <td>NaN</td>\n      <td>&lt;30</td>\n      <td>MALE</td>\n      <td>&lt;19</td>\n    </tr>\n    <tr>\n      <th>99</th>\n      <td>621e2e8e67b776a24055b564</td>\n      <td>2021-05-28</td>\n      <td>3.0</td>\n      <td>0.190339</td>\n      <td>NaN</td>\n      <td>67.92</td>\n      <td>9.6</td>\n      <td>NaN</td>\n      <td>56.059603</td>\n      <td>False</td>\n      <td>NaN</td>\n      <td>13.0</td>\n      <td>NaN</td>\n      <td>NaN</td>\n      <td>NaN</td>\n      <td>NaN</td>\n      <td>&lt;30</td>\n      <td>MALE</td>\n      <td>&lt;19</td>\n    </tr>\n  </tbody>\n</table>\n<p>100 rows × 19 columns</p>\n</div>"
     },
     "execution_count": 486,
     "metadata": {},
     "output_type": "execute_result"
    }
   ],
   "source": [
    "df.head(100)"
   ]
  },
  {
   "cell_type": "markdown",
   "metadata": {
    "pycharm": {
     "name": "#%% md\n"
    }
   },
   "source": [
    "### Saving to pickle file"
   ]
  },
  {
   "cell_type": "code",
   "execution_count": 487,
   "metadata": {
    "pycharm": {
     "name": "#%%\n"
    }
   },
   "outputs": [],
   "source": [
    "df.to_pickle('./data/hourly_fitbit_df_unprocessed.pkl')"
   ]
  },
  {
   "cell_type": "code",
   "execution_count": 488,
   "metadata": {
    "pycharm": {
     "name": "#%%\n"
    }
   },
   "outputs": [],
   "source": [
    "df = pd.read_pickle('./data/hourly_fitbit_df_unprocessed.pkl')"
   ]
  },
  {
   "cell_type": "code",
   "execution_count": 489,
   "outputs": [
    {
     "data": {
      "text/plain": "id                                      object\ndate                            datetime64[ns]\nhour                                   float64\ntemperature                            float64\nbadgeType                               object\ncalories                               float64\ndistance                               float64\nactivityType                            object\nbpm                                     object\nmindfulness_session                     object\nscl_avg                                float64\nsteps                                  float64\nminutes_in_default_zone_1              float64\nminutes_below_default_zone_1           float64\nminutes_in_default_zone_2              float64\nminutes_in_default_zone_3              float64\nage                                     object\ngender                                  object\nbmi                                     object\ndtype: object"
     },
     "execution_count": 489,
     "metadata": {},
     "output_type": "execute_result"
    }
   ],
   "source": [
    "df.dtypes"
   ],
   "metadata": {
    "collapsed": false,
    "pycharm": {
     "name": "#%%\n"
    }
   }
  },
  {
   "cell_type": "markdown",
   "metadata": {
    "pycharm": {
     "name": "#%% md\n"
    }
   },
   "source": [
    "## Integrating SEMA Data\n",
    "The SEMA ecological ecological momentary assessment surveys include data about the users' daily step goals (maximum once per day) as well as emotions and locations (maximum three times a day)"
   ]
  },
  {
   "cell_type": "markdown",
   "metadata": {
    "pycharm": {
     "name": "#%% md\n"
    }
   },
   "source": [
    "### Integrating step goals\n",
    "This field includes the user's daily step goal range (N=1921)."
   ]
  },
  {
   "cell_type": "code",
   "execution_count": 490,
   "metadata": {
    "pycharm": {
     "name": "#%%\n"
    }
   },
   "outputs": [],
   "source": [
    "# user goals in SEMA\n",
    "SEMA_GOALS_TO_MIN = {\n",
    "    \"2000\": 0,\n",
    "    \"4999\": 2000,\n",
    "    \"7999\": 5000,\n",
    "    \"9999\": 8000,\n",
    "    \"14999\": 10000,\n",
    "    \"19999\": 15000,\n",
    "    \"24999\": 20000,\n",
    "    \"25000\": 25000,\n",
    "    \"NO_GOAL\": 0\n",
    "}\n",
    "\n",
    "SEMA_GOALS_TO_MAX = {\n",
    "    \"2000\": 2000,\n",
    "    \"4999\": 5000,\n",
    "    \"7999\": 8000,\n",
    "    \"9999\": 10000,\n",
    "    \"14999\": 15000,\n",
    "    \"19999\": 20000,\n",
    "    \"24999\": 25000,\n",
    "    \"25000\": 30000,\n",
    "    \"NO_GOAL\": 0\n",
    "}\n",
    "\n",
    "SEMA_LABELS = {\n",
    "    \"2000\": \"Less than 2000\",\n",
    "    \"4999\": \"2000-4999\",\n",
    "    \"7999\": \"5000-7999\",\n",
    "    \"9999\": \"8000-9999\",\n",
    "    \"14999\": \"10000-14999\",\n",
    "    \"19999\": \"15000-19999\",\n",
    "    \"24999\": \"20000-24999\",\n",
    "    \"25000\": \"More than 25000\",\n",
    "    \"NO_GOAL\": \"No Goal\",\n",
    "    np.nan: \"No Goal\",\n",
    "    None: \"No Goal\"\n",
    "}"
   ]
  },
  {
   "cell_type": "code",
   "execution_count": 491,
   "metadata": {
    "pycharm": {
     "name": "#%%\n"
    }
   },
   "outputs": [],
   "source": [
    "if not os.path.exists(\"data/users_step_goals_hourly.pkl\"):\n",
    "    # Get user self-reported goals from SEMA\n",
    "    sema_goals = pd.DataFrame(columns=[\"_id\", \"user_id\", \"data\"])\n",
    "    for user in users:\n",
    "        user_data = pd.DataFrame(list(\n",
    "                        db.sema.find({ \"$and\": [\n",
    "                            { \"data.STEPS\": { \"$ne\": \"<no-response>\" } },\n",
    "                            {\"user_id\": user}\n",
    "                        ] },\n",
    "                            {\"data.STEPS\": 1, \"id\": 1, \"user_id\": 1, \"data.STARTED_TS\": 1}\n",
    "                        )\n",
    "                    ))\n",
    "\n",
    "        sema_goals = pd.concat([sema_goals, user_data], axis=0)\n",
    "\n",
    "    # split data column (json format) into two columns\n",
    "    sema_goals[\"timestamp\"] = sema_goals[\"data\"].apply(lambda d: d[\"STARTED_TS\"])\n",
    "    sema_goals[\"step_goal\"] = sema_goals[\"data\"].apply(lambda d: d[\"STEPS\"])\n",
    "    sema_goals.drop([\"data\", \"_id\"], inplace=True, axis=1)\n",
    "\n",
    "    # convert timestamp to day format\n",
    "    sema_goals[\"date\"] = pd.to_datetime(sema_goals[\"timestamp\"], infer_datetime_format=True)\n",
    "    sema_goals[\"hour\"] = sema_goals[\"date\"].dt.hour\n",
    "    sema_goals[\"date\"] = pd.to_datetime(sema_goals[\"date\"].dt.date, infer_datetime_format=True) # convert from object to datetime\n",
    "    sema_goals.drop([\"timestamp\"], inplace=True, axis=1)\n",
    "\n",
    "    # add min goal and max goal columns\n",
    "    sema_goals['min_goal'] = sema_goals.step_goal.apply(lambda s: SEMA_GOALS_TO_MIN.get(s))\n",
    "    sema_goals['max_goal'] = sema_goals.step_goal.apply(lambda s: SEMA_GOALS_TO_MAX.get(s))\n",
    "\n",
    "    # add goal labels\n",
    "    sema_goals['step_goal_label'] = sema_goals['step_goal'].apply(lambda v: SEMA_LABELS[v])\n",
    "    sema_goals[['date', 'hour', 'user_id', 'step_goal', 'min_goal', 'max_goal', 'step_goal_label']].to_pickle('./data/users_step_goals_hourly.pkl')\n",
    "\n",
    "users_step_goals = pd.read_pickle('./data/users_step_goals_hourly.pkl')\n",
    "users_step_goals['id'] = users_step_goals.user_id.copy()\n",
    "users_step_goals.drop(['user_id'], axis=1, inplace=True)"
   ]
  },
  {
   "cell_type": "code",
   "execution_count": 492,
   "metadata": {
    "pycharm": {
     "name": "#%%\n"
    }
   },
   "outputs": [
    {
     "data": {
      "text/plain": "        date  hour step_goal  min_goal  max_goal step_goal_label  \\\n0 2021-07-18    11      7999    5000.0    8000.0       5000-7999   \n1 2021-06-27    15      7999    5000.0    8000.0       5000-7999   \n2 2021-07-23    12     14999   10000.0   15000.0     10000-14999   \n3 2021-06-03    13      9999    8000.0   10000.0       8000-9999   \n4 2021-07-14    13      9999    8000.0   10000.0       8000-9999   \n5 2021-06-18    13      9999    8000.0   10000.0       8000-9999   \n6 2021-06-20    15      7999    5000.0    8000.0       5000-7999   \n7 2021-07-21    13      9999    8000.0   10000.0       8000-9999   \n8 2021-05-25    14     14999   10000.0   15000.0     10000-14999   \n9 2021-07-24    15      9999    8000.0   10000.0       8000-9999   \n\n                         id  \n0  621e2e8e67b776a24055b564  \n1  621e2e8e67b776a24055b564  \n2  621e2e8e67b776a24055b564  \n3  621e2e8e67b776a24055b564  \n4  621e2e8e67b776a24055b564  \n5  621e2e8e67b776a24055b564  \n6  621e2e8e67b776a24055b564  \n7  621e2e8e67b776a24055b564  \n8  621e2e8e67b776a24055b564  \n9  621e2e8e67b776a24055b564  ",
      "text/html": "<div>\n<style scoped>\n    .dataframe tbody tr th:only-of-type {\n        vertical-align: middle;\n    }\n\n    .dataframe tbody tr th {\n        vertical-align: top;\n    }\n\n    .dataframe thead th {\n        text-align: right;\n    }\n</style>\n<table border=\"1\" class=\"dataframe\">\n  <thead>\n    <tr style=\"text-align: right;\">\n      <th></th>\n      <th>date</th>\n      <th>hour</th>\n      <th>step_goal</th>\n      <th>min_goal</th>\n      <th>max_goal</th>\n      <th>step_goal_label</th>\n      <th>id</th>\n    </tr>\n  </thead>\n  <tbody>\n    <tr>\n      <th>0</th>\n      <td>2021-07-18</td>\n      <td>11</td>\n      <td>7999</td>\n      <td>5000.0</td>\n      <td>8000.0</td>\n      <td>5000-7999</td>\n      <td>621e2e8e67b776a24055b564</td>\n    </tr>\n    <tr>\n      <th>1</th>\n      <td>2021-06-27</td>\n      <td>15</td>\n      <td>7999</td>\n      <td>5000.0</td>\n      <td>8000.0</td>\n      <td>5000-7999</td>\n      <td>621e2e8e67b776a24055b564</td>\n    </tr>\n    <tr>\n      <th>2</th>\n      <td>2021-07-23</td>\n      <td>12</td>\n      <td>14999</td>\n      <td>10000.0</td>\n      <td>15000.0</td>\n      <td>10000-14999</td>\n      <td>621e2e8e67b776a24055b564</td>\n    </tr>\n    <tr>\n      <th>3</th>\n      <td>2021-06-03</td>\n      <td>13</td>\n      <td>9999</td>\n      <td>8000.0</td>\n      <td>10000.0</td>\n      <td>8000-9999</td>\n      <td>621e2e8e67b776a24055b564</td>\n    </tr>\n    <tr>\n      <th>4</th>\n      <td>2021-07-14</td>\n      <td>13</td>\n      <td>9999</td>\n      <td>8000.0</td>\n      <td>10000.0</td>\n      <td>8000-9999</td>\n      <td>621e2e8e67b776a24055b564</td>\n    </tr>\n    <tr>\n      <th>5</th>\n      <td>2021-06-18</td>\n      <td>13</td>\n      <td>9999</td>\n      <td>8000.0</td>\n      <td>10000.0</td>\n      <td>8000-9999</td>\n      <td>621e2e8e67b776a24055b564</td>\n    </tr>\n    <tr>\n      <th>6</th>\n      <td>2021-06-20</td>\n      <td>15</td>\n      <td>7999</td>\n      <td>5000.0</td>\n      <td>8000.0</td>\n      <td>5000-7999</td>\n      <td>621e2e8e67b776a24055b564</td>\n    </tr>\n    <tr>\n      <th>7</th>\n      <td>2021-07-21</td>\n      <td>13</td>\n      <td>9999</td>\n      <td>8000.0</td>\n      <td>10000.0</td>\n      <td>8000-9999</td>\n      <td>621e2e8e67b776a24055b564</td>\n    </tr>\n    <tr>\n      <th>8</th>\n      <td>2021-05-25</td>\n      <td>14</td>\n      <td>14999</td>\n      <td>10000.0</td>\n      <td>15000.0</td>\n      <td>10000-14999</td>\n      <td>621e2e8e67b776a24055b564</td>\n    </tr>\n    <tr>\n      <th>9</th>\n      <td>2021-07-24</td>\n      <td>15</td>\n      <td>9999</td>\n      <td>8000.0</td>\n      <td>10000.0</td>\n      <td>8000-9999</td>\n      <td>621e2e8e67b776a24055b564</td>\n    </tr>\n  </tbody>\n</table>\n</div>"
     },
     "execution_count": 492,
     "metadata": {},
     "output_type": "execute_result"
    }
   ],
   "source": [
    "users_step_goals.head(10)"
   ]
  },
  {
   "cell_type": "code",
   "execution_count": 493,
   "metadata": {
    "pycharm": {
     "name": "#%%\n"
    }
   },
   "outputs": [],
   "source": [
    "# merge\n",
    "df = df.merge(users_step_goals, how='outer', on=['id', 'date', 'hour'])"
   ]
  },
  {
   "cell_type": "code",
   "execution_count": 494,
   "metadata": {
    "pycharm": {
     "name": "#%%\n"
    }
   },
   "outputs": [
    {
     "data": {
      "text/plain": "                          id       date  hour  temperature badgeType  \\\n0   621e2e8e67b776a24055b564 2021-05-24   0.0    -1.466659       NaN   \n1   621e2e8e67b776a24055b564 2021-05-24   1.0     0.210289       NaN   \n2   621e2e8e67b776a24055b564 2021-05-24   2.0    -1.359378       NaN   \n3   621e2e8e67b776a24055b564 2021-05-24   3.0    -0.316295       NaN   \n4   621e2e8e67b776a24055b564 2021-05-24   4.0     0.416455       NaN   \n5   621e2e8e67b776a24055b564 2021-05-24   5.0    -0.836378       NaN   \n6   621e2e8e67b776a24055b564 2021-05-24   6.0    -0.677295       NaN   \n7   621e2e8e67b776a24055b564 2021-05-24   7.0     0.149622       NaN   \n8   621e2e8e67b776a24055b564 2021-05-24   8.0     0.469372       NaN   \n9   621e2e8e67b776a24055b564 2021-05-24   9.0    -2.527628       NaN   \n10  621e2e8e67b776a24055b564 2021-05-24  10.0    -3.444170       NaN   \n11  621e2e8e67b776a24055b564 2021-05-24  11.0    -3.251776       NaN   \n12  621e2e8e67b776a24055b564 2021-05-24  12.0    -2.786295       NaN   \n13  621e2e8e67b776a24055b564 2021-05-24  13.0    -2.374545       NaN   \n14  621e2e8e67b776a24055b564 2021-05-24  14.0    -3.705128       NaN   \n15  621e2e8e67b776a24055b564 2021-05-24  15.0    -2.848211       NaN   \n16  621e2e8e67b776a24055b564 2021-05-24  16.0    -2.245295       NaN   \n17  621e2e8e67b776a24055b564 2021-05-24  17.0    -2.453961       NaN   \n18  621e2e8e67b776a24055b564 2021-05-24  18.0    -5.027795       NaN   \n19  621e2e8e67b776a24055b564 2021-05-24  19.0    -3.633045       NaN   \n20  621e2e8e67b776a24055b564 2021-05-24  20.0    -2.408295       NaN   \n21  621e2e8e67b776a24055b564 2021-05-24  21.0    -1.319878       NaN   \n22  621e2e8e67b776a24055b564 2021-05-24  22.0    -0.673378       NaN   \n23  621e2e8e67b776a24055b564 2021-05-24  23.0    -1.348523       NaN   \n24  621e2e8e67b776a24055b564 2021-05-25   0.0     0.702230       NaN   \n25  621e2e8e67b776a24055b564 2021-05-25   1.0    -0.360520       NaN   \n26  621e2e8e67b776a24055b564 2021-05-25   2.0    -1.551020       NaN   \n27  621e2e8e67b776a24055b564 2021-05-25   3.0    -2.199353       NaN   \n28  621e2e8e67b776a24055b564 2021-05-25   4.0    -1.437020       NaN   \n29  621e2e8e67b776a24055b564 2021-05-25   5.0    -0.752436       NaN   \n30  621e2e8e67b776a24055b564 2021-05-25   6.0     0.105897       NaN   \n31  621e2e8e67b776a24055b564 2021-05-25   7.0     0.411147       NaN   \n32  621e2e8e67b776a24055b564 2021-05-25   8.0    -0.660770       NaN   \n33  621e2e8e67b776a24055b564 2021-05-25   9.0    -3.572186       NaN   \n34  621e2e8e67b776a24055b564 2021-05-25  10.0    -3.652770       NaN   \n35  621e2e8e67b776a24055b564 2021-05-25  11.0    -4.382520       NaN   \n36  621e2e8e67b776a24055b564 2021-05-25  12.0    -5.375436       NaN   \n37  621e2e8e67b776a24055b564 2021-05-25  13.0    -4.347936       NaN   \n38  621e2e8e67b776a24055b564 2021-05-25  14.0    -3.435853       NaN   \n39  621e2e8e67b776a24055b564 2021-05-25  15.0    -3.444353       NaN   \n40  621e2e8e67b776a24055b564 2021-05-25  16.0    -4.374436       NaN   \n41  621e2e8e67b776a24055b564 2021-05-25  17.0    -3.981103       NaN   \n42  621e2e8e67b776a24055b564 2021-05-25  18.0    -4.893853       NaN   \n43  621e2e8e67b776a24055b564 2021-05-25  19.0    -4.070103       NaN   \n44  621e2e8e67b776a24055b564 2021-05-25  20.0    -2.271842       NaN   \n45  621e2e8e67b776a24055b564 2021-05-25  21.0    -2.623686       NaN   \n46  621e2e8e67b776a24055b564 2021-05-25  22.0    -1.751020       NaN   \n47  621e2e8e67b776a24055b564 2021-05-25  23.0    -1.253686       NaN   \n48  621e2e8e67b776a24055b564 2021-05-26   0.0     1.085539       NaN   \n49  621e2e8e67b776a24055b564 2021-05-26   1.0     0.563039       NaN   \n\n    calories  distance activityType        bpm mindfulness_session  ...  \\\n0      89.04      98.3          NaN  66.874763               False  ...   \n1      65.62       0.0          NaN  58.711364               False  ...   \n2      65.40       NaN          NaN  55.133495               False  ...   \n3      69.01      11.0          NaN  60.488613               False  ...   \n4      65.73       0.0          NaN  59.110638               False  ...   \n5      65.40       NaN          NaN  57.481481               False  ...   \n6      70.87      28.8          NaN   59.40202               False  ...   \n7      65.73       0.0          NaN  61.217131               False  ...   \n8      67.48       5.1          NaN  60.842478               False  ...   \n9      75.61       7.3          NaN  73.804527               False  ...   \n10    241.41    1938.9       [Walk]  95.295455               False  ...   \n11    144.45     732.3          NaN  89.730916               False  ...   \n12    108.01     316.6          NaN  83.123457               False  ...   \n13     84.94      21.2          NaN  76.593043               False  ...   \n14     98.31     140.6          NaN  77.917241               False  ...   \n15     76.81      24.2          NaN  70.281915               False  ...   \n16     95.84     252.1          NaN   70.42446               False  ...   \n17    166.05    1264.2       [Walk]  77.679417               False  ...   \n18    173.49    1356.8          NaN  84.613936               False  ...   \n19    106.87     117.5          NaN  71.443281               False  ...   \n20     99.79     113.8          NaN  74.540351               False  ...   \n21     79.98      27.0          NaN  72.256318               False  ...   \n22     78.15      22.9          NaN  75.147874               False  ...   \n23     97.60      38.9          NaN  76.055762               False  ...   \n24     65.73       0.0          NaN  61.358763               False  ...   \n25     65.62       0.0          NaN  59.953488               False  ...   \n26     65.95       0.0          NaN  57.686937               False  ...   \n27     67.26       5.1          NaN  56.282474               False  ...   \n28     65.73       0.0          NaN  56.020747               False  ...   \n29     65.95       0.0          NaN     56.025               False  ...   \n30     65.62       0.0          NaN  57.255403               False  ...   \n31     65.51       0.0          NaN  58.675624               False  ...   \n32     66.72       0.0          NaN  62.213018               False  ...   \n33    239.54    1995.8       [Walk]   95.94683               False  ...   \n34    121.90     542.4          NaN  83.764286               False  ...   \n35     83.72      55.9          NaN  74.722028               False  ...   \n36    136.97     745.4          NaN  80.432624               False  ...   \n37    111.29     401.6          NaN  79.516129               False  ...   \n38     90.72      88.4          NaN  74.911348               False  ...   \n39     76.39      17.7          NaN  72.171875               False  ...   \n40    108.86     328.7          NaN   72.77969               False  ...   \n41    102.30     277.9          NaN  71.724508               False  ...   \n42    228.72    2337.2       [Walk]  81.671287               False  ...   \n43    110.50     244.6          NaN  74.081129               False  ...   \n44     90.62      71.3          NaN  81.388889               False  ...   \n45     78.26       6.6          NaN  76.517606               False  ...   \n46     75.38      17.6          NaN  70.376577               False  ...   \n47     82.82      42.4          NaN  68.639286               False  ...   \n48     65.51       0.0          NaN  59.284848               False  ...   \n49     65.62       0.0          NaN  59.094845               False  ...   \n\n    minutes_below_default_zone_1  minutes_in_default_zone_2  \\\n0                         1349.0                        0.0   \n1                            NaN                        NaN   \n2                            NaN                        NaN   \n3                            NaN                        NaN   \n4                            NaN                        NaN   \n5                            NaN                        NaN   \n6                            NaN                        NaN   \n7                            NaN                        NaN   \n8                            NaN                        NaN   \n9                            NaN                        NaN   \n10                           NaN                        NaN   \n11                           NaN                        NaN   \n12                           NaN                        NaN   \n13                           NaN                        NaN   \n14                           NaN                        NaN   \n15                           NaN                        NaN   \n16                           NaN                        NaN   \n17                           NaN                        NaN   \n18                           NaN                        NaN   \n19                           NaN                        NaN   \n20                           NaN                        NaN   \n21                           NaN                        NaN   \n22                           NaN                        NaN   \n23                           NaN                        NaN   \n24                        1374.0                        4.0   \n25                           NaN                        NaN   \n26                           NaN                        NaN   \n27                           NaN                        NaN   \n28                           NaN                        NaN   \n29                           NaN                        NaN   \n30                           NaN                        NaN   \n31                           NaN                        NaN   \n32                           NaN                        NaN   \n33                           NaN                        NaN   \n34                           NaN                        NaN   \n35                           NaN                        NaN   \n36                           NaN                        NaN   \n37                           NaN                        NaN   \n38                           NaN                        NaN   \n39                           NaN                        NaN   \n40                           NaN                        NaN   \n41                           NaN                        NaN   \n42                           NaN                        NaN   \n43                           NaN                        NaN   \n44                           NaN                        NaN   \n45                           NaN                        NaN   \n46                           NaN                        NaN   \n47                           NaN                        NaN   \n48                        1350.0                        0.0   \n49                           NaN                        NaN   \n\n    minutes_in_default_zone_3  age  gender  bmi step_goal min_goal max_goal  \\\n0                         0.0  <30    MALE  <19       NaN      NaN      NaN   \n1                         NaN  <30    MALE  <19       NaN      NaN      NaN   \n2                         NaN  <30    MALE  <19       NaN      NaN      NaN   \n3                         NaN  <30    MALE  <19       NaN      NaN      NaN   \n4                         NaN  <30    MALE  <19       NaN      NaN      NaN   \n5                         NaN  <30    MALE  <19       NaN      NaN      NaN   \n6                         NaN  <30    MALE  <19       NaN      NaN      NaN   \n7                         NaN  <30    MALE  <19       NaN      NaN      NaN   \n8                         NaN  <30    MALE  <19       NaN      NaN      NaN   \n9                         NaN  <30    MALE  <19       NaN      NaN      NaN   \n10                        NaN  <30    MALE  <19       NaN      NaN      NaN   \n11                        NaN  <30    MALE  <19       NaN      NaN      NaN   \n12                        NaN  <30    MALE  <19       NaN      NaN      NaN   \n13                        NaN  <30    MALE  <19       NaN      NaN      NaN   \n14                        NaN  <30    MALE  <19       NaN      NaN      NaN   \n15                        NaN  <30    MALE  <19       NaN      NaN      NaN   \n16                        NaN  <30    MALE  <19       NaN      NaN      NaN   \n17                        NaN  <30    MALE  <19       NaN      NaN      NaN   \n18                        NaN  <30    MALE  <19       NaN      NaN      NaN   \n19                        NaN  <30    MALE  <19       NaN      NaN      NaN   \n20                        NaN  <30    MALE  <19       NaN      NaN      NaN   \n21                        NaN  <30    MALE  <19       NaN      NaN      NaN   \n22                        NaN  <30    MALE  <19       NaN      NaN      NaN   \n23                        NaN  <30    MALE  <19       NaN      NaN      NaN   \n24                        0.0  <30    MALE  <19       NaN      NaN      NaN   \n25                        NaN  <30    MALE  <19       NaN      NaN      NaN   \n26                        NaN  <30    MALE  <19       NaN      NaN      NaN   \n27                        NaN  <30    MALE  <19       NaN      NaN      NaN   \n28                        NaN  <30    MALE  <19       NaN      NaN      NaN   \n29                        NaN  <30    MALE  <19       NaN      NaN      NaN   \n30                        NaN  <30    MALE  <19       NaN      NaN      NaN   \n31                        NaN  <30    MALE  <19       NaN      NaN      NaN   \n32                        NaN  <30    MALE  <19       NaN      NaN      NaN   \n33                        NaN  <30    MALE  <19       NaN      NaN      NaN   \n34                        NaN  <30    MALE  <19       NaN      NaN      NaN   \n35                        NaN  <30    MALE  <19       NaN      NaN      NaN   \n36                        NaN  <30    MALE  <19       NaN      NaN      NaN   \n37                        NaN  <30    MALE  <19       NaN      NaN      NaN   \n38                        NaN  <30    MALE  <19     14999  10000.0  15000.0   \n39                        NaN  <30    MALE  <19       NaN      NaN      NaN   \n40                        NaN  <30    MALE  <19       NaN      NaN      NaN   \n41                        NaN  <30    MALE  <19       NaN      NaN      NaN   \n42                        NaN  <30    MALE  <19       NaN      NaN      NaN   \n43                        NaN  <30    MALE  <19       NaN      NaN      NaN   \n44                        NaN  <30    MALE  <19       NaN      NaN      NaN   \n45                        NaN  <30    MALE  <19       NaN      NaN      NaN   \n46                        NaN  <30    MALE  <19       NaN      NaN      NaN   \n47                        NaN  <30    MALE  <19       NaN      NaN      NaN   \n48                        0.0  <30    MALE  <19       NaN      NaN      NaN   \n49                        NaN  <30    MALE  <19       NaN      NaN      NaN   \n\n   step_goal_label  \n0              NaN  \n1              NaN  \n2              NaN  \n3              NaN  \n4              NaN  \n5              NaN  \n6              NaN  \n7              NaN  \n8              NaN  \n9              NaN  \n10             NaN  \n11             NaN  \n12             NaN  \n13             NaN  \n14             NaN  \n15             NaN  \n16             NaN  \n17             NaN  \n18             NaN  \n19             NaN  \n20             NaN  \n21             NaN  \n22             NaN  \n23             NaN  \n24             NaN  \n25             NaN  \n26             NaN  \n27             NaN  \n28             NaN  \n29             NaN  \n30             NaN  \n31             NaN  \n32             NaN  \n33             NaN  \n34             NaN  \n35             NaN  \n36             NaN  \n37             NaN  \n38     10000-14999  \n39             NaN  \n40             NaN  \n41             NaN  \n42             NaN  \n43             NaN  \n44             NaN  \n45             NaN  \n46             NaN  \n47             NaN  \n48             NaN  \n49             NaN  \n\n[50 rows x 23 columns]",
      "text/html": "<div>\n<style scoped>\n    .dataframe tbody tr th:only-of-type {\n        vertical-align: middle;\n    }\n\n    .dataframe tbody tr th {\n        vertical-align: top;\n    }\n\n    .dataframe thead th {\n        text-align: right;\n    }\n</style>\n<table border=\"1\" class=\"dataframe\">\n  <thead>\n    <tr style=\"text-align: right;\">\n      <th></th>\n      <th>id</th>\n      <th>date</th>\n      <th>hour</th>\n      <th>temperature</th>\n      <th>badgeType</th>\n      <th>calories</th>\n      <th>distance</th>\n      <th>activityType</th>\n      <th>bpm</th>\n      <th>mindfulness_session</th>\n      <th>...</th>\n      <th>minutes_below_default_zone_1</th>\n      <th>minutes_in_default_zone_2</th>\n      <th>minutes_in_default_zone_3</th>\n      <th>age</th>\n      <th>gender</th>\n      <th>bmi</th>\n      <th>step_goal</th>\n      <th>min_goal</th>\n      <th>max_goal</th>\n      <th>step_goal_label</th>\n    </tr>\n  </thead>\n  <tbody>\n    <tr>\n      <th>0</th>\n      <td>621e2e8e67b776a24055b564</td>\n      <td>2021-05-24</td>\n      <td>0.0</td>\n      <td>-1.466659</td>\n      <td>NaN</td>\n      <td>89.04</td>\n      <td>98.3</td>\n      <td>NaN</td>\n      <td>66.874763</td>\n      <td>False</td>\n      <td>...</td>\n      <td>1349.0</td>\n      <td>0.0</td>\n      <td>0.0</td>\n      <td>&lt;30</td>\n      <td>MALE</td>\n      <td>&lt;19</td>\n      <td>NaN</td>\n      <td>NaN</td>\n      <td>NaN</td>\n      <td>NaN</td>\n    </tr>\n    <tr>\n      <th>1</th>\n      <td>621e2e8e67b776a24055b564</td>\n      <td>2021-05-24</td>\n      <td>1.0</td>\n      <td>0.210289</td>\n      <td>NaN</td>\n      <td>65.62</td>\n      <td>0.0</td>\n      <td>NaN</td>\n      <td>58.711364</td>\n      <td>False</td>\n      <td>...</td>\n      <td>NaN</td>\n      <td>NaN</td>\n      <td>NaN</td>\n      <td>&lt;30</td>\n      <td>MALE</td>\n      <td>&lt;19</td>\n      <td>NaN</td>\n      <td>NaN</td>\n      <td>NaN</td>\n      <td>NaN</td>\n    </tr>\n    <tr>\n      <th>2</th>\n      <td>621e2e8e67b776a24055b564</td>\n      <td>2021-05-24</td>\n      <td>2.0</td>\n      <td>-1.359378</td>\n      <td>NaN</td>\n      <td>65.40</td>\n      <td>NaN</td>\n      <td>NaN</td>\n      <td>55.133495</td>\n      <td>False</td>\n      <td>...</td>\n      <td>NaN</td>\n      <td>NaN</td>\n      <td>NaN</td>\n      <td>&lt;30</td>\n      <td>MALE</td>\n      <td>&lt;19</td>\n      <td>NaN</td>\n      <td>NaN</td>\n      <td>NaN</td>\n      <td>NaN</td>\n    </tr>\n    <tr>\n      <th>3</th>\n      <td>621e2e8e67b776a24055b564</td>\n      <td>2021-05-24</td>\n      <td>3.0</td>\n      <td>-0.316295</td>\n      <td>NaN</td>\n      <td>69.01</td>\n      <td>11.0</td>\n      <td>NaN</td>\n      <td>60.488613</td>\n      <td>False</td>\n      <td>...</td>\n      <td>NaN</td>\n      <td>NaN</td>\n      <td>NaN</td>\n      <td>&lt;30</td>\n      <td>MALE</td>\n      <td>&lt;19</td>\n      <td>NaN</td>\n      <td>NaN</td>\n      <td>NaN</td>\n      <td>NaN</td>\n    </tr>\n    <tr>\n      <th>4</th>\n      <td>621e2e8e67b776a24055b564</td>\n      <td>2021-05-24</td>\n      <td>4.0</td>\n      <td>0.416455</td>\n      <td>NaN</td>\n      <td>65.73</td>\n      <td>0.0</td>\n      <td>NaN</td>\n      <td>59.110638</td>\n      <td>False</td>\n      <td>...</td>\n      <td>NaN</td>\n      <td>NaN</td>\n      <td>NaN</td>\n      <td>&lt;30</td>\n      <td>MALE</td>\n      <td>&lt;19</td>\n      <td>NaN</td>\n      <td>NaN</td>\n      <td>NaN</td>\n      <td>NaN</td>\n    </tr>\n    <tr>\n      <th>5</th>\n      <td>621e2e8e67b776a24055b564</td>\n      <td>2021-05-24</td>\n      <td>5.0</td>\n      <td>-0.836378</td>\n      <td>NaN</td>\n      <td>65.40</td>\n      <td>NaN</td>\n      <td>NaN</td>\n      <td>57.481481</td>\n      <td>False</td>\n      <td>...</td>\n      <td>NaN</td>\n      <td>NaN</td>\n      <td>NaN</td>\n      <td>&lt;30</td>\n      <td>MALE</td>\n      <td>&lt;19</td>\n      <td>NaN</td>\n      <td>NaN</td>\n      <td>NaN</td>\n      <td>NaN</td>\n    </tr>\n    <tr>\n      <th>6</th>\n      <td>621e2e8e67b776a24055b564</td>\n      <td>2021-05-24</td>\n      <td>6.0</td>\n      <td>-0.677295</td>\n      <td>NaN</td>\n      <td>70.87</td>\n      <td>28.8</td>\n      <td>NaN</td>\n      <td>59.40202</td>\n      <td>False</td>\n      <td>...</td>\n      <td>NaN</td>\n      <td>NaN</td>\n      <td>NaN</td>\n      <td>&lt;30</td>\n      <td>MALE</td>\n      <td>&lt;19</td>\n      <td>NaN</td>\n      <td>NaN</td>\n      <td>NaN</td>\n      <td>NaN</td>\n    </tr>\n    <tr>\n      <th>7</th>\n      <td>621e2e8e67b776a24055b564</td>\n      <td>2021-05-24</td>\n      <td>7.0</td>\n      <td>0.149622</td>\n      <td>NaN</td>\n      <td>65.73</td>\n      <td>0.0</td>\n      <td>NaN</td>\n      <td>61.217131</td>\n      <td>False</td>\n      <td>...</td>\n      <td>NaN</td>\n      <td>NaN</td>\n      <td>NaN</td>\n      <td>&lt;30</td>\n      <td>MALE</td>\n      <td>&lt;19</td>\n      <td>NaN</td>\n      <td>NaN</td>\n      <td>NaN</td>\n      <td>NaN</td>\n    </tr>\n    <tr>\n      <th>8</th>\n      <td>621e2e8e67b776a24055b564</td>\n      <td>2021-05-24</td>\n      <td>8.0</td>\n      <td>0.469372</td>\n      <td>NaN</td>\n      <td>67.48</td>\n      <td>5.1</td>\n      <td>NaN</td>\n      <td>60.842478</td>\n      <td>False</td>\n      <td>...</td>\n      <td>NaN</td>\n      <td>NaN</td>\n      <td>NaN</td>\n      <td>&lt;30</td>\n      <td>MALE</td>\n      <td>&lt;19</td>\n      <td>NaN</td>\n      <td>NaN</td>\n      <td>NaN</td>\n      <td>NaN</td>\n    </tr>\n    <tr>\n      <th>9</th>\n      <td>621e2e8e67b776a24055b564</td>\n      <td>2021-05-24</td>\n      <td>9.0</td>\n      <td>-2.527628</td>\n      <td>NaN</td>\n      <td>75.61</td>\n      <td>7.3</td>\n      <td>NaN</td>\n      <td>73.804527</td>\n      <td>False</td>\n      <td>...</td>\n      <td>NaN</td>\n      <td>NaN</td>\n      <td>NaN</td>\n      <td>&lt;30</td>\n      <td>MALE</td>\n      <td>&lt;19</td>\n      <td>NaN</td>\n      <td>NaN</td>\n      <td>NaN</td>\n      <td>NaN</td>\n    </tr>\n    <tr>\n      <th>10</th>\n      <td>621e2e8e67b776a24055b564</td>\n      <td>2021-05-24</td>\n      <td>10.0</td>\n      <td>-3.444170</td>\n      <td>NaN</td>\n      <td>241.41</td>\n      <td>1938.9</td>\n      <td>[Walk]</td>\n      <td>95.295455</td>\n      <td>False</td>\n      <td>...</td>\n      <td>NaN</td>\n      <td>NaN</td>\n      <td>NaN</td>\n      <td>&lt;30</td>\n      <td>MALE</td>\n      <td>&lt;19</td>\n      <td>NaN</td>\n      <td>NaN</td>\n      <td>NaN</td>\n      <td>NaN</td>\n    </tr>\n    <tr>\n      <th>11</th>\n      <td>621e2e8e67b776a24055b564</td>\n      <td>2021-05-24</td>\n      <td>11.0</td>\n      <td>-3.251776</td>\n      <td>NaN</td>\n      <td>144.45</td>\n      <td>732.3</td>\n      <td>NaN</td>\n      <td>89.730916</td>\n      <td>False</td>\n      <td>...</td>\n      <td>NaN</td>\n      <td>NaN</td>\n      <td>NaN</td>\n      <td>&lt;30</td>\n      <td>MALE</td>\n      <td>&lt;19</td>\n      <td>NaN</td>\n      <td>NaN</td>\n      <td>NaN</td>\n      <td>NaN</td>\n    </tr>\n    <tr>\n      <th>12</th>\n      <td>621e2e8e67b776a24055b564</td>\n      <td>2021-05-24</td>\n      <td>12.0</td>\n      <td>-2.786295</td>\n      <td>NaN</td>\n      <td>108.01</td>\n      <td>316.6</td>\n      <td>NaN</td>\n      <td>83.123457</td>\n      <td>False</td>\n      <td>...</td>\n      <td>NaN</td>\n      <td>NaN</td>\n      <td>NaN</td>\n      <td>&lt;30</td>\n      <td>MALE</td>\n      <td>&lt;19</td>\n      <td>NaN</td>\n      <td>NaN</td>\n      <td>NaN</td>\n      <td>NaN</td>\n    </tr>\n    <tr>\n      <th>13</th>\n      <td>621e2e8e67b776a24055b564</td>\n      <td>2021-05-24</td>\n      <td>13.0</td>\n      <td>-2.374545</td>\n      <td>NaN</td>\n      <td>84.94</td>\n      <td>21.2</td>\n      <td>NaN</td>\n      <td>76.593043</td>\n      <td>False</td>\n      <td>...</td>\n      <td>NaN</td>\n      <td>NaN</td>\n      <td>NaN</td>\n      <td>&lt;30</td>\n      <td>MALE</td>\n      <td>&lt;19</td>\n      <td>NaN</td>\n      <td>NaN</td>\n      <td>NaN</td>\n      <td>NaN</td>\n    </tr>\n    <tr>\n      <th>14</th>\n      <td>621e2e8e67b776a24055b564</td>\n      <td>2021-05-24</td>\n      <td>14.0</td>\n      <td>-3.705128</td>\n      <td>NaN</td>\n      <td>98.31</td>\n      <td>140.6</td>\n      <td>NaN</td>\n      <td>77.917241</td>\n      <td>False</td>\n      <td>...</td>\n      <td>NaN</td>\n      <td>NaN</td>\n      <td>NaN</td>\n      <td>&lt;30</td>\n      <td>MALE</td>\n      <td>&lt;19</td>\n      <td>NaN</td>\n      <td>NaN</td>\n      <td>NaN</td>\n      <td>NaN</td>\n    </tr>\n    <tr>\n      <th>15</th>\n      <td>621e2e8e67b776a24055b564</td>\n      <td>2021-05-24</td>\n      <td>15.0</td>\n      <td>-2.848211</td>\n      <td>NaN</td>\n      <td>76.81</td>\n      <td>24.2</td>\n      <td>NaN</td>\n      <td>70.281915</td>\n      <td>False</td>\n      <td>...</td>\n      <td>NaN</td>\n      <td>NaN</td>\n      <td>NaN</td>\n      <td>&lt;30</td>\n      <td>MALE</td>\n      <td>&lt;19</td>\n      <td>NaN</td>\n      <td>NaN</td>\n      <td>NaN</td>\n      <td>NaN</td>\n    </tr>\n    <tr>\n      <th>16</th>\n      <td>621e2e8e67b776a24055b564</td>\n      <td>2021-05-24</td>\n      <td>16.0</td>\n      <td>-2.245295</td>\n      <td>NaN</td>\n      <td>95.84</td>\n      <td>252.1</td>\n      <td>NaN</td>\n      <td>70.42446</td>\n      <td>False</td>\n      <td>...</td>\n      <td>NaN</td>\n      <td>NaN</td>\n      <td>NaN</td>\n      <td>&lt;30</td>\n      <td>MALE</td>\n      <td>&lt;19</td>\n      <td>NaN</td>\n      <td>NaN</td>\n      <td>NaN</td>\n      <td>NaN</td>\n    </tr>\n    <tr>\n      <th>17</th>\n      <td>621e2e8e67b776a24055b564</td>\n      <td>2021-05-24</td>\n      <td>17.0</td>\n      <td>-2.453961</td>\n      <td>NaN</td>\n      <td>166.05</td>\n      <td>1264.2</td>\n      <td>[Walk]</td>\n      <td>77.679417</td>\n      <td>False</td>\n      <td>...</td>\n      <td>NaN</td>\n      <td>NaN</td>\n      <td>NaN</td>\n      <td>&lt;30</td>\n      <td>MALE</td>\n      <td>&lt;19</td>\n      <td>NaN</td>\n      <td>NaN</td>\n      <td>NaN</td>\n      <td>NaN</td>\n    </tr>\n    <tr>\n      <th>18</th>\n      <td>621e2e8e67b776a24055b564</td>\n      <td>2021-05-24</td>\n      <td>18.0</td>\n      <td>-5.027795</td>\n      <td>NaN</td>\n      <td>173.49</td>\n      <td>1356.8</td>\n      <td>NaN</td>\n      <td>84.613936</td>\n      <td>False</td>\n      <td>...</td>\n      <td>NaN</td>\n      <td>NaN</td>\n      <td>NaN</td>\n      <td>&lt;30</td>\n      <td>MALE</td>\n      <td>&lt;19</td>\n      <td>NaN</td>\n      <td>NaN</td>\n      <td>NaN</td>\n      <td>NaN</td>\n    </tr>\n    <tr>\n      <th>19</th>\n      <td>621e2e8e67b776a24055b564</td>\n      <td>2021-05-24</td>\n      <td>19.0</td>\n      <td>-3.633045</td>\n      <td>NaN</td>\n      <td>106.87</td>\n      <td>117.5</td>\n      <td>NaN</td>\n      <td>71.443281</td>\n      <td>False</td>\n      <td>...</td>\n      <td>NaN</td>\n      <td>NaN</td>\n      <td>NaN</td>\n      <td>&lt;30</td>\n      <td>MALE</td>\n      <td>&lt;19</td>\n      <td>NaN</td>\n      <td>NaN</td>\n      <td>NaN</td>\n      <td>NaN</td>\n    </tr>\n    <tr>\n      <th>20</th>\n      <td>621e2e8e67b776a24055b564</td>\n      <td>2021-05-24</td>\n      <td>20.0</td>\n      <td>-2.408295</td>\n      <td>NaN</td>\n      <td>99.79</td>\n      <td>113.8</td>\n      <td>NaN</td>\n      <td>74.540351</td>\n      <td>False</td>\n      <td>...</td>\n      <td>NaN</td>\n      <td>NaN</td>\n      <td>NaN</td>\n      <td>&lt;30</td>\n      <td>MALE</td>\n      <td>&lt;19</td>\n      <td>NaN</td>\n      <td>NaN</td>\n      <td>NaN</td>\n      <td>NaN</td>\n    </tr>\n    <tr>\n      <th>21</th>\n      <td>621e2e8e67b776a24055b564</td>\n      <td>2021-05-24</td>\n      <td>21.0</td>\n      <td>-1.319878</td>\n      <td>NaN</td>\n      <td>79.98</td>\n      <td>27.0</td>\n      <td>NaN</td>\n      <td>72.256318</td>\n      <td>False</td>\n      <td>...</td>\n      <td>NaN</td>\n      <td>NaN</td>\n      <td>NaN</td>\n      <td>&lt;30</td>\n      <td>MALE</td>\n      <td>&lt;19</td>\n      <td>NaN</td>\n      <td>NaN</td>\n      <td>NaN</td>\n      <td>NaN</td>\n    </tr>\n    <tr>\n      <th>22</th>\n      <td>621e2e8e67b776a24055b564</td>\n      <td>2021-05-24</td>\n      <td>22.0</td>\n      <td>-0.673378</td>\n      <td>NaN</td>\n      <td>78.15</td>\n      <td>22.9</td>\n      <td>NaN</td>\n      <td>75.147874</td>\n      <td>False</td>\n      <td>...</td>\n      <td>NaN</td>\n      <td>NaN</td>\n      <td>NaN</td>\n      <td>&lt;30</td>\n      <td>MALE</td>\n      <td>&lt;19</td>\n      <td>NaN</td>\n      <td>NaN</td>\n      <td>NaN</td>\n      <td>NaN</td>\n    </tr>\n    <tr>\n      <th>23</th>\n      <td>621e2e8e67b776a24055b564</td>\n      <td>2021-05-24</td>\n      <td>23.0</td>\n      <td>-1.348523</td>\n      <td>NaN</td>\n      <td>97.60</td>\n      <td>38.9</td>\n      <td>NaN</td>\n      <td>76.055762</td>\n      <td>False</td>\n      <td>...</td>\n      <td>NaN</td>\n      <td>NaN</td>\n      <td>NaN</td>\n      <td>&lt;30</td>\n      <td>MALE</td>\n      <td>&lt;19</td>\n      <td>NaN</td>\n      <td>NaN</td>\n      <td>NaN</td>\n      <td>NaN</td>\n    </tr>\n    <tr>\n      <th>24</th>\n      <td>621e2e8e67b776a24055b564</td>\n      <td>2021-05-25</td>\n      <td>0.0</td>\n      <td>0.702230</td>\n      <td>NaN</td>\n      <td>65.73</td>\n      <td>0.0</td>\n      <td>NaN</td>\n      <td>61.358763</td>\n      <td>False</td>\n      <td>...</td>\n      <td>1374.0</td>\n      <td>4.0</td>\n      <td>0.0</td>\n      <td>&lt;30</td>\n      <td>MALE</td>\n      <td>&lt;19</td>\n      <td>NaN</td>\n      <td>NaN</td>\n      <td>NaN</td>\n      <td>NaN</td>\n    </tr>\n    <tr>\n      <th>25</th>\n      <td>621e2e8e67b776a24055b564</td>\n      <td>2021-05-25</td>\n      <td>1.0</td>\n      <td>-0.360520</td>\n      <td>NaN</td>\n      <td>65.62</td>\n      <td>0.0</td>\n      <td>NaN</td>\n      <td>59.953488</td>\n      <td>False</td>\n      <td>...</td>\n      <td>NaN</td>\n      <td>NaN</td>\n      <td>NaN</td>\n      <td>&lt;30</td>\n      <td>MALE</td>\n      <td>&lt;19</td>\n      <td>NaN</td>\n      <td>NaN</td>\n      <td>NaN</td>\n      <td>NaN</td>\n    </tr>\n    <tr>\n      <th>26</th>\n      <td>621e2e8e67b776a24055b564</td>\n      <td>2021-05-25</td>\n      <td>2.0</td>\n      <td>-1.551020</td>\n      <td>NaN</td>\n      <td>65.95</td>\n      <td>0.0</td>\n      <td>NaN</td>\n      <td>57.686937</td>\n      <td>False</td>\n      <td>...</td>\n      <td>NaN</td>\n      <td>NaN</td>\n      <td>NaN</td>\n      <td>&lt;30</td>\n      <td>MALE</td>\n      <td>&lt;19</td>\n      <td>NaN</td>\n      <td>NaN</td>\n      <td>NaN</td>\n      <td>NaN</td>\n    </tr>\n    <tr>\n      <th>27</th>\n      <td>621e2e8e67b776a24055b564</td>\n      <td>2021-05-25</td>\n      <td>3.0</td>\n      <td>-2.199353</td>\n      <td>NaN</td>\n      <td>67.26</td>\n      <td>5.1</td>\n      <td>NaN</td>\n      <td>56.282474</td>\n      <td>False</td>\n      <td>...</td>\n      <td>NaN</td>\n      <td>NaN</td>\n      <td>NaN</td>\n      <td>&lt;30</td>\n      <td>MALE</td>\n      <td>&lt;19</td>\n      <td>NaN</td>\n      <td>NaN</td>\n      <td>NaN</td>\n      <td>NaN</td>\n    </tr>\n    <tr>\n      <th>28</th>\n      <td>621e2e8e67b776a24055b564</td>\n      <td>2021-05-25</td>\n      <td>4.0</td>\n      <td>-1.437020</td>\n      <td>NaN</td>\n      <td>65.73</td>\n      <td>0.0</td>\n      <td>NaN</td>\n      <td>56.020747</td>\n      <td>False</td>\n      <td>...</td>\n      <td>NaN</td>\n      <td>NaN</td>\n      <td>NaN</td>\n      <td>&lt;30</td>\n      <td>MALE</td>\n      <td>&lt;19</td>\n      <td>NaN</td>\n      <td>NaN</td>\n      <td>NaN</td>\n      <td>NaN</td>\n    </tr>\n    <tr>\n      <th>29</th>\n      <td>621e2e8e67b776a24055b564</td>\n      <td>2021-05-25</td>\n      <td>5.0</td>\n      <td>-0.752436</td>\n      <td>NaN</td>\n      <td>65.95</td>\n      <td>0.0</td>\n      <td>NaN</td>\n      <td>56.025</td>\n      <td>False</td>\n      <td>...</td>\n      <td>NaN</td>\n      <td>NaN</td>\n      <td>NaN</td>\n      <td>&lt;30</td>\n      <td>MALE</td>\n      <td>&lt;19</td>\n      <td>NaN</td>\n      <td>NaN</td>\n      <td>NaN</td>\n      <td>NaN</td>\n    </tr>\n    <tr>\n      <th>30</th>\n      <td>621e2e8e67b776a24055b564</td>\n      <td>2021-05-25</td>\n      <td>6.0</td>\n      <td>0.105897</td>\n      <td>NaN</td>\n      <td>65.62</td>\n      <td>0.0</td>\n      <td>NaN</td>\n      <td>57.255403</td>\n      <td>False</td>\n      <td>...</td>\n      <td>NaN</td>\n      <td>NaN</td>\n      <td>NaN</td>\n      <td>&lt;30</td>\n      <td>MALE</td>\n      <td>&lt;19</td>\n      <td>NaN</td>\n      <td>NaN</td>\n      <td>NaN</td>\n      <td>NaN</td>\n    </tr>\n    <tr>\n      <th>31</th>\n      <td>621e2e8e67b776a24055b564</td>\n      <td>2021-05-25</td>\n      <td>7.0</td>\n      <td>0.411147</td>\n      <td>NaN</td>\n      <td>65.51</td>\n      <td>0.0</td>\n      <td>NaN</td>\n      <td>58.675624</td>\n      <td>False</td>\n      <td>...</td>\n      <td>NaN</td>\n      <td>NaN</td>\n      <td>NaN</td>\n      <td>&lt;30</td>\n      <td>MALE</td>\n      <td>&lt;19</td>\n      <td>NaN</td>\n      <td>NaN</td>\n      <td>NaN</td>\n      <td>NaN</td>\n    </tr>\n    <tr>\n      <th>32</th>\n      <td>621e2e8e67b776a24055b564</td>\n      <td>2021-05-25</td>\n      <td>8.0</td>\n      <td>-0.660770</td>\n      <td>NaN</td>\n      <td>66.72</td>\n      <td>0.0</td>\n      <td>NaN</td>\n      <td>62.213018</td>\n      <td>False</td>\n      <td>...</td>\n      <td>NaN</td>\n      <td>NaN</td>\n      <td>NaN</td>\n      <td>&lt;30</td>\n      <td>MALE</td>\n      <td>&lt;19</td>\n      <td>NaN</td>\n      <td>NaN</td>\n      <td>NaN</td>\n      <td>NaN</td>\n    </tr>\n    <tr>\n      <th>33</th>\n      <td>621e2e8e67b776a24055b564</td>\n      <td>2021-05-25</td>\n      <td>9.0</td>\n      <td>-3.572186</td>\n      <td>NaN</td>\n      <td>239.54</td>\n      <td>1995.8</td>\n      <td>[Walk]</td>\n      <td>95.94683</td>\n      <td>False</td>\n      <td>...</td>\n      <td>NaN</td>\n      <td>NaN</td>\n      <td>NaN</td>\n      <td>&lt;30</td>\n      <td>MALE</td>\n      <td>&lt;19</td>\n      <td>NaN</td>\n      <td>NaN</td>\n      <td>NaN</td>\n      <td>NaN</td>\n    </tr>\n    <tr>\n      <th>34</th>\n      <td>621e2e8e67b776a24055b564</td>\n      <td>2021-05-25</td>\n      <td>10.0</td>\n      <td>-3.652770</td>\n      <td>NaN</td>\n      <td>121.90</td>\n      <td>542.4</td>\n      <td>NaN</td>\n      <td>83.764286</td>\n      <td>False</td>\n      <td>...</td>\n      <td>NaN</td>\n      <td>NaN</td>\n      <td>NaN</td>\n      <td>&lt;30</td>\n      <td>MALE</td>\n      <td>&lt;19</td>\n      <td>NaN</td>\n      <td>NaN</td>\n      <td>NaN</td>\n      <td>NaN</td>\n    </tr>\n    <tr>\n      <th>35</th>\n      <td>621e2e8e67b776a24055b564</td>\n      <td>2021-05-25</td>\n      <td>11.0</td>\n      <td>-4.382520</td>\n      <td>NaN</td>\n      <td>83.72</td>\n      <td>55.9</td>\n      <td>NaN</td>\n      <td>74.722028</td>\n      <td>False</td>\n      <td>...</td>\n      <td>NaN</td>\n      <td>NaN</td>\n      <td>NaN</td>\n      <td>&lt;30</td>\n      <td>MALE</td>\n      <td>&lt;19</td>\n      <td>NaN</td>\n      <td>NaN</td>\n      <td>NaN</td>\n      <td>NaN</td>\n    </tr>\n    <tr>\n      <th>36</th>\n      <td>621e2e8e67b776a24055b564</td>\n      <td>2021-05-25</td>\n      <td>12.0</td>\n      <td>-5.375436</td>\n      <td>NaN</td>\n      <td>136.97</td>\n      <td>745.4</td>\n      <td>NaN</td>\n      <td>80.432624</td>\n      <td>False</td>\n      <td>...</td>\n      <td>NaN</td>\n      <td>NaN</td>\n      <td>NaN</td>\n      <td>&lt;30</td>\n      <td>MALE</td>\n      <td>&lt;19</td>\n      <td>NaN</td>\n      <td>NaN</td>\n      <td>NaN</td>\n      <td>NaN</td>\n    </tr>\n    <tr>\n      <th>37</th>\n      <td>621e2e8e67b776a24055b564</td>\n      <td>2021-05-25</td>\n      <td>13.0</td>\n      <td>-4.347936</td>\n      <td>NaN</td>\n      <td>111.29</td>\n      <td>401.6</td>\n      <td>NaN</td>\n      <td>79.516129</td>\n      <td>False</td>\n      <td>...</td>\n      <td>NaN</td>\n      <td>NaN</td>\n      <td>NaN</td>\n      <td>&lt;30</td>\n      <td>MALE</td>\n      <td>&lt;19</td>\n      <td>NaN</td>\n      <td>NaN</td>\n      <td>NaN</td>\n      <td>NaN</td>\n    </tr>\n    <tr>\n      <th>38</th>\n      <td>621e2e8e67b776a24055b564</td>\n      <td>2021-05-25</td>\n      <td>14.0</td>\n      <td>-3.435853</td>\n      <td>NaN</td>\n      <td>90.72</td>\n      <td>88.4</td>\n      <td>NaN</td>\n      <td>74.911348</td>\n      <td>False</td>\n      <td>...</td>\n      <td>NaN</td>\n      <td>NaN</td>\n      <td>NaN</td>\n      <td>&lt;30</td>\n      <td>MALE</td>\n      <td>&lt;19</td>\n      <td>14999</td>\n      <td>10000.0</td>\n      <td>15000.0</td>\n      <td>10000-14999</td>\n    </tr>\n    <tr>\n      <th>39</th>\n      <td>621e2e8e67b776a24055b564</td>\n      <td>2021-05-25</td>\n      <td>15.0</td>\n      <td>-3.444353</td>\n      <td>NaN</td>\n      <td>76.39</td>\n      <td>17.7</td>\n      <td>NaN</td>\n      <td>72.171875</td>\n      <td>False</td>\n      <td>...</td>\n      <td>NaN</td>\n      <td>NaN</td>\n      <td>NaN</td>\n      <td>&lt;30</td>\n      <td>MALE</td>\n      <td>&lt;19</td>\n      <td>NaN</td>\n      <td>NaN</td>\n      <td>NaN</td>\n      <td>NaN</td>\n    </tr>\n    <tr>\n      <th>40</th>\n      <td>621e2e8e67b776a24055b564</td>\n      <td>2021-05-25</td>\n      <td>16.0</td>\n      <td>-4.374436</td>\n      <td>NaN</td>\n      <td>108.86</td>\n      <td>328.7</td>\n      <td>NaN</td>\n      <td>72.77969</td>\n      <td>False</td>\n      <td>...</td>\n      <td>NaN</td>\n      <td>NaN</td>\n      <td>NaN</td>\n      <td>&lt;30</td>\n      <td>MALE</td>\n      <td>&lt;19</td>\n      <td>NaN</td>\n      <td>NaN</td>\n      <td>NaN</td>\n      <td>NaN</td>\n    </tr>\n    <tr>\n      <th>41</th>\n      <td>621e2e8e67b776a24055b564</td>\n      <td>2021-05-25</td>\n      <td>17.0</td>\n      <td>-3.981103</td>\n      <td>NaN</td>\n      <td>102.30</td>\n      <td>277.9</td>\n      <td>NaN</td>\n      <td>71.724508</td>\n      <td>False</td>\n      <td>...</td>\n      <td>NaN</td>\n      <td>NaN</td>\n      <td>NaN</td>\n      <td>&lt;30</td>\n      <td>MALE</td>\n      <td>&lt;19</td>\n      <td>NaN</td>\n      <td>NaN</td>\n      <td>NaN</td>\n      <td>NaN</td>\n    </tr>\n    <tr>\n      <th>42</th>\n      <td>621e2e8e67b776a24055b564</td>\n      <td>2021-05-25</td>\n      <td>18.0</td>\n      <td>-4.893853</td>\n      <td>NaN</td>\n      <td>228.72</td>\n      <td>2337.2</td>\n      <td>[Walk]</td>\n      <td>81.671287</td>\n      <td>False</td>\n      <td>...</td>\n      <td>NaN</td>\n      <td>NaN</td>\n      <td>NaN</td>\n      <td>&lt;30</td>\n      <td>MALE</td>\n      <td>&lt;19</td>\n      <td>NaN</td>\n      <td>NaN</td>\n      <td>NaN</td>\n      <td>NaN</td>\n    </tr>\n    <tr>\n      <th>43</th>\n      <td>621e2e8e67b776a24055b564</td>\n      <td>2021-05-25</td>\n      <td>19.0</td>\n      <td>-4.070103</td>\n      <td>NaN</td>\n      <td>110.50</td>\n      <td>244.6</td>\n      <td>NaN</td>\n      <td>74.081129</td>\n      <td>False</td>\n      <td>...</td>\n      <td>NaN</td>\n      <td>NaN</td>\n      <td>NaN</td>\n      <td>&lt;30</td>\n      <td>MALE</td>\n      <td>&lt;19</td>\n      <td>NaN</td>\n      <td>NaN</td>\n      <td>NaN</td>\n      <td>NaN</td>\n    </tr>\n    <tr>\n      <th>44</th>\n      <td>621e2e8e67b776a24055b564</td>\n      <td>2021-05-25</td>\n      <td>20.0</td>\n      <td>-2.271842</td>\n      <td>NaN</td>\n      <td>90.62</td>\n      <td>71.3</td>\n      <td>NaN</td>\n      <td>81.388889</td>\n      <td>False</td>\n      <td>...</td>\n      <td>NaN</td>\n      <td>NaN</td>\n      <td>NaN</td>\n      <td>&lt;30</td>\n      <td>MALE</td>\n      <td>&lt;19</td>\n      <td>NaN</td>\n      <td>NaN</td>\n      <td>NaN</td>\n      <td>NaN</td>\n    </tr>\n    <tr>\n      <th>45</th>\n      <td>621e2e8e67b776a24055b564</td>\n      <td>2021-05-25</td>\n      <td>21.0</td>\n      <td>-2.623686</td>\n      <td>NaN</td>\n      <td>78.26</td>\n      <td>6.6</td>\n      <td>NaN</td>\n      <td>76.517606</td>\n      <td>False</td>\n      <td>...</td>\n      <td>NaN</td>\n      <td>NaN</td>\n      <td>NaN</td>\n      <td>&lt;30</td>\n      <td>MALE</td>\n      <td>&lt;19</td>\n      <td>NaN</td>\n      <td>NaN</td>\n      <td>NaN</td>\n      <td>NaN</td>\n    </tr>\n    <tr>\n      <th>46</th>\n      <td>621e2e8e67b776a24055b564</td>\n      <td>2021-05-25</td>\n      <td>22.0</td>\n      <td>-1.751020</td>\n      <td>NaN</td>\n      <td>75.38</td>\n      <td>17.6</td>\n      <td>NaN</td>\n      <td>70.376577</td>\n      <td>False</td>\n      <td>...</td>\n      <td>NaN</td>\n      <td>NaN</td>\n      <td>NaN</td>\n      <td>&lt;30</td>\n      <td>MALE</td>\n      <td>&lt;19</td>\n      <td>NaN</td>\n      <td>NaN</td>\n      <td>NaN</td>\n      <td>NaN</td>\n    </tr>\n    <tr>\n      <th>47</th>\n      <td>621e2e8e67b776a24055b564</td>\n      <td>2021-05-25</td>\n      <td>23.0</td>\n      <td>-1.253686</td>\n      <td>NaN</td>\n      <td>82.82</td>\n      <td>42.4</td>\n      <td>NaN</td>\n      <td>68.639286</td>\n      <td>False</td>\n      <td>...</td>\n      <td>NaN</td>\n      <td>NaN</td>\n      <td>NaN</td>\n      <td>&lt;30</td>\n      <td>MALE</td>\n      <td>&lt;19</td>\n      <td>NaN</td>\n      <td>NaN</td>\n      <td>NaN</td>\n      <td>NaN</td>\n    </tr>\n    <tr>\n      <th>48</th>\n      <td>621e2e8e67b776a24055b564</td>\n      <td>2021-05-26</td>\n      <td>0.0</td>\n      <td>1.085539</td>\n      <td>NaN</td>\n      <td>65.51</td>\n      <td>0.0</td>\n      <td>NaN</td>\n      <td>59.284848</td>\n      <td>False</td>\n      <td>...</td>\n      <td>1350.0</td>\n      <td>0.0</td>\n      <td>0.0</td>\n      <td>&lt;30</td>\n      <td>MALE</td>\n      <td>&lt;19</td>\n      <td>NaN</td>\n      <td>NaN</td>\n      <td>NaN</td>\n      <td>NaN</td>\n    </tr>\n    <tr>\n      <th>49</th>\n      <td>621e2e8e67b776a24055b564</td>\n      <td>2021-05-26</td>\n      <td>1.0</td>\n      <td>0.563039</td>\n      <td>NaN</td>\n      <td>65.62</td>\n      <td>0.0</td>\n      <td>NaN</td>\n      <td>59.094845</td>\n      <td>False</td>\n      <td>...</td>\n      <td>NaN</td>\n      <td>NaN</td>\n      <td>NaN</td>\n      <td>&lt;30</td>\n      <td>MALE</td>\n      <td>&lt;19</td>\n      <td>NaN</td>\n      <td>NaN</td>\n      <td>NaN</td>\n      <td>NaN</td>\n    </tr>\n  </tbody>\n</table>\n<p>50 rows × 23 columns</p>\n</div>"
     },
     "execution_count": 494,
     "metadata": {},
     "output_type": "execute_result"
    }
   ],
   "source": [
    "df.head(50)"
   ]
  },
  {
   "cell_type": "code",
   "execution_count": 495,
   "metadata": {
    "pycharm": {
     "name": "#%%\n"
    }
   },
   "outputs": [
    {
     "name": "stdout",
     "output_type": "stream",
     "text": [
      "Duplicates based on ID and Date: 140\n",
      "Duplicates based on ID and Date and Value: 140\n"
     ]
    }
   ],
   "source": [
    "# checking for duplicates; if the two values are identical it means that all duplicates (in terms of date and ID) have also equal values.\n",
    "print(\"Duplicates based on ID and Date: {}\".format(df[df.duplicated(subset=['id','date', 'hour'], keep=False)].shape[0]))\n",
    "print(\"Duplicates based on ID and Date and Value: {}\".format(df[df.duplicated(subset=['id','date', 'hour', 'step_goal_label'], keep=False)].shape[0]))"
   ]
  },
  {
   "cell_type": "code",
   "execution_count": 496,
   "outputs": [
    {
     "data": {
      "text/plain": "                             id        date hour          temperature  \\\n19315  621e301e67b776a240608a72  2021-08-28  0.0  0.06868898333333334   \n19316  621e301e67b776a240608a72  2021-08-28  0.0  0.06868898333333334   \n\n      badgeType calories distance activityType               bpm  \\\n19315       nan   154.84     88.7          nan  96.2668416447944   \n19316       nan   154.84     88.7          nan  96.2668416447944   \n\n      mindfulness_session  ... minutes_below_default_zone_1  \\\n19315               False  ...                        154.0   \n19316               False  ...                        219.0   \n\n      minutes_in_default_zone_2 minutes_in_default_zone_3  age  gender   bmi  \\\n19315                      65.0                       0.0  <30  FEMALE  19.0   \n19316                     100.0                       0.0  <30  FEMALE  19.0   \n\n      step_goal min_goal max_goal step_goal_label  \n19315       nan      nan      nan             nan  \n19316       nan      nan      nan             nan  \n\n[2 rows x 23 columns]",
      "text/html": "<div>\n<style scoped>\n    .dataframe tbody tr th:only-of-type {\n        vertical-align: middle;\n    }\n\n    .dataframe tbody tr th {\n        vertical-align: top;\n    }\n\n    .dataframe thead th {\n        text-align: right;\n    }\n</style>\n<table border=\"1\" class=\"dataframe\">\n  <thead>\n    <tr style=\"text-align: right;\">\n      <th></th>\n      <th>id</th>\n      <th>date</th>\n      <th>hour</th>\n      <th>temperature</th>\n      <th>badgeType</th>\n      <th>calories</th>\n      <th>distance</th>\n      <th>activityType</th>\n      <th>bpm</th>\n      <th>mindfulness_session</th>\n      <th>...</th>\n      <th>minutes_below_default_zone_1</th>\n      <th>minutes_in_default_zone_2</th>\n      <th>minutes_in_default_zone_3</th>\n      <th>age</th>\n      <th>gender</th>\n      <th>bmi</th>\n      <th>step_goal</th>\n      <th>min_goal</th>\n      <th>max_goal</th>\n      <th>step_goal_label</th>\n    </tr>\n  </thead>\n  <tbody>\n    <tr>\n      <th>19315</th>\n      <td>621e301e67b776a240608a72</td>\n      <td>2021-08-28</td>\n      <td>0.0</td>\n      <td>0.06868898333333334</td>\n      <td>nan</td>\n      <td>154.84</td>\n      <td>88.7</td>\n      <td>nan</td>\n      <td>96.2668416447944</td>\n      <td>False</td>\n      <td>...</td>\n      <td>154.0</td>\n      <td>65.0</td>\n      <td>0.0</td>\n      <td>&lt;30</td>\n      <td>FEMALE</td>\n      <td>19.0</td>\n      <td>nan</td>\n      <td>nan</td>\n      <td>nan</td>\n      <td>nan</td>\n    </tr>\n    <tr>\n      <th>19316</th>\n      <td>621e301e67b776a240608a72</td>\n      <td>2021-08-28</td>\n      <td>0.0</td>\n      <td>0.06868898333333334</td>\n      <td>nan</td>\n      <td>154.84</td>\n      <td>88.7</td>\n      <td>nan</td>\n      <td>96.2668416447944</td>\n      <td>False</td>\n      <td>...</td>\n      <td>219.0</td>\n      <td>100.0</td>\n      <td>0.0</td>\n      <td>&lt;30</td>\n      <td>FEMALE</td>\n      <td>19.0</td>\n      <td>nan</td>\n      <td>nan</td>\n      <td>nan</td>\n      <td>nan</td>\n    </tr>\n  </tbody>\n</table>\n<p>2 rows × 23 columns</p>\n</div>"
     },
     "execution_count": 496,
     "metadata": {},
     "output_type": "execute_result"
    }
   ],
   "source": [
    "# checking for duplicates; if the two values are identical it means that all duplicates (in terms of date and ID) have also equal values.\n",
    "no_dups = df.astype(str).drop_duplicates()\n",
    "no_dups[no_dups.astype(str).duplicated(keep = False, subset=['id','date', 'hour'])]"
   ],
   "metadata": {
    "collapsed": false,
    "pycharm": {
     "name": "#%%\n"
    }
   }
  },
  {
   "cell_type": "code",
   "execution_count": 497,
   "outputs": [
    {
     "data": {
      "text/plain": "id                                      object\ndate                            datetime64[ns]\nhour                                   float64\ntemperature                            float64\nbadgeType                               object\ncalories                               float64\ndistance                               float64\nactivityType                            object\nbpm                                     object\nmindfulness_session                     object\nscl_avg                                float64\nsteps                                  float64\nminutes_in_default_zone_1              float64\nminutes_below_default_zone_1           float64\nminutes_in_default_zone_2              float64\nminutes_in_default_zone_3              float64\nage                                     object\ngender                                  object\nbmi                                     object\nstep_goal                               object\nmin_goal                               float64\nmax_goal                               float64\nstep_goal_label                         object\ndtype: object"
     },
     "execution_count": 497,
     "metadata": {},
     "output_type": "execute_result"
    }
   ],
   "source": [
    "df.dtypes"
   ],
   "metadata": {
    "collapsed": false,
    "pycharm": {
     "name": "#%%\n"
    }
   }
  },
  {
   "cell_type": "markdown",
   "metadata": {
    "pycharm": {
     "name": "#%% md\n"
    }
   },
   "source": [
    "### Integrating Εmotions & Location"
   ]
  },
  {
   "cell_type": "code",
   "execution_count": 498,
   "metadata": {
    "pycharm": {
     "name": "#%%\n"
    }
   },
   "outputs": [
    {
     "name": "stdout",
     "output_type": "stream",
     "text": [
      "                    user_id       date  hour data.MOOD   data.PLACE\n",
      "0  621e2e8e67b776a24055b564 2021-06-10    16   NEUTRAL  WORK/SCHOOL\n",
      "1  621e2e8e67b776a24055b564 2021-06-13    14   NEUTRAL         HOME\n",
      "2  621e2e8e67b776a24055b564 2021-07-24    15     HAPPY     OUTDOORS\n",
      "3  621e2e8e67b776a24055b564 2021-06-01    10     HAPPY     OUTDOORS\n",
      "4  621e2e8e67b776a24055b564 2021-06-21    18     TIRED     OUTDOORS\n"
     ]
    }
   ],
   "source": [
    "# read data\n",
    "if not os.path.exists('./data/sema_mood_place_hourly.pkl'):\n",
    "    # Get user self-reported goals from SEMA\n",
    "    users = db.sema.distinct('user_id')\n",
    "\n",
    "    sema_mood = pd.DataFrame(columns=[\"_id\", \"user_id\", \"data\"])\n",
    "    for user in users:\n",
    "        user_data = pd.DataFrame(list(\n",
    "                        db.sema.find({\n",
    "                            \"$or\": [\n",
    "                                {\n",
    "                                    \"$and\": [\n",
    "                                        { \"data.MOOD\": { \"$ne\": \"<no-response>\" } },\n",
    "                                        {\"data.MOOD\": { \"$ne\": None }},\n",
    "                                        {\"user_id\": user}\n",
    "                                    ]\n",
    "                                },\n",
    "                                {\n",
    "                                    \"$and\": [\n",
    "                                        { \"data.PLACE\": { \"$ne\": \"<no-response>\" } },\n",
    "                                        {\"data.PLACE\": { \"$ne\": None }},\n",
    "                                        {\"user_id\": user}\n",
    "                                    ]\n",
    "                                }\n",
    "                            ]\n",
    "                        },\n",
    "                            {\"data.MOOD\": 1, \"data.PLACE\": 1, \"id\": 1, \"_id\": 0, \"user_id\": 1, \"data.STARTED_TS\": 1}\n",
    "                        )\n",
    "                    ))\n",
    "\n",
    "        sema_mood = pd.concat([sema_mood, user_data], axis=0)\n",
    "\n",
    "    sema_mood[\"date\"] = pd.to_datetime(sema_mood[\"data\"].apply(lambda d: d[\"STARTED_TS\"]), infer_datetime_format=True)\n",
    "    sema_mood[\"hour\"] = sema_mood[\"date\"].dt.hour\n",
    "    sema_mood[\"date\"] = pd.to_datetime(sema_mood[\"date\"].dt.date, infer_datetime_format=True)\n",
    "    sema_mood[\"data.MOOD\"] = sema_mood[\"data\"].apply(lambda d: d[\"MOOD\"])\n",
    "    sema_mood[\"data.PLACE\"] = sema_mood[\"data\"].apply(lambda d: d[\"PLACE\"])\n",
    "    sema_mood.drop([\"_id\", \"data\"], axis=1, inplace=True)\n",
    "    sema_mood.to_pickle('./data/sema_mood_place_hourly.pkl')\n",
    "else:\n",
    "    sema_mood = pd.read_pickle('./data/sema_mood_place_hourly.pkl')\n",
    "print(sema_mood.head())"
   ]
  },
  {
   "cell_type": "code",
   "execution_count": 499,
   "metadata": {
    "pycharm": {
     "name": "#%%\n"
    }
   },
   "outputs": [
    {
     "data": {
      "text/plain": "                    user_id       date  hour data.MOOD   data.PLACE\n0  621e2e8e67b776a24055b564 2021-06-10    16   NEUTRAL  WORK/SCHOOL\n1  621e2e8e67b776a24055b564 2021-06-13    14   NEUTRAL         HOME\n2  621e2e8e67b776a24055b564 2021-07-24    15     HAPPY     OUTDOORS\n3  621e2e8e67b776a24055b564 2021-06-01    10     HAPPY     OUTDOORS\n4  621e2e8e67b776a24055b564 2021-06-21    18     TIRED     OUTDOORS",
      "text/html": "<div>\n<style scoped>\n    .dataframe tbody tr th:only-of-type {\n        vertical-align: middle;\n    }\n\n    .dataframe tbody tr th {\n        vertical-align: top;\n    }\n\n    .dataframe thead th {\n        text-align: right;\n    }\n</style>\n<table border=\"1\" class=\"dataframe\">\n  <thead>\n    <tr style=\"text-align: right;\">\n      <th></th>\n      <th>user_id</th>\n      <th>date</th>\n      <th>hour</th>\n      <th>data.MOOD</th>\n      <th>data.PLACE</th>\n    </tr>\n  </thead>\n  <tbody>\n    <tr>\n      <th>0</th>\n      <td>621e2e8e67b776a24055b564</td>\n      <td>2021-06-10</td>\n      <td>16</td>\n      <td>NEUTRAL</td>\n      <td>WORK/SCHOOL</td>\n    </tr>\n    <tr>\n      <th>1</th>\n      <td>621e2e8e67b776a24055b564</td>\n      <td>2021-06-13</td>\n      <td>14</td>\n      <td>NEUTRAL</td>\n      <td>HOME</td>\n    </tr>\n    <tr>\n      <th>2</th>\n      <td>621e2e8e67b776a24055b564</td>\n      <td>2021-07-24</td>\n      <td>15</td>\n      <td>HAPPY</td>\n      <td>OUTDOORS</td>\n    </tr>\n    <tr>\n      <th>3</th>\n      <td>621e2e8e67b776a24055b564</td>\n      <td>2021-06-01</td>\n      <td>10</td>\n      <td>HAPPY</td>\n      <td>OUTDOORS</td>\n    </tr>\n    <tr>\n      <th>4</th>\n      <td>621e2e8e67b776a24055b564</td>\n      <td>2021-06-21</td>\n      <td>18</td>\n      <td>TIRED</td>\n      <td>OUTDOORS</td>\n    </tr>\n  </tbody>\n</table>\n</div>"
     },
     "execution_count": 499,
     "metadata": {},
     "output_type": "execute_result"
    }
   ],
   "source": [
    "infile = open('./data/sema_mood_place_hourly.pkl','rb')\n",
    "sema = pickle.load(infile)\n",
    "infile.close()\n",
    "\n",
    "sema.head() # year-month-day e.g. 2021-05-24"
   ]
  },
  {
   "cell_type": "code",
   "execution_count": 500,
   "metadata": {
    "pycharm": {
     "name": "#%%\n"
    }
   },
   "outputs": [
    {
     "name": "stdout",
     "output_type": "stream",
     "text": [
      "RESTED/RELAXED    1179\n",
      "TIRED             1126\n",
      "NEUTRAL            822\n",
      "HAPPY              790\n",
      "TENSE/ANXIOUS      620\n",
      "ALERT              345\n",
      "SAD                149\n",
      "Name: data.MOOD, dtype: int64\n",
      "HOME             2960\n",
      "WORK/SCHOOL       869\n",
      "OUTDOORS          381\n",
      "HOME_OFFICE       309\n",
      "TRANSIT           224\n",
      "ENTERTAINMENT     209\n",
      "OTHER              60\n",
      "GYM                18\n",
      "Name: data.PLACE, dtype: int64\n"
     ]
    },
    {
     "data": {
      "text/plain": "                    user_id       date  hour data.MOOD   data.PLACE\n0  621e2e8e67b776a24055b564 2021-06-10    16   NEUTRAL  WORK/SCHOOL\n1  621e2e8e67b776a24055b564 2021-06-13    14   NEUTRAL         HOME\n2  621e2e8e67b776a24055b564 2021-07-24    15     HAPPY     OUTDOORS\n3  621e2e8e67b776a24055b564 2021-06-01    10     HAPPY     OUTDOORS\n4  621e2e8e67b776a24055b564 2021-06-21    18     TIRED     OUTDOORS",
      "text/html": "<div>\n<style scoped>\n    .dataframe tbody tr th:only-of-type {\n        vertical-align: middle;\n    }\n\n    .dataframe tbody tr th {\n        vertical-align: top;\n    }\n\n    .dataframe thead th {\n        text-align: right;\n    }\n</style>\n<table border=\"1\" class=\"dataframe\">\n  <thead>\n    <tr style=\"text-align: right;\">\n      <th></th>\n      <th>user_id</th>\n      <th>date</th>\n      <th>hour</th>\n      <th>data.MOOD</th>\n      <th>data.PLACE</th>\n    </tr>\n  </thead>\n  <tbody>\n    <tr>\n      <th>0</th>\n      <td>621e2e8e67b776a24055b564</td>\n      <td>2021-06-10</td>\n      <td>16</td>\n      <td>NEUTRAL</td>\n      <td>WORK/SCHOOL</td>\n    </tr>\n    <tr>\n      <th>1</th>\n      <td>621e2e8e67b776a24055b564</td>\n      <td>2021-06-13</td>\n      <td>14</td>\n      <td>NEUTRAL</td>\n      <td>HOME</td>\n    </tr>\n    <tr>\n      <th>2</th>\n      <td>621e2e8e67b776a24055b564</td>\n      <td>2021-07-24</td>\n      <td>15</td>\n      <td>HAPPY</td>\n      <td>OUTDOORS</td>\n    </tr>\n    <tr>\n      <th>3</th>\n      <td>621e2e8e67b776a24055b564</td>\n      <td>2021-06-01</td>\n      <td>10</td>\n      <td>HAPPY</td>\n      <td>OUTDOORS</td>\n    </tr>\n    <tr>\n      <th>4</th>\n      <td>621e2e8e67b776a24055b564</td>\n      <td>2021-06-21</td>\n      <td>18</td>\n      <td>TIRED</td>\n      <td>OUTDOORS</td>\n    </tr>\n  </tbody>\n</table>\n</div>"
     },
     "execution_count": 500,
     "metadata": {},
     "output_type": "execute_result"
    }
   ],
   "source": [
    "# process dateTime to date\n",
    "# sema['date'] = pd.to_datetime(sema['Dates'])\n",
    "# sema.drop(['data.CREATED_TS', 'Dates'], axis=1, inplace=True)\n",
    "\n",
    "# replace not common moods\n",
    "sema['data.MOOD'] = sema['data.MOOD'].apply(lambda mood: 'SAD' if mood == 'SADNESS' else ('HAPPY' if mood == 'JOY' else mood))\n",
    "sema = sema[(sema['data.MOOD'] != 'FEAR') & (sema['data.MOOD'] != 'SURPRISE') & (sema['data.MOOD'] != 'ANGER') & (sema['data.MOOD'] != '<no-response>')]\n",
    "print(sema['data.MOOD'].value_counts())\n",
    "print(sema['data.PLACE'].value_counts())\n",
    "\n",
    "sema.head()"
   ]
  },
  {
   "cell_type": "code",
   "execution_count": 501,
   "metadata": {
    "pycharm": {
     "name": "#%%\n"
    }
   },
   "outputs": [
    {
     "name": "stdout",
     "output_type": "stream",
     "text": [
      "   ALERT  HAPPY  NEUTRAL  RESTED/RELAXED  SAD  TENSE/ANXIOUS  TIRED\n",
      "0      0      0        1               0    0              0      0\n",
      "1      0      0        1               0    0              0      0\n",
      "2      0      1        0               0    0              0      0\n",
      "3      0      1        0               0    0              0      0\n",
      "4      0      0        0               0    0              0      1\n",
      "   ENTERTAINMENT  GYM  HOME  HOME_OFFICE  OTHER  OUTDOORS  TRANSIT  \\\n",
      "0              0    0     0            0      0         0        0   \n",
      "1              0    0     1            0      0         0        0   \n",
      "2              0    0     0            0      0         1        0   \n",
      "3              0    0     0            0      0         1        0   \n",
      "4              0    0     0            0      0         1        0   \n",
      "\n",
      "   WORK/SCHOOL  \n",
      "0            1  \n",
      "1            0  \n",
      "2            0  \n",
      "3            0  \n",
      "4            0  \n"
     ]
    }
   ],
   "source": [
    "sema_moods = pd.get_dummies(sema['data.MOOD'])\n",
    "sema_places = pd.get_dummies(sema['data.PLACE'])\n",
    "print(sema_moods.head())\n",
    "print(sema_places.head())"
   ]
  },
  {
   "cell_type": "code",
   "execution_count": 502,
   "metadata": {
    "pycharm": {
     "name": "#%%\n"
    }
   },
   "outputs": [
    {
     "data": {
      "text/plain": "                     user_id       date  hour  ALERT  HAPPY  NEUTRAL  \\\n0   621e2e8e67b776a24055b564 2021-06-10    16      0      0        1   \n1   621e2e8e67b776a24055b564 2021-06-13    14      0      0        1   \n2   621e2e8e67b776a24055b564 2021-07-24    15      0      1        0   \n3   621e2e8e67b776a24055b564 2021-06-01    10      0      1        0   \n4   621e2e8e67b776a24055b564 2021-06-21    18      0      0        0   \n5   621e2e8e67b776a24055b564 2021-05-27    11      0      1        0   \n6   621e2e8e67b776a24055b564 2021-06-15    19      0      0        0   \n7   621e2e8e67b776a24055b564 2021-07-22    10      0      0        1   \n8   621e2e8e67b776a24055b564 2021-06-02    12      0      1        0   \n9   621e2e8e67b776a24055b564 2021-06-17    10      0      0        1   \n10  621e2e8e67b776a24055b564 2021-07-15    15      0      0        1   \n11  621e2e8e67b776a24055b564 2021-07-18    20      0      0        1   \n12  621e2e8e67b776a24055b564 2021-06-07    19      0      0        0   \n13  621e2e8e67b776a24055b564 2021-07-11    14      0      0        1   \n14  621e2e8e67b776a24055b564 2021-06-15    11      0      0        1   \n15  621e2e8e67b776a24055b564 2021-05-26    17      0      1        0   \n16  621e2e8e67b776a24055b564 2021-05-28    16      0      1        0   \n17  621e2e8e67b776a24055b564 2021-06-03    13      0      1        0   \n18  621e2e8e67b776a24055b564 2021-07-09    10      0      0        0   \n19  621e2e8e67b776a24055b564 2021-06-01    17      0      1        0   \n20  621e2e8e67b776a24055b564 2021-06-25    19      0      0        1   \n21  621e2e8e67b776a24055b564 2021-06-12    22      0      0        1   \n22  621e2e8e67b776a24055b564 2021-06-13    19      0      0        1   \n23  621e2e8e67b776a24055b564 2021-07-13    12      0      0        1   \n25  621e2e8e67b776a24055b564 2021-06-09    13      0      1        0   \n26  621e2e8e67b776a24055b564 2021-07-20    10      0      0        1   \n27  621e2e8e67b776a24055b564 2021-07-09    16      0      0        1   \n28  621e2e8e67b776a24055b564 2021-06-10    11      0      0        1   \n29  621e2e8e67b776a24055b564 2021-05-30    22      0      0        0   \n30  621e2e8e67b776a24055b564 2021-06-18    13      0      0        1   \n31  621e2e8e67b776a24055b564 2021-05-29    21      0      1        0   \n32  621e2e8e67b776a24055b564 2021-07-21    15      0      0        0   \n33  621e2e8e67b776a24055b564 2021-06-23    10      0      0        1   \n34  621e2e8e67b776a24055b564 2021-07-12    11      0      0        1   \n35  621e2e8e67b776a24055b564 2021-07-18    12      0      0        1   \n36  621e2e8e67b776a24055b564 2021-06-20    15      0      0        0   \n37  621e2e8e67b776a24055b564 2021-05-30    15      0      1        0   \n38  621e2e8e67b776a24055b564 2021-07-14    13      0      0        1   \n39  621e2e8e67b776a24055b564 2021-05-31    15      0      0        0   \n40  621e2e8e67b776a24055b564 2021-06-23    19      0      0        0   \n41  621e2e8e67b776a24055b564 2021-06-14    11      0      1        0   \n42  621e2e8e67b776a24055b564 2021-07-22    15      0      0        1   \n43  621e2e8e67b776a24055b564 2021-05-31    20      0      0        0   \n44  621e2e8e67b776a24055b564 2021-07-21    10      0      0        1   \n45  621e2e8e67b776a24055b564 2021-06-28    16      0      0        0   \n46  621e2e8e67b776a24055b564 2021-05-25    10      0      1        0   \n47  621e2e8e67b776a24055b564 2021-05-25    18      0      0        0   \n48  621e2e8e67b776a24055b564 2021-06-27    15      0      0        1   \n49  621e2e8e67b776a24055b564 2021-07-20    15      0      0        1   \n50  621e2e8e67b776a24055b564 2021-06-11    10      0      1        0   \n\n    RESTED/RELAXED  SAD  TENSE/ANXIOUS  TIRED  ENTERTAINMENT  GYM  HOME  \\\n0                0    0              0      0              0    0     0   \n1                0    0              0      0              0    0     1   \n2                0    0              0      0              0    0     0   \n3                0    0              0      0              0    0     0   \n4                0    0              0      1              0    0     0   \n5                0    0              0      0              0    0     0   \n6                0    0              0      1              0    0     0   \n7                0    0              0      0              0    0     0   \n8                0    0              0      0              1    0     0   \n9                0    0              0      0              0    0     0   \n10               0    0              0      0              0    0     0   \n11               0    0              0      0              0    0     0   \n12               0    0              0      1              0    0     0   \n13               0    0              0      0              0    0     0   \n14               0    0              0      0              0    0     0   \n15               0    0              0      0              0    0     0   \n16               0    0              0      0              0    0     0   \n17               0    0              0      0              0    0     0   \n18               0    0              1      0              0    0     0   \n19               0    0              0      0              0    0     0   \n20               0    0              0      0              0    0     0   \n21               0    0              0      0              0    0     1   \n22               0    0              0      0              0    0     0   \n23               0    0              0      0              0    0     0   \n25               0    0              0      0              0    0     0   \n26               0    0              0      0              0    0     0   \n27               0    0              0      0              0    0     0   \n28               0    0              0      0              0    0     0   \n29               0    0              0      1              0    0     1   \n30               0    0              0      0              1    0     0   \n31               0    0              0      0              0    0     1   \n32               1    0              0      0              0    0     0   \n33               0    0              0      0              0    0     0   \n34               0    0              0      0              0    0     0   \n35               0    0              0      0              0    0     1   \n36               0    0              0      1              0    0     1   \n37               0    0              0      0              0    0     0   \n38               0    0              0      0              1    0     0   \n39               0    0              1      0              0    0     0   \n40               0    0              0      1              0    0     1   \n41               0    0              0      0              0    0     0   \n42               0    0              0      0              0    0     0   \n43               0    0              0      1              0    0     1   \n44               0    0              0      0              0    0     0   \n45               0    0              0      1              0    0     0   \n46               0    0              0      0              0    0     0   \n47               0    0              0      1              0    0     0   \n48               0    0              0      0              0    0     0   \n49               0    0              0      0              0    0     0   \n50               0    0              0      0              0    0     0   \n\n    HOME_OFFICE  OTHER  OUTDOORS  TRANSIT  WORK/SCHOOL  \n0             0      0         0        0            1  \n1             0      0         0        0            0  \n2             0      0         1        0            0  \n3             0      0         1        0            0  \n4             0      0         1        0            0  \n5             0      0         0        0            1  \n6             0      0         1        0            0  \n7             0      0         0        0            1  \n8             0      0         0        0            0  \n9             0      0         0        0            1  \n10            0      0         0        0            1  \n11            0      0         1        0            0  \n12            0      0         1        0            0  \n13            0      0         1        0            0  \n14            0      0         0        0            1  \n15            0      0         1        0            0  \n16            0      0         1        0            0  \n17            0      0         0        0            1  \n18            0      0         0        0            1  \n19            0      0         0        0            1  \n20            0      0         1        0            0  \n21            0      0         0        0            0  \n22            0      0         1        0            0  \n23            0      0         0        0            1  \n25            0      0         0        0            1  \n26            0      0         0        0            1  \n27            0      0         0        0            1  \n28            0      0         0        0            1  \n29            0      0         0        0            0  \n30            0      0         0        0            0  \n31            0      0         0        0            0  \n32            0      0         0        0            1  \n33            0      0         0        0            1  \n34            0      0         0        0            1  \n35            0      0         0        0            0  \n36            0      0         0        0            0  \n37            0      0         1        0            0  \n38            0      0         0        0            0  \n39            0      0         0        0            1  \n40            0      0         0        0            0  \n41            0      0         0        0            1  \n42            0      0         0        0            1  \n43            0      0         0        0            0  \n44            0      0         1        0            0  \n45            0      0         0        0            1  \n46            0      0         0        0            1  \n47            0      0         1        0            0  \n48            0      0         1        0            0  \n49            0      0         0        0            1  \n50            0      0         1        0            0  ",
      "text/html": "<div>\n<style scoped>\n    .dataframe tbody tr th:only-of-type {\n        vertical-align: middle;\n    }\n\n    .dataframe tbody tr th {\n        vertical-align: top;\n    }\n\n    .dataframe thead th {\n        text-align: right;\n    }\n</style>\n<table border=\"1\" class=\"dataframe\">\n  <thead>\n    <tr style=\"text-align: right;\">\n      <th></th>\n      <th>user_id</th>\n      <th>date</th>\n      <th>hour</th>\n      <th>ALERT</th>\n      <th>HAPPY</th>\n      <th>NEUTRAL</th>\n      <th>RESTED/RELAXED</th>\n      <th>SAD</th>\n      <th>TENSE/ANXIOUS</th>\n      <th>TIRED</th>\n      <th>ENTERTAINMENT</th>\n      <th>GYM</th>\n      <th>HOME</th>\n      <th>HOME_OFFICE</th>\n      <th>OTHER</th>\n      <th>OUTDOORS</th>\n      <th>TRANSIT</th>\n      <th>WORK/SCHOOL</th>\n    </tr>\n  </thead>\n  <tbody>\n    <tr>\n      <th>0</th>\n      <td>621e2e8e67b776a24055b564</td>\n      <td>2021-06-10</td>\n      <td>16</td>\n      <td>0</td>\n      <td>0</td>\n      <td>1</td>\n      <td>0</td>\n      <td>0</td>\n      <td>0</td>\n      <td>0</td>\n      <td>0</td>\n      <td>0</td>\n      <td>0</td>\n      <td>0</td>\n      <td>0</td>\n      <td>0</td>\n      <td>0</td>\n      <td>1</td>\n    </tr>\n    <tr>\n      <th>1</th>\n      <td>621e2e8e67b776a24055b564</td>\n      <td>2021-06-13</td>\n      <td>14</td>\n      <td>0</td>\n      <td>0</td>\n      <td>1</td>\n      <td>0</td>\n      <td>0</td>\n      <td>0</td>\n      <td>0</td>\n      <td>0</td>\n      <td>0</td>\n      <td>1</td>\n      <td>0</td>\n      <td>0</td>\n      <td>0</td>\n      <td>0</td>\n      <td>0</td>\n    </tr>\n    <tr>\n      <th>2</th>\n      <td>621e2e8e67b776a24055b564</td>\n      <td>2021-07-24</td>\n      <td>15</td>\n      <td>0</td>\n      <td>1</td>\n      <td>0</td>\n      <td>0</td>\n      <td>0</td>\n      <td>0</td>\n      <td>0</td>\n      <td>0</td>\n      <td>0</td>\n      <td>0</td>\n      <td>0</td>\n      <td>0</td>\n      <td>1</td>\n      <td>0</td>\n      <td>0</td>\n    </tr>\n    <tr>\n      <th>3</th>\n      <td>621e2e8e67b776a24055b564</td>\n      <td>2021-06-01</td>\n      <td>10</td>\n      <td>0</td>\n      <td>1</td>\n      <td>0</td>\n      <td>0</td>\n      <td>0</td>\n      <td>0</td>\n      <td>0</td>\n      <td>0</td>\n      <td>0</td>\n      <td>0</td>\n      <td>0</td>\n      <td>0</td>\n      <td>1</td>\n      <td>0</td>\n      <td>0</td>\n    </tr>\n    <tr>\n      <th>4</th>\n      <td>621e2e8e67b776a24055b564</td>\n      <td>2021-06-21</td>\n      <td>18</td>\n      <td>0</td>\n      <td>0</td>\n      <td>0</td>\n      <td>0</td>\n      <td>0</td>\n      <td>0</td>\n      <td>1</td>\n      <td>0</td>\n      <td>0</td>\n      <td>0</td>\n      <td>0</td>\n      <td>0</td>\n      <td>1</td>\n      <td>0</td>\n      <td>0</td>\n    </tr>\n    <tr>\n      <th>5</th>\n      <td>621e2e8e67b776a24055b564</td>\n      <td>2021-05-27</td>\n      <td>11</td>\n      <td>0</td>\n      <td>1</td>\n      <td>0</td>\n      <td>0</td>\n      <td>0</td>\n      <td>0</td>\n      <td>0</td>\n      <td>0</td>\n      <td>0</td>\n      <td>0</td>\n      <td>0</td>\n      <td>0</td>\n      <td>0</td>\n      <td>0</td>\n      <td>1</td>\n    </tr>\n    <tr>\n      <th>6</th>\n      <td>621e2e8e67b776a24055b564</td>\n      <td>2021-06-15</td>\n      <td>19</td>\n      <td>0</td>\n      <td>0</td>\n      <td>0</td>\n      <td>0</td>\n      <td>0</td>\n      <td>0</td>\n      <td>1</td>\n      <td>0</td>\n      <td>0</td>\n      <td>0</td>\n      <td>0</td>\n      <td>0</td>\n      <td>1</td>\n      <td>0</td>\n      <td>0</td>\n    </tr>\n    <tr>\n      <th>7</th>\n      <td>621e2e8e67b776a24055b564</td>\n      <td>2021-07-22</td>\n      <td>10</td>\n      <td>0</td>\n      <td>0</td>\n      <td>1</td>\n      <td>0</td>\n      <td>0</td>\n      <td>0</td>\n      <td>0</td>\n      <td>0</td>\n      <td>0</td>\n      <td>0</td>\n      <td>0</td>\n      <td>0</td>\n      <td>0</td>\n      <td>0</td>\n      <td>1</td>\n    </tr>\n    <tr>\n      <th>8</th>\n      <td>621e2e8e67b776a24055b564</td>\n      <td>2021-06-02</td>\n      <td>12</td>\n      <td>0</td>\n      <td>1</td>\n      <td>0</td>\n      <td>0</td>\n      <td>0</td>\n      <td>0</td>\n      <td>0</td>\n      <td>1</td>\n      <td>0</td>\n      <td>0</td>\n      <td>0</td>\n      <td>0</td>\n      <td>0</td>\n      <td>0</td>\n      <td>0</td>\n    </tr>\n    <tr>\n      <th>9</th>\n      <td>621e2e8e67b776a24055b564</td>\n      <td>2021-06-17</td>\n      <td>10</td>\n      <td>0</td>\n      <td>0</td>\n      <td>1</td>\n      <td>0</td>\n      <td>0</td>\n      <td>0</td>\n      <td>0</td>\n      <td>0</td>\n      <td>0</td>\n      <td>0</td>\n      <td>0</td>\n      <td>0</td>\n      <td>0</td>\n      <td>0</td>\n      <td>1</td>\n    </tr>\n    <tr>\n      <th>10</th>\n      <td>621e2e8e67b776a24055b564</td>\n      <td>2021-07-15</td>\n      <td>15</td>\n      <td>0</td>\n      <td>0</td>\n      <td>1</td>\n      <td>0</td>\n      <td>0</td>\n      <td>0</td>\n      <td>0</td>\n      <td>0</td>\n      <td>0</td>\n      <td>0</td>\n      <td>0</td>\n      <td>0</td>\n      <td>0</td>\n      <td>0</td>\n      <td>1</td>\n    </tr>\n    <tr>\n      <th>11</th>\n      <td>621e2e8e67b776a24055b564</td>\n      <td>2021-07-18</td>\n      <td>20</td>\n      <td>0</td>\n      <td>0</td>\n      <td>1</td>\n      <td>0</td>\n      <td>0</td>\n      <td>0</td>\n      <td>0</td>\n      <td>0</td>\n      <td>0</td>\n      <td>0</td>\n      <td>0</td>\n      <td>0</td>\n      <td>1</td>\n      <td>0</td>\n      <td>0</td>\n    </tr>\n    <tr>\n      <th>12</th>\n      <td>621e2e8e67b776a24055b564</td>\n      <td>2021-06-07</td>\n      <td>19</td>\n      <td>0</td>\n      <td>0</td>\n      <td>0</td>\n      <td>0</td>\n      <td>0</td>\n      <td>0</td>\n      <td>1</td>\n      <td>0</td>\n      <td>0</td>\n      <td>0</td>\n      <td>0</td>\n      <td>0</td>\n      <td>1</td>\n      <td>0</td>\n      <td>0</td>\n    </tr>\n    <tr>\n      <th>13</th>\n      <td>621e2e8e67b776a24055b564</td>\n      <td>2021-07-11</td>\n      <td>14</td>\n      <td>0</td>\n      <td>0</td>\n      <td>1</td>\n      <td>0</td>\n      <td>0</td>\n      <td>0</td>\n      <td>0</td>\n      <td>0</td>\n      <td>0</td>\n      <td>0</td>\n      <td>0</td>\n      <td>0</td>\n      <td>1</td>\n      <td>0</td>\n      <td>0</td>\n    </tr>\n    <tr>\n      <th>14</th>\n      <td>621e2e8e67b776a24055b564</td>\n      <td>2021-06-15</td>\n      <td>11</td>\n      <td>0</td>\n      <td>0</td>\n      <td>1</td>\n      <td>0</td>\n      <td>0</td>\n      <td>0</td>\n      <td>0</td>\n      <td>0</td>\n      <td>0</td>\n      <td>0</td>\n      <td>0</td>\n      <td>0</td>\n      <td>0</td>\n      <td>0</td>\n      <td>1</td>\n    </tr>\n    <tr>\n      <th>15</th>\n      <td>621e2e8e67b776a24055b564</td>\n      <td>2021-05-26</td>\n      <td>17</td>\n      <td>0</td>\n      <td>1</td>\n      <td>0</td>\n      <td>0</td>\n      <td>0</td>\n      <td>0</td>\n      <td>0</td>\n      <td>0</td>\n      <td>0</td>\n      <td>0</td>\n      <td>0</td>\n      <td>0</td>\n      <td>1</td>\n      <td>0</td>\n      <td>0</td>\n    </tr>\n    <tr>\n      <th>16</th>\n      <td>621e2e8e67b776a24055b564</td>\n      <td>2021-05-28</td>\n      <td>16</td>\n      <td>0</td>\n      <td>1</td>\n      <td>0</td>\n      <td>0</td>\n      <td>0</td>\n      <td>0</td>\n      <td>0</td>\n      <td>0</td>\n      <td>0</td>\n      <td>0</td>\n      <td>0</td>\n      <td>0</td>\n      <td>1</td>\n      <td>0</td>\n      <td>0</td>\n    </tr>\n    <tr>\n      <th>17</th>\n      <td>621e2e8e67b776a24055b564</td>\n      <td>2021-06-03</td>\n      <td>13</td>\n      <td>0</td>\n      <td>1</td>\n      <td>0</td>\n      <td>0</td>\n      <td>0</td>\n      <td>0</td>\n      <td>0</td>\n      <td>0</td>\n      <td>0</td>\n      <td>0</td>\n      <td>0</td>\n      <td>0</td>\n      <td>0</td>\n      <td>0</td>\n      <td>1</td>\n    </tr>\n    <tr>\n      <th>18</th>\n      <td>621e2e8e67b776a24055b564</td>\n      <td>2021-07-09</td>\n      <td>10</td>\n      <td>0</td>\n      <td>0</td>\n      <td>0</td>\n      <td>0</td>\n      <td>0</td>\n      <td>1</td>\n      <td>0</td>\n      <td>0</td>\n      <td>0</td>\n      <td>0</td>\n      <td>0</td>\n      <td>0</td>\n      <td>0</td>\n      <td>0</td>\n      <td>1</td>\n    </tr>\n    <tr>\n      <th>19</th>\n      <td>621e2e8e67b776a24055b564</td>\n      <td>2021-06-01</td>\n      <td>17</td>\n      <td>0</td>\n      <td>1</td>\n      <td>0</td>\n      <td>0</td>\n      <td>0</td>\n      <td>0</td>\n      <td>0</td>\n      <td>0</td>\n      <td>0</td>\n      <td>0</td>\n      <td>0</td>\n      <td>0</td>\n      <td>0</td>\n      <td>0</td>\n      <td>1</td>\n    </tr>\n    <tr>\n      <th>20</th>\n      <td>621e2e8e67b776a24055b564</td>\n      <td>2021-06-25</td>\n      <td>19</td>\n      <td>0</td>\n      <td>0</td>\n      <td>1</td>\n      <td>0</td>\n      <td>0</td>\n      <td>0</td>\n      <td>0</td>\n      <td>0</td>\n      <td>0</td>\n      <td>0</td>\n      <td>0</td>\n      <td>0</td>\n      <td>1</td>\n      <td>0</td>\n      <td>0</td>\n    </tr>\n    <tr>\n      <th>21</th>\n      <td>621e2e8e67b776a24055b564</td>\n      <td>2021-06-12</td>\n      <td>22</td>\n      <td>0</td>\n      <td>0</td>\n      <td>1</td>\n      <td>0</td>\n      <td>0</td>\n      <td>0</td>\n      <td>0</td>\n      <td>0</td>\n      <td>0</td>\n      <td>1</td>\n      <td>0</td>\n      <td>0</td>\n      <td>0</td>\n      <td>0</td>\n      <td>0</td>\n    </tr>\n    <tr>\n      <th>22</th>\n      <td>621e2e8e67b776a24055b564</td>\n      <td>2021-06-13</td>\n      <td>19</td>\n      <td>0</td>\n      <td>0</td>\n      <td>1</td>\n      <td>0</td>\n      <td>0</td>\n      <td>0</td>\n      <td>0</td>\n      <td>0</td>\n      <td>0</td>\n      <td>0</td>\n      <td>0</td>\n      <td>0</td>\n      <td>1</td>\n      <td>0</td>\n      <td>0</td>\n    </tr>\n    <tr>\n      <th>23</th>\n      <td>621e2e8e67b776a24055b564</td>\n      <td>2021-07-13</td>\n      <td>12</td>\n      <td>0</td>\n      <td>0</td>\n      <td>1</td>\n      <td>0</td>\n      <td>0</td>\n      <td>0</td>\n      <td>0</td>\n      <td>0</td>\n      <td>0</td>\n      <td>0</td>\n      <td>0</td>\n      <td>0</td>\n      <td>0</td>\n      <td>0</td>\n      <td>1</td>\n    </tr>\n    <tr>\n      <th>25</th>\n      <td>621e2e8e67b776a24055b564</td>\n      <td>2021-06-09</td>\n      <td>13</td>\n      <td>0</td>\n      <td>1</td>\n      <td>0</td>\n      <td>0</td>\n      <td>0</td>\n      <td>0</td>\n      <td>0</td>\n      <td>0</td>\n      <td>0</td>\n      <td>0</td>\n      <td>0</td>\n      <td>0</td>\n      <td>0</td>\n      <td>0</td>\n      <td>1</td>\n    </tr>\n    <tr>\n      <th>26</th>\n      <td>621e2e8e67b776a24055b564</td>\n      <td>2021-07-20</td>\n      <td>10</td>\n      <td>0</td>\n      <td>0</td>\n      <td>1</td>\n      <td>0</td>\n      <td>0</td>\n      <td>0</td>\n      <td>0</td>\n      <td>0</td>\n      <td>0</td>\n      <td>0</td>\n      <td>0</td>\n      <td>0</td>\n      <td>0</td>\n      <td>0</td>\n      <td>1</td>\n    </tr>\n    <tr>\n      <th>27</th>\n      <td>621e2e8e67b776a24055b564</td>\n      <td>2021-07-09</td>\n      <td>16</td>\n      <td>0</td>\n      <td>0</td>\n      <td>1</td>\n      <td>0</td>\n      <td>0</td>\n      <td>0</td>\n      <td>0</td>\n      <td>0</td>\n      <td>0</td>\n      <td>0</td>\n      <td>0</td>\n      <td>0</td>\n      <td>0</td>\n      <td>0</td>\n      <td>1</td>\n    </tr>\n    <tr>\n      <th>28</th>\n      <td>621e2e8e67b776a24055b564</td>\n      <td>2021-06-10</td>\n      <td>11</td>\n      <td>0</td>\n      <td>0</td>\n      <td>1</td>\n      <td>0</td>\n      <td>0</td>\n      <td>0</td>\n      <td>0</td>\n      <td>0</td>\n      <td>0</td>\n      <td>0</td>\n      <td>0</td>\n      <td>0</td>\n      <td>0</td>\n      <td>0</td>\n      <td>1</td>\n    </tr>\n    <tr>\n      <th>29</th>\n      <td>621e2e8e67b776a24055b564</td>\n      <td>2021-05-30</td>\n      <td>22</td>\n      <td>0</td>\n      <td>0</td>\n      <td>0</td>\n      <td>0</td>\n      <td>0</td>\n      <td>0</td>\n      <td>1</td>\n      <td>0</td>\n      <td>0</td>\n      <td>1</td>\n      <td>0</td>\n      <td>0</td>\n      <td>0</td>\n      <td>0</td>\n      <td>0</td>\n    </tr>\n    <tr>\n      <th>30</th>\n      <td>621e2e8e67b776a24055b564</td>\n      <td>2021-06-18</td>\n      <td>13</td>\n      <td>0</td>\n      <td>0</td>\n      <td>1</td>\n      <td>0</td>\n      <td>0</td>\n      <td>0</td>\n      <td>0</td>\n      <td>1</td>\n      <td>0</td>\n      <td>0</td>\n      <td>0</td>\n      <td>0</td>\n      <td>0</td>\n      <td>0</td>\n      <td>0</td>\n    </tr>\n    <tr>\n      <th>31</th>\n      <td>621e2e8e67b776a24055b564</td>\n      <td>2021-05-29</td>\n      <td>21</td>\n      <td>0</td>\n      <td>1</td>\n      <td>0</td>\n      <td>0</td>\n      <td>0</td>\n      <td>0</td>\n      <td>0</td>\n      <td>0</td>\n      <td>0</td>\n      <td>1</td>\n      <td>0</td>\n      <td>0</td>\n      <td>0</td>\n      <td>0</td>\n      <td>0</td>\n    </tr>\n    <tr>\n      <th>32</th>\n      <td>621e2e8e67b776a24055b564</td>\n      <td>2021-07-21</td>\n      <td>15</td>\n      <td>0</td>\n      <td>0</td>\n      <td>0</td>\n      <td>1</td>\n      <td>0</td>\n      <td>0</td>\n      <td>0</td>\n      <td>0</td>\n      <td>0</td>\n      <td>0</td>\n      <td>0</td>\n      <td>0</td>\n      <td>0</td>\n      <td>0</td>\n      <td>1</td>\n    </tr>\n    <tr>\n      <th>33</th>\n      <td>621e2e8e67b776a24055b564</td>\n      <td>2021-06-23</td>\n      <td>10</td>\n      <td>0</td>\n      <td>0</td>\n      <td>1</td>\n      <td>0</td>\n      <td>0</td>\n      <td>0</td>\n      <td>0</td>\n      <td>0</td>\n      <td>0</td>\n      <td>0</td>\n      <td>0</td>\n      <td>0</td>\n      <td>0</td>\n      <td>0</td>\n      <td>1</td>\n    </tr>\n    <tr>\n      <th>34</th>\n      <td>621e2e8e67b776a24055b564</td>\n      <td>2021-07-12</td>\n      <td>11</td>\n      <td>0</td>\n      <td>0</td>\n      <td>1</td>\n      <td>0</td>\n      <td>0</td>\n      <td>0</td>\n      <td>0</td>\n      <td>0</td>\n      <td>0</td>\n      <td>0</td>\n      <td>0</td>\n      <td>0</td>\n      <td>0</td>\n      <td>0</td>\n      <td>1</td>\n    </tr>\n    <tr>\n      <th>35</th>\n      <td>621e2e8e67b776a24055b564</td>\n      <td>2021-07-18</td>\n      <td>12</td>\n      <td>0</td>\n      <td>0</td>\n      <td>1</td>\n      <td>0</td>\n      <td>0</td>\n      <td>0</td>\n      <td>0</td>\n      <td>0</td>\n      <td>0</td>\n      <td>1</td>\n      <td>0</td>\n      <td>0</td>\n      <td>0</td>\n      <td>0</td>\n      <td>0</td>\n    </tr>\n    <tr>\n      <th>36</th>\n      <td>621e2e8e67b776a24055b564</td>\n      <td>2021-06-20</td>\n      <td>15</td>\n      <td>0</td>\n      <td>0</td>\n      <td>0</td>\n      <td>0</td>\n      <td>0</td>\n      <td>0</td>\n      <td>1</td>\n      <td>0</td>\n      <td>0</td>\n      <td>1</td>\n      <td>0</td>\n      <td>0</td>\n      <td>0</td>\n      <td>0</td>\n      <td>0</td>\n    </tr>\n    <tr>\n      <th>37</th>\n      <td>621e2e8e67b776a24055b564</td>\n      <td>2021-05-30</td>\n      <td>15</td>\n      <td>0</td>\n      <td>1</td>\n      <td>0</td>\n      <td>0</td>\n      <td>0</td>\n      <td>0</td>\n      <td>0</td>\n      <td>0</td>\n      <td>0</td>\n      <td>0</td>\n      <td>0</td>\n      <td>0</td>\n      <td>1</td>\n      <td>0</td>\n      <td>0</td>\n    </tr>\n    <tr>\n      <th>38</th>\n      <td>621e2e8e67b776a24055b564</td>\n      <td>2021-07-14</td>\n      <td>13</td>\n      <td>0</td>\n      <td>0</td>\n      <td>1</td>\n      <td>0</td>\n      <td>0</td>\n      <td>0</td>\n      <td>0</td>\n      <td>1</td>\n      <td>0</td>\n      <td>0</td>\n      <td>0</td>\n      <td>0</td>\n      <td>0</td>\n      <td>0</td>\n      <td>0</td>\n    </tr>\n    <tr>\n      <th>39</th>\n      <td>621e2e8e67b776a24055b564</td>\n      <td>2021-05-31</td>\n      <td>15</td>\n      <td>0</td>\n      <td>0</td>\n      <td>0</td>\n      <td>0</td>\n      <td>0</td>\n      <td>1</td>\n      <td>0</td>\n      <td>0</td>\n      <td>0</td>\n      <td>0</td>\n      <td>0</td>\n      <td>0</td>\n      <td>0</td>\n      <td>0</td>\n      <td>1</td>\n    </tr>\n    <tr>\n      <th>40</th>\n      <td>621e2e8e67b776a24055b564</td>\n      <td>2021-06-23</td>\n      <td>19</td>\n      <td>0</td>\n      <td>0</td>\n      <td>0</td>\n      <td>0</td>\n      <td>0</td>\n      <td>0</td>\n      <td>1</td>\n      <td>0</td>\n      <td>0</td>\n      <td>1</td>\n      <td>0</td>\n      <td>0</td>\n      <td>0</td>\n      <td>0</td>\n      <td>0</td>\n    </tr>\n    <tr>\n      <th>41</th>\n      <td>621e2e8e67b776a24055b564</td>\n      <td>2021-06-14</td>\n      <td>11</td>\n      <td>0</td>\n      <td>1</td>\n      <td>0</td>\n      <td>0</td>\n      <td>0</td>\n      <td>0</td>\n      <td>0</td>\n      <td>0</td>\n      <td>0</td>\n      <td>0</td>\n      <td>0</td>\n      <td>0</td>\n      <td>0</td>\n      <td>0</td>\n      <td>1</td>\n    </tr>\n    <tr>\n      <th>42</th>\n      <td>621e2e8e67b776a24055b564</td>\n      <td>2021-07-22</td>\n      <td>15</td>\n      <td>0</td>\n      <td>0</td>\n      <td>1</td>\n      <td>0</td>\n      <td>0</td>\n      <td>0</td>\n      <td>0</td>\n      <td>0</td>\n      <td>0</td>\n      <td>0</td>\n      <td>0</td>\n      <td>0</td>\n      <td>0</td>\n      <td>0</td>\n      <td>1</td>\n    </tr>\n    <tr>\n      <th>43</th>\n      <td>621e2e8e67b776a24055b564</td>\n      <td>2021-05-31</td>\n      <td>20</td>\n      <td>0</td>\n      <td>0</td>\n      <td>0</td>\n      <td>0</td>\n      <td>0</td>\n      <td>0</td>\n      <td>1</td>\n      <td>0</td>\n      <td>0</td>\n      <td>1</td>\n      <td>0</td>\n      <td>0</td>\n      <td>0</td>\n      <td>0</td>\n      <td>0</td>\n    </tr>\n    <tr>\n      <th>44</th>\n      <td>621e2e8e67b776a24055b564</td>\n      <td>2021-07-21</td>\n      <td>10</td>\n      <td>0</td>\n      <td>0</td>\n      <td>1</td>\n      <td>0</td>\n      <td>0</td>\n      <td>0</td>\n      <td>0</td>\n      <td>0</td>\n      <td>0</td>\n      <td>0</td>\n      <td>0</td>\n      <td>0</td>\n      <td>1</td>\n      <td>0</td>\n      <td>0</td>\n    </tr>\n    <tr>\n      <th>45</th>\n      <td>621e2e8e67b776a24055b564</td>\n      <td>2021-06-28</td>\n      <td>16</td>\n      <td>0</td>\n      <td>0</td>\n      <td>0</td>\n      <td>0</td>\n      <td>0</td>\n      <td>0</td>\n      <td>1</td>\n      <td>0</td>\n      <td>0</td>\n      <td>0</td>\n      <td>0</td>\n      <td>0</td>\n      <td>0</td>\n      <td>0</td>\n      <td>1</td>\n    </tr>\n    <tr>\n      <th>46</th>\n      <td>621e2e8e67b776a24055b564</td>\n      <td>2021-05-25</td>\n      <td>10</td>\n      <td>0</td>\n      <td>1</td>\n      <td>0</td>\n      <td>0</td>\n      <td>0</td>\n      <td>0</td>\n      <td>0</td>\n      <td>0</td>\n      <td>0</td>\n      <td>0</td>\n      <td>0</td>\n      <td>0</td>\n      <td>0</td>\n      <td>0</td>\n      <td>1</td>\n    </tr>\n    <tr>\n      <th>47</th>\n      <td>621e2e8e67b776a24055b564</td>\n      <td>2021-05-25</td>\n      <td>18</td>\n      <td>0</td>\n      <td>0</td>\n      <td>0</td>\n      <td>0</td>\n      <td>0</td>\n      <td>0</td>\n      <td>1</td>\n      <td>0</td>\n      <td>0</td>\n      <td>0</td>\n      <td>0</td>\n      <td>0</td>\n      <td>1</td>\n      <td>0</td>\n      <td>0</td>\n    </tr>\n    <tr>\n      <th>48</th>\n      <td>621e2e8e67b776a24055b564</td>\n      <td>2021-06-27</td>\n      <td>15</td>\n      <td>0</td>\n      <td>0</td>\n      <td>1</td>\n      <td>0</td>\n      <td>0</td>\n      <td>0</td>\n      <td>0</td>\n      <td>0</td>\n      <td>0</td>\n      <td>0</td>\n      <td>0</td>\n      <td>0</td>\n      <td>1</td>\n      <td>0</td>\n      <td>0</td>\n    </tr>\n    <tr>\n      <th>49</th>\n      <td>621e2e8e67b776a24055b564</td>\n      <td>2021-07-20</td>\n      <td>15</td>\n      <td>0</td>\n      <td>0</td>\n      <td>1</td>\n      <td>0</td>\n      <td>0</td>\n      <td>0</td>\n      <td>0</td>\n      <td>0</td>\n      <td>0</td>\n      <td>0</td>\n      <td>0</td>\n      <td>0</td>\n      <td>0</td>\n      <td>0</td>\n      <td>1</td>\n    </tr>\n    <tr>\n      <th>50</th>\n      <td>621e2e8e67b776a24055b564</td>\n      <td>2021-06-11</td>\n      <td>10</td>\n      <td>0</td>\n      <td>1</td>\n      <td>0</td>\n      <td>0</td>\n      <td>0</td>\n      <td>0</td>\n      <td>0</td>\n      <td>0</td>\n      <td>0</td>\n      <td>0</td>\n      <td>0</td>\n      <td>0</td>\n      <td>1</td>\n      <td>0</td>\n      <td>0</td>\n    </tr>\n  </tbody>\n</table>\n</div>"
     },
     "execution_count": 502,
     "metadata": {},
     "output_type": "execute_result"
    }
   ],
   "source": [
    "# combine one-hot encoding with actual df\n",
    "sema = pd.concat([sema, sema_moods, sema_places], axis=1)\n",
    "sema.drop(['data.MOOD', 'data.PLACE'], axis=1, inplace=True)\n",
    "sema.head(50)"
   ]
  },
  {
   "cell_type": "code",
   "execution_count": 503,
   "metadata": {
    "pycharm": {
     "name": "#%%\n"
    }
   },
   "outputs": [
    {
     "data": {
      "text/plain": "Pandas Apply:   0%|          | 0/5029 [00:00<?, ?it/s]",
      "application/vnd.jupyter.widget-view+json": {
       "version_major": 2,
       "version_minor": 0,
       "model_id": "1cc88e26a11441d49a9a8b37566a0e07"
      }
     },
     "metadata": {},
     "output_type": "display_data"
    },
    {
     "data": {
      "text/plain": "        date  hour  ALERT  HAPPY  NEUTRAL  RESTED/RELAXED  SAD  TENSE/ANXIOUS  \\\n0 2021-04-22    20      0      1        0               0    0              0   \n1 2021-04-23    10      0      0        1               0    0              0   \n2 2021-04-23    15      0      0        1               0    0              0   \n3 2021-04-24    23      0      0        0               0    1              0   \n4 2021-04-25    19      0      0        1               0    0              0   \n\n   TIRED  ENTERTAINMENT  GYM  HOME  HOME_OFFICE  OTHER  OUTDOORS  TRANSIT  \\\n0      0              0    0     1            0      0         0        0   \n1      0              0    0     1            0      0         0        0   \n2      0              0    0     1            0      0         0        0   \n3      0              0    0     1            0      0         0        0   \n4      0              0    0     1            0      0         0        0   \n\n   WORK/SCHOOL                        id  \n0            0  621e362467b776a2404ad513  \n1            0  621e362467b776a2404ad513  \n2            0  621e362467b776a2404ad513  \n3            0  621e362467b776a2404ad513  \n4            0  621e362467b776a2404ad513  ",
      "text/html": "<div>\n<style scoped>\n    .dataframe tbody tr th:only-of-type {\n        vertical-align: middle;\n    }\n\n    .dataframe tbody tr th {\n        vertical-align: top;\n    }\n\n    .dataframe thead th {\n        text-align: right;\n    }\n</style>\n<table border=\"1\" class=\"dataframe\">\n  <thead>\n    <tr style=\"text-align: right;\">\n      <th></th>\n      <th>date</th>\n      <th>hour</th>\n      <th>ALERT</th>\n      <th>HAPPY</th>\n      <th>NEUTRAL</th>\n      <th>RESTED/RELAXED</th>\n      <th>SAD</th>\n      <th>TENSE/ANXIOUS</th>\n      <th>TIRED</th>\n      <th>ENTERTAINMENT</th>\n      <th>GYM</th>\n      <th>HOME</th>\n      <th>HOME_OFFICE</th>\n      <th>OTHER</th>\n      <th>OUTDOORS</th>\n      <th>TRANSIT</th>\n      <th>WORK/SCHOOL</th>\n      <th>id</th>\n    </tr>\n  </thead>\n  <tbody>\n    <tr>\n      <th>0</th>\n      <td>2021-04-22</td>\n      <td>20</td>\n      <td>0</td>\n      <td>1</td>\n      <td>0</td>\n      <td>0</td>\n      <td>0</td>\n      <td>0</td>\n      <td>0</td>\n      <td>0</td>\n      <td>0</td>\n      <td>1</td>\n      <td>0</td>\n      <td>0</td>\n      <td>0</td>\n      <td>0</td>\n      <td>0</td>\n      <td>621e362467b776a2404ad513</td>\n    </tr>\n    <tr>\n      <th>1</th>\n      <td>2021-04-23</td>\n      <td>10</td>\n      <td>0</td>\n      <td>0</td>\n      <td>1</td>\n      <td>0</td>\n      <td>0</td>\n      <td>0</td>\n      <td>0</td>\n      <td>0</td>\n      <td>0</td>\n      <td>1</td>\n      <td>0</td>\n      <td>0</td>\n      <td>0</td>\n      <td>0</td>\n      <td>0</td>\n      <td>621e362467b776a2404ad513</td>\n    </tr>\n    <tr>\n      <th>2</th>\n      <td>2021-04-23</td>\n      <td>15</td>\n      <td>0</td>\n      <td>0</td>\n      <td>1</td>\n      <td>0</td>\n      <td>0</td>\n      <td>0</td>\n      <td>0</td>\n      <td>0</td>\n      <td>0</td>\n      <td>1</td>\n      <td>0</td>\n      <td>0</td>\n      <td>0</td>\n      <td>0</td>\n      <td>0</td>\n      <td>621e362467b776a2404ad513</td>\n    </tr>\n    <tr>\n      <th>3</th>\n      <td>2021-04-24</td>\n      <td>23</td>\n      <td>0</td>\n      <td>0</td>\n      <td>0</td>\n      <td>0</td>\n      <td>1</td>\n      <td>0</td>\n      <td>0</td>\n      <td>0</td>\n      <td>0</td>\n      <td>1</td>\n      <td>0</td>\n      <td>0</td>\n      <td>0</td>\n      <td>0</td>\n      <td>0</td>\n      <td>621e362467b776a2404ad513</td>\n    </tr>\n    <tr>\n      <th>4</th>\n      <td>2021-04-25</td>\n      <td>19</td>\n      <td>0</td>\n      <td>0</td>\n      <td>1</td>\n      <td>0</td>\n      <td>0</td>\n      <td>0</td>\n      <td>0</td>\n      <td>0</td>\n      <td>0</td>\n      <td>1</td>\n      <td>0</td>\n      <td>0</td>\n      <td>0</td>\n      <td>0</td>\n      <td>0</td>\n      <td>621e362467b776a2404ad513</td>\n    </tr>\n  </tbody>\n</table>\n</div>"
     },
     "execution_count": 503,
     "metadata": {},
     "output_type": "execute_result"
    }
   ],
   "source": [
    "sema_grouped = sema.groupby(['date', 'hour', 'user_id']).max()\n",
    "sema_grouped.reset_index(drop=False, inplace=True)\n",
    "sema_grouped['id'] = sema_grouped['user_id'].copy()\n",
    "sema_grouped.drop(['user_id'], axis=1, inplace=True)\n",
    "sema_grouped.reset_index(drop=True, inplace=True)\n",
    "sema_grouped.id = sema_grouped.id.swifter.apply(lambda id: ObjectId(id))\n",
    "sema_grouped.head()"
   ]
  },
  {
   "cell_type": "code",
   "execution_count": 504,
   "metadata": {
    "pycharm": {
     "name": "#%%\n"
    }
   },
   "outputs": [
    {
     "data": {
      "text/plain": "(array([18748., 18779., 18809., 18840., 18871., 18901., 18932., 18962.,\n        18993.]),\n [Text(0, 0, ''),\n  Text(0, 0, ''),\n  Text(0, 0, ''),\n  Text(0, 0, ''),\n  Text(0, 0, ''),\n  Text(0, 0, ''),\n  Text(0, 0, ''),\n  Text(0, 0, ''),\n  Text(0, 0, '')])"
     },
     "execution_count": 504,
     "metadata": {},
     "output_type": "execute_result"
    },
    {
     "data": {
      "text/plain": "<Figure size 432x288 with 1 Axes>",
      "image/png": "[encoded data removed]"
     },
     "metadata": {},
     "output_type": "display_data"
    }
   ],
   "source": [
    "sema_grouped.date.hist()\n",
    "plt.xticks(rotation=90)"
   ]
  },
  {
   "cell_type": "code",
   "execution_count": 505,
   "metadata": {
    "pycharm": {
     "name": "#%%\n"
    }
   },
   "outputs": [],
   "source": [
    "# merge\n",
    "df = df.merge(sema_grouped, how='outer', on=['id', 'date', 'hour'])"
   ]
  },
  {
   "cell_type": "code",
   "execution_count": 506,
   "metadata": {
    "pycharm": {
     "name": "#%%\n"
    }
   },
   "outputs": [
    {
     "data": {
      "text/plain": "                          id       date  hour  temperature badgeType  \\\n0   621e2e8e67b776a24055b564 2021-05-24   0.0    -1.466659       NaN   \n1   621e2e8e67b776a24055b564 2021-05-24   1.0     0.210289       NaN   \n2   621e2e8e67b776a24055b564 2021-05-24   2.0    -1.359378       NaN   \n3   621e2e8e67b776a24055b564 2021-05-24   3.0    -0.316295       NaN   \n4   621e2e8e67b776a24055b564 2021-05-24   4.0     0.416455       NaN   \n5   621e2e8e67b776a24055b564 2021-05-24   5.0    -0.836378       NaN   \n6   621e2e8e67b776a24055b564 2021-05-24   6.0    -0.677295       NaN   \n7   621e2e8e67b776a24055b564 2021-05-24   7.0     0.149622       NaN   \n8   621e2e8e67b776a24055b564 2021-05-24   8.0     0.469372       NaN   \n9   621e2e8e67b776a24055b564 2021-05-24   9.0    -2.527628       NaN   \n10  621e2e8e67b776a24055b564 2021-05-24  10.0    -3.444170       NaN   \n11  621e2e8e67b776a24055b564 2021-05-24  11.0    -3.251776       NaN   \n12  621e2e8e67b776a24055b564 2021-05-24  12.0    -2.786295       NaN   \n13  621e2e8e67b776a24055b564 2021-05-24  13.0    -2.374545       NaN   \n14  621e2e8e67b776a24055b564 2021-05-24  14.0    -3.705128       NaN   \n15  621e2e8e67b776a24055b564 2021-05-24  15.0    -2.848211       NaN   \n16  621e2e8e67b776a24055b564 2021-05-24  16.0    -2.245295       NaN   \n17  621e2e8e67b776a24055b564 2021-05-24  17.0    -2.453961       NaN   \n18  621e2e8e67b776a24055b564 2021-05-24  18.0    -5.027795       NaN   \n19  621e2e8e67b776a24055b564 2021-05-24  19.0    -3.633045       NaN   \n20  621e2e8e67b776a24055b564 2021-05-24  20.0    -2.408295       NaN   \n21  621e2e8e67b776a24055b564 2021-05-24  21.0    -1.319878       NaN   \n22  621e2e8e67b776a24055b564 2021-05-24  22.0    -0.673378       NaN   \n23  621e2e8e67b776a24055b564 2021-05-24  23.0    -1.348523       NaN   \n24  621e2e8e67b776a24055b564 2021-05-25   0.0     0.702230       NaN   \n25  621e2e8e67b776a24055b564 2021-05-25   1.0    -0.360520       NaN   \n26  621e2e8e67b776a24055b564 2021-05-25   2.0    -1.551020       NaN   \n27  621e2e8e67b776a24055b564 2021-05-25   3.0    -2.199353       NaN   \n28  621e2e8e67b776a24055b564 2021-05-25   4.0    -1.437020       NaN   \n29  621e2e8e67b776a24055b564 2021-05-25   5.0    -0.752436       NaN   \n30  621e2e8e67b776a24055b564 2021-05-25   6.0     0.105897       NaN   \n31  621e2e8e67b776a24055b564 2021-05-25   7.0     0.411147       NaN   \n32  621e2e8e67b776a24055b564 2021-05-25   8.0    -0.660770       NaN   \n33  621e2e8e67b776a24055b564 2021-05-25   9.0    -3.572186       NaN   \n34  621e2e8e67b776a24055b564 2021-05-25  10.0    -3.652770       NaN   \n35  621e2e8e67b776a24055b564 2021-05-25  11.0    -4.382520       NaN   \n36  621e2e8e67b776a24055b564 2021-05-25  12.0    -5.375436       NaN   \n37  621e2e8e67b776a24055b564 2021-05-25  13.0    -4.347936       NaN   \n38  621e2e8e67b776a24055b564 2021-05-25  14.0    -3.435853       NaN   \n39  621e2e8e67b776a24055b564 2021-05-25  15.0    -3.444353       NaN   \n40  621e2e8e67b776a24055b564 2021-05-25  16.0    -4.374436       NaN   \n41  621e2e8e67b776a24055b564 2021-05-25  17.0    -3.981103       NaN   \n42  621e2e8e67b776a24055b564 2021-05-25  18.0    -4.893853       NaN   \n43  621e2e8e67b776a24055b564 2021-05-25  19.0    -4.070103       NaN   \n44  621e2e8e67b776a24055b564 2021-05-25  20.0    -2.271842       NaN   \n45  621e2e8e67b776a24055b564 2021-05-25  21.0    -2.623686       NaN   \n46  621e2e8e67b776a24055b564 2021-05-25  22.0    -1.751020       NaN   \n47  621e2e8e67b776a24055b564 2021-05-25  23.0    -1.253686       NaN   \n48  621e2e8e67b776a24055b564 2021-05-26   0.0     1.085539       NaN   \n49  621e2e8e67b776a24055b564 2021-05-26   1.0     0.563039       NaN   \n\n    calories  distance activityType        bpm mindfulness_session  ...  \\\n0      89.04      98.3          NaN  66.874763               False  ...   \n1      65.62       0.0          NaN  58.711364               False  ...   \n2      65.40       NaN          NaN  55.133495               False  ...   \n3      69.01      11.0          NaN  60.488613               False  ...   \n4      65.73       0.0          NaN  59.110638               False  ...   \n5      65.40       NaN          NaN  57.481481               False  ...   \n6      70.87      28.8          NaN   59.40202               False  ...   \n7      65.73       0.0          NaN  61.217131               False  ...   \n8      67.48       5.1          NaN  60.842478               False  ...   \n9      75.61       7.3          NaN  73.804527               False  ...   \n10    241.41    1938.9       [Walk]  95.295455               False  ...   \n11    144.45     732.3          NaN  89.730916               False  ...   \n12    108.01     316.6          NaN  83.123457               False  ...   \n13     84.94      21.2          NaN  76.593043               False  ...   \n14     98.31     140.6          NaN  77.917241               False  ...   \n15     76.81      24.2          NaN  70.281915               False  ...   \n16     95.84     252.1          NaN   70.42446               False  ...   \n17    166.05    1264.2       [Walk]  77.679417               False  ...   \n18    173.49    1356.8          NaN  84.613936               False  ...   \n19    106.87     117.5          NaN  71.443281               False  ...   \n20     99.79     113.8          NaN  74.540351               False  ...   \n21     79.98      27.0          NaN  72.256318               False  ...   \n22     78.15      22.9          NaN  75.147874               False  ...   \n23     97.60      38.9          NaN  76.055762               False  ...   \n24     65.73       0.0          NaN  61.358763               False  ...   \n25     65.62       0.0          NaN  59.953488               False  ...   \n26     65.95       0.0          NaN  57.686937               False  ...   \n27     67.26       5.1          NaN  56.282474               False  ...   \n28     65.73       0.0          NaN  56.020747               False  ...   \n29     65.95       0.0          NaN     56.025               False  ...   \n30     65.62       0.0          NaN  57.255403               False  ...   \n31     65.51       0.0          NaN  58.675624               False  ...   \n32     66.72       0.0          NaN  62.213018               False  ...   \n33    239.54    1995.8       [Walk]   95.94683               False  ...   \n34    121.90     542.4          NaN  83.764286               False  ...   \n35     83.72      55.9          NaN  74.722028               False  ...   \n36    136.97     745.4          NaN  80.432624               False  ...   \n37    111.29     401.6          NaN  79.516129               False  ...   \n38     90.72      88.4          NaN  74.911348               False  ...   \n39     76.39      17.7          NaN  72.171875               False  ...   \n40    108.86     328.7          NaN   72.77969               False  ...   \n41    102.30     277.9          NaN  71.724508               False  ...   \n42    228.72    2337.2       [Walk]  81.671287               False  ...   \n43    110.50     244.6          NaN  74.081129               False  ...   \n44     90.62      71.3          NaN  81.388889               False  ...   \n45     78.26       6.6          NaN  76.517606               False  ...   \n46     75.38      17.6          NaN  70.376577               False  ...   \n47     82.82      42.4          NaN  68.639286               False  ...   \n48     65.51       0.0          NaN  59.284848               False  ...   \n49     65.62       0.0          NaN  59.094845               False  ...   \n\n    TENSE/ANXIOUS  TIRED  ENTERTAINMENT  GYM  HOME  HOME_OFFICE OTHER  \\\n0             NaN    NaN            NaN  NaN   NaN          NaN   NaN   \n1             NaN    NaN            NaN  NaN   NaN          NaN   NaN   \n2             NaN    NaN            NaN  NaN   NaN          NaN   NaN   \n3             NaN    NaN            NaN  NaN   NaN          NaN   NaN   \n4             NaN    NaN            NaN  NaN   NaN          NaN   NaN   \n5             NaN    NaN            NaN  NaN   NaN          NaN   NaN   \n6             NaN    NaN            NaN  NaN   NaN          NaN   NaN   \n7             NaN    NaN            NaN  NaN   NaN          NaN   NaN   \n8             NaN    NaN            NaN  NaN   NaN          NaN   NaN   \n9             NaN    NaN            NaN  NaN   NaN          NaN   NaN   \n10            NaN    NaN            NaN  NaN   NaN          NaN   NaN   \n11            NaN    NaN            NaN  NaN   NaN          NaN   NaN   \n12            NaN    NaN            NaN  NaN   NaN          NaN   NaN   \n13            NaN    NaN            NaN  NaN   NaN          NaN   NaN   \n14            NaN    NaN            NaN  NaN   NaN          NaN   NaN   \n15            NaN    NaN            NaN  NaN   NaN          NaN   NaN   \n16            NaN    NaN            NaN  NaN   NaN          NaN   NaN   \n17            NaN    NaN            NaN  NaN   NaN          NaN   NaN   \n18            NaN    NaN            NaN  NaN   NaN          NaN   NaN   \n19            NaN    NaN            NaN  NaN   NaN          NaN   NaN   \n20            NaN    NaN            NaN  NaN   NaN          NaN   NaN   \n21            NaN    NaN            NaN  NaN   NaN          NaN   NaN   \n22            NaN    NaN            NaN  NaN   NaN          NaN   NaN   \n23            NaN    NaN            NaN  NaN   NaN          NaN   NaN   \n24            NaN    NaN            NaN  NaN   NaN          NaN   NaN   \n25            NaN    NaN            NaN  NaN   NaN          NaN   NaN   \n26            NaN    NaN            NaN  NaN   NaN          NaN   NaN   \n27            NaN    NaN            NaN  NaN   NaN          NaN   NaN   \n28            NaN    NaN            NaN  NaN   NaN          NaN   NaN   \n29            NaN    NaN            NaN  NaN   NaN          NaN   NaN   \n30            NaN    NaN            NaN  NaN   NaN          NaN   NaN   \n31            NaN    NaN            NaN  NaN   NaN          NaN   NaN   \n32            NaN    NaN            NaN  NaN   NaN          NaN   NaN   \n33            NaN    NaN            NaN  NaN   NaN          NaN   NaN   \n34            0.0    0.0            0.0  0.0   0.0          0.0   0.0   \n35            NaN    NaN            NaN  NaN   NaN          NaN   NaN   \n36            NaN    NaN            NaN  NaN   NaN          NaN   NaN   \n37            NaN    NaN            NaN  NaN   NaN          NaN   NaN   \n38            NaN    NaN            NaN  NaN   NaN          NaN   NaN   \n39            NaN    NaN            NaN  NaN   NaN          NaN   NaN   \n40            NaN    NaN            NaN  NaN   NaN          NaN   NaN   \n41            NaN    NaN            NaN  NaN   NaN          NaN   NaN   \n42            0.0    1.0            0.0  0.0   0.0          0.0   0.0   \n43            NaN    NaN            NaN  NaN   NaN          NaN   NaN   \n44            NaN    NaN            NaN  NaN   NaN          NaN   NaN   \n45            NaN    NaN            NaN  NaN   NaN          NaN   NaN   \n46            NaN    NaN            NaN  NaN   NaN          NaN   NaN   \n47            NaN    NaN            NaN  NaN   NaN          NaN   NaN   \n48            NaN    NaN            NaN  NaN   NaN          NaN   NaN   \n49            NaN    NaN            NaN  NaN   NaN          NaN   NaN   \n\n   OUTDOORS TRANSIT WORK/SCHOOL  \n0       NaN     NaN         NaN  \n1       NaN     NaN         NaN  \n2       NaN     NaN         NaN  \n3       NaN     NaN         NaN  \n4       NaN     NaN         NaN  \n5       NaN     NaN         NaN  \n6       NaN     NaN         NaN  \n7       NaN     NaN         NaN  \n8       NaN     NaN         NaN  \n9       NaN     NaN         NaN  \n10      NaN     NaN         NaN  \n11      NaN     NaN         NaN  \n12      NaN     NaN         NaN  \n13      NaN     NaN         NaN  \n14      NaN     NaN         NaN  \n15      NaN     NaN         NaN  \n16      NaN     NaN         NaN  \n17      NaN     NaN         NaN  \n18      NaN     NaN         NaN  \n19      NaN     NaN         NaN  \n20      NaN     NaN         NaN  \n21      NaN     NaN         NaN  \n22      NaN     NaN         NaN  \n23      NaN     NaN         NaN  \n24      NaN     NaN         NaN  \n25      NaN     NaN         NaN  \n26      NaN     NaN         NaN  \n27      NaN     NaN         NaN  \n28      NaN     NaN         NaN  \n29      NaN     NaN         NaN  \n30      NaN     NaN         NaN  \n31      NaN     NaN         NaN  \n32      NaN     NaN         NaN  \n33      NaN     NaN         NaN  \n34      0.0     0.0         1.0  \n35      NaN     NaN         NaN  \n36      NaN     NaN         NaN  \n37      NaN     NaN         NaN  \n38      NaN     NaN         NaN  \n39      NaN     NaN         NaN  \n40      NaN     NaN         NaN  \n41      NaN     NaN         NaN  \n42      1.0     0.0         0.0  \n43      NaN     NaN         NaN  \n44      NaN     NaN         NaN  \n45      NaN     NaN         NaN  \n46      NaN     NaN         NaN  \n47      NaN     NaN         NaN  \n48      NaN     NaN         NaN  \n49      NaN     NaN         NaN  \n\n[50 rows x 38 columns]",
      "text/html": "<div>\n<style scoped>\n    .dataframe tbody tr th:only-of-type {\n        vertical-align: middle;\n    }\n\n    .dataframe tbody tr th {\n        vertical-align: top;\n    }\n\n    .dataframe thead th {\n        text-align: right;\n    }\n</style>\n<table border=\"1\" class=\"dataframe\">\n  <thead>\n    <tr style=\"text-align: right;\">\n      <th></th>\n      <th>id</th>\n      <th>date</th>\n      <th>hour</th>\n      <th>temperature</th>\n      <th>badgeType</th>\n      <th>calories</th>\n      <th>distance</th>\n      <th>activityType</th>\n      <th>bpm</th>\n      <th>mindfulness_session</th>\n      <th>...</th>\n      <th>TENSE/ANXIOUS</th>\n      <th>TIRED</th>\n      <th>ENTERTAINMENT</th>\n      <th>GYM</th>\n      <th>HOME</th>\n      <th>HOME_OFFICE</th>\n      <th>OTHER</th>\n      <th>OUTDOORS</th>\n      <th>TRANSIT</th>\n      <th>WORK/SCHOOL</th>\n    </tr>\n  </thead>\n  <tbody>\n    <tr>\n      <th>0</th>\n      <td>621e2e8e67b776a24055b564</td>\n      <td>2021-05-24</td>\n      <td>0.0</td>\n      <td>-1.466659</td>\n      <td>NaN</td>\n      <td>89.04</td>\n      <td>98.3</td>\n      <td>NaN</td>\n      <td>66.874763</td>\n      <td>False</td>\n      <td>...</td>\n      <td>NaN</td>\n      <td>NaN</td>\n      <td>NaN</td>\n      <td>NaN</td>\n      <td>NaN</td>\n      <td>NaN</td>\n      <td>NaN</td>\n      <td>NaN</td>\n      <td>NaN</td>\n      <td>NaN</td>\n    </tr>\n    <tr>\n      <th>1</th>\n      <td>621e2e8e67b776a24055b564</td>\n      <td>2021-05-24</td>\n      <td>1.0</td>\n      <td>0.210289</td>\n      <td>NaN</td>\n      <td>65.62</td>\n      <td>0.0</td>\n      <td>NaN</td>\n      <td>58.711364</td>\n      <td>False</td>\n      <td>...</td>\n      <td>NaN</td>\n      <td>NaN</td>\n      <td>NaN</td>\n      <td>NaN</td>\n      <td>NaN</td>\n      <td>NaN</td>\n      <td>NaN</td>\n      <td>NaN</td>\n      <td>NaN</td>\n      <td>NaN</td>\n    </tr>\n    <tr>\n      <th>2</th>\n      <td>621e2e8e67b776a24055b564</td>\n      <td>2021-05-24</td>\n      <td>2.0</td>\n      <td>-1.359378</td>\n      <td>NaN</td>\n      <td>65.40</td>\n      <td>NaN</td>\n      <td>NaN</td>\n      <td>55.133495</td>\n      <td>False</td>\n      <td>...</td>\n      <td>NaN</td>\n      <td>NaN</td>\n      <td>NaN</td>\n      <td>NaN</td>\n      <td>NaN</td>\n      <td>NaN</td>\n      <td>NaN</td>\n      <td>NaN</td>\n      <td>NaN</td>\n      <td>NaN</td>\n    </tr>\n    <tr>\n      <th>3</th>\n      <td>621e2e8e67b776a24055b564</td>\n      <td>2021-05-24</td>\n      <td>3.0</td>\n      <td>-0.316295</td>\n      <td>NaN</td>\n      <td>69.01</td>\n      <td>11.0</td>\n      <td>NaN</td>\n      <td>60.488613</td>\n      <td>False</td>\n      <td>...</td>\n      <td>NaN</td>\n      <td>NaN</td>\n      <td>NaN</td>\n      <td>NaN</td>\n      <td>NaN</td>\n      <td>NaN</td>\n      <td>NaN</td>\n      <td>NaN</td>\n      <td>NaN</td>\n      <td>NaN</td>\n    </tr>\n    <tr>\n      <th>4</th>\n      <td>621e2e8e67b776a24055b564</td>\n      <td>2021-05-24</td>\n      <td>4.0</td>\n      <td>0.416455</td>\n      <td>NaN</td>\n      <td>65.73</td>\n      <td>0.0</td>\n      <td>NaN</td>\n      <td>59.110638</td>\n      <td>False</td>\n      <td>...</td>\n      <td>NaN</td>\n      <td>NaN</td>\n      <td>NaN</td>\n      <td>NaN</td>\n      <td>NaN</td>\n      <td>NaN</td>\n      <td>NaN</td>\n      <td>NaN</td>\n      <td>NaN</td>\n      <td>NaN</td>\n    </tr>\n    <tr>\n      <th>5</th>\n      <td>621e2e8e67b776a24055b564</td>\n      <td>2021-05-24</td>\n      <td>5.0</td>\n      <td>-0.836378</td>\n      <td>NaN</td>\n      <td>65.40</td>\n      <td>NaN</td>\n      <td>NaN</td>\n      <td>57.481481</td>\n      <td>False</td>\n      <td>...</td>\n      <td>NaN</td>\n      <td>NaN</td>\n      <td>NaN</td>\n      <td>NaN</td>\n      <td>NaN</td>\n      <td>NaN</td>\n      <td>NaN</td>\n      <td>NaN</td>\n      <td>NaN</td>\n      <td>NaN</td>\n    </tr>\n    <tr>\n      <th>6</th>\n      <td>621e2e8e67b776a24055b564</td>\n      <td>2021-05-24</td>\n      <td>6.0</td>\n      <td>-0.677295</td>\n      <td>NaN</td>\n      <td>70.87</td>\n      <td>28.8</td>\n      <td>NaN</td>\n      <td>59.40202</td>\n      <td>False</td>\n      <td>...</td>\n      <td>NaN</td>\n      <td>NaN</td>\n      <td>NaN</td>\n      <td>NaN</td>\n      <td>NaN</td>\n      <td>NaN</td>\n      <td>NaN</td>\n      <td>NaN</td>\n      <td>NaN</td>\n      <td>NaN</td>\n    </tr>\n    <tr>\n      <th>7</th>\n      <td>621e2e8e67b776a24055b564</td>\n      <td>2021-05-24</td>\n      <td>7.0</td>\n      <td>0.149622</td>\n      <td>NaN</td>\n      <td>65.73</td>\n      <td>0.0</td>\n      <td>NaN</td>\n      <td>61.217131</td>\n      <td>False</td>\n      <td>...</td>\n      <td>NaN</td>\n      <td>NaN</td>\n      <td>NaN</td>\n      <td>NaN</td>\n      <td>NaN</td>\n      <td>NaN</td>\n      <td>NaN</td>\n      <td>NaN</td>\n      <td>NaN</td>\n      <td>NaN</td>\n    </tr>\n    <tr>\n      <th>8</th>\n      <td>621e2e8e67b776a24055b564</td>\n      <td>2021-05-24</td>\n      <td>8.0</td>\n      <td>0.469372</td>\n      <td>NaN</td>\n      <td>67.48</td>\n      <td>5.1</td>\n      <td>NaN</td>\n      <td>60.842478</td>\n      <td>False</td>\n      <td>...</td>\n      <td>NaN</td>\n      <td>NaN</td>\n      <td>NaN</td>\n      <td>NaN</td>\n      <td>NaN</td>\n      <td>NaN</td>\n      <td>NaN</td>\n      <td>NaN</td>\n      <td>NaN</td>\n      <td>NaN</td>\n    </tr>\n    <tr>\n      <th>9</th>\n      <td>621e2e8e67b776a24055b564</td>\n      <td>2021-05-24</td>\n      <td>9.0</td>\n      <td>-2.527628</td>\n      <td>NaN</td>\n      <td>75.61</td>\n      <td>7.3</td>\n      <td>NaN</td>\n      <td>73.804527</td>\n      <td>False</td>\n      <td>...</td>\n      <td>NaN</td>\n      <td>NaN</td>\n      <td>NaN</td>\n      <td>NaN</td>\n      <td>NaN</td>\n      <td>NaN</td>\n      <td>NaN</td>\n      <td>NaN</td>\n      <td>NaN</td>\n      <td>NaN</td>\n    </tr>\n    <tr>\n      <th>10</th>\n      <td>621e2e8e67b776a24055b564</td>\n      <td>2021-05-24</td>\n      <td>10.0</td>\n      <td>-3.444170</td>\n      <td>NaN</td>\n      <td>241.41</td>\n      <td>1938.9</td>\n      <td>[Walk]</td>\n      <td>95.295455</td>\n      <td>False</td>\n      <td>...</td>\n      <td>NaN</td>\n      <td>NaN</td>\n      <td>NaN</td>\n      <td>NaN</td>\n      <td>NaN</td>\n      <td>NaN</td>\n      <td>NaN</td>\n      <td>NaN</td>\n      <td>NaN</td>\n      <td>NaN</td>\n    </tr>\n    <tr>\n      <th>11</th>\n      <td>621e2e8e67b776a24055b564</td>\n      <td>2021-05-24</td>\n      <td>11.0</td>\n      <td>-3.251776</td>\n      <td>NaN</td>\n      <td>144.45</td>\n      <td>732.3</td>\n      <td>NaN</td>\n      <td>89.730916</td>\n      <td>False</td>\n      <td>...</td>\n      <td>NaN</td>\n      <td>NaN</td>\n      <td>NaN</td>\n      <td>NaN</td>\n      <td>NaN</td>\n      <td>NaN</td>\n      <td>NaN</td>\n      <td>NaN</td>\n      <td>NaN</td>\n      <td>NaN</td>\n    </tr>\n    <tr>\n      <th>12</th>\n      <td>621e2e8e67b776a24055b564</td>\n      <td>2021-05-24</td>\n      <td>12.0</td>\n      <td>-2.786295</td>\n      <td>NaN</td>\n      <td>108.01</td>\n      <td>316.6</td>\n      <td>NaN</td>\n      <td>83.123457</td>\n      <td>False</td>\n      <td>...</td>\n      <td>NaN</td>\n      <td>NaN</td>\n      <td>NaN</td>\n      <td>NaN</td>\n      <td>NaN</td>\n      <td>NaN</td>\n      <td>NaN</td>\n      <td>NaN</td>\n      <td>NaN</td>\n      <td>NaN</td>\n    </tr>\n    <tr>\n      <th>13</th>\n      <td>621e2e8e67b776a24055b564</td>\n      <td>2021-05-24</td>\n      <td>13.0</td>\n      <td>-2.374545</td>\n      <td>NaN</td>\n      <td>84.94</td>\n      <td>21.2</td>\n      <td>NaN</td>\n      <td>76.593043</td>\n      <td>False</td>\n      <td>...</td>\n      <td>NaN</td>\n      <td>NaN</td>\n      <td>NaN</td>\n      <td>NaN</td>\n      <td>NaN</td>\n      <td>NaN</td>\n      <td>NaN</td>\n      <td>NaN</td>\n      <td>NaN</td>\n      <td>NaN</td>\n    </tr>\n    <tr>\n      <th>14</th>\n      <td>621e2e8e67b776a24055b564</td>\n      <td>2021-05-24</td>\n      <td>14.0</td>\n      <td>-3.705128</td>\n      <td>NaN</td>\n      <td>98.31</td>\n      <td>140.6</td>\n      <td>NaN</td>\n      <td>77.917241</td>\n      <td>False</td>\n      <td>...</td>\n      <td>NaN</td>\n      <td>NaN</td>\n      <td>NaN</td>\n      <td>NaN</td>\n      <td>NaN</td>\n      <td>NaN</td>\n      <td>NaN</td>\n      <td>NaN</td>\n      <td>NaN</td>\n      <td>NaN</td>\n    </tr>\n    <tr>\n      <th>15</th>\n      <td>621e2e8e67b776a24055b564</td>\n      <td>2021-05-24</td>\n      <td>15.0</td>\n      <td>-2.848211</td>\n      <td>NaN</td>\n      <td>76.81</td>\n      <td>24.2</td>\n      <td>NaN</td>\n      <td>70.281915</td>\n      <td>False</td>\n      <td>...</td>\n      <td>NaN</td>\n      <td>NaN</td>\n      <td>NaN</td>\n      <td>NaN</td>\n      <td>NaN</td>\n      <td>NaN</td>\n      <td>NaN</td>\n      <td>NaN</td>\n      <td>NaN</td>\n      <td>NaN</td>\n    </tr>\n    <tr>\n      <th>16</th>\n      <td>621e2e8e67b776a24055b564</td>\n      <td>2021-05-24</td>\n      <td>16.0</td>\n      <td>-2.245295</td>\n      <td>NaN</td>\n      <td>95.84</td>\n      <td>252.1</td>\n      <td>NaN</td>\n      <td>70.42446</td>\n      <td>False</td>\n      <td>...</td>\n      <td>NaN</td>\n      <td>NaN</td>\n      <td>NaN</td>\n      <td>NaN</td>\n      <td>NaN</td>\n      <td>NaN</td>\n      <td>NaN</td>\n      <td>NaN</td>\n      <td>NaN</td>\n      <td>NaN</td>\n    </tr>\n    <tr>\n      <th>17</th>\n      <td>621e2e8e67b776a24055b564</td>\n      <td>2021-05-24</td>\n      <td>17.0</td>\n      <td>-2.453961</td>\n      <td>NaN</td>\n      <td>166.05</td>\n      <td>1264.2</td>\n      <td>[Walk]</td>\n      <td>77.679417</td>\n      <td>False</td>\n      <td>...</td>\n      <td>NaN</td>\n      <td>NaN</td>\n      <td>NaN</td>\n      <td>NaN</td>\n      <td>NaN</td>\n      <td>NaN</td>\n      <td>NaN</td>\n      <td>NaN</td>\n      <td>NaN</td>\n      <td>NaN</td>\n    </tr>\n    <tr>\n      <th>18</th>\n      <td>621e2e8e67b776a24055b564</td>\n      <td>2021-05-24</td>\n      <td>18.0</td>\n      <td>-5.027795</td>\n      <td>NaN</td>\n      <td>173.49</td>\n      <td>1356.8</td>\n      <td>NaN</td>\n      <td>84.613936</td>\n      <td>False</td>\n      <td>...</td>\n      <td>NaN</td>\n      <td>NaN</td>\n      <td>NaN</td>\n      <td>NaN</td>\n      <td>NaN</td>\n      <td>NaN</td>\n      <td>NaN</td>\n      <td>NaN</td>\n      <td>NaN</td>\n      <td>NaN</td>\n    </tr>\n    <tr>\n      <th>19</th>\n      <td>621e2e8e67b776a24055b564</td>\n      <td>2021-05-24</td>\n      <td>19.0</td>\n      <td>-3.633045</td>\n      <td>NaN</td>\n      <td>106.87</td>\n      <td>117.5</td>\n      <td>NaN</td>\n      <td>71.443281</td>\n      <td>False</td>\n      <td>...</td>\n      <td>NaN</td>\n      <td>NaN</td>\n      <td>NaN</td>\n      <td>NaN</td>\n      <td>NaN</td>\n      <td>NaN</td>\n      <td>NaN</td>\n      <td>NaN</td>\n      <td>NaN</td>\n      <td>NaN</td>\n    </tr>\n    <tr>\n      <th>20</th>\n      <td>621e2e8e67b776a24055b564</td>\n      <td>2021-05-24</td>\n      <td>20.0</td>\n      <td>-2.408295</td>\n      <td>NaN</td>\n      <td>99.79</td>\n      <td>113.8</td>\n      <td>NaN</td>\n      <td>74.540351</td>\n      <td>False</td>\n      <td>...</td>\n      <td>NaN</td>\n      <td>NaN</td>\n      <td>NaN</td>\n      <td>NaN</td>\n      <td>NaN</td>\n      <td>NaN</td>\n      <td>NaN</td>\n      <td>NaN</td>\n      <td>NaN</td>\n      <td>NaN</td>\n    </tr>\n    <tr>\n      <th>21</th>\n      <td>621e2e8e67b776a24055b564</td>\n      <td>2021-05-24</td>\n      <td>21.0</td>\n      <td>-1.319878</td>\n      <td>NaN</td>\n      <td>79.98</td>\n      <td>27.0</td>\n      <td>NaN</td>\n      <td>72.256318</td>\n      <td>False</td>\n      <td>...</td>\n      <td>NaN</td>\n      <td>NaN</td>\n      <td>NaN</td>\n      <td>NaN</td>\n      <td>NaN</td>\n      <td>NaN</td>\n      <td>NaN</td>\n      <td>NaN</td>\n      <td>NaN</td>\n      <td>NaN</td>\n    </tr>\n    <tr>\n      <th>22</th>\n      <td>621e2e8e67b776a24055b564</td>\n      <td>2021-05-24</td>\n      <td>22.0</td>\n      <td>-0.673378</td>\n      <td>NaN</td>\n      <td>78.15</td>\n      <td>22.9</td>\n      <td>NaN</td>\n      <td>75.147874</td>\n      <td>False</td>\n      <td>...</td>\n      <td>NaN</td>\n      <td>NaN</td>\n      <td>NaN</td>\n      <td>NaN</td>\n      <td>NaN</td>\n      <td>NaN</td>\n      <td>NaN</td>\n      <td>NaN</td>\n      <td>NaN</td>\n      <td>NaN</td>\n    </tr>\n    <tr>\n      <th>23</th>\n      <td>621e2e8e67b776a24055b564</td>\n      <td>2021-05-24</td>\n      <td>23.0</td>\n      <td>-1.348523</td>\n      <td>NaN</td>\n      <td>97.60</td>\n      <td>38.9</td>\n      <td>NaN</td>\n      <td>76.055762</td>\n      <td>False</td>\n      <td>...</td>\n      <td>NaN</td>\n      <td>NaN</td>\n      <td>NaN</td>\n      <td>NaN</td>\n      <td>NaN</td>\n      <td>NaN</td>\n      <td>NaN</td>\n      <td>NaN</td>\n      <td>NaN</td>\n      <td>NaN</td>\n    </tr>\n    <tr>\n      <th>24</th>\n      <td>621e2e8e67b776a24055b564</td>\n      <td>2021-05-25</td>\n      <td>0.0</td>\n      <td>0.702230</td>\n      <td>NaN</td>\n      <td>65.73</td>\n      <td>0.0</td>\n      <td>NaN</td>\n      <td>61.358763</td>\n      <td>False</td>\n      <td>...</td>\n      <td>NaN</td>\n      <td>NaN</td>\n      <td>NaN</td>\n      <td>NaN</td>\n      <td>NaN</td>\n      <td>NaN</td>\n      <td>NaN</td>\n      <td>NaN</td>\n      <td>NaN</td>\n      <td>NaN</td>\n    </tr>\n    <tr>\n      <th>25</th>\n      <td>621e2e8e67b776a24055b564</td>\n      <td>2021-05-25</td>\n      <td>1.0</td>\n      <td>-0.360520</td>\n      <td>NaN</td>\n      <td>65.62</td>\n      <td>0.0</td>\n      <td>NaN</td>\n      <td>59.953488</td>\n      <td>False</td>\n      <td>...</td>\n      <td>NaN</td>\n      <td>NaN</td>\n      <td>NaN</td>\n      <td>NaN</td>\n      <td>NaN</td>\n      <td>NaN</td>\n      <td>NaN</td>\n      <td>NaN</td>\n      <td>NaN</td>\n      <td>NaN</td>\n    </tr>\n    <tr>\n      <th>26</th>\n      <td>621e2e8e67b776a24055b564</td>\n      <td>2021-05-25</td>\n      <td>2.0</td>\n      <td>-1.551020</td>\n      <td>NaN</td>\n      <td>65.95</td>\n      <td>0.0</td>\n      <td>NaN</td>\n      <td>57.686937</td>\n      <td>False</td>\n      <td>...</td>\n      <td>NaN</td>\n      <td>NaN</td>\n      <td>NaN</td>\n      <td>NaN</td>\n      <td>NaN</td>\n      <td>NaN</td>\n      <td>NaN</td>\n      <td>NaN</td>\n      <td>NaN</td>\n      <td>NaN</td>\n    </tr>\n    <tr>\n      <th>27</th>\n      <td>621e2e8e67b776a24055b564</td>\n      <td>2021-05-25</td>\n      <td>3.0</td>\n      <td>-2.199353</td>\n      <td>NaN</td>\n      <td>67.26</td>\n      <td>5.1</td>\n      <td>NaN</td>\n      <td>56.282474</td>\n      <td>False</td>\n      <td>...</td>\n      <td>NaN</td>\n      <td>NaN</td>\n      <td>NaN</td>\n      <td>NaN</td>\n      <td>NaN</td>\n      <td>NaN</td>\n      <td>NaN</td>\n      <td>NaN</td>\n      <td>NaN</td>\n      <td>NaN</td>\n    </tr>\n    <tr>\n      <th>28</th>\n      <td>621e2e8e67b776a24055b564</td>\n      <td>2021-05-25</td>\n      <td>4.0</td>\n      <td>-1.437020</td>\n      <td>NaN</td>\n      <td>65.73</td>\n      <td>0.0</td>\n      <td>NaN</td>\n      <td>56.020747</td>\n      <td>False</td>\n      <td>...</td>\n      <td>NaN</td>\n      <td>NaN</td>\n      <td>NaN</td>\n      <td>NaN</td>\n      <td>NaN</td>\n      <td>NaN</td>\n      <td>NaN</td>\n      <td>NaN</td>\n      <td>NaN</td>\n      <td>NaN</td>\n    </tr>\n    <tr>\n      <th>29</th>\n      <td>621e2e8e67b776a24055b564</td>\n      <td>2021-05-25</td>\n      <td>5.0</td>\n      <td>-0.752436</td>\n      <td>NaN</td>\n      <td>65.95</td>\n      <td>0.0</td>\n      <td>NaN</td>\n      <td>56.025</td>\n      <td>False</td>\n      <td>...</td>\n      <td>NaN</td>\n      <td>NaN</td>\n      <td>NaN</td>\n      <td>NaN</td>\n      <td>NaN</td>\n      <td>NaN</td>\n      <td>NaN</td>\n      <td>NaN</td>\n      <td>NaN</td>\n      <td>NaN</td>\n    </tr>\n    <tr>\n      <th>30</th>\n      <td>621e2e8e67b776a24055b564</td>\n      <td>2021-05-25</td>\n      <td>6.0</td>\n      <td>0.105897</td>\n      <td>NaN</td>\n      <td>65.62</td>\n      <td>0.0</td>\n      <td>NaN</td>\n      <td>57.255403</td>\n      <td>False</td>\n      <td>...</td>\n      <td>NaN</td>\n      <td>NaN</td>\n      <td>NaN</td>\n      <td>NaN</td>\n      <td>NaN</td>\n      <td>NaN</td>\n      <td>NaN</td>\n      <td>NaN</td>\n      <td>NaN</td>\n      <td>NaN</td>\n    </tr>\n    <tr>\n      <th>31</th>\n      <td>621e2e8e67b776a24055b564</td>\n      <td>2021-05-25</td>\n      <td>7.0</td>\n      <td>0.411147</td>\n      <td>NaN</td>\n      <td>65.51</td>\n      <td>0.0</td>\n      <td>NaN</td>\n      <td>58.675624</td>\n      <td>False</td>\n      <td>...</td>\n      <td>NaN</td>\n      <td>NaN</td>\n      <td>NaN</td>\n      <td>NaN</td>\n      <td>NaN</td>\n      <td>NaN</td>\n      <td>NaN</td>\n      <td>NaN</td>\n      <td>NaN</td>\n      <td>NaN</td>\n    </tr>\n    <tr>\n      <th>32</th>\n      <td>621e2e8e67b776a24055b564</td>\n      <td>2021-05-25</td>\n      <td>8.0</td>\n      <td>-0.660770</td>\n      <td>NaN</td>\n      <td>66.72</td>\n      <td>0.0</td>\n      <td>NaN</td>\n      <td>62.213018</td>\n      <td>False</td>\n      <td>...</td>\n      <td>NaN</td>\n      <td>NaN</td>\n      <td>NaN</td>\n      <td>NaN</td>\n      <td>NaN</td>\n      <td>NaN</td>\n      <td>NaN</td>\n      <td>NaN</td>\n      <td>NaN</td>\n      <td>NaN</td>\n    </tr>\n    <tr>\n      <th>33</th>\n      <td>621e2e8e67b776a24055b564</td>\n      <td>2021-05-25</td>\n      <td>9.0</td>\n      <td>-3.572186</td>\n      <td>NaN</td>\n      <td>239.54</td>\n      <td>1995.8</td>\n      <td>[Walk]</td>\n      <td>95.94683</td>\n      <td>False</td>\n      <td>...</td>\n      <td>NaN</td>\n      <td>NaN</td>\n      <td>NaN</td>\n      <td>NaN</td>\n      <td>NaN</td>\n      <td>NaN</td>\n      <td>NaN</td>\n      <td>NaN</td>\n      <td>NaN</td>\n      <td>NaN</td>\n    </tr>\n    <tr>\n      <th>34</th>\n      <td>621e2e8e67b776a24055b564</td>\n      <td>2021-05-25</td>\n      <td>10.0</td>\n      <td>-3.652770</td>\n      <td>NaN</td>\n      <td>121.90</td>\n      <td>542.4</td>\n      <td>NaN</td>\n      <td>83.764286</td>\n      <td>False</td>\n      <td>...</td>\n      <td>0.0</td>\n      <td>0.0</td>\n      <td>0.0</td>\n      <td>0.0</td>\n      <td>0.0</td>\n      <td>0.0</td>\n      <td>0.0</td>\n      <td>0.0</td>\n      <td>0.0</td>\n      <td>1.0</td>\n    </tr>\n    <tr>\n      <th>35</th>\n      <td>621e2e8e67b776a24055b564</td>\n      <td>2021-05-25</td>\n      <td>11.0</td>\n      <td>-4.382520</td>\n      <td>NaN</td>\n      <td>83.72</td>\n      <td>55.9</td>\n      <td>NaN</td>\n      <td>74.722028</td>\n      <td>False</td>\n      <td>...</td>\n      <td>NaN</td>\n      <td>NaN</td>\n      <td>NaN</td>\n      <td>NaN</td>\n      <td>NaN</td>\n      <td>NaN</td>\n      <td>NaN</td>\n      <td>NaN</td>\n      <td>NaN</td>\n      <td>NaN</td>\n    </tr>\n    <tr>\n      <th>36</th>\n      <td>621e2e8e67b776a24055b564</td>\n      <td>2021-05-25</td>\n      <td>12.0</td>\n      <td>-5.375436</td>\n      <td>NaN</td>\n      <td>136.97</td>\n      <td>745.4</td>\n      <td>NaN</td>\n      <td>80.432624</td>\n      <td>False</td>\n      <td>...</td>\n      <td>NaN</td>\n      <td>NaN</td>\n      <td>NaN</td>\n      <td>NaN</td>\n      <td>NaN</td>\n      <td>NaN</td>\n      <td>NaN</td>\n      <td>NaN</td>\n      <td>NaN</td>\n      <td>NaN</td>\n    </tr>\n    <tr>\n      <th>37</th>\n      <td>621e2e8e67b776a24055b564</td>\n      <td>2021-05-25</td>\n      <td>13.0</td>\n      <td>-4.347936</td>\n      <td>NaN</td>\n      <td>111.29</td>\n      <td>401.6</td>\n      <td>NaN</td>\n      <td>79.516129</td>\n      <td>False</td>\n      <td>...</td>\n      <td>NaN</td>\n      <td>NaN</td>\n      <td>NaN</td>\n      <td>NaN</td>\n      <td>NaN</td>\n      <td>NaN</td>\n      <td>NaN</td>\n      <td>NaN</td>\n      <td>NaN</td>\n      <td>NaN</td>\n    </tr>\n    <tr>\n      <th>38</th>\n      <td>621e2e8e67b776a24055b564</td>\n      <td>2021-05-25</td>\n      <td>14.0</td>\n      <td>-3.435853</td>\n      <td>NaN</td>\n      <td>90.72</td>\n      <td>88.4</td>\n      <td>NaN</td>\n      <td>74.911348</td>\n      <td>False</td>\n      <td>...</td>\n      <td>NaN</td>\n      <td>NaN</td>\n      <td>NaN</td>\n      <td>NaN</td>\n      <td>NaN</td>\n      <td>NaN</td>\n      <td>NaN</td>\n      <td>NaN</td>\n      <td>NaN</td>\n      <td>NaN</td>\n    </tr>\n    <tr>\n      <th>39</th>\n      <td>621e2e8e67b776a24055b564</td>\n      <td>2021-05-25</td>\n      <td>15.0</td>\n      <td>-3.444353</td>\n      <td>NaN</td>\n      <td>76.39</td>\n      <td>17.7</td>\n      <td>NaN</td>\n      <td>72.171875</td>\n      <td>False</td>\n      <td>...</td>\n      <td>NaN</td>\n      <td>NaN</td>\n      <td>NaN</td>\n      <td>NaN</td>\n      <td>NaN</td>\n      <td>NaN</td>\n      <td>NaN</td>\n      <td>NaN</td>\n      <td>NaN</td>\n      <td>NaN</td>\n    </tr>\n    <tr>\n      <th>40</th>\n      <td>621e2e8e67b776a24055b564</td>\n      <td>2021-05-25</td>\n      <td>16.0</td>\n      <td>-4.374436</td>\n      <td>NaN</td>\n      <td>108.86</td>\n      <td>328.7</td>\n      <td>NaN</td>\n      <td>72.77969</td>\n      <td>False</td>\n      <td>...</td>\n      <td>NaN</td>\n      <td>NaN</td>\n      <td>NaN</td>\n      <td>NaN</td>\n      <td>NaN</td>\n      <td>NaN</td>\n      <td>NaN</td>\n      <td>NaN</td>\n      <td>NaN</td>\n      <td>NaN</td>\n    </tr>\n    <tr>\n      <th>41</th>\n      <td>621e2e8e67b776a24055b564</td>\n      <td>2021-05-25</td>\n      <td>17.0</td>\n      <td>-3.981103</td>\n      <td>NaN</td>\n      <td>102.30</td>\n      <td>277.9</td>\n      <td>NaN</td>\n      <td>71.724508</td>\n      <td>False</td>\n      <td>...</td>\n      <td>NaN</td>\n      <td>NaN</td>\n      <td>NaN</td>\n      <td>NaN</td>\n      <td>NaN</td>\n      <td>NaN</td>\n      <td>NaN</td>\n      <td>NaN</td>\n      <td>NaN</td>\n      <td>NaN</td>\n    </tr>\n    <tr>\n      <th>42</th>\n      <td>621e2e8e67b776a24055b564</td>\n      <td>2021-05-25</td>\n      <td>18.0</td>\n      <td>-4.893853</td>\n      <td>NaN</td>\n      <td>228.72</td>\n      <td>2337.2</td>\n      <td>[Walk]</td>\n      <td>81.671287</td>\n      <td>False</td>\n      <td>...</td>\n      <td>0.0</td>\n      <td>1.0</td>\n      <td>0.0</td>\n      <td>0.0</td>\n      <td>0.0</td>\n      <td>0.0</td>\n      <td>0.0</td>\n      <td>1.0</td>\n      <td>0.0</td>\n      <td>0.0</td>\n    </tr>\n    <tr>\n      <th>43</th>\n      <td>621e2e8e67b776a24055b564</td>\n      <td>2021-05-25</td>\n      <td>19.0</td>\n      <td>-4.070103</td>\n      <td>NaN</td>\n      <td>110.50</td>\n      <td>244.6</td>\n      <td>NaN</td>\n      <td>74.081129</td>\n      <td>False</td>\n      <td>...</td>\n      <td>NaN</td>\n      <td>NaN</td>\n      <td>NaN</td>\n      <td>NaN</td>\n      <td>NaN</td>\n      <td>NaN</td>\n      <td>NaN</td>\n      <td>NaN</td>\n      <td>NaN</td>\n      <td>NaN</td>\n    </tr>\n    <tr>\n      <th>44</th>\n      <td>621e2e8e67b776a24055b564</td>\n      <td>2021-05-25</td>\n      <td>20.0</td>\n      <td>-2.271842</td>\n      <td>NaN</td>\n      <td>90.62</td>\n      <td>71.3</td>\n      <td>NaN</td>\n      <td>81.388889</td>\n      <td>False</td>\n      <td>...</td>\n      <td>NaN</td>\n      <td>NaN</td>\n      <td>NaN</td>\n      <td>NaN</td>\n      <td>NaN</td>\n      <td>NaN</td>\n      <td>NaN</td>\n      <td>NaN</td>\n      <td>NaN</td>\n      <td>NaN</td>\n    </tr>\n    <tr>\n      <th>45</th>\n      <td>621e2e8e67b776a24055b564</td>\n      <td>2021-05-25</td>\n      <td>21.0</td>\n      <td>-2.623686</td>\n      <td>NaN</td>\n      <td>78.26</td>\n      <td>6.6</td>\n      <td>NaN</td>\n      <td>76.517606</td>\n      <td>False</td>\n      <td>...</td>\n      <td>NaN</td>\n      <td>NaN</td>\n      <td>NaN</td>\n      <td>NaN</td>\n      <td>NaN</td>\n      <td>NaN</td>\n      <td>NaN</td>\n      <td>NaN</td>\n      <td>NaN</td>\n      <td>NaN</td>\n    </tr>\n    <tr>\n      <th>46</th>\n      <td>621e2e8e67b776a24055b564</td>\n      <td>2021-05-25</td>\n      <td>22.0</td>\n      <td>-1.751020</td>\n      <td>NaN</td>\n      <td>75.38</td>\n      <td>17.6</td>\n      <td>NaN</td>\n      <td>70.376577</td>\n      <td>False</td>\n      <td>...</td>\n      <td>NaN</td>\n      <td>NaN</td>\n      <td>NaN</td>\n      <td>NaN</td>\n      <td>NaN</td>\n      <td>NaN</td>\n      <td>NaN</td>\n      <td>NaN</td>\n      <td>NaN</td>\n      <td>NaN</td>\n    </tr>\n    <tr>\n      <th>47</th>\n      <td>621e2e8e67b776a24055b564</td>\n      <td>2021-05-25</td>\n      <td>23.0</td>\n      <td>-1.253686</td>\n      <td>NaN</td>\n      <td>82.82</td>\n      <td>42.4</td>\n      <td>NaN</td>\n      <td>68.639286</td>\n      <td>False</td>\n      <td>...</td>\n      <td>NaN</td>\n      <td>NaN</td>\n      <td>NaN</td>\n      <td>NaN</td>\n      <td>NaN</td>\n      <td>NaN</td>\n      <td>NaN</td>\n      <td>NaN</td>\n      <td>NaN</td>\n      <td>NaN</td>\n    </tr>\n    <tr>\n      <th>48</th>\n      <td>621e2e8e67b776a24055b564</td>\n      <td>2021-05-26</td>\n      <td>0.0</td>\n      <td>1.085539</td>\n      <td>NaN</td>\n      <td>65.51</td>\n      <td>0.0</td>\n      <td>NaN</td>\n      <td>59.284848</td>\n      <td>False</td>\n      <td>...</td>\n      <td>NaN</td>\n      <td>NaN</td>\n      <td>NaN</td>\n      <td>NaN</td>\n      <td>NaN</td>\n      <td>NaN</td>\n      <td>NaN</td>\n      <td>NaN</td>\n      <td>NaN</td>\n      <td>NaN</td>\n    </tr>\n    <tr>\n      <th>49</th>\n      <td>621e2e8e67b776a24055b564</td>\n      <td>2021-05-26</td>\n      <td>1.0</td>\n      <td>0.563039</td>\n      <td>NaN</td>\n      <td>65.62</td>\n      <td>0.0</td>\n      <td>NaN</td>\n      <td>59.094845</td>\n      <td>False</td>\n      <td>...</td>\n      <td>NaN</td>\n      <td>NaN</td>\n      <td>NaN</td>\n      <td>NaN</td>\n      <td>NaN</td>\n      <td>NaN</td>\n      <td>NaN</td>\n      <td>NaN</td>\n      <td>NaN</td>\n      <td>NaN</td>\n    </tr>\n  </tbody>\n</table>\n<p>50 rows × 38 columns</p>\n</div>"
     },
     "execution_count": 506,
     "metadata": {},
     "output_type": "execute_result"
    }
   ],
   "source": [
    "df.head(50)"
   ]
  },
  {
   "cell_type": "code",
   "execution_count": 507,
   "metadata": {
    "pycharm": {
     "name": "#%%\n"
    }
   },
   "outputs": [],
   "source": [
    "df.to_pickle('./data/hourly_fitbit_sema_df_unprocessed.pkl')"
   ]
  },
  {
   "cell_type": "code",
   "execution_count": 508,
   "metadata": {
    "pycharm": {
     "name": "#%%\n"
    }
   },
   "outputs": [],
   "source": [
    "# df.to_csv('./data/daily_fitbit_sema_df_unprocessed.csv')"
   ]
  },
  {
   "cell_type": "code",
   "execution_count": 509,
   "metadata": {
    "pycharm": {
     "name": "#%%\n"
    }
   },
   "outputs": [],
   "source": [
    "df = pd.read_pickle('./data/hourly_fitbit_sema_df_unprocessed.pkl')"
   ]
  },
  {
   "cell_type": "code",
   "execution_count": 510,
   "metadata": {
    "pycharm": {
     "name": "#%%\n"
    }
   },
   "outputs": [
    {
     "data": {
      "text/plain": "                          id       date  hour  temperature badgeType  \\\n0   621e2e8e67b776a24055b564 2021-05-24   0.0    -1.466659       NaN   \n1   621e2e8e67b776a24055b564 2021-05-24   1.0     0.210289       NaN   \n2   621e2e8e67b776a24055b564 2021-05-24   2.0    -1.359378       NaN   \n3   621e2e8e67b776a24055b564 2021-05-24   3.0    -0.316295       NaN   \n4   621e2e8e67b776a24055b564 2021-05-24   4.0     0.416455       NaN   \n5   621e2e8e67b776a24055b564 2021-05-24   5.0    -0.836378       NaN   \n6   621e2e8e67b776a24055b564 2021-05-24   6.0    -0.677295       NaN   \n7   621e2e8e67b776a24055b564 2021-05-24   7.0     0.149622       NaN   \n8   621e2e8e67b776a24055b564 2021-05-24   8.0     0.469372       NaN   \n9   621e2e8e67b776a24055b564 2021-05-24   9.0    -2.527628       NaN   \n10  621e2e8e67b776a24055b564 2021-05-24  10.0    -3.444170       NaN   \n11  621e2e8e67b776a24055b564 2021-05-24  11.0    -3.251776       NaN   \n12  621e2e8e67b776a24055b564 2021-05-24  12.0    -2.786295       NaN   \n13  621e2e8e67b776a24055b564 2021-05-24  13.0    -2.374545       NaN   \n14  621e2e8e67b776a24055b564 2021-05-24  14.0    -3.705128       NaN   \n15  621e2e8e67b776a24055b564 2021-05-24  15.0    -2.848211       NaN   \n16  621e2e8e67b776a24055b564 2021-05-24  16.0    -2.245295       NaN   \n17  621e2e8e67b776a24055b564 2021-05-24  17.0    -2.453961       NaN   \n18  621e2e8e67b776a24055b564 2021-05-24  18.0    -5.027795       NaN   \n19  621e2e8e67b776a24055b564 2021-05-24  19.0    -3.633045       NaN   \n20  621e2e8e67b776a24055b564 2021-05-24  20.0    -2.408295       NaN   \n21  621e2e8e67b776a24055b564 2021-05-24  21.0    -1.319878       NaN   \n22  621e2e8e67b776a24055b564 2021-05-24  22.0    -0.673378       NaN   \n23  621e2e8e67b776a24055b564 2021-05-24  23.0    -1.348523       NaN   \n24  621e2e8e67b776a24055b564 2021-05-25   0.0     0.702230       NaN   \n25  621e2e8e67b776a24055b564 2021-05-25   1.0    -0.360520       NaN   \n26  621e2e8e67b776a24055b564 2021-05-25   2.0    -1.551020       NaN   \n27  621e2e8e67b776a24055b564 2021-05-25   3.0    -2.199353       NaN   \n28  621e2e8e67b776a24055b564 2021-05-25   4.0    -1.437020       NaN   \n29  621e2e8e67b776a24055b564 2021-05-25   5.0    -0.752436       NaN   \n30  621e2e8e67b776a24055b564 2021-05-25   6.0     0.105897       NaN   \n31  621e2e8e67b776a24055b564 2021-05-25   7.0     0.411147       NaN   \n32  621e2e8e67b776a24055b564 2021-05-25   8.0    -0.660770       NaN   \n33  621e2e8e67b776a24055b564 2021-05-25   9.0    -3.572186       NaN   \n34  621e2e8e67b776a24055b564 2021-05-25  10.0    -3.652770       NaN   \n35  621e2e8e67b776a24055b564 2021-05-25  11.0    -4.382520       NaN   \n36  621e2e8e67b776a24055b564 2021-05-25  12.0    -5.375436       NaN   \n37  621e2e8e67b776a24055b564 2021-05-25  13.0    -4.347936       NaN   \n38  621e2e8e67b776a24055b564 2021-05-25  14.0    -3.435853       NaN   \n39  621e2e8e67b776a24055b564 2021-05-25  15.0    -3.444353       NaN   \n40  621e2e8e67b776a24055b564 2021-05-25  16.0    -4.374436       NaN   \n41  621e2e8e67b776a24055b564 2021-05-25  17.0    -3.981103       NaN   \n42  621e2e8e67b776a24055b564 2021-05-25  18.0    -4.893853       NaN   \n43  621e2e8e67b776a24055b564 2021-05-25  19.0    -4.070103       NaN   \n44  621e2e8e67b776a24055b564 2021-05-25  20.0    -2.271842       NaN   \n45  621e2e8e67b776a24055b564 2021-05-25  21.0    -2.623686       NaN   \n46  621e2e8e67b776a24055b564 2021-05-25  22.0    -1.751020       NaN   \n47  621e2e8e67b776a24055b564 2021-05-25  23.0    -1.253686       NaN   \n48  621e2e8e67b776a24055b564 2021-05-26   0.0     1.085539       NaN   \n49  621e2e8e67b776a24055b564 2021-05-26   1.0     0.563039       NaN   \n\n    calories  distance activityType        bpm mindfulness_session  ...  \\\n0      89.04      98.3          NaN  66.874763               False  ...   \n1      65.62       0.0          NaN  58.711364               False  ...   \n2      65.40       NaN          NaN  55.133495               False  ...   \n3      69.01      11.0          NaN  60.488613               False  ...   \n4      65.73       0.0          NaN  59.110638               False  ...   \n5      65.40       NaN          NaN  57.481481               False  ...   \n6      70.87      28.8          NaN   59.40202               False  ...   \n7      65.73       0.0          NaN  61.217131               False  ...   \n8      67.48       5.1          NaN  60.842478               False  ...   \n9      75.61       7.3          NaN  73.804527               False  ...   \n10    241.41    1938.9       [Walk]  95.295455               False  ...   \n11    144.45     732.3          NaN  89.730916               False  ...   \n12    108.01     316.6          NaN  83.123457               False  ...   \n13     84.94      21.2          NaN  76.593043               False  ...   \n14     98.31     140.6          NaN  77.917241               False  ...   \n15     76.81      24.2          NaN  70.281915               False  ...   \n16     95.84     252.1          NaN   70.42446               False  ...   \n17    166.05    1264.2       [Walk]  77.679417               False  ...   \n18    173.49    1356.8          NaN  84.613936               False  ...   \n19    106.87     117.5          NaN  71.443281               False  ...   \n20     99.79     113.8          NaN  74.540351               False  ...   \n21     79.98      27.0          NaN  72.256318               False  ...   \n22     78.15      22.9          NaN  75.147874               False  ...   \n23     97.60      38.9          NaN  76.055762               False  ...   \n24     65.73       0.0          NaN  61.358763               False  ...   \n25     65.62       0.0          NaN  59.953488               False  ...   \n26     65.95       0.0          NaN  57.686937               False  ...   \n27     67.26       5.1          NaN  56.282474               False  ...   \n28     65.73       0.0          NaN  56.020747               False  ...   \n29     65.95       0.0          NaN     56.025               False  ...   \n30     65.62       0.0          NaN  57.255403               False  ...   \n31     65.51       0.0          NaN  58.675624               False  ...   \n32     66.72       0.0          NaN  62.213018               False  ...   \n33    239.54    1995.8       [Walk]   95.94683               False  ...   \n34    121.90     542.4          NaN  83.764286               False  ...   \n35     83.72      55.9          NaN  74.722028               False  ...   \n36    136.97     745.4          NaN  80.432624               False  ...   \n37    111.29     401.6          NaN  79.516129               False  ...   \n38     90.72      88.4          NaN  74.911348               False  ...   \n39     76.39      17.7          NaN  72.171875               False  ...   \n40    108.86     328.7          NaN   72.77969               False  ...   \n41    102.30     277.9          NaN  71.724508               False  ...   \n42    228.72    2337.2       [Walk]  81.671287               False  ...   \n43    110.50     244.6          NaN  74.081129               False  ...   \n44     90.62      71.3          NaN  81.388889               False  ...   \n45     78.26       6.6          NaN  76.517606               False  ...   \n46     75.38      17.6          NaN  70.376577               False  ...   \n47     82.82      42.4          NaN  68.639286               False  ...   \n48     65.51       0.0          NaN  59.284848               False  ...   \n49     65.62       0.0          NaN  59.094845               False  ...   \n\n    TENSE/ANXIOUS  TIRED  ENTERTAINMENT  GYM  HOME  HOME_OFFICE OTHER  \\\n0             NaN    NaN            NaN  NaN   NaN          NaN   NaN   \n1             NaN    NaN            NaN  NaN   NaN          NaN   NaN   \n2             NaN    NaN            NaN  NaN   NaN          NaN   NaN   \n3             NaN    NaN            NaN  NaN   NaN          NaN   NaN   \n4             NaN    NaN            NaN  NaN   NaN          NaN   NaN   \n5             NaN    NaN            NaN  NaN   NaN          NaN   NaN   \n6             NaN    NaN            NaN  NaN   NaN          NaN   NaN   \n7             NaN    NaN            NaN  NaN   NaN          NaN   NaN   \n8             NaN    NaN            NaN  NaN   NaN          NaN   NaN   \n9             NaN    NaN            NaN  NaN   NaN          NaN   NaN   \n10            NaN    NaN            NaN  NaN   NaN          NaN   NaN   \n11            NaN    NaN            NaN  NaN   NaN          NaN   NaN   \n12            NaN    NaN            NaN  NaN   NaN          NaN   NaN   \n13            NaN    NaN            NaN  NaN   NaN          NaN   NaN   \n14            NaN    NaN            NaN  NaN   NaN          NaN   NaN   \n15            NaN    NaN            NaN  NaN   NaN          NaN   NaN   \n16            NaN    NaN            NaN  NaN   NaN          NaN   NaN   \n17            NaN    NaN            NaN  NaN   NaN          NaN   NaN   \n18            NaN    NaN            NaN  NaN   NaN          NaN   NaN   \n19            NaN    NaN            NaN  NaN   NaN          NaN   NaN   \n20            NaN    NaN            NaN  NaN   NaN          NaN   NaN   \n21            NaN    NaN            NaN  NaN   NaN          NaN   NaN   \n22            NaN    NaN            NaN  NaN   NaN          NaN   NaN   \n23            NaN    NaN            NaN  NaN   NaN          NaN   NaN   \n24            NaN    NaN            NaN  NaN   NaN          NaN   NaN   \n25            NaN    NaN            NaN  NaN   NaN          NaN   NaN   \n26            NaN    NaN            NaN  NaN   NaN          NaN   NaN   \n27            NaN    NaN            NaN  NaN   NaN          NaN   NaN   \n28            NaN    NaN            NaN  NaN   NaN          NaN   NaN   \n29            NaN    NaN            NaN  NaN   NaN          NaN   NaN   \n30            NaN    NaN            NaN  NaN   NaN          NaN   NaN   \n31            NaN    NaN            NaN  NaN   NaN          NaN   NaN   \n32            NaN    NaN            NaN  NaN   NaN          NaN   NaN   \n33            NaN    NaN            NaN  NaN   NaN          NaN   NaN   \n34            0.0    0.0            0.0  0.0   0.0          0.0   0.0   \n35            NaN    NaN            NaN  NaN   NaN          NaN   NaN   \n36            NaN    NaN            NaN  NaN   NaN          NaN   NaN   \n37            NaN    NaN            NaN  NaN   NaN          NaN   NaN   \n38            NaN    NaN            NaN  NaN   NaN          NaN   NaN   \n39            NaN    NaN            NaN  NaN   NaN          NaN   NaN   \n40            NaN    NaN            NaN  NaN   NaN          NaN   NaN   \n41            NaN    NaN            NaN  NaN   NaN          NaN   NaN   \n42            0.0    1.0            0.0  0.0   0.0          0.0   0.0   \n43            NaN    NaN            NaN  NaN   NaN          NaN   NaN   \n44            NaN    NaN            NaN  NaN   NaN          NaN   NaN   \n45            NaN    NaN            NaN  NaN   NaN          NaN   NaN   \n46            NaN    NaN            NaN  NaN   NaN          NaN   NaN   \n47            NaN    NaN            NaN  NaN   NaN          NaN   NaN   \n48            NaN    NaN            NaN  NaN   NaN          NaN   NaN   \n49            NaN    NaN            NaN  NaN   NaN          NaN   NaN   \n\n   OUTDOORS TRANSIT WORK/SCHOOL  \n0       NaN     NaN         NaN  \n1       NaN     NaN         NaN  \n2       NaN     NaN         NaN  \n3       NaN     NaN         NaN  \n4       NaN     NaN         NaN  \n5       NaN     NaN         NaN  \n6       NaN     NaN         NaN  \n7       NaN     NaN         NaN  \n8       NaN     NaN         NaN  \n9       NaN     NaN         NaN  \n10      NaN     NaN         NaN  \n11      NaN     NaN         NaN  \n12      NaN     NaN         NaN  \n13      NaN     NaN         NaN  \n14      NaN     NaN         NaN  \n15      NaN     NaN         NaN  \n16      NaN     NaN         NaN  \n17      NaN     NaN         NaN  \n18      NaN     NaN         NaN  \n19      NaN     NaN         NaN  \n20      NaN     NaN         NaN  \n21      NaN     NaN         NaN  \n22      NaN     NaN         NaN  \n23      NaN     NaN         NaN  \n24      NaN     NaN         NaN  \n25      NaN     NaN         NaN  \n26      NaN     NaN         NaN  \n27      NaN     NaN         NaN  \n28      NaN     NaN         NaN  \n29      NaN     NaN         NaN  \n30      NaN     NaN         NaN  \n31      NaN     NaN         NaN  \n32      NaN     NaN         NaN  \n33      NaN     NaN         NaN  \n34      0.0     0.0         1.0  \n35      NaN     NaN         NaN  \n36      NaN     NaN         NaN  \n37      NaN     NaN         NaN  \n38      NaN     NaN         NaN  \n39      NaN     NaN         NaN  \n40      NaN     NaN         NaN  \n41      NaN     NaN         NaN  \n42      1.0     0.0         0.0  \n43      NaN     NaN         NaN  \n44      NaN     NaN         NaN  \n45      NaN     NaN         NaN  \n46      NaN     NaN         NaN  \n47      NaN     NaN         NaN  \n48      NaN     NaN         NaN  \n49      NaN     NaN         NaN  \n\n[50 rows x 38 columns]",
      "text/html": "<div>\n<style scoped>\n    .dataframe tbody tr th:only-of-type {\n        vertical-align: middle;\n    }\n\n    .dataframe tbody tr th {\n        vertical-align: top;\n    }\n\n    .dataframe thead th {\n        text-align: right;\n    }\n</style>\n<table border=\"1\" class=\"dataframe\">\n  <thead>\n    <tr style=\"text-align: right;\">\n      <th></th>\n      <th>id</th>\n      <th>date</th>\n      <th>hour</th>\n      <th>temperature</th>\n      <th>badgeType</th>\n      <th>calories</th>\n      <th>distance</th>\n      <th>activityType</th>\n      <th>bpm</th>\n      <th>mindfulness_session</th>\n      <th>...</th>\n      <th>TENSE/ANXIOUS</th>\n      <th>TIRED</th>\n      <th>ENTERTAINMENT</th>\n      <th>GYM</th>\n      <th>HOME</th>\n      <th>HOME_OFFICE</th>\n      <th>OTHER</th>\n      <th>OUTDOORS</th>\n      <th>TRANSIT</th>\n      <th>WORK/SCHOOL</th>\n    </tr>\n  </thead>\n  <tbody>\n    <tr>\n      <th>0</th>\n      <td>621e2e8e67b776a24055b564</td>\n      <td>2021-05-24</td>\n      <td>0.0</td>\n      <td>-1.466659</td>\n      <td>NaN</td>\n      <td>89.04</td>\n      <td>98.3</td>\n      <td>NaN</td>\n      <td>66.874763</td>\n      <td>False</td>\n      <td>...</td>\n      <td>NaN</td>\n      <td>NaN</td>\n      <td>NaN</td>\n      <td>NaN</td>\n      <td>NaN</td>\n      <td>NaN</td>\n      <td>NaN</td>\n      <td>NaN</td>\n      <td>NaN</td>\n      <td>NaN</td>\n    </tr>\n    <tr>\n      <th>1</th>\n      <td>621e2e8e67b776a24055b564</td>\n      <td>2021-05-24</td>\n      <td>1.0</td>\n      <td>0.210289</td>\n      <td>NaN</td>\n      <td>65.62</td>\n      <td>0.0</td>\n      <td>NaN</td>\n      <td>58.711364</td>\n      <td>False</td>\n      <td>...</td>\n      <td>NaN</td>\n      <td>NaN</td>\n      <td>NaN</td>\n      <td>NaN</td>\n      <td>NaN</td>\n      <td>NaN</td>\n      <td>NaN</td>\n      <td>NaN</td>\n      <td>NaN</td>\n      <td>NaN</td>\n    </tr>\n    <tr>\n      <th>2</th>\n      <td>621e2e8e67b776a24055b564</td>\n      <td>2021-05-24</td>\n      <td>2.0</td>\n      <td>-1.359378</td>\n      <td>NaN</td>\n      <td>65.40</td>\n      <td>NaN</td>\n      <td>NaN</td>\n      <td>55.133495</td>\n      <td>False</td>\n      <td>...</td>\n      <td>NaN</td>\n      <td>NaN</td>\n      <td>NaN</td>\n      <td>NaN</td>\n      <td>NaN</td>\n      <td>NaN</td>\n      <td>NaN</td>\n      <td>NaN</td>\n      <td>NaN</td>\n      <td>NaN</td>\n    </tr>\n    <tr>\n      <th>3</th>\n      <td>621e2e8e67b776a24055b564</td>\n      <td>2021-05-24</td>\n      <td>3.0</td>\n      <td>-0.316295</td>\n      <td>NaN</td>\n      <td>69.01</td>\n      <td>11.0</td>\n      <td>NaN</td>\n      <td>60.488613</td>\n      <td>False</td>\n      <td>...</td>\n      <td>NaN</td>\n      <td>NaN</td>\n      <td>NaN</td>\n      <td>NaN</td>\n      <td>NaN</td>\n      <td>NaN</td>\n      <td>NaN</td>\n      <td>NaN</td>\n      <td>NaN</td>\n      <td>NaN</td>\n    </tr>\n    <tr>\n      <th>4</th>\n      <td>621e2e8e67b776a24055b564</td>\n      <td>2021-05-24</td>\n      <td>4.0</td>\n      <td>0.416455</td>\n      <td>NaN</td>\n      <td>65.73</td>\n      <td>0.0</td>\n      <td>NaN</td>\n      <td>59.110638</td>\n      <td>False</td>\n      <td>...</td>\n      <td>NaN</td>\n      <td>NaN</td>\n      <td>NaN</td>\n      <td>NaN</td>\n      <td>NaN</td>\n      <td>NaN</td>\n      <td>NaN</td>\n      <td>NaN</td>\n      <td>NaN</td>\n      <td>NaN</td>\n    </tr>\n    <tr>\n      <th>5</th>\n      <td>621e2e8e67b776a24055b564</td>\n      <td>2021-05-24</td>\n      <td>5.0</td>\n      <td>-0.836378</td>\n      <td>NaN</td>\n      <td>65.40</td>\n      <td>NaN</td>\n      <td>NaN</td>\n      <td>57.481481</td>\n      <td>False</td>\n      <td>...</td>\n      <td>NaN</td>\n      <td>NaN</td>\n      <td>NaN</td>\n      <td>NaN</td>\n      <td>NaN</td>\n      <td>NaN</td>\n      <td>NaN</td>\n      <td>NaN</td>\n      <td>NaN</td>\n      <td>NaN</td>\n    </tr>\n    <tr>\n      <th>6</th>\n      <td>621e2e8e67b776a24055b564</td>\n      <td>2021-05-24</td>\n      <td>6.0</td>\n      <td>-0.677295</td>\n      <td>NaN</td>\n      <td>70.87</td>\n      <td>28.8</td>\n      <td>NaN</td>\n      <td>59.40202</td>\n      <td>False</td>\n      <td>...</td>\n      <td>NaN</td>\n      <td>NaN</td>\n      <td>NaN</td>\n      <td>NaN</td>\n      <td>NaN</td>\n      <td>NaN</td>\n      <td>NaN</td>\n      <td>NaN</td>\n      <td>NaN</td>\n      <td>NaN</td>\n    </tr>\n    <tr>\n      <th>7</th>\n      <td>621e2e8e67b776a24055b564</td>\n      <td>2021-05-24</td>\n      <td>7.0</td>\n      <td>0.149622</td>\n      <td>NaN</td>\n      <td>65.73</td>\n      <td>0.0</td>\n      <td>NaN</td>\n      <td>61.217131</td>\n      <td>False</td>\n      <td>...</td>\n      <td>NaN</td>\n      <td>NaN</td>\n      <td>NaN</td>\n      <td>NaN</td>\n      <td>NaN</td>\n      <td>NaN</td>\n      <td>NaN</td>\n      <td>NaN</td>\n      <td>NaN</td>\n      <td>NaN</td>\n    </tr>\n    <tr>\n      <th>8</th>\n      <td>621e2e8e67b776a24055b564</td>\n      <td>2021-05-24</td>\n      <td>8.0</td>\n      <td>0.469372</td>\n      <td>NaN</td>\n      <td>67.48</td>\n      <td>5.1</td>\n      <td>NaN</td>\n      <td>60.842478</td>\n      <td>False</td>\n      <td>...</td>\n      <td>NaN</td>\n      <td>NaN</td>\n      <td>NaN</td>\n      <td>NaN</td>\n      <td>NaN</td>\n      <td>NaN</td>\n      <td>NaN</td>\n      <td>NaN</td>\n      <td>NaN</td>\n      <td>NaN</td>\n    </tr>\n    <tr>\n      <th>9</th>\n      <td>621e2e8e67b776a24055b564</td>\n      <td>2021-05-24</td>\n      <td>9.0</td>\n      <td>-2.527628</td>\n      <td>NaN</td>\n      <td>75.61</td>\n      <td>7.3</td>\n      <td>NaN</td>\n      <td>73.804527</td>\n      <td>False</td>\n      <td>...</td>\n      <td>NaN</td>\n      <td>NaN</td>\n      <td>NaN</td>\n      <td>NaN</td>\n      <td>NaN</td>\n      <td>NaN</td>\n      <td>NaN</td>\n      <td>NaN</td>\n      <td>NaN</td>\n      <td>NaN</td>\n    </tr>\n    <tr>\n      <th>10</th>\n      <td>621e2e8e67b776a24055b564</td>\n      <td>2021-05-24</td>\n      <td>10.0</td>\n      <td>-3.444170</td>\n      <td>NaN</td>\n      <td>241.41</td>\n      <td>1938.9</td>\n      <td>[Walk]</td>\n      <td>95.295455</td>\n      <td>False</td>\n      <td>...</td>\n      <td>NaN</td>\n      <td>NaN</td>\n      <td>NaN</td>\n      <td>NaN</td>\n      <td>NaN</td>\n      <td>NaN</td>\n      <td>NaN</td>\n      <td>NaN</td>\n      <td>NaN</td>\n      <td>NaN</td>\n    </tr>\n    <tr>\n      <th>11</th>\n      <td>621e2e8e67b776a24055b564</td>\n      <td>2021-05-24</td>\n      <td>11.0</td>\n      <td>-3.251776</td>\n      <td>NaN</td>\n      <td>144.45</td>\n      <td>732.3</td>\n      <td>NaN</td>\n      <td>89.730916</td>\n      <td>False</td>\n      <td>...</td>\n      <td>NaN</td>\n      <td>NaN</td>\n      <td>NaN</td>\n      <td>NaN</td>\n      <td>NaN</td>\n      <td>NaN</td>\n      <td>NaN</td>\n      <td>NaN</td>\n      <td>NaN</td>\n      <td>NaN</td>\n    </tr>\n    <tr>\n      <th>12</th>\n      <td>621e2e8e67b776a24055b564</td>\n      <td>2021-05-24</td>\n      <td>12.0</td>\n      <td>-2.786295</td>\n      <td>NaN</td>\n      <td>108.01</td>\n      <td>316.6</td>\n      <td>NaN</td>\n      <td>83.123457</td>\n      <td>False</td>\n      <td>...</td>\n      <td>NaN</td>\n      <td>NaN</td>\n      <td>NaN</td>\n      <td>NaN</td>\n      <td>NaN</td>\n      <td>NaN</td>\n      <td>NaN</td>\n      <td>NaN</td>\n      <td>NaN</td>\n      <td>NaN</td>\n    </tr>\n    <tr>\n      <th>13</th>\n      <td>621e2e8e67b776a24055b564</td>\n      <td>2021-05-24</td>\n      <td>13.0</td>\n      <td>-2.374545</td>\n      <td>NaN</td>\n      <td>84.94</td>\n      <td>21.2</td>\n      <td>NaN</td>\n      <td>76.593043</td>\n      <td>False</td>\n      <td>...</td>\n      <td>NaN</td>\n      <td>NaN</td>\n      <td>NaN</td>\n      <td>NaN</td>\n      <td>NaN</td>\n      <td>NaN</td>\n      <td>NaN</td>\n      <td>NaN</td>\n      <td>NaN</td>\n      <td>NaN</td>\n    </tr>\n    <tr>\n      <th>14</th>\n      <td>621e2e8e67b776a24055b564</td>\n      <td>2021-05-24</td>\n      <td>14.0</td>\n      <td>-3.705128</td>\n      <td>NaN</td>\n      <td>98.31</td>\n      <td>140.6</td>\n      <td>NaN</td>\n      <td>77.917241</td>\n      <td>False</td>\n      <td>...</td>\n      <td>NaN</td>\n      <td>NaN</td>\n      <td>NaN</td>\n      <td>NaN</td>\n      <td>NaN</td>\n      <td>NaN</td>\n      <td>NaN</td>\n      <td>NaN</td>\n      <td>NaN</td>\n      <td>NaN</td>\n    </tr>\n    <tr>\n      <th>15</th>\n      <td>621e2e8e67b776a24055b564</td>\n      <td>2021-05-24</td>\n      <td>15.0</td>\n      <td>-2.848211</td>\n      <td>NaN</td>\n      <td>76.81</td>\n      <td>24.2</td>\n      <td>NaN</td>\n      <td>70.281915</td>\n      <td>False</td>\n      <td>...</td>\n      <td>NaN</td>\n      <td>NaN</td>\n      <td>NaN</td>\n      <td>NaN</td>\n      <td>NaN</td>\n      <td>NaN</td>\n      <td>NaN</td>\n      <td>NaN</td>\n      <td>NaN</td>\n      <td>NaN</td>\n    </tr>\n    <tr>\n      <th>16</th>\n      <td>621e2e8e67b776a24055b564</td>\n      <td>2021-05-24</td>\n      <td>16.0</td>\n      <td>-2.245295</td>\n      <td>NaN</td>\n      <td>95.84</td>\n      <td>252.1</td>\n      <td>NaN</td>\n      <td>70.42446</td>\n      <td>False</td>\n      <td>...</td>\n      <td>NaN</td>\n      <td>NaN</td>\n      <td>NaN</td>\n      <td>NaN</td>\n      <td>NaN</td>\n      <td>NaN</td>\n      <td>NaN</td>\n      <td>NaN</td>\n      <td>NaN</td>\n      <td>NaN</td>\n    </tr>\n    <tr>\n      <th>17</th>\n      <td>621e2e8e67b776a24055b564</td>\n      <td>2021-05-24</td>\n      <td>17.0</td>\n      <td>-2.453961</td>\n      <td>NaN</td>\n      <td>166.05</td>\n      <td>1264.2</td>\n      <td>[Walk]</td>\n      <td>77.679417</td>\n      <td>False</td>\n      <td>...</td>\n      <td>NaN</td>\n      <td>NaN</td>\n      <td>NaN</td>\n      <td>NaN</td>\n      <td>NaN</td>\n      <td>NaN</td>\n      <td>NaN</td>\n      <td>NaN</td>\n      <td>NaN</td>\n      <td>NaN</td>\n    </tr>\n    <tr>\n      <th>18</th>\n      <td>621e2e8e67b776a24055b564</td>\n      <td>2021-05-24</td>\n      <td>18.0</td>\n      <td>-5.027795</td>\n      <td>NaN</td>\n      <td>173.49</td>\n      <td>1356.8</td>\n      <td>NaN</td>\n      <td>84.613936</td>\n      <td>False</td>\n      <td>...</td>\n      <td>NaN</td>\n      <td>NaN</td>\n      <td>NaN</td>\n      <td>NaN</td>\n      <td>NaN</td>\n      <td>NaN</td>\n      <td>NaN</td>\n      <td>NaN</td>\n      <td>NaN</td>\n      <td>NaN</td>\n    </tr>\n    <tr>\n      <th>19</th>\n      <td>621e2e8e67b776a24055b564</td>\n      <td>2021-05-24</td>\n      <td>19.0</td>\n      <td>-3.633045</td>\n      <td>NaN</td>\n      <td>106.87</td>\n      <td>117.5</td>\n      <td>NaN</td>\n      <td>71.443281</td>\n      <td>False</td>\n      <td>...</td>\n      <td>NaN</td>\n      <td>NaN</td>\n      <td>NaN</td>\n      <td>NaN</td>\n      <td>NaN</td>\n      <td>NaN</td>\n      <td>NaN</td>\n      <td>NaN</td>\n      <td>NaN</td>\n      <td>NaN</td>\n    </tr>\n    <tr>\n      <th>20</th>\n      <td>621e2e8e67b776a24055b564</td>\n      <td>2021-05-24</td>\n      <td>20.0</td>\n      <td>-2.408295</td>\n      <td>NaN</td>\n      <td>99.79</td>\n      <td>113.8</td>\n      <td>NaN</td>\n      <td>74.540351</td>\n      <td>False</td>\n      <td>...</td>\n      <td>NaN</td>\n      <td>NaN</td>\n      <td>NaN</td>\n      <td>NaN</td>\n      <td>NaN</td>\n      <td>NaN</td>\n      <td>NaN</td>\n      <td>NaN</td>\n      <td>NaN</td>\n      <td>NaN</td>\n    </tr>\n    <tr>\n      <th>21</th>\n      <td>621e2e8e67b776a24055b564</td>\n      <td>2021-05-24</td>\n      <td>21.0</td>\n      <td>-1.319878</td>\n      <td>NaN</td>\n      <td>79.98</td>\n      <td>27.0</td>\n      <td>NaN</td>\n      <td>72.256318</td>\n      <td>False</td>\n      <td>...</td>\n      <td>NaN</td>\n      <td>NaN</td>\n      <td>NaN</td>\n      <td>NaN</td>\n      <td>NaN</td>\n      <td>NaN</td>\n      <td>NaN</td>\n      <td>NaN</td>\n      <td>NaN</td>\n      <td>NaN</td>\n    </tr>\n    <tr>\n      <th>22</th>\n      <td>621e2e8e67b776a24055b564</td>\n      <td>2021-05-24</td>\n      <td>22.0</td>\n      <td>-0.673378</td>\n      <td>NaN</td>\n      <td>78.15</td>\n      <td>22.9</td>\n      <td>NaN</td>\n      <td>75.147874</td>\n      <td>False</td>\n      <td>...</td>\n      <td>NaN</td>\n      <td>NaN</td>\n      <td>NaN</td>\n      <td>NaN</td>\n      <td>NaN</td>\n      <td>NaN</td>\n      <td>NaN</td>\n      <td>NaN</td>\n      <td>NaN</td>\n      <td>NaN</td>\n    </tr>\n    <tr>\n      <th>23</th>\n      <td>621e2e8e67b776a24055b564</td>\n      <td>2021-05-24</td>\n      <td>23.0</td>\n      <td>-1.348523</td>\n      <td>NaN</td>\n      <td>97.60</td>\n      <td>38.9</td>\n      <td>NaN</td>\n      <td>76.055762</td>\n      <td>False</td>\n      <td>...</td>\n      <td>NaN</td>\n      <td>NaN</td>\n      <td>NaN</td>\n      <td>NaN</td>\n      <td>NaN</td>\n      <td>NaN</td>\n      <td>NaN</td>\n      <td>NaN</td>\n      <td>NaN</td>\n      <td>NaN</td>\n    </tr>\n    <tr>\n      <th>24</th>\n      <td>621e2e8e67b776a24055b564</td>\n      <td>2021-05-25</td>\n      <td>0.0</td>\n      <td>0.702230</td>\n      <td>NaN</td>\n      <td>65.73</td>\n      <td>0.0</td>\n      <td>NaN</td>\n      <td>61.358763</td>\n      <td>False</td>\n      <td>...</td>\n      <td>NaN</td>\n      <td>NaN</td>\n      <td>NaN</td>\n      <td>NaN</td>\n      <td>NaN</td>\n      <td>NaN</td>\n      <td>NaN</td>\n      <td>NaN</td>\n      <td>NaN</td>\n      <td>NaN</td>\n    </tr>\n    <tr>\n      <th>25</th>\n      <td>621e2e8e67b776a24055b564</td>\n      <td>2021-05-25</td>\n      <td>1.0</td>\n      <td>-0.360520</td>\n      <td>NaN</td>\n      <td>65.62</td>\n      <td>0.0</td>\n      <td>NaN</td>\n      <td>59.953488</td>\n      <td>False</td>\n      <td>...</td>\n      <td>NaN</td>\n      <td>NaN</td>\n      <td>NaN</td>\n      <td>NaN</td>\n      <td>NaN</td>\n      <td>NaN</td>\n      <td>NaN</td>\n      <td>NaN</td>\n      <td>NaN</td>\n      <td>NaN</td>\n    </tr>\n    <tr>\n      <th>26</th>\n      <td>621e2e8e67b776a24055b564</td>\n      <td>2021-05-25</td>\n      <td>2.0</td>\n      <td>-1.551020</td>\n      <td>NaN</td>\n      <td>65.95</td>\n      <td>0.0</td>\n      <td>NaN</td>\n      <td>57.686937</td>\n      <td>False</td>\n      <td>...</td>\n      <td>NaN</td>\n      <td>NaN</td>\n      <td>NaN</td>\n      <td>NaN</td>\n      <td>NaN</td>\n      <td>NaN</td>\n      <td>NaN</td>\n      <td>NaN</td>\n      <td>NaN</td>\n      <td>NaN</td>\n    </tr>\n    <tr>\n      <th>27</th>\n      <td>621e2e8e67b776a24055b564</td>\n      <td>2021-05-25</td>\n      <td>3.0</td>\n      <td>-2.199353</td>\n      <td>NaN</td>\n      <td>67.26</td>\n      <td>5.1</td>\n      <td>NaN</td>\n      <td>56.282474</td>\n      <td>False</td>\n      <td>...</td>\n      <td>NaN</td>\n      <td>NaN</td>\n      <td>NaN</td>\n      <td>NaN</td>\n      <td>NaN</td>\n      <td>NaN</td>\n      <td>NaN</td>\n      <td>NaN</td>\n      <td>NaN</td>\n      <td>NaN</td>\n    </tr>\n    <tr>\n      <th>28</th>\n      <td>621e2e8e67b776a24055b564</td>\n      <td>2021-05-25</td>\n      <td>4.0</td>\n      <td>-1.437020</td>\n      <td>NaN</td>\n      <td>65.73</td>\n      <td>0.0</td>\n      <td>NaN</td>\n      <td>56.020747</td>\n      <td>False</td>\n      <td>...</td>\n      <td>NaN</td>\n      <td>NaN</td>\n      <td>NaN</td>\n      <td>NaN</td>\n      <td>NaN</td>\n      <td>NaN</td>\n      <td>NaN</td>\n      <td>NaN</td>\n      <td>NaN</td>\n      <td>NaN</td>\n    </tr>\n    <tr>\n      <th>29</th>\n      <td>621e2e8e67b776a24055b564</td>\n      <td>2021-05-25</td>\n      <td>5.0</td>\n      <td>-0.752436</td>\n      <td>NaN</td>\n      <td>65.95</td>\n      <td>0.0</td>\n      <td>NaN</td>\n      <td>56.025</td>\n      <td>False</td>\n      <td>...</td>\n      <td>NaN</td>\n      <td>NaN</td>\n      <td>NaN</td>\n      <td>NaN</td>\n      <td>NaN</td>\n      <td>NaN</td>\n      <td>NaN</td>\n      <td>NaN</td>\n      <td>NaN</td>\n      <td>NaN</td>\n    </tr>\n    <tr>\n      <th>30</th>\n      <td>621e2e8e67b776a24055b564</td>\n      <td>2021-05-25</td>\n      <td>6.0</td>\n      <td>0.105897</td>\n      <td>NaN</td>\n      <td>65.62</td>\n      <td>0.0</td>\n      <td>NaN</td>\n      <td>57.255403</td>\n      <td>False</td>\n      <td>...</td>\n      <td>NaN</td>\n      <td>NaN</td>\n      <td>NaN</td>\n      <td>NaN</td>\n      <td>NaN</td>\n      <td>NaN</td>\n      <td>NaN</td>\n      <td>NaN</td>\n      <td>NaN</td>\n      <td>NaN</td>\n    </tr>\n    <tr>\n      <th>31</th>\n      <td>621e2e8e67b776a24055b564</td>\n      <td>2021-05-25</td>\n      <td>7.0</td>\n      <td>0.411147</td>\n      <td>NaN</td>\n      <td>65.51</td>\n      <td>0.0</td>\n      <td>NaN</td>\n      <td>58.675624</td>\n      <td>False</td>\n      <td>...</td>\n      <td>NaN</td>\n      <td>NaN</td>\n      <td>NaN</td>\n      <td>NaN</td>\n      <td>NaN</td>\n      <td>NaN</td>\n      <td>NaN</td>\n      <td>NaN</td>\n      <td>NaN</td>\n      <td>NaN</td>\n    </tr>\n    <tr>\n      <th>32</th>\n      <td>621e2e8e67b776a24055b564</td>\n      <td>2021-05-25</td>\n      <td>8.0</td>\n      <td>-0.660770</td>\n      <td>NaN</td>\n      <td>66.72</td>\n      <td>0.0</td>\n      <td>NaN</td>\n      <td>62.213018</td>\n      <td>False</td>\n      <td>...</td>\n      <td>NaN</td>\n      <td>NaN</td>\n      <td>NaN</td>\n      <td>NaN</td>\n      <td>NaN</td>\n      <td>NaN</td>\n      <td>NaN</td>\n      <td>NaN</td>\n      <td>NaN</td>\n      <td>NaN</td>\n    </tr>\n    <tr>\n      <th>33</th>\n      <td>621e2e8e67b776a24055b564</td>\n      <td>2021-05-25</td>\n      <td>9.0</td>\n      <td>-3.572186</td>\n      <td>NaN</td>\n      <td>239.54</td>\n      <td>1995.8</td>\n      <td>[Walk]</td>\n      <td>95.94683</td>\n      <td>False</td>\n      <td>...</td>\n      <td>NaN</td>\n      <td>NaN</td>\n      <td>NaN</td>\n      <td>NaN</td>\n      <td>NaN</td>\n      <td>NaN</td>\n      <td>NaN</td>\n      <td>NaN</td>\n      <td>NaN</td>\n      <td>NaN</td>\n    </tr>\n    <tr>\n      <th>34</th>\n      <td>621e2e8e67b776a24055b564</td>\n      <td>2021-05-25</td>\n      <td>10.0</td>\n      <td>-3.652770</td>\n      <td>NaN</td>\n      <td>121.90</td>\n      <td>542.4</td>\n      <td>NaN</td>\n      <td>83.764286</td>\n      <td>False</td>\n      <td>...</td>\n      <td>0.0</td>\n      <td>0.0</td>\n      <td>0.0</td>\n      <td>0.0</td>\n      <td>0.0</td>\n      <td>0.0</td>\n      <td>0.0</td>\n      <td>0.0</td>\n      <td>0.0</td>\n      <td>1.0</td>\n    </tr>\n    <tr>\n      <th>35</th>\n      <td>621e2e8e67b776a24055b564</td>\n      <td>2021-05-25</td>\n      <td>11.0</td>\n      <td>-4.382520</td>\n      <td>NaN</td>\n      <td>83.72</td>\n      <td>55.9</td>\n      <td>NaN</td>\n      <td>74.722028</td>\n      <td>False</td>\n      <td>...</td>\n      <td>NaN</td>\n      <td>NaN</td>\n      <td>NaN</td>\n      <td>NaN</td>\n      <td>NaN</td>\n      <td>NaN</td>\n      <td>NaN</td>\n      <td>NaN</td>\n      <td>NaN</td>\n      <td>NaN</td>\n    </tr>\n    <tr>\n      <th>36</th>\n      <td>621e2e8e67b776a24055b564</td>\n      <td>2021-05-25</td>\n      <td>12.0</td>\n      <td>-5.375436</td>\n      <td>NaN</td>\n      <td>136.97</td>\n      <td>745.4</td>\n      <td>NaN</td>\n      <td>80.432624</td>\n      <td>False</td>\n      <td>...</td>\n      <td>NaN</td>\n      <td>NaN</td>\n      <td>NaN</td>\n      <td>NaN</td>\n      <td>NaN</td>\n      <td>NaN</td>\n      <td>NaN</td>\n      <td>NaN</td>\n      <td>NaN</td>\n      <td>NaN</td>\n    </tr>\n    <tr>\n      <th>37</th>\n      <td>621e2e8e67b776a24055b564</td>\n      <td>2021-05-25</td>\n      <td>13.0</td>\n      <td>-4.347936</td>\n      <td>NaN</td>\n      <td>111.29</td>\n      <td>401.6</td>\n      <td>NaN</td>\n      <td>79.516129</td>\n      <td>False</td>\n      <td>...</td>\n      <td>NaN</td>\n      <td>NaN</td>\n      <td>NaN</td>\n      <td>NaN</td>\n      <td>NaN</td>\n      <td>NaN</td>\n      <td>NaN</td>\n      <td>NaN</td>\n      <td>NaN</td>\n      <td>NaN</td>\n    </tr>\n    <tr>\n      <th>38</th>\n      <td>621e2e8e67b776a24055b564</td>\n      <td>2021-05-25</td>\n      <td>14.0</td>\n      <td>-3.435853</td>\n      <td>NaN</td>\n      <td>90.72</td>\n      <td>88.4</td>\n      <td>NaN</td>\n      <td>74.911348</td>\n      <td>False</td>\n      <td>...</td>\n      <td>NaN</td>\n      <td>NaN</td>\n      <td>NaN</td>\n      <td>NaN</td>\n      <td>NaN</td>\n      <td>NaN</td>\n      <td>NaN</td>\n      <td>NaN</td>\n      <td>NaN</td>\n      <td>NaN</td>\n    </tr>\n    <tr>\n      <th>39</th>\n      <td>621e2e8e67b776a24055b564</td>\n      <td>2021-05-25</td>\n      <td>15.0</td>\n      <td>-3.444353</td>\n      <td>NaN</td>\n      <td>76.39</td>\n      <td>17.7</td>\n      <td>NaN</td>\n      <td>72.171875</td>\n      <td>False</td>\n      <td>...</td>\n      <td>NaN</td>\n      <td>NaN</td>\n      <td>NaN</td>\n      <td>NaN</td>\n      <td>NaN</td>\n      <td>NaN</td>\n      <td>NaN</td>\n      <td>NaN</td>\n      <td>NaN</td>\n      <td>NaN</td>\n    </tr>\n    <tr>\n      <th>40</th>\n      <td>621e2e8e67b776a24055b564</td>\n      <td>2021-05-25</td>\n      <td>16.0</td>\n      <td>-4.374436</td>\n      <td>NaN</td>\n      <td>108.86</td>\n      <td>328.7</td>\n      <td>NaN</td>\n      <td>72.77969</td>\n      <td>False</td>\n      <td>...</td>\n      <td>NaN</td>\n      <td>NaN</td>\n      <td>NaN</td>\n      <td>NaN</td>\n      <td>NaN</td>\n      <td>NaN</td>\n      <td>NaN</td>\n      <td>NaN</td>\n      <td>NaN</td>\n      <td>NaN</td>\n    </tr>\n    <tr>\n      <th>41</th>\n      <td>621e2e8e67b776a24055b564</td>\n      <td>2021-05-25</td>\n      <td>17.0</td>\n      <td>-3.981103</td>\n      <td>NaN</td>\n      <td>102.30</td>\n      <td>277.9</td>\n      <td>NaN</td>\n      <td>71.724508</td>\n      <td>False</td>\n      <td>...</td>\n      <td>NaN</td>\n      <td>NaN</td>\n      <td>NaN</td>\n      <td>NaN</td>\n      <td>NaN</td>\n      <td>NaN</td>\n      <td>NaN</td>\n      <td>NaN</td>\n      <td>NaN</td>\n      <td>NaN</td>\n    </tr>\n    <tr>\n      <th>42</th>\n      <td>621e2e8e67b776a24055b564</td>\n      <td>2021-05-25</td>\n      <td>18.0</td>\n      <td>-4.893853</td>\n      <td>NaN</td>\n      <td>228.72</td>\n      <td>2337.2</td>\n      <td>[Walk]</td>\n      <td>81.671287</td>\n      <td>False</td>\n      <td>...</td>\n      <td>0.0</td>\n      <td>1.0</td>\n      <td>0.0</td>\n      <td>0.0</td>\n      <td>0.0</td>\n      <td>0.0</td>\n      <td>0.0</td>\n      <td>1.0</td>\n      <td>0.0</td>\n      <td>0.0</td>\n    </tr>\n    <tr>\n      <th>43</th>\n      <td>621e2e8e67b776a24055b564</td>\n      <td>2021-05-25</td>\n      <td>19.0</td>\n      <td>-4.070103</td>\n      <td>NaN</td>\n      <td>110.50</td>\n      <td>244.6</td>\n      <td>NaN</td>\n      <td>74.081129</td>\n      <td>False</td>\n      <td>...</td>\n      <td>NaN</td>\n      <td>NaN</td>\n      <td>NaN</td>\n      <td>NaN</td>\n      <td>NaN</td>\n      <td>NaN</td>\n      <td>NaN</td>\n      <td>NaN</td>\n      <td>NaN</td>\n      <td>NaN</td>\n    </tr>\n    <tr>\n      <th>44</th>\n      <td>621e2e8e67b776a24055b564</td>\n      <td>2021-05-25</td>\n      <td>20.0</td>\n      <td>-2.271842</td>\n      <td>NaN</td>\n      <td>90.62</td>\n      <td>71.3</td>\n      <td>NaN</td>\n      <td>81.388889</td>\n      <td>False</td>\n      <td>...</td>\n      <td>NaN</td>\n      <td>NaN</td>\n      <td>NaN</td>\n      <td>NaN</td>\n      <td>NaN</td>\n      <td>NaN</td>\n      <td>NaN</td>\n      <td>NaN</td>\n      <td>NaN</td>\n      <td>NaN</td>\n    </tr>\n    <tr>\n      <th>45</th>\n      <td>621e2e8e67b776a24055b564</td>\n      <td>2021-05-25</td>\n      <td>21.0</td>\n      <td>-2.623686</td>\n      <td>NaN</td>\n      <td>78.26</td>\n      <td>6.6</td>\n      <td>NaN</td>\n      <td>76.517606</td>\n      <td>False</td>\n      <td>...</td>\n      <td>NaN</td>\n      <td>NaN</td>\n      <td>NaN</td>\n      <td>NaN</td>\n      <td>NaN</td>\n      <td>NaN</td>\n      <td>NaN</td>\n      <td>NaN</td>\n      <td>NaN</td>\n      <td>NaN</td>\n    </tr>\n    <tr>\n      <th>46</th>\n      <td>621e2e8e67b776a24055b564</td>\n      <td>2021-05-25</td>\n      <td>22.0</td>\n      <td>-1.751020</td>\n      <td>NaN</td>\n      <td>75.38</td>\n      <td>17.6</td>\n      <td>NaN</td>\n      <td>70.376577</td>\n      <td>False</td>\n      <td>...</td>\n      <td>NaN</td>\n      <td>NaN</td>\n      <td>NaN</td>\n      <td>NaN</td>\n      <td>NaN</td>\n      <td>NaN</td>\n      <td>NaN</td>\n      <td>NaN</td>\n      <td>NaN</td>\n      <td>NaN</td>\n    </tr>\n    <tr>\n      <th>47</th>\n      <td>621e2e8e67b776a24055b564</td>\n      <td>2021-05-25</td>\n      <td>23.0</td>\n      <td>-1.253686</td>\n      <td>NaN</td>\n      <td>82.82</td>\n      <td>42.4</td>\n      <td>NaN</td>\n      <td>68.639286</td>\n      <td>False</td>\n      <td>...</td>\n      <td>NaN</td>\n      <td>NaN</td>\n      <td>NaN</td>\n      <td>NaN</td>\n      <td>NaN</td>\n      <td>NaN</td>\n      <td>NaN</td>\n      <td>NaN</td>\n      <td>NaN</td>\n      <td>NaN</td>\n    </tr>\n    <tr>\n      <th>48</th>\n      <td>621e2e8e67b776a24055b564</td>\n      <td>2021-05-26</td>\n      <td>0.0</td>\n      <td>1.085539</td>\n      <td>NaN</td>\n      <td>65.51</td>\n      <td>0.0</td>\n      <td>NaN</td>\n      <td>59.284848</td>\n      <td>False</td>\n      <td>...</td>\n      <td>NaN</td>\n      <td>NaN</td>\n      <td>NaN</td>\n      <td>NaN</td>\n      <td>NaN</td>\n      <td>NaN</td>\n      <td>NaN</td>\n      <td>NaN</td>\n      <td>NaN</td>\n      <td>NaN</td>\n    </tr>\n    <tr>\n      <th>49</th>\n      <td>621e2e8e67b776a24055b564</td>\n      <td>2021-05-26</td>\n      <td>1.0</td>\n      <td>0.563039</td>\n      <td>NaN</td>\n      <td>65.62</td>\n      <td>0.0</td>\n      <td>NaN</td>\n      <td>59.094845</td>\n      <td>False</td>\n      <td>...</td>\n      <td>NaN</td>\n      <td>NaN</td>\n      <td>NaN</td>\n      <td>NaN</td>\n      <td>NaN</td>\n      <td>NaN</td>\n      <td>NaN</td>\n      <td>NaN</td>\n      <td>NaN</td>\n      <td>NaN</td>\n    </tr>\n  </tbody>\n</table>\n<p>50 rows × 38 columns</p>\n</div>"
     },
     "execution_count": 510,
     "metadata": {},
     "output_type": "execute_result"
    }
   ],
   "source": [
    "df.head(50)"
   ]
  },
  {
   "cell_type": "code",
   "execution_count": 511,
   "outputs": [],
   "source": [
    "df.to_csv('./data/hourly_fitbit_sema_df_unprocessed.csv')"
   ],
   "metadata": {
    "collapsed": false,
    "pycharm": {
     "name": "#%%\n"
    }
   }
  },
  {
   "cell_type": "code",
   "execution_count": null,
   "outputs": [],
   "source": [],
   "metadata": {
    "collapsed": false,
    "pycharm": {
     "name": "#%%\n"
    }
   }
  }
 ],
 "metadata": {
  "jupytext": {
   "formats": "ipynb,py:percent"
  },
  "kernelspec": {
   "display_name": "Python 3 (ipykernel)",
   "language": "python",
   "name": "python3"
  },
  "language_info": {
   "codemirror_mode": {
    "name": "ipython",
    "version": 3
   },
   "file_extension": ".py",
   "mimetype": "text/x-python",
   "name": "python",
   "nbconvert_exporter": "python",
   "pygments_lexer": "ipython3",
   "version": "3.10.0"
  }
 },
 "nbformat": 4,
 "nbformat_minor": 1
}