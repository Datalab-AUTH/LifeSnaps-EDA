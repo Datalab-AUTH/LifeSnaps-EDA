{
 "cells": [
  {
   "cell_type": "markdown",
   "id": "bd90d73a",
   "metadata": {},
   "source": [
    "# When and how much have our participants walked?"
   ]
  },
  {
   "cell_type": "code",
   "execution_count": 35,
   "id": "fd6f8202",
   "metadata": {},
   "outputs": [],
   "source": [
    "typee='steps'"
   ]
  },
  {
   "cell_type": "code",
   "execution_count": 36,
   "id": "be037e26",
   "metadata": {},
   "outputs": [],
   "source": [
    "import matplotlib.pyplot as plt\n",
    "import numpy as np\n",
    "import pickle\n",
    "import seaborn as sns\n",
    "import pandas as pd\n",
    "from datetime import datetime\n",
    "import matplotlib.ticker as mticker\n",
    "import matplotlib.dates as md\n",
    "import datetime"
   ]
  },
  {
   "cell_type": "code",
   "execution_count": 37,
   "id": "e38e4b3a",
   "metadata": {},
   "outputs": [],
   "source": [
    "cmap = [\"#7570b3\", \"#1d84c6\", \"#0095bf\", \"#00a0a1\", \"#00a676\", \"#3da95b\", \"#63aa3a\", \n",
    "          \"#88a906\", \"#a0ab00\", \"#b7ac00\", \"#cfac00\", \"#e6ab01\"]\n",
    "\n",
    "sns.set_palette(sns.color_palette(cmap))"
   ]
  },
  {
   "cell_type": "code",
   "execution_count": 38,
   "id": "5620e6de",
   "metadata": {},
   "outputs": [
    {
     "data": {
      "text/html": [
       "<div>\n",
       "<style scoped>\n",
       "    .dataframe tbody tr th:only-of-type {\n",
       "        vertical-align: middle;\n",
       "    }\n",
       "\n",
       "    .dataframe tbody tr th {\n",
       "        vertical-align: top;\n",
       "    }\n",
       "\n",
       "    .dataframe thead th {\n",
       "        text-align: right;\n",
       "    }\n",
       "</style>\n",
       "<table border=\"1\" class=\"dataframe\">\n",
       "  <thead>\n",
       "    <tr style=\"text-align: right;\">\n",
       "      <th></th>\n",
       "      <th>date</th>\n",
       "      <th>steps</th>\n",
       "      <th>id</th>\n",
       "    </tr>\n",
       "  </thead>\n",
       "  <tbody>\n",
       "    <tr>\n",
       "      <th>0</th>\n",
       "      <td>2015-09-22 21:00:00</td>\n",
       "      <td>0</td>\n",
       "      <td>621e314867b776a24029ebf9</td>\n",
       "    </tr>\n",
       "    <tr>\n",
       "      <th>1</th>\n",
       "      <td>2015-09-22 22:00:00</td>\n",
       "      <td>5025</td>\n",
       "      <td>621e314867b776a24029ebf9</td>\n",
       "    </tr>\n",
       "    <tr>\n",
       "      <th>2</th>\n",
       "      <td>2015-09-22 23:00:00</td>\n",
       "      <td>98</td>\n",
       "      <td>621e314867b776a24029ebf9</td>\n",
       "    </tr>\n",
       "    <tr>\n",
       "      <th>3</th>\n",
       "      <td>2015-09-23 00:00:00</td>\n",
       "      <td>63</td>\n",
       "      <td>621e314867b776a24029ebf9</td>\n",
       "    </tr>\n",
       "    <tr>\n",
       "      <th>4</th>\n",
       "      <td>2015-09-23 01:00:00</td>\n",
       "      <td>23</td>\n",
       "      <td>621e314867b776a24029ebf9</td>\n",
       "    </tr>\n",
       "    <tr>\n",
       "      <th>...</th>\n",
       "      <td>...</td>\n",
       "      <td>...</td>\n",
       "      <td>...</td>\n",
       "    </tr>\n",
       "    <tr>\n",
       "      <th>218406</th>\n",
       "      <td>2022-02-11 05:00:00</td>\n",
       "      <td>529</td>\n",
       "      <td>621e346f67b776a24081744f</td>\n",
       "    </tr>\n",
       "    <tr>\n",
       "      <th>218407</th>\n",
       "      <td>2022-02-11 06:00:00</td>\n",
       "      <td>26</td>\n",
       "      <td>621e346f67b776a24081744f</td>\n",
       "    </tr>\n",
       "    <tr>\n",
       "      <th>218408</th>\n",
       "      <td>2022-02-11 07:00:00</td>\n",
       "      <td>88</td>\n",
       "      <td>621e346f67b776a24081744f</td>\n",
       "    </tr>\n",
       "    <tr>\n",
       "      <th>218409</th>\n",
       "      <td>2022-02-11 08:00:00</td>\n",
       "      <td>478</td>\n",
       "      <td>621e346f67b776a24081744f</td>\n",
       "    </tr>\n",
       "    <tr>\n",
       "      <th>218410</th>\n",
       "      <td>2022-02-11 09:00:00</td>\n",
       "      <td>11</td>\n",
       "      <td>621e346f67b776a24081744f</td>\n",
       "    </tr>\n",
       "  </tbody>\n",
       "</table>\n",
       "<p>218411 rows × 3 columns</p>\n",
       "</div>"
      ],
      "text/plain": [
       "                      date  steps                        id\n",
       "0      2015-09-22 21:00:00      0  621e314867b776a24029ebf9\n",
       "1      2015-09-22 22:00:00   5025  621e314867b776a24029ebf9\n",
       "2      2015-09-22 23:00:00     98  621e314867b776a24029ebf9\n",
       "3      2015-09-23 00:00:00     63  621e314867b776a24029ebf9\n",
       "4      2015-09-23 01:00:00     23  621e314867b776a24029ebf9\n",
       "...                    ...    ...                       ...\n",
       "218406 2022-02-11 05:00:00    529  621e346f67b776a24081744f\n",
       "218407 2022-02-11 06:00:00     26  621e346f67b776a24081744f\n",
       "218408 2022-02-11 07:00:00     88  621e346f67b776a24081744f\n",
       "218409 2022-02-11 08:00:00    478  621e346f67b776a24081744f\n",
       "218410 2022-02-11 09:00:00     11  621e346f67b776a24081744f\n",
       "\n",
       "[218411 rows x 3 columns]"
      ]
     },
     "execution_count": 38,
     "metadata": {},
     "output_type": "execute_result"
    }
   ],
   "source": [
    "# Loading the data\n",
    "infile = open('../data/users_%s_hourly'%typee,'rb')\n",
    "typee_hourly = pickle.load(infile)\n",
    "infile.close()\n",
    "\n",
    "typee_hourly # year-month-day e.g. 2021-05-24"
   ]
  },
  {
   "cell_type": "code",
   "execution_count": 39,
   "id": "fd401913",
   "metadata": {},
   "outputs": [],
   "source": [
    "typee_hourly.reset_index(inplace=True)\n",
    "\n",
    "# Preprocessing \n",
    "typee_hourly['date'] = pd.to_datetime(typee_hourly.date, format='%m/%d/%y %H:%M:%S') \n",
    "typee_hourly[typee] = pd.to_numeric(typee_hourly[typee])\n",
    "typee_hourly = typee_hourly.astype({\"id\": str})\n",
    "typee_hourly = typee_hourly.sort_values('date')\n",
    "#typee_hourly"
   ]
  },
  {
   "cell_type": "code",
   "execution_count": 40,
   "id": "9a8541b1",
   "metadata": {},
   "outputs": [],
   "source": [
    "typee_hourly=typee_hourly.resample('H', on='date').mean()\n",
    "typee_hourly.reset_index(inplace=True)\n",
    "#typee_hourly"
   ]
  },
  {
   "cell_type": "code",
   "execution_count": 41,
   "id": "d4e7634e",
   "metadata": {},
   "outputs": [],
   "source": [
    "# Splitting timestamp column into two separate date and time columns\n",
    "typee_hourly['Dates'] = pd.to_datetime(typee_hourly['date']).dt.date\n",
    "typee_hourly['Time'] = pd.to_datetime(typee_hourly['date']).dt.time\n",
    "#typee_hourly"
   ]
  },
  {
   "cell_type": "code",
   "execution_count": 42,
   "id": "0b5a32d7",
   "metadata": {},
   "outputs": [
    {
     "name": "stderr",
     "output_type": "stream",
     "text": [
      "C:\\Users\\CHRIST~1\\AppData\\Local\\Temp/ipykernel_4728/3737452218.py:10: FutureWarning: The frame.append method is deprecated and will be removed from pandas in a future version. Use pandas.concat instead.\n",
      "  df=df1.append(df2)\n"
     ]
    }
   ],
   "source": [
    "# Converting date to day of the week\n",
    "typee_hourly['DayName'] = pd.Series(typee_hourly['date'].dt.day_name(), index=typee_hourly.index) \n",
    "# Days of the week in ascending order\n",
    "weekdays = [\"Monday\", \"Tuesday\", \"Wednesday\", \"Thursday\", \"Friday\", \"Saturday\", \"Sunday\"]\n",
    "# Seperating the two rounds\n",
    "typee_hourly['Dates'] = pd.to_datetime(typee_hourly.Dates, format='%Y/%m/%d') \n",
    "df1 = typee_hourly[(typee_hourly['Dates'] >= \"2021-05-24\") & (typee_hourly['Dates'] <= \"2021-07-26\")] #Round1\n",
    "df2 = typee_hourly[(typee_hourly['Dates'] >= \"2021-11-15\") & (typee_hourly['Dates'] <= \"2022-01-17\")] #Round2\n",
    "# Both rounds\n",
    "df=df1.append(df2)\n",
    "df.DayName = pd.Categorical(df.DayName,categories=weekdays)\n",
    "df = df.sort_values('DayName')\n",
    "# Rearranging the dataframe for the heatmap\n",
    "df['Time'] = pd.to_datetime(df['date']).dt.time\n",
    "days=df['DayName']\n",
    "hours=df['Time']\n",
    "freq=df[typee]\n",
    "df=pd.concat([days,hours,freq],axis=1)\n",
    "piv = pd.pivot_table(df, values=typee,index=[\"Time\"], columns=[\"DayName\"], fill_value=0)"
   ]
  },
  {
   "cell_type": "code",
   "execution_count": 43,
   "id": "aee419dd",
   "metadata": {},
   "outputs": [
    {
     "data": {
      "image/png": "[encoded data removed]",
      "text/plain": [
       "<Figure size 1080x576 with 2 Axes>"
      ]
     },
     "metadata": {
      "needs_background": "light"
     },
     "output_type": "display_data"
    }
   ],
   "source": [
    "fig, ax = plt.subplots(figsize = (15,8))\n",
    "sns.heatmap(piv, cmap=cmap)\n",
    "plt.tight_layout()\n",
    "ax.yaxis.set_major_locator(md.HourLocator(interval = 100))\n",
    "ax.yaxis.set_major_formatter(md.DateFormatter('%H:%M:%S'))\n",
    "plt.xticks(size = 20)\n",
    "plt.yticks(size = 20)\n",
    "plt.xlabel('',size=30)\n",
    "#plt.rcParams[\"font.weight\"] = \"bold\"\n",
    "#plt.rcParams[\"axes.labelweight\"] = \"bold\"\n",
    "plt.ylabel('Time of the day',fontsize=40)\n",
    "plt.title('Average change in behavior: Rounds -1 and -2',fontsize=30)\n",
    "plt.text(8, 18, 'Average %s for all users'%typee, fontsize=20, rotation=270)\n",
    "plt.show()"
   ]
  },
  {
   "cell_type": "markdown",
   "id": "63bdc9fe",
   "metadata": {},
   "source": [
    "# Exercise - When do people exercise more? "
   ]
  },
  {
   "cell_type": "code",
   "execution_count": 44,
   "id": "e987790a",
   "metadata": {},
   "outputs": [
    {
     "data": {
      "text/html": [
       "<div>\n",
       "<style scoped>\n",
       "    .dataframe tbody tr th:only-of-type {\n",
       "        vertical-align: middle;\n",
       "    }\n",
       "\n",
       "    .dataframe tbody tr th {\n",
       "        vertical-align: top;\n",
       "    }\n",
       "\n",
       "    .dataframe thead th {\n",
       "        text-align: right;\n",
       "    }\n",
       "</style>\n",
       "<table border=\"1\" class=\"dataframe\">\n",
       "  <thead>\n",
       "    <tr style=\"text-align: right;\">\n",
       "      <th></th>\n",
       "      <th>id</th>\n",
       "      <th>date</th>\n",
       "      <th>activityType</th>\n",
       "      <th>duration</th>\n",
       "    </tr>\n",
       "  </thead>\n",
       "  <tbody>\n",
       "    <tr>\n",
       "      <th>0</th>\n",
       "      <td>621e314867b776a24029ebf9</td>\n",
       "      <td>2015-09-22 22:00:38</td>\n",
       "      <td>Run</td>\n",
       "      <td>1851000.0</td>\n",
       "    </tr>\n",
       "    <tr>\n",
       "      <th>1</th>\n",
       "      <td>621e314867b776a24029ebf9</td>\n",
       "      <td>2015-09-24 19:22:00</td>\n",
       "      <td>Run</td>\n",
       "      <td>1041000.0</td>\n",
       "    </tr>\n",
       "    <tr>\n",
       "      <th>2</th>\n",
       "      <td>621e314867b776a24029ebf9</td>\n",
       "      <td>2015-09-26 23:48:00</td>\n",
       "      <td>Running (Endomondo)</td>\n",
       "      <td>1789000.0</td>\n",
       "    </tr>\n",
       "    <tr>\n",
       "      <th>3</th>\n",
       "      <td>621e314867b776a24029ebf9</td>\n",
       "      <td>2015-09-27 20:54:00</td>\n",
       "      <td>Walking (Endomondo)</td>\n",
       "      <td>4572000.0</td>\n",
       "    </tr>\n",
       "    <tr>\n",
       "      <th>4</th>\n",
       "      <td>621e314867b776a24029ebf9</td>\n",
       "      <td>2015-09-28 22:23:00</td>\n",
       "      <td>Running (Endomondo)</td>\n",
       "      <td>1640000.0</td>\n",
       "    </tr>\n",
       "  </tbody>\n",
       "</table>\n",
       "</div>"
      ],
      "text/plain": [
       "                         id                date         activityType  \\\n",
       "0  621e314867b776a24029ebf9 2015-09-22 22:00:38                  Run   \n",
       "1  621e314867b776a24029ebf9 2015-09-24 19:22:00                  Run   \n",
       "2  621e314867b776a24029ebf9 2015-09-26 23:48:00  Running (Endomondo)   \n",
       "3  621e314867b776a24029ebf9 2015-09-27 20:54:00  Walking (Endomondo)   \n",
       "4  621e314867b776a24029ebf9 2015-09-28 22:23:00  Running (Endomondo)   \n",
       "\n",
       "    duration  \n",
       "0  1851000.0  \n",
       "1  1041000.0  \n",
       "2  1789000.0  \n",
       "3  4572000.0  \n",
       "4  1640000.0  "
      ]
     },
     "execution_count": 44,
     "metadata": {},
     "output_type": "execute_result"
    }
   ],
   "source": [
    "# Loading the data\n",
    "infile = open('../data/users_exercise_hourly','rb')\n",
    "df = pickle.load(infile)\n",
    "infile.close()\n",
    "\n",
    "df.head()"
   ]
  },
  {
   "cell_type": "code",
   "execution_count": 45,
   "id": "8b6ac242",
   "metadata": {
    "lines_to_next_cell": 0
   },
   "outputs": [
    {
     "name": "stderr",
     "output_type": "stream",
     "text": [
      "C:\\Users\\CHRIST~1\\AppData\\Local\\Temp/ipykernel_4728/4009428067.py:5: FutureWarning: The frame.append method is deprecated and will be removed from pandas in a future version. Use pandas.concat instead.\n",
      "  df=df1.append(df2)\n"
     ]
    }
   ],
   "source": [
    "df_new = df.copy()\n",
    "df1 = df_new[(df_new['date'] >= \"2021-05-24\") & (df_new['date'] <= \"2021-07-26\")] #Round1\n",
    "df2 = df_new[(df_new['date'] >= \"2021-11-15\") & (df_new['date'] <= \"2022-01-17\")] #Round2\n",
    "\n",
    "df=df1.append(df2)"
   ]
  },
  {
   "cell_type": "code",
   "execution_count": 46,
   "id": "4b4a8824",
   "metadata": {
    "lines_to_next_cell": 0
   },
   "outputs": [
    {
     "data": {
      "text/plain": [
       "3250"
      ]
     },
     "execution_count": 46,
     "metadata": {},
     "output_type": "execute_result"
    }
   ],
   "source": [
    "df.shape[0]"
   ]
  },
  {
   "cell_type": "code",
   "execution_count": 47,
   "id": "2206f333",
   "metadata": {
    "lines_to_next_cell": 0
   },
   "outputs": [
    {
     "data": {
      "text/html": [
       "<div>\n",
       "<style scoped>\n",
       "    .dataframe tbody tr th:only-of-type {\n",
       "        vertical-align: middle;\n",
       "    }\n",
       "\n",
       "    .dataframe tbody tr th {\n",
       "        vertical-align: top;\n",
       "    }\n",
       "\n",
       "    .dataframe thead th {\n",
       "        text-align: right;\n",
       "    }\n",
       "</style>\n",
       "<table border=\"1\" class=\"dataframe\">\n",
       "  <thead>\n",
       "    <tr style=\"text-align: right;\">\n",
       "      <th></th>\n",
       "      <th>id</th>\n",
       "      <th>date</th>\n",
       "      <th>activityType</th>\n",
       "      <th>duration</th>\n",
       "      <th>dateTime</th>\n",
       "      <th>hour</th>\n",
       "      <th>day</th>\n",
       "    </tr>\n",
       "  </thead>\n",
       "  <tbody>\n",
       "    <tr>\n",
       "      <th>35</th>\n",
       "      <td>621e326767b776a24012e179</td>\n",
       "      <td>2021-05-24</td>\n",
       "      <td>Camminata</td>\n",
       "      <td>1587000.0</td>\n",
       "      <td>2021-05-24 07:20:46</td>\n",
       "      <td>7</td>\n",
       "      <td>Monday</td>\n",
       "    </tr>\n",
       "    <tr>\n",
       "      <th>49</th>\n",
       "      <td>621e32af67b776a24045b4cf</td>\n",
       "      <td>2021-05-24</td>\n",
       "      <td>Workout</td>\n",
       "      <td>377000.0</td>\n",
       "      <td>2021-05-24 08:07:32</td>\n",
       "      <td>8</td>\n",
       "      <td>Monday</td>\n",
       "    </tr>\n",
       "    <tr>\n",
       "      <th>50</th>\n",
       "      <td>621e32af67b776a24045b4cf</td>\n",
       "      <td>2021-05-24</td>\n",
       "      <td>Walk</td>\n",
       "      <td>1486000.0</td>\n",
       "      <td>2021-05-24 08:44:53</td>\n",
       "      <td>8</td>\n",
       "      <td>Monday</td>\n",
       "    </tr>\n",
       "    <tr>\n",
       "      <th>24</th>\n",
       "      <td>621e2e8e67b776a24055b564</td>\n",
       "      <td>2021-05-24</td>\n",
       "      <td>Walk</td>\n",
       "      <td>1740000.0</td>\n",
       "      <td>2021-05-24 10:40:03</td>\n",
       "      <td>10</td>\n",
       "      <td>Monday</td>\n",
       "    </tr>\n",
       "    <tr>\n",
       "      <th>26</th>\n",
       "      <td>621e329067b776a2402ffad2</td>\n",
       "      <td>2021-05-24</td>\n",
       "      <td>Walk</td>\n",
       "      <td>2151000.0</td>\n",
       "      <td>2021-05-24 11:12:48</td>\n",
       "      <td>11</td>\n",
       "      <td>Monday</td>\n",
       "    </tr>\n",
       "    <tr>\n",
       "      <th>...</th>\n",
       "      <td>...</td>\n",
       "      <td>...</td>\n",
       "      <td>...</td>\n",
       "      <td>...</td>\n",
       "      <td>...</td>\n",
       "      <td>...</td>\n",
       "      <td>...</td>\n",
       "    </tr>\n",
       "    <tr>\n",
       "      <th>89</th>\n",
       "      <td>621e320b67b776a240d36a07</td>\n",
       "      <td>2022-01-16</td>\n",
       "      <td>Gång</td>\n",
       "      <td>1126000.0</td>\n",
       "      <td>2022-01-16 13:45:22</td>\n",
       "      <td>13</td>\n",
       "      <td>Sunday</td>\n",
       "    </tr>\n",
       "    <tr>\n",
       "      <th>35</th>\n",
       "      <td>621e30b267b776a240c5e13f</td>\n",
       "      <td>2022-01-16</td>\n",
       "      <td>Walk</td>\n",
       "      <td>973000.0</td>\n",
       "      <td>2022-01-16 16:10:59</td>\n",
       "      <td>16</td>\n",
       "      <td>Sunday</td>\n",
       "    </tr>\n",
       "    <tr>\n",
       "      <th>58</th>\n",
       "      <td>621e339967b776a240e502de</td>\n",
       "      <td>2022-01-16</td>\n",
       "      <td>Circuito de entrenamiento</td>\n",
       "      <td>2061000.0</td>\n",
       "      <td>2022-01-16 16:41:43</td>\n",
       "      <td>16</td>\n",
       "      <td>Sunday</td>\n",
       "    </tr>\n",
       "    <tr>\n",
       "      <th>36</th>\n",
       "      <td>621e30b267b776a240c5e13f</td>\n",
       "      <td>2022-01-16</td>\n",
       "      <td>Walk</td>\n",
       "      <td>1280000.0</td>\n",
       "      <td>2022-01-16 16:54:30</td>\n",
       "      <td>16</td>\n",
       "      <td>Sunday</td>\n",
       "    </tr>\n",
       "    <tr>\n",
       "      <th>164</th>\n",
       "      <td>621e309b67b776a240b532b0</td>\n",
       "      <td>2022-01-16</td>\n",
       "      <td>Gång</td>\n",
       "      <td>5529000.0</td>\n",
       "      <td>2022-01-16 18:06:39</td>\n",
       "      <td>18</td>\n",
       "      <td>Sunday</td>\n",
       "    </tr>\n",
       "  </tbody>\n",
       "</table>\n",
       "<p>3250 rows × 7 columns</p>\n",
       "</div>"
      ],
      "text/plain": [
       "                           id        date               activityType  \\\n",
       "35   621e326767b776a24012e179  2021-05-24                  Camminata   \n",
       "49   621e32af67b776a24045b4cf  2021-05-24                    Workout   \n",
       "50   621e32af67b776a24045b4cf  2021-05-24                       Walk   \n",
       "24   621e2e8e67b776a24055b564  2021-05-24                       Walk   \n",
       "26   621e329067b776a2402ffad2  2021-05-24                       Walk   \n",
       "..                        ...         ...                        ...   \n",
       "89   621e320b67b776a240d36a07  2022-01-16                       Gång   \n",
       "35   621e30b267b776a240c5e13f  2022-01-16                       Walk   \n",
       "58   621e339967b776a240e502de  2022-01-16  Circuito de entrenamiento   \n",
       "36   621e30b267b776a240c5e13f  2022-01-16                       Walk   \n",
       "164  621e309b67b776a240b532b0  2022-01-16                       Gång   \n",
       "\n",
       "      duration            dateTime  hour     day  \n",
       "35   1587000.0 2021-05-24 07:20:46     7  Monday  \n",
       "49    377000.0 2021-05-24 08:07:32     8  Monday  \n",
       "50   1486000.0 2021-05-24 08:44:53     8  Monday  \n",
       "24   1740000.0 2021-05-24 10:40:03    10  Monday  \n",
       "26   2151000.0 2021-05-24 11:12:48    11  Monday  \n",
       "..         ...                 ...   ...     ...  \n",
       "89   1126000.0 2022-01-16 13:45:22    13  Sunday  \n",
       "35    973000.0 2022-01-16 16:10:59    16  Sunday  \n",
       "58   2061000.0 2022-01-16 16:41:43    16  Sunday  \n",
       "36   1280000.0 2022-01-16 16:54:30    16  Sunday  \n",
       "164  5529000.0 2022-01-16 18:06:39    18  Sunday  \n",
       "\n",
       "[3250 rows x 7 columns]"
      ]
     },
     "execution_count": 47,
     "metadata": {},
     "output_type": "execute_result"
    }
   ],
   "source": [
    "#df.reset_index(inplace=True)\n",
    "# Preprocessing \n",
    "df['dateTime'] = pd.to_datetime(df.date, format='%m/%d/%y %H:%M:%S')\n",
    "df['duration'] = pd.to_numeric(df['duration'])\n",
    "df = df.astype({\"id\": str})\n",
    "df['date'] = df['dateTime'].dt.date\n",
    "df['hour'] = df['dateTime'].dt.hour\n",
    "df['day'] = df[\"dateTime\"].dt.day_name()\n",
    "df"
   ]
  },
  {
   "cell_type": "code",
   "execution_count": 48,
   "id": "40bd3481",
   "metadata": {
    "lines_to_next_cell": 0
   },
   "outputs": [
    {
     "data": {
      "text/plain": [
       "day        hour\n",
       "Friday     0        3\n",
       "           3        2\n",
       "           4        1\n",
       "           5        1\n",
       "           6       10\n",
       "                   ..\n",
       "Wednesday  19      55\n",
       "           20      31\n",
       "           21      21\n",
       "           22      10\n",
       "           23       7\n",
       "Name: activityType, Length: 155, dtype: int64"
      ]
     },
     "execution_count": 48,
     "metadata": {},
     "output_type": "execute_result"
    }
   ],
   "source": [
    "exercise_counts = df.groupby(['day', 'hour'])['activityType'].count()\n",
    "exercise_counts"
   ]
  },
  {
   "cell_type": "code",
   "execution_count": 49,
   "id": "ead17cc6",
   "metadata": {
    "lines_to_next_cell": 0
   },
   "outputs": [
    {
     "data": {
      "text/plain": [
       "<AxesSubplot:>"
      ]
     },
     "execution_count": 49,
     "metadata": {},
     "output_type": "execute_result"
    },
    {
     "data": {
      "image/png": "[encoded data removed]",
      "text/plain": [
       "<Figure size 432x288 with 1 Axes>"
      ]
     },
     "metadata": {
      "needs_background": "light"
     },
     "output_type": "display_data"
    }
   ],
   "source": [
    "exercise_counts.hist()"
   ]
  },
  {
   "cell_type": "code",
   "execution_count": 50,
   "id": "eb133341",
   "metadata": {
    "lines_to_next_cell": 0
   },
   "outputs": [
    {
     "data": {
      "text/html": [
       "<div>\n",
       "<style scoped>\n",
       "    .dataframe tbody tr th:only-of-type {\n",
       "        vertical-align: middle;\n",
       "    }\n",
       "\n",
       "    .dataframe tbody tr th {\n",
       "        vertical-align: top;\n",
       "    }\n",
       "\n",
       "    .dataframe thead th {\n",
       "        text-align: right;\n",
       "    }\n",
       "</style>\n",
       "<table border=\"1\" class=\"dataframe\">\n",
       "  <thead>\n",
       "    <tr style=\"text-align: right;\">\n",
       "      <th></th>\n",
       "      <th>day</th>\n",
       "      <th>hour</th>\n",
       "      <th>activityType</th>\n",
       "    </tr>\n",
       "  </thead>\n",
       "  <tbody>\n",
       "    <tr>\n",
       "      <th>0</th>\n",
       "      <td>Friday</td>\n",
       "      <td>0</td>\n",
       "      <td>3</td>\n",
       "    </tr>\n",
       "    <tr>\n",
       "      <th>1</th>\n",
       "      <td>Friday</td>\n",
       "      <td>3</td>\n",
       "      <td>2</td>\n",
       "    </tr>\n",
       "    <tr>\n",
       "      <th>2</th>\n",
       "      <td>Friday</td>\n",
       "      <td>4</td>\n",
       "      <td>1</td>\n",
       "    </tr>\n",
       "    <tr>\n",
       "      <th>3</th>\n",
       "      <td>Friday</td>\n",
       "      <td>5</td>\n",
       "      <td>1</td>\n",
       "    </tr>\n",
       "    <tr>\n",
       "      <th>4</th>\n",
       "      <td>Friday</td>\n",
       "      <td>6</td>\n",
       "      <td>10</td>\n",
       "    </tr>\n",
       "    <tr>\n",
       "      <th>...</th>\n",
       "      <td>...</td>\n",
       "      <td>...</td>\n",
       "      <td>...</td>\n",
       "    </tr>\n",
       "    <tr>\n",
       "      <th>150</th>\n",
       "      <td>Wednesday</td>\n",
       "      <td>19</td>\n",
       "      <td>55</td>\n",
       "    </tr>\n",
       "    <tr>\n",
       "      <th>151</th>\n",
       "      <td>Wednesday</td>\n",
       "      <td>20</td>\n",
       "      <td>31</td>\n",
       "    </tr>\n",
       "    <tr>\n",
       "      <th>152</th>\n",
       "      <td>Wednesday</td>\n",
       "      <td>21</td>\n",
       "      <td>21</td>\n",
       "    </tr>\n",
       "    <tr>\n",
       "      <th>153</th>\n",
       "      <td>Wednesday</td>\n",
       "      <td>22</td>\n",
       "      <td>10</td>\n",
       "    </tr>\n",
       "    <tr>\n",
       "      <th>154</th>\n",
       "      <td>Wednesday</td>\n",
       "      <td>23</td>\n",
       "      <td>7</td>\n",
       "    </tr>\n",
       "  </tbody>\n",
       "</table>\n",
       "<p>155 rows × 3 columns</p>\n",
       "</div>"
      ],
      "text/plain": [
       "           day  hour  activityType\n",
       "0       Friday     0             3\n",
       "1       Friday     3             2\n",
       "2       Friday     4             1\n",
       "3       Friday     5             1\n",
       "4       Friday     6            10\n",
       "..         ...   ...           ...\n",
       "150  Wednesday    19            55\n",
       "151  Wednesday    20            31\n",
       "152  Wednesday    21            21\n",
       "153  Wednesday    22            10\n",
       "154  Wednesday    23             7\n",
       "\n",
       "[155 rows x 3 columns]"
      ]
     },
     "execution_count": 50,
     "metadata": {},
     "output_type": "execute_result"
    }
   ],
   "source": [
    "exercise_counts = exercise_counts.reset_index(drop=False)\n",
    "exercise_counts"
   ]
  },
  {
   "cell_type": "code",
   "execution_count": 51,
   "id": "a48b33cb",
   "metadata": {},
   "outputs": [],
   "source": [
    "# Rearranging the dataframe for the heatmap\n",
    "days = exercise_counts['day']\n",
    "hours = exercise_counts['hour']\n",
    "freq = exercise_counts['activityType']\n",
    "df = pd.concat([days, hours, freq], axis=1)\n",
    "\n",
    "exercise_counts.day = pd.Categorical(exercise_counts.day,categories=weekdays)\n",
    "exercise_counts = exercise_counts.sort_values('day')\n",
    "\n",
    "piv = pd.pivot_table(exercise_counts, values='activityType', index=[\"hour\"], columns=[\"day\"], fill_value=0)"
   ]
  },
  {
   "cell_type": "code",
   "execution_count": 52,
   "id": "318b0fd1",
   "metadata": {},
   "outputs": [
    {
     "data": {
      "image/png": "[encoded data removed]",
      "text/plain": [
       "<Figure size 1080x576 with 2 Axes>"
      ]
     },
     "metadata": {
      "needs_background": "light"
     },
     "output_type": "display_data"
    }
   ],
   "source": [
    "fig, ax = plt.subplots(figsize=(15, 8))\n",
    "sns.heatmap(piv, cmap=cmap)\n",
    "plt.tight_layout()\n",
    "ax.yaxis.set_major_locator(md.HourLocator(interval=100))\n",
    "ax.yaxis.set_major_formatter(md.DateFormatter('%H:%M:%S'))\n",
    "plt.text(8, 19, 'Number of exercise sessions', fontsize=20, rotation=270)\n",
    "plt.xticks(size=20)\n",
    "plt.yticks(size=20, rotation=360)\n",
    "plt.xlabel('', size=30)\n",
    "plt.ylabel('Time of the day', fontsize=30)\n",
    "plt.title('Temporal change in behavior: Rounds -1 and -2', fontsize=30)\n",
    "plt.show()"
   ]
  }
 ],
 "metadata": {
  "jupytext": {
   "formats": "ipynb,py:percent"
  },
  "kernelspec": {
   "display_name": "Python 3 (ipykernel)",
   "language": "python",
   "name": "python3"
  },
  "language_info": {
   "codemirror_mode": {
    "name": "ipython",
    "version": 3
   },
   "file_extension": ".py",
   "mimetype": "text/x-python",
   "name": "python",
   "nbconvert_exporter": "python",
   "pygments_lexer": "ipython3",
   "version": "3.9.7"
  }
 },
 "nbformat": 4,
 "nbformat_minor": 5
}
